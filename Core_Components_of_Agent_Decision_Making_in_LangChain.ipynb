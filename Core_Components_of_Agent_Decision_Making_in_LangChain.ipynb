{
  "nbformat": 4,
  "nbformat_minor": 0,
  "metadata": {
    "colab": {
      "provenance": [],
      "include_colab_link": true
    },
    "kernelspec": {
      "name": "python3",
      "display_name": "Python 3"
    },
    "language_info": {
      "name": "python"
    }
  },
  "cells": [
    {
      "cell_type": "markdown",
      "metadata": {
        "id": "view-in-github",
        "colab_type": "text"
      },
      "source": [
        "<a href=\"https://colab.research.google.com/github/Vagarh/Agentes-de-IA-con-Modelos-de-LLM/blob/main/Core_Components_of_Agent_Decision_Making_in_LangChain.ipynb\" target=\"_parent\"><img src=\"https://colab.research.google.com/assets/colab-badge.svg\" alt=\"Open In Colab\"/></a>"
      ]
    },
    {
      "cell_type": "markdown",
      "source": [
        "# **Understanding the Core Components of Agent Decision-Making in LangChain**\n",
        "\n",
        "In this tutorial, we will explore the core components that drive the decision-making process of agents in LangChain. We'll break down the decision-making process, discuss tools integration, and introduce the `AgentExecutor`, which orchestrates the execution of tasks by agents.\n",
        "\n",
        "We’ll walk through this with sample code using Google Colab, providing detailed explanations along the way.\n",
        "\n",
        "## **Setup**\n",
        "\n",
        "First, let's install the necessary libraries and set up the environment. We'll use OpenAI's language models and integrate tools like ChromaDB, a vector database for memory management.\n",
        "\n",
        "### **Step 1: Install Required Libraries**"
      ],
      "metadata": {
        "id": "LjfA28uZqvZG"
      }
    },
    {
      "cell_type": "code",
      "source": [
        "!pip install langchain openai chromadb langchain_community tiktoken duckduckgo-search wikipedia langchain_experimental google-search-results"
      ],
      "metadata": {
        "colab": {
          "base_uri": "https://localhost:8080/"
        },
        "id": "gNP8m8JarfhO",
        "outputId": "36b5bbcd-dac8-4531-cc6d-85b1ca9a732e"
      },
      "execution_count": null,
      "outputs": [
        {
          "output_type": "stream",
          "name": "stdout",
          "text": [
            "Requirement already satisfied: langchain in /usr/local/lib/python3.10/dist-packages (0.3.3)\n",
            "Requirement already satisfied: openai in /usr/local/lib/python3.10/dist-packages (1.51.2)\n",
            "Requirement already satisfied: chromadb in /usr/local/lib/python3.10/dist-packages (0.5.13)\n",
            "Requirement already satisfied: langchain_community in /usr/local/lib/python3.10/dist-packages (0.3.2)\n",
            "Requirement already satisfied: tiktoken in /usr/local/lib/python3.10/dist-packages (0.8.0)\n",
            "Requirement already satisfied: duckduckgo-search in /usr/local/lib/python3.10/dist-packages (6.3.0)\n",
            "Requirement already satisfied: wikipedia in /usr/local/lib/python3.10/dist-packages (1.4.0)\n",
            "Requirement already satisfied: langchain_experimental in /usr/local/lib/python3.10/dist-packages (0.3.2)\n",
            "Requirement already satisfied: google-search-results in /usr/local/lib/python3.10/dist-packages (2.4.2)\n",
            "Requirement already satisfied: PyYAML>=5.3 in /usr/local/lib/python3.10/dist-packages (from langchain) (6.0.2)\n",
            "Requirement already satisfied: SQLAlchemy<3,>=1.4 in /usr/local/lib/python3.10/dist-packages (from langchain) (2.0.35)\n",
            "Requirement already satisfied: aiohttp<4.0.0,>=3.8.3 in /usr/local/lib/python3.10/dist-packages (from langchain) (3.10.9)\n",
            "Requirement already satisfied: async-timeout<5.0.0,>=4.0.0 in /usr/local/lib/python3.10/dist-packages (from langchain) (4.0.3)\n",
            "Requirement already satisfied: langchain-core<0.4.0,>=0.3.10 in /usr/local/lib/python3.10/dist-packages (from langchain) (0.3.10)\n",
            "Requirement already satisfied: langchain-text-splitters<0.4.0,>=0.3.0 in /usr/local/lib/python3.10/dist-packages (from langchain) (0.3.0)\n",
            "Requirement already satisfied: langsmith<0.2.0,>=0.1.17 in /usr/local/lib/python3.10/dist-packages (from langchain) (0.1.134)\n",
            "Requirement already satisfied: numpy<2,>=1 in /usr/local/lib/python3.10/dist-packages (from langchain) (1.26.4)\n",
            "Requirement already satisfied: pydantic<3.0.0,>=2.7.4 in /usr/local/lib/python3.10/dist-packages (from langchain) (2.9.2)\n",
            "Requirement already satisfied: requests<3,>=2 in /usr/local/lib/python3.10/dist-packages (from langchain) (2.32.3)\n",
            "Requirement already satisfied: tenacity!=8.4.0,<9.0.0,>=8.1.0 in /usr/local/lib/python3.10/dist-packages (from langchain) (8.5.0)\n",
            "Requirement already satisfied: anyio<5,>=3.5.0 in /usr/local/lib/python3.10/dist-packages (from openai) (3.7.1)\n",
            "Requirement already satisfied: distro<2,>=1.7.0 in /usr/lib/python3/dist-packages (from openai) (1.7.0)\n",
            "Requirement already satisfied: httpx<1,>=0.23.0 in /usr/local/lib/python3.10/dist-packages (from openai) (0.27.2)\n",
            "Requirement already satisfied: jiter<1,>=0.4.0 in /usr/local/lib/python3.10/dist-packages (from openai) (0.6.1)\n",
            "Requirement already satisfied: sniffio in /usr/local/lib/python3.10/dist-packages (from openai) (1.3.1)\n",
            "Requirement already satisfied: tqdm>4 in /usr/local/lib/python3.10/dist-packages (from openai) (4.66.5)\n",
            "Requirement already satisfied: typing-extensions<5,>=4.11 in /usr/local/lib/python3.10/dist-packages (from openai) (4.12.2)\n",
            "Requirement already satisfied: build>=1.0.3 in /usr/local/lib/python3.10/dist-packages (from chromadb) (1.2.2.post1)\n",
            "Requirement already satisfied: chroma-hnswlib==0.7.6 in /usr/local/lib/python3.10/dist-packages (from chromadb) (0.7.6)\n",
            "Requirement already satisfied: fastapi>=0.95.2 in /usr/local/lib/python3.10/dist-packages (from chromadb) (0.115.0)\n",
            "Requirement already satisfied: uvicorn>=0.18.3 in /usr/local/lib/python3.10/dist-packages (from uvicorn[standard]>=0.18.3->chromadb) (0.31.1)\n",
            "Requirement already satisfied: posthog>=2.4.0 in /usr/local/lib/python3.10/dist-packages (from chromadb) (3.7.0)\n",
            "Requirement already satisfied: onnxruntime>=1.14.1 in /usr/local/lib/python3.10/dist-packages (from chromadb) (1.19.2)\n",
            "Requirement already satisfied: opentelemetry-api>=1.2.0 in /usr/local/lib/python3.10/dist-packages (from chromadb) (1.27.0)\n",
            "Requirement already satisfied: opentelemetry-exporter-otlp-proto-grpc>=1.2.0 in /usr/local/lib/python3.10/dist-packages (from chromadb) (1.27.0)\n",
            "Requirement already satisfied: opentelemetry-instrumentation-fastapi>=0.41b0 in /usr/local/lib/python3.10/dist-packages (from chromadb) (0.48b0)\n",
            "Requirement already satisfied: opentelemetry-sdk>=1.2.0 in /usr/local/lib/python3.10/dist-packages (from chromadb) (1.27.0)\n",
            "Requirement already satisfied: tokenizers>=0.13.2 in /usr/local/lib/python3.10/dist-packages (from chromadb) (0.19.1)\n",
            "Requirement already satisfied: pypika>=0.48.9 in /usr/local/lib/python3.10/dist-packages (from chromadb) (0.48.9)\n",
            "Requirement already satisfied: overrides>=7.3.1 in /usr/local/lib/python3.10/dist-packages (from chromadb) (7.7.0)\n",
            "Requirement already satisfied: importlib-resources in /usr/local/lib/python3.10/dist-packages (from chromadb) (6.4.5)\n",
            "Requirement already satisfied: grpcio>=1.58.0 in /usr/local/lib/python3.10/dist-packages (from chromadb) (1.64.1)\n",
            "Requirement already satisfied: bcrypt>=4.0.1 in /usr/local/lib/python3.10/dist-packages (from chromadb) (4.2.0)\n",
            "Requirement already satisfied: typer>=0.9.0 in /usr/local/lib/python3.10/dist-packages (from chromadb) (0.12.5)\n",
            "Requirement already satisfied: kubernetes>=28.1.0 in /usr/local/lib/python3.10/dist-packages (from chromadb) (31.0.0)\n",
            "Requirement already satisfied: mmh3>=4.0.1 in /usr/local/lib/python3.10/dist-packages (from chromadb) (5.0.1)\n",
            "Requirement already satisfied: orjson>=3.9.12 in /usr/local/lib/python3.10/dist-packages (from chromadb) (3.10.7)\n",
            "Requirement already satisfied: rich>=10.11.0 in /usr/local/lib/python3.10/dist-packages (from chromadb) (13.9.2)\n",
            "Requirement already satisfied: dataclasses-json<0.7,>=0.5.7 in /usr/local/lib/python3.10/dist-packages (from langchain_community) (0.6.7)\n",
            "Requirement already satisfied: pydantic-settings<3.0.0,>=2.4.0 in /usr/local/lib/python3.10/dist-packages (from langchain_community) (2.5.2)\n",
            "Requirement already satisfied: regex>=2022.1.18 in /usr/local/lib/python3.10/dist-packages (from tiktoken) (2024.9.11)\n",
            "Requirement already satisfied: click>=8.1.7 in /usr/local/lib/python3.10/dist-packages (from duckduckgo-search) (8.1.7)\n",
            "Requirement already satisfied: primp>=0.6.3 in /usr/local/lib/python3.10/dist-packages (from duckduckgo-search) (0.6.3)\n",
            "Requirement already satisfied: beautifulsoup4 in /usr/local/lib/python3.10/dist-packages (from wikipedia) (4.12.3)\n",
            "Requirement already satisfied: aiohappyeyeballs>=2.3.0 in /usr/local/lib/python3.10/dist-packages (from aiohttp<4.0.0,>=3.8.3->langchain) (2.4.3)\n",
            "Requirement already satisfied: aiosignal>=1.1.2 in /usr/local/lib/python3.10/dist-packages (from aiohttp<4.0.0,>=3.8.3->langchain) (1.3.1)\n",
            "Requirement already satisfied: attrs>=17.3.0 in /usr/local/lib/python3.10/dist-packages (from aiohttp<4.0.0,>=3.8.3->langchain) (24.2.0)\n",
            "Requirement already satisfied: frozenlist>=1.1.1 in /usr/local/lib/python3.10/dist-packages (from aiohttp<4.0.0,>=3.8.3->langchain) (1.4.1)\n",
            "Requirement already satisfied: multidict<7.0,>=4.5 in /usr/local/lib/python3.10/dist-packages (from aiohttp<4.0.0,>=3.8.3->langchain) (6.1.0)\n",
            "Requirement already satisfied: yarl<2.0,>=1.12.0 in /usr/local/lib/python3.10/dist-packages (from aiohttp<4.0.0,>=3.8.3->langchain) (1.13.1)\n",
            "Requirement already satisfied: idna>=2.8 in /usr/local/lib/python3.10/dist-packages (from anyio<5,>=3.5.0->openai) (3.10)\n",
            "Requirement already satisfied: exceptiongroup in /usr/local/lib/python3.10/dist-packages (from anyio<5,>=3.5.0->openai) (1.2.2)\n",
            "Requirement already satisfied: packaging>=19.1 in /usr/local/lib/python3.10/dist-packages (from build>=1.0.3->chromadb) (24.1)\n",
            "Requirement already satisfied: pyproject_hooks in /usr/local/lib/python3.10/dist-packages (from build>=1.0.3->chromadb) (1.2.0)\n",
            "Requirement already satisfied: tomli>=1.1.0 in /usr/local/lib/python3.10/dist-packages (from build>=1.0.3->chromadb) (2.0.2)\n",
            "Requirement already satisfied: marshmallow<4.0.0,>=3.18.0 in /usr/local/lib/python3.10/dist-packages (from dataclasses-json<0.7,>=0.5.7->langchain_community) (3.22.0)\n",
            "Requirement already satisfied: typing-inspect<1,>=0.4.0 in /usr/local/lib/python3.10/dist-packages (from dataclasses-json<0.7,>=0.5.7->langchain_community) (0.9.0)\n",
            "Requirement already satisfied: starlette<0.39.0,>=0.37.2 in /usr/local/lib/python3.10/dist-packages (from fastapi>=0.95.2->chromadb) (0.38.6)\n",
            "Requirement already satisfied: certifi in /usr/local/lib/python3.10/dist-packages (from httpx<1,>=0.23.0->openai) (2024.8.30)\n",
            "Requirement already satisfied: httpcore==1.* in /usr/local/lib/python3.10/dist-packages (from httpx<1,>=0.23.0->openai) (1.0.6)\n",
            "Requirement already satisfied: h11<0.15,>=0.13 in /usr/local/lib/python3.10/dist-packages (from httpcore==1.*->httpx<1,>=0.23.0->openai) (0.14.0)\n",
            "Requirement already satisfied: six>=1.9.0 in /usr/local/lib/python3.10/dist-packages (from kubernetes>=28.1.0->chromadb) (1.16.0)\n",
            "Requirement already satisfied: python-dateutil>=2.5.3 in /usr/local/lib/python3.10/dist-packages (from kubernetes>=28.1.0->chromadb) (2.8.2)\n",
            "Requirement already satisfied: google-auth>=1.0.1 in /usr/local/lib/python3.10/dist-packages (from kubernetes>=28.1.0->chromadb) (2.27.0)\n",
            "Requirement already satisfied: websocket-client!=0.40.0,!=0.41.*,!=0.42.*,>=0.32.0 in /usr/local/lib/python3.10/dist-packages (from kubernetes>=28.1.0->chromadb) (1.8.0)\n",
            "Requirement already satisfied: requests-oauthlib in /usr/local/lib/python3.10/dist-packages (from kubernetes>=28.1.0->chromadb) (1.3.1)\n",
            "Requirement already satisfied: oauthlib>=3.2.2 in /usr/local/lib/python3.10/dist-packages (from kubernetes>=28.1.0->chromadb) (3.2.2)\n",
            "Requirement already satisfied: urllib3>=1.24.2 in /usr/local/lib/python3.10/dist-packages (from kubernetes>=28.1.0->chromadb) (2.2.3)\n",
            "Requirement already satisfied: durationpy>=0.7 in /usr/local/lib/python3.10/dist-packages (from kubernetes>=28.1.0->chromadb) (0.9)\n",
            "Requirement already satisfied: jsonpatch<2.0,>=1.33 in /usr/local/lib/python3.10/dist-packages (from langchain-core<0.4.0,>=0.3.10->langchain) (1.33)\n",
            "Requirement already satisfied: requests-toolbelt<2.0.0,>=1.0.0 in /usr/local/lib/python3.10/dist-packages (from langsmith<0.2.0,>=0.1.17->langchain) (1.0.0)\n",
            "Requirement already satisfied: coloredlogs in /usr/local/lib/python3.10/dist-packages (from onnxruntime>=1.14.1->chromadb) (15.0.1)\n",
            "Requirement already satisfied: flatbuffers in /usr/local/lib/python3.10/dist-packages (from onnxruntime>=1.14.1->chromadb) (24.3.25)\n",
            "Requirement already satisfied: protobuf in /usr/local/lib/python3.10/dist-packages (from onnxruntime>=1.14.1->chromadb) (3.20.3)\n",
            "Requirement already satisfied: sympy in /usr/local/lib/python3.10/dist-packages (from onnxruntime>=1.14.1->chromadb) (1.13.3)\n",
            "Requirement already satisfied: deprecated>=1.2.6 in /usr/local/lib/python3.10/dist-packages (from opentelemetry-api>=1.2.0->chromadb) (1.2.14)\n",
            "Requirement already satisfied: importlib-metadata<=8.4.0,>=6.0 in /usr/local/lib/python3.10/dist-packages (from opentelemetry-api>=1.2.0->chromadb) (8.4.0)\n",
            "Requirement already satisfied: googleapis-common-protos~=1.52 in /usr/local/lib/python3.10/dist-packages (from opentelemetry-exporter-otlp-proto-grpc>=1.2.0->chromadb) (1.65.0)\n",
            "Requirement already satisfied: opentelemetry-exporter-otlp-proto-common==1.27.0 in /usr/local/lib/python3.10/dist-packages (from opentelemetry-exporter-otlp-proto-grpc>=1.2.0->chromadb) (1.27.0)\n",
            "Requirement already satisfied: opentelemetry-proto==1.27.0 in /usr/local/lib/python3.10/dist-packages (from opentelemetry-exporter-otlp-proto-grpc>=1.2.0->chromadb) (1.27.0)\n",
            "Requirement already satisfied: opentelemetry-instrumentation-asgi==0.48b0 in /usr/local/lib/python3.10/dist-packages (from opentelemetry-instrumentation-fastapi>=0.41b0->chromadb) (0.48b0)\n",
            "Requirement already satisfied: opentelemetry-instrumentation==0.48b0 in /usr/local/lib/python3.10/dist-packages (from opentelemetry-instrumentation-fastapi>=0.41b0->chromadb) (0.48b0)\n",
            "Requirement already satisfied: opentelemetry-semantic-conventions==0.48b0 in /usr/local/lib/python3.10/dist-packages (from opentelemetry-instrumentation-fastapi>=0.41b0->chromadb) (0.48b0)\n",
            "Requirement already satisfied: opentelemetry-util-http==0.48b0 in /usr/local/lib/python3.10/dist-packages (from opentelemetry-instrumentation-fastapi>=0.41b0->chromadb) (0.48b0)\n",
            "Requirement already satisfied: setuptools>=16.0 in /usr/local/lib/python3.10/dist-packages (from opentelemetry-instrumentation==0.48b0->opentelemetry-instrumentation-fastapi>=0.41b0->chromadb) (71.0.4)\n",
            "Requirement already satisfied: wrapt<2.0.0,>=1.0.0 in /usr/local/lib/python3.10/dist-packages (from opentelemetry-instrumentation==0.48b0->opentelemetry-instrumentation-fastapi>=0.41b0->chromadb) (1.16.0)\n",
            "Requirement already satisfied: asgiref~=3.0 in /usr/local/lib/python3.10/dist-packages (from opentelemetry-instrumentation-asgi==0.48b0->opentelemetry-instrumentation-fastapi>=0.41b0->chromadb) (3.8.1)\n",
            "Requirement already satisfied: monotonic>=1.5 in /usr/local/lib/python3.10/dist-packages (from posthog>=2.4.0->chromadb) (1.6)\n",
            "Requirement already satisfied: backoff>=1.10.0 in /usr/local/lib/python3.10/dist-packages (from posthog>=2.4.0->chromadb) (2.2.1)\n",
            "Requirement already satisfied: annotated-types>=0.6.0 in /usr/local/lib/python3.10/dist-packages (from pydantic<3.0.0,>=2.7.4->langchain) (0.7.0)\n",
            "Requirement already satisfied: pydantic-core==2.23.4 in /usr/local/lib/python3.10/dist-packages (from pydantic<3.0.0,>=2.7.4->langchain) (2.23.4)\n",
            "Requirement already satisfied: python-dotenv>=0.21.0 in /usr/local/lib/python3.10/dist-packages (from pydantic-settings<3.0.0,>=2.4.0->langchain_community) (1.0.1)\n",
            "Requirement already satisfied: charset-normalizer<4,>=2 in /usr/local/lib/python3.10/dist-packages (from requests<3,>=2->langchain) (3.3.2)\n",
            "Requirement already satisfied: markdown-it-py>=2.2.0 in /usr/local/lib/python3.10/dist-packages (from rich>=10.11.0->chromadb) (3.0.0)\n",
            "Requirement already satisfied: pygments<3.0.0,>=2.13.0 in /usr/local/lib/python3.10/dist-packages (from rich>=10.11.0->chromadb) (2.18.0)\n",
            "Requirement already satisfied: greenlet!=0.4.17 in /usr/local/lib/python3.10/dist-packages (from SQLAlchemy<3,>=1.4->langchain) (3.1.1)\n",
            "Requirement already satisfied: huggingface-hub<1.0,>=0.16.4 in /usr/local/lib/python3.10/dist-packages (from tokenizers>=0.13.2->chromadb) (0.24.7)\n",
            "Requirement already satisfied: shellingham>=1.3.0 in /usr/local/lib/python3.10/dist-packages (from typer>=0.9.0->chromadb) (1.5.4)\n",
            "Requirement already satisfied: httptools>=0.5.0 in /usr/local/lib/python3.10/dist-packages (from uvicorn[standard]>=0.18.3->chromadb) (0.6.1)\n",
            "Requirement already satisfied: uvloop!=0.15.0,!=0.15.1,>=0.14.0 in /usr/local/lib/python3.10/dist-packages (from uvicorn[standard]>=0.18.3->chromadb) (0.20.0)\n",
            "Requirement already satisfied: watchfiles>=0.13 in /usr/local/lib/python3.10/dist-packages (from uvicorn[standard]>=0.18.3->chromadb) (0.24.0)\n",
            "Requirement already satisfied: websockets>=10.4 in /usr/local/lib/python3.10/dist-packages (from uvicorn[standard]>=0.18.3->chromadb) (13.1)\n",
            "Requirement already satisfied: soupsieve>1.2 in /usr/local/lib/python3.10/dist-packages (from beautifulsoup4->wikipedia) (2.6)\n",
            "Requirement already satisfied: cachetools<6.0,>=2.0.0 in /usr/local/lib/python3.10/dist-packages (from google-auth>=1.0.1->kubernetes>=28.1.0->chromadb) (5.5.0)\n",
            "Requirement already satisfied: pyasn1-modules>=0.2.1 in /usr/local/lib/python3.10/dist-packages (from google-auth>=1.0.1->kubernetes>=28.1.0->chromadb) (0.4.1)\n",
            "Requirement already satisfied: rsa<5,>=3.1.4 in /usr/local/lib/python3.10/dist-packages (from google-auth>=1.0.1->kubernetes>=28.1.0->chromadb) (4.9)\n",
            "Requirement already satisfied: filelock in /usr/local/lib/python3.10/dist-packages (from huggingface-hub<1.0,>=0.16.4->tokenizers>=0.13.2->chromadb) (3.16.1)\n",
            "Requirement already satisfied: fsspec>=2023.5.0 in /usr/local/lib/python3.10/dist-packages (from huggingface-hub<1.0,>=0.16.4->tokenizers>=0.13.2->chromadb) (2024.6.1)\n",
            "Requirement already satisfied: zipp>=0.5 in /usr/local/lib/python3.10/dist-packages (from importlib-metadata<=8.4.0,>=6.0->opentelemetry-api>=1.2.0->chromadb) (3.20.2)\n",
            "Requirement already satisfied: jsonpointer>=1.9 in /usr/local/lib/python3.10/dist-packages (from jsonpatch<2.0,>=1.33->langchain-core<0.4.0,>=0.3.10->langchain) (3.0.0)\n",
            "Requirement already satisfied: mdurl~=0.1 in /usr/local/lib/python3.10/dist-packages (from markdown-it-py>=2.2.0->rich>=10.11.0->chromadb) (0.1.2)\n",
            "Requirement already satisfied: mypy-extensions>=0.3.0 in /usr/local/lib/python3.10/dist-packages (from typing-inspect<1,>=0.4.0->dataclasses-json<0.7,>=0.5.7->langchain_community) (1.0.0)\n",
            "Requirement already satisfied: humanfriendly>=9.1 in /usr/local/lib/python3.10/dist-packages (from coloredlogs->onnxruntime>=1.14.1->chromadb) (10.0)\n",
            "Requirement already satisfied: mpmath<1.4,>=1.1.0 in /usr/local/lib/python3.10/dist-packages (from sympy->onnxruntime>=1.14.1->chromadb) (1.3.0)\n",
            "Requirement already satisfied: pyasn1<0.7.0,>=0.4.6 in /usr/local/lib/python3.10/dist-packages (from pyasn1-modules>=0.2.1->google-auth>=1.0.1->kubernetes>=28.1.0->chromadb) (0.6.1)\n"
          ]
        }
      ]
    },
    {
      "cell_type": "markdown",
      "source": [
        "### **Step 2: Import Required Modules**"
      ],
      "metadata": {
        "id": "1e0GolxArjcj"
      }
    },
    {
      "cell_type": "code",
      "source": [
        "import os\n",
        "from langchain.agents import AgentType, initialize_agent, load_tools\n",
        "from langchain.llms import OpenAI\n",
        "from langchain.chains import LLMChain\n",
        "from langchain.prompts import PromptTemplate"
      ],
      "metadata": {
        "id": "RZ_2TvMxrbve"
      },
      "execution_count": null,
      "outputs": []
    },
    {
      "cell_type": "markdown",
      "source": [
        "### **Step 3: Set Up OpenAI API Key**\n",
        "\n",
        "Before we proceed, let's configure the OpenAI API key."
      ],
      "metadata": {
        "id": "4hNotRZ-rVNp"
      }
    },
    {
      "cell_type": "code",
      "source": [
        "from google.colab import userdata\n",
        "\n",
        "# Initialize the OpenAI LLM with your API key\n",
        "os.environ[\"OPENAI_API_KEY\"] = userdata.get('openai')"
      ],
      "metadata": {
        "id": "Is_B7RVbrXOe"
      },
      "execution_count": null,
      "outputs": []
    },
    {
      "cell_type": "markdown",
      "source": [
        "## **1. Decision-Making Process**\n",
        "\n",
        "The core of agent decision-making in LangChain involves interpreting the user’s input, processing it via a language model, and determining appropriate actions. This process is powered by prompt engineering, where prompts guide the agent’s responses.\n",
        "\n",
        "Here’s how you can create a simple decision-making agent:\n",
        "\n",
        "### **Step 4: Create a Simple Agent**\n",
        "\n",
        "We’ll set up a language model and create a basic agent that answers a user’s query."
      ],
      "metadata": {
        "id": "e1ZdH9_4rSaJ"
      }
    },
    {
      "cell_type": "code",
      "source": [
        "# Initialize the language model\n",
        "llm = OpenAI(temperature=0.7)\n",
        "\n",
        "# Create a prompt template\n",
        "prompt = PromptTemplate(\n",
        "    input_variables=[\"query\"],\n",
        "    template=\"You are a helpful assistant. Answer the following query: {query}\"\n",
        ")\n",
        "\n",
        "# Create an LLMChain\n",
        "chain = LLMChain(llm=llm, prompt=prompt)\n",
        "\n",
        "# Function to get the agent's response\n",
        "def get_agent_response(query):\n",
        "    return chain.run(query)\n",
        "\n",
        "# Test the agent\n",
        "user_query = \"What's the capital of France?\"\n",
        "response = get_agent_response(user_query)\n",
        "print(response)"
      ],
      "metadata": {
        "colab": {
          "base_uri": "https://localhost:8080/"
        },
        "id": "MiE2szWrrNG2",
        "outputId": "86233fa5-aea7-4d18-b614-db33667ef459"
      },
      "execution_count": null,
      "outputs": [
        {
          "output_type": "stream",
          "name": "stderr",
          "text": [
            "<ipython-input-4-475c9d109cea>:2: LangChainDeprecationWarning: The class `OpenAI` was deprecated in LangChain 0.0.10 and will be removed in 1.0. An updated version of the class exists in the :class:`~langchain-openai package and should be used instead. To use it run `pip install -U :class:`~langchain-openai` and import as `from :class:`~langchain_openai import OpenAI``.\n",
            "  llm = OpenAI(temperature=0.7)\n",
            "<ipython-input-4-475c9d109cea>:11: LangChainDeprecationWarning: The class `LLMChain` was deprecated in LangChain 0.1.17 and will be removed in 1.0. Use :meth:`~RunnableSequence, e.g., `prompt | llm`` instead.\n",
            "  chain = LLMChain(llm=llm, prompt=prompt)\n",
            "<ipython-input-4-475c9d109cea>:15: LangChainDeprecationWarning: The method `Chain.run` was deprecated in langchain 0.1.0 and will be removed in 1.0. Use :meth:`~invoke` instead.\n",
            "  return chain.run(query)\n"
          ]
        },
        {
          "output_type": "stream",
          "name": "stdout",
          "text": [
            "\n",
            "\n",
            "The capital of France is Paris.\n"
          ]
        }
      ]
    },
    {
      "cell_type": "markdown",
      "source": [
        "### **Explanation:**\n",
        "1. **LLM Initialization**: The `OpenAI` model is initialized with a temperature of 0.7, controlling the randomness of responses.\n",
        "2. **Prompt Template**: We use a `PromptTemplate` to define how the agent interacts with queries.\n",
        "3. **LLMChain**: The `LLMChain` links the language model and the prompt template to process the user's query.\n",
        "4. **Agent Response**: The agent receives the query, processes it through the language model, and generates an appropriate response.\n",
        "\n",
        "### **Expected Output:**\n",
        "\n",
        "```\n",
        "The capital of France is Paris.\n",
        "```"
      ],
      "metadata": {
        "id": "386_pZzQrJQ6"
      }
    },
    {
      "cell_type": "markdown",
      "source": [
        "## **2. Tools Integration**\n",
        "\n",
        "LangChain agents can enhance their decision-making capabilities by integrating external tools. Tools allow agents to perform specific tasks, such as searching the web, querying a database, or running Python code.\n",
        "\n",
        "### **Step 5: Creating an Agent with Tools**\n",
        "\n",
        "We’ll create an agent that can access multiple tools, such as a search engine, a Python REPL, and Wikipedia."
      ],
      "metadata": {
        "id": "9hcVix3MrD2s"
      }
    },
    {
      "cell_type": "code",
      "source": [
        "# Load tools\n",
        "from langchain_experimental.tools import PythonAstREPLTool\n",
        "# Change 'python_repl' to 'PythonAstREPLTool' and instantiate the class.\n",
        "tools = load_tools([\"ddg-search\", \"wikipedia\"])\n",
        "tools.append(PythonAstREPLTool())\n",
        "\n",
        "# Initialize the agent\n",
        "agent = initialize_agent(\n",
        "    tools,\n",
        "    llm,\n",
        "    agent=AgentType.ZERO_SHOT_REACT_DESCRIPTION,\n",
        "    verbose=True\n",
        ")\n",
        "\n",
        "# Function to use the agent with tools\n",
        "def agent_with_tools(query):\n",
        "    return agent.run(query)\n",
        "\n",
        "# Test the agent with tools\n",
        "user_query = \"What's the population of Paris? Then calculate the square root of that number.\"\n",
        "response = agent_with_tools(user_query)\n",
        "print(response)"
      ],
      "metadata": {
        "colab": {
          "base_uri": "https://localhost:8080/"
        },
        "id": "k5Q8Ya4HuQgA",
        "outputId": "599d86bc-4adb-42a6-f308-2148c84df99f"
      },
      "execution_count": null,
      "outputs": [
        {
          "output_type": "stream",
          "name": "stderr",
          "text": [
            "<ipython-input-13-31a78fc10efa>:8: LangChainDeprecationWarning: The function `initialize_agent` was deprecated in LangChain 0.1.0 and will be removed in 1.0. Use :meth:`~Use new agent constructor methods like create_react_agent, create_json_agent, create_structured_chat_agent, etc.` instead.\n",
            "  agent = initialize_agent(\n"
          ]
        },
        {
          "output_type": "stream",
          "name": "stdout",
          "text": [
            "\n",
            "\n",
            "\u001b[1m> Entering new AgentExecutor chain...\u001b[0m\n",
            "\u001b[32;1m\u001b[1;3m I should first use Wikipedia to find the population of Paris, then use python_repl_ast to calculate the square root.\n",
            "Action: wikipedia\n",
            "Action Input: \"Paris population\"\u001b[0m\n",
            "Observation: \u001b[33;1m\u001b[1;3mPage: Paris\n",
            "Summary: Paris (French pronunciation: [paʁi] ) is the capital and largest city of France. With an official estimated population of 2,102,650 residents in January 2023 in an area of more than 105 km2 (41 sq mi), Paris is the fourth-largest city in the European Union and the 30th most densely populated city in the world in 2022. Since the 17th century, Paris has been one of the world's major centres of finance, diplomacy, commerce, culture, fashion, and gastronomy. For its leading role in the arts and sciences, as well as its early and extensive system of street lighting, in the 19th century, it became known as the City of Light.\n",
            "The City of Paris is the centre of the Île-de-France region, or Paris Region, with an official estimated population of 12,271,794 inhabitants in January 2023, or about 19% of the population of France. The Paris Region had a GDP of €765 billion (US$1.064 trillion, PPP) in 2021, the highest in the European Union. According to the Economist Intelligence Unit Worldwide Cost of Living Survey, in 2022, Paris was the city with the ninth-highest cost of living in the world.\n",
            "Paris is a major railway, highway, and air-transport hub served by two international airports: Charles de Gaulle Airport, the third-busiest airport in Europe, and Orly Airport. Opened in 1900, the city's subway system, the Paris Métro, serves 5.23 million passengers daily. It is the second-busiest metro system in Europe after the Moscow Metro. Gare du Nord is the 24th-busiest railway station in the world and the busiest outside Japan, with 262 million passengers in 2015. Paris has one of the most sustainable transportation systems and is one of only two cities in the world that received the Sustainable Transport Award twice.\n",
            "Paris is known for its museums and architectural landmarks: the Louvre received 8.9 million visitors in 2023, on track for keeping its position as the most-visited art museum in the world. The Musée d'Orsay, Musée Marmottan Monet and Musée de l'Orangerie are noted for their collections of French Impressionist art. The Pompidou Centre Musée National d'Art Moderne, Musée Rodin and Musée Picasso are noted for their collections of modern and contemporary art. The historical district along the Seine in the city centre has been classified as a UNESCO World Heritage Site since 1991.\n",
            "Paris is home to several United Nations organizations including UNESCO, as well as other international organizations such as the OECD, the OECD Development Centre, the International Bureau of Weights and Measures, the International Energy Agency, the International Federation for Human Rights, along with European bodies such as the European Space Agency, the European Banking Authority and the European Securities and Markets Authority. The football club Paris Saint-Germain and the rugby union club Stade Français are based in Paris. The 81,000-seat Stade de France, built for the 1998 FIFA World Cup, is located just north of Paris in the neighbouring commune of Saint-Denis. Paris hosts the annual French Open Grand Slam tennis tournament on the red clay of Roland Garros. Paris hosted the 1900, the 1924, and the 2024 Summer Olympics. The 1938 and 1998 FIFA World Cups, the 2019 FIFA Women's World Cup, the 2007 Rugby World Cup, as well as the 1960, 1984 and 2016 UEFA European Championships were held in Paris. Every July, the Tour de France bicycle race finishes on the Avenue des Champs-Élysées in Paris.\n",
            "\n",
            "Page: Demographics of Paris\n",
            "Summary: The city of Paris (also called the Commune or Department of Paris) had a population of 2,165,423 people within its administrative city limits as of January 1, 2019. It is surrounded by the Paris unité urbaine, or urban area, the most populous urban area in the European Union. In 2018 the unité urbaine had a population of 10,816,803 in 2,854 km2 (1,102 sq mi). The Paris Region, or Île-de-France, covers 12,012 km2 (4,638 sq mi), and has its own regional council and president. It has a population of 12,213,447 a\u001b[0m\n",
            "Thought:\u001b[32;1m\u001b[1;3m The population of Paris is 2,165,423 people.\n",
            "Action: python_repl_ast\n",
            "Action Input: import math\u001b[0m\n",
            "Observation: \u001b[38;5;200m\u001b[1;3m\u001b[0m\n",
            "Thought:\u001b[32;1m\u001b[1;3m Now that I have imported math, I can use the math.sqrt() function to calculate the square root.\n",
            "Action: python_repl_ast\n",
            "Action Input: math.sqrt(2165423)\u001b[0m\n",
            "Observation: \u001b[38;5;200m\u001b[1;3m1471.5376311871878\u001b[0m\n",
            "Thought:\u001b[32;1m\u001b[1;3m The square root of the population of Paris is approximately 1471.5376311871878.\n",
            "Final Answer: The population of Paris is approximately 2,165,423 people and the square root of that number is approximately 1471.5376311871878.\u001b[0m\n",
            "\n",
            "\u001b[1m> Finished chain.\u001b[0m\n",
            "The population of Paris is approximately 2,165,423 people and the square root of that number is approximately 1471.5376311871878.\n"
          ]
        }
      ]
    },
    {
      "cell_type": "markdown",
      "source": [
        "### **Explanation:**\n",
        "1. **Tool Loading**: We use `load_tools` to load DuckDuckGo search (`ddg-search`), Wikipedia, and a Python REPL. These tools help the agent gather information and perform computations.\n",
        "2. **Agent Initialization**: The agent is initialized using `initialize_agent`, combining tools with the language model.\n",
        "3. **Complex Query Handling**: The agent can handle complex multi-step queries by making use of the appropriate tools in sequence.\n",
        "\n",
        "### **Expected Output:**\n",
        "The agent might first look up the population of Paris, then compute the square root of that population using the Python REPL.\n",
        "\n",
        "## **3. AgentExecutor**\n",
        "\n",
        "The `AgentExecutor` manages the overall process, ensuring tasks are completed using the appropriate tools in sequence. It is the core component that integrates decision-making and action execution for agents.\n",
        "\n",
        "### **Step 6: Implementing a Custom Agent with AgentExecutor**\n",
        "\n",
        "Let’s now create a custom agent that uses specific tools and orchestrates decision-making using `AgentExecutor`."
      ],
      "metadata": {
        "id": "La_4CaGcq7lp"
      }
    },
    {
      "cell_type": "code",
      "source": [
        "from langchain.agents import Tool, AgentExecutor, LLMSingleActionAgent\n",
        "from langchain.prompts import StringPromptTemplate\n",
        "from langchain import OpenAI, SerpAPIWrapper, LLMChain\n",
        "from typing import List, Union\n",
        "from langchain.schema import AgentAction, AgentFinish\n",
        "from langchain.output_parsers import PydanticOutputParser\n",
        "from langchain.agents import AgentOutputParser\n",
        "from typing import Any\n",
        "import re\n",
        "\n",
        "serpapi_api_key = userdata.get('SerpAPI')  # Make sure this key is correct and has valid search credits\n",
        "# Define custom tools\n",
        "search = SerpAPIWrapper(serpapi_api_key=serpapi_api_key)\n",
        "tools = [\n",
        "    Tool(\n",
        "        name=\"Search\",\n",
        "        func=search.run,\n",
        "        description=\"Useful for answering current event questions.\"\n",
        "    )\n",
        "]\n",
        "\n",
        "# Define a custom prompt template\n",
        "class CustomPromptTemplate(StringPromptTemplate):\n",
        "    # Add the input_variables argument to the constructor\n",
        "    def __init__(self, **kwargs):\n",
        "        super().__init__(input_variables=[\"input\"], **kwargs)\n",
        "\n",
        "    def format(self, **kwargs) -> str:\n",
        "        # Access the user input using the 'input' key\n",
        "        return f\"Given the user's input: {kwargs.get('input')}, what is a good Google Search query to find the answer?\" # Rephrase the prompt to elicit a search query\n",
        "\n",
        "# Initialize the language model\n",
        "llm = OpenAI(temperature=0.7)\n",
        "\n",
        "# Create an LLMChain\n",
        "prompt = CustomPromptTemplate() # Now this will work correctly\n",
        "llm_chain = LLMChain(llm=llm, prompt=prompt)\n",
        "\n",
        "# Define a custom agent\n",
        "class CustomOutputParser(AgentOutputParser):\n",
        "    def parse(self, llm_output: str) -> Union[AgentAction, AgentFinish]:\n",
        "        \"\"\"Parse the LLM output.\"\"\"\n",
        "        # Check if agent should finish\n",
        "        if \"Final Answer:\" in llm_output:\n",
        "            return AgentFinish(\n",
        "                # Return the final answer\n",
        "                return_values={\"output\": llm_output.split(\"Final Answer:\")[-1].strip()},\n",
        "                log=llm_output,\n",
        "            )\n",
        "        # Assume the entire LLM output is the search query for now\n",
        "        # You can implement more complex parsing if needed\n",
        "        action_input = llm_output.strip()\n",
        "        # Return the action and action input\n",
        "        return AgentAction(tool=\"Search\", tool_input=action_input, log=llm_output)\n",
        "\n",
        "output_parser = CustomOutputParser()\n",
        "\n",
        "# Define a custom agent\n",
        "class CustomAgent(LLMSingleActionAgent):\n",
        "    def plan(\n",
        "        self,\n",
        "        intermediate_steps: List[AgentAction],\n",
        "        **kwargs # This line is changed to accept the `callbacks` keyword argument\n",
        "    ) -> Union[AgentAction, AgentFinish]:\n",
        "        # Pass the 'input' key from kwargs to the llm_chain\n",
        "        response = self.llm_chain.run(input=kwargs.get('input'))\n",
        "        return AgentAction(tool=\"Search\", tool_input=response, log=response)\n",
        "\n",
        "# Initialize the agent executor\n",
        "agent = CustomAgent(\n",
        "    llm_chain=llm_chain,\n",
        "    tools=tools,\n",
        "    output_parser=output_parser,  # Add the output parser\n",
        "    stop=[\"\\nObservation:\"],  # Add the stop sequence\n",
        ")\n",
        "executor = AgentExecutor(agent=agent, tools=tools, verbose=True)\n",
        "\n",
        "# Test the agent executor\n",
        "query = \"Find the latest news on AI advancements.\"\n",
        "response = executor.run(input=query)\n",
        "print(response)"
      ],
      "metadata": {
        "colab": {
          "base_uri": "https://localhost:8080/"
        },
        "id": "nV5ylL-SzbvM",
        "outputId": "9cf2dbe9-0fbf-499b-d99c-a1a8fcdff5b1"
      },
      "execution_count": null,
      "outputs": [
        {
          "output_type": "stream",
          "name": "stdout",
          "text": [
            "\n",
            "\n",
            "\u001b[1m> Entering new AgentExecutor chain...\u001b[0m\n",
            "\u001b[32;1m\u001b[1;3m\n",
            "\n",
            "\"Latest news on AI advancements\" OR \"AI advancements news\" OR \"AI technology advancements\" OR \"Artificial intelligence advancements\"\u001b[0m\n",
            "\n",
            "Observation:\u001b[36;1m\u001b[1;3m['Stay up to date on the latest AI technology advancements and learn about the challenges and opportunities AI presents now and for the future.', 'Stay up to date on the latest AI technology advancements and learn about the challenges and opportunities AI presents now and for the future ...', 'ECU Computer Science ...', 'AI technology advancements in 2024 are transforming how businesses operate, offering new opportunities for efficiency, innovation, and growth.', 'Explore the pivotal AI milestones of 2023 in our comprehensive review. Discover how artificial intelligence advancements are shaping our future.', \"AI Technology Advancements. 6. Dislike. 1. Share. Video unavailable. This content isn't available. Skip video. Over the last few years, ...\", 'Artificial Intelligence Advancements: Unveiling the Future of Technology · GRAMOSOFT Pvt Ltd · Artificial Intelligence.', 'Unleashing the Potential of Artificial Intelligence: Advancements, Applications, and Challenges ... Unleashing the Potential of Artificial Intelligence: ...', 'Artificial intelligence advancements in 2024 are revolutionizing healthcare communication by enhancing the way medical professionals interact ...', 'Unleashing the Potential of Artificial Intelligence: Advancements, Applications, and Ethical Considerations. Global International Journal ...']\u001b[0m\n",
            "\u001b[32;1m\u001b[1;3m\n",
            "\n",
            "\"AI advancements latest news\"\u001b[0m\n",
            "\n",
            "Observation:\u001b[36;1m\u001b[1;3m['Accel has launched the fourth edition of its pre-seed scaling programme, Accel Atoms 4.0, offering up to USD 1 million in funding and perks ... 12 Sep, 2024, ...', 'Stay informed with the latest news, updates, and in-depth insights on AI advancements. Discover industry trends, innovations, and more on TechCircle.', 'AI Advancements: Latest News and Updates. 3 days ago; 2 min. AI Advancements: Latest News and Updates. In the rapidly evolving landscape of ...']\u001b[0m\n",
            "\u001b[32;1m\u001b[1;3m\n",
            "\n",
            "\"AI advancements latest news\"\u001b[0m\n",
            "\n",
            "Observation:\u001b[36;1m\u001b[1;3m['Accel has launched the fourth edition of its pre-seed scaling programme, Accel Atoms 4.0, offering up to USD 1 million in funding and perks ... 12 Sep, 2024, ...', 'Stay informed with the latest news, updates, and in-depth insights on AI advancements. Discover industry trends, innovations, and more on TechCircle.', 'AI Advancements: Latest News and Updates. 3 days ago; 2 min. AI Advancements: Latest News and Updates. In the rapidly evolving landscape of ...']\u001b[0m\n",
            "\u001b[32;1m\u001b[1;3m\n",
            "\n",
            "\"AI advancements news\" OR \"latest AI developments\" OR \"recent advances in artificial intelligence\"\u001b[0m\n",
            "\n",
            "Observation:\u001b[36;1m\u001b[1;3m['The latest AI developments solution models network behavior by using machine learning to enhance threat detection. Alphabet, the parent ...', 'Read the recent advances in artificial intelligence with High Peak weekly AI news. Explore what Open AI, Samsung and Apple came up with.', 'Review. Recent advances in artificial intelligence towards the sustainable future of agri-food industry.', 'How The Latest AI Developments Will Impact Hollywood. Schuyler Moore. Contributor Opinions expressed by Forbes Contributors are their own ...', \"The Latest AI Developments Shaping 2024 · Current Trends and Future Prospects · AI's Impact on Social Media · What Can We Expect? · Contact Us.\", 'Latest AI Developments. Share. Sidley AI Monitor. Latest AI Developments. Jurisdictions and Industries: Jurisdictions and Industries: Africa; APAC; Europe', \"Following the latest AI developments, it sometimes feels like stepping into the pages of a sci-fi book or a futuristic film – except it's ...\", 'Recent advances in artificial intelligence-assisted endocrinology and diabetes. Affiliation: 1Department of Internal Medicine III, University Hospital Carl ...', 'Review. Recent advances in artificial intelligence boosting materials design for electrochemical energy storage.', 'Recent Advances in Artificial Intelligence and Machine Learning. Print Special Issue Flyer; Special Issue Editors; Special Issue Information; Keywords; Benefits ...']\u001b[0m\n",
            "\u001b[32;1m\u001b[1;3m\n",
            "\n",
            "\"Latest AI advancements news\"\u001b[0m\n",
            "\n",
            "Observation:\u001b[36;1m\u001b[1;3m['Let us know your go-to sources for the latest AI advancements news!', \"Let us know your go-to sources for the latest AI advancements news! This content isn't available here. Access this content and more in the ...\", 'Channel Idea: Stay updated with the latest AI advancements, news, and trends. Provide in-depth analysis of significant breakthroughs and ...', '... latest AI advancements, news, and trends. Join our rapidly growing community of AI aficionados and enthusiasts, who are passionate about ...']\u001b[0m\n",
            "\u001b[32;1m\u001b[1;3m\n",
            "\"Latest AI advancements\" OR \"AI news\" OR \"Artificial Intelligence advancements\" OR \"AI technology news\"\u001b[0m\n",
            "\n",
            "Observation:\u001b[36;1m\u001b[1;3m[{'title': '7 pieces of AI news we announced in September', 'link': 'https://blog.google/technology/ai/google-ai-updates-september/', 'source': 'Google Blog', 'date': '2 days ago', 'thumbnail': 'https://serpapi.com/searches/6708e8f76de1e413d83ba79f/images/1f95fcd72fad753ab31869dbc43dbc7114f16f973ade1137.jpeg'}, {'title': '35 AI News You Should Not Miss', 'link': 'https://www.insidermonkey.com/blog/35-ai-news-you-should-not-miss-1370245/', 'source': 'Insider Monkey', 'date': '17 hours ago', 'thumbnail': 'https://serpapi.com/searches/6708e8f76de1e413d83ba79f/images/1f95fcd72fad753ae7eac60e47ac1e58864be7df05fa2fb6.jpeg'}, {'title': 'Many organisations unprepared for AI cybersecurity threats', 'link': 'https://www.artificialintelligence-news.com/news/many-organisations-unprepared-ai-cybersecurity-threats/', 'source': 'AI News', 'date': '23 hours ago', 'thumbnail': 'https://serpapi.com/searches/6708e8f76de1e413d83ba79f/images/1f95fcd72fad753a717038bcfc7c681b6cc7e543cfc568ac.jpeg'}, {'title': 'James Cameron, Academy Award-Winning Filmmaker, Joins Stability AI Board of Directors', 'link': 'https://stability.ai/news/james-cameron-joins-stability-ai-board-of-directors', 'source': 'Stability AI', 'date': '2 weeks ago', 'thumbnail': 'https://serpapi.com/searches/6708e8f76de1e413d83ba79f/images/1f95fcd72fad753a80fee242834477b58f62149e59754ead.jpeg'}]\u001b[0m\n",
            "\u001b[32;1m\u001b[1;3m\n",
            "\n",
            "\"AI advancements news\" OR \"latest AI developments\" OR \"recent AI advancements\"\u001b[0m\n",
            "\n",
            "Observation:\u001b[36;1m\u001b[1;3m['AI Google News. Explore the latest news, insights and use cases on how Google is using AI here at AI News.', 'Here are some predictions for the state of AI and robotics in 2023- 2025, based on the latest AI developments. AI and ML will transform the ...', 'Recent AI Advancements. AI development trends and predictions. Recent AI Advancements. Last updated on 10/09/24. Explore the latest trends and ...', 'How The Latest AI Developments Will Impact Hollywood. Schuyler Moore. Contributor Opinions expressed by Forbes Contributors are their own ...', 'Latest AI Developments. Share. Sidley AI Monitor. Latest AI Developments. Jurisdictions and Industries: Jurisdictions and Industries: Africa; APAC; Europe', \"A post on latest AI developments is overdue by now that it's been six weeks since my last post. A lot has happened.\", \"The Latest AI Developments Shaping 2024 · Current Trends and Future Prospects · AI's Impact on Social Media · What Can We Expect? · Contact Us.\", 'Here are the latest AI developments you should know about. Google, Microsoft and OpenAI have all made announcements this month. Share this ...', \"Well, we've come a long way since then. Following the latest AI developments, it sometimes feels like stepping into the pages of a sci-fi book ...\", 'Staying up-to-date with the latest AI developments and trends is not just beneficial but essential for professionals in the field. By following ...']\u001b[0m\n",
            "\u001b[32;1m\u001b[1;3m\n",
            "\n",
            "\"Latest AI advancements\" OR \"AI news\" OR \"Artificial intelligence updates\" OR \"Recent developments in AI\"\u001b[0m\n",
            "\n",
            "Observation:\u001b[36;1m\u001b[1;3m[{'title': 'Many organisations unprepared for AI cybersecurity threats', 'link': 'https://www.artificialintelligence-news.com/news/many-organisations-unprepared-ai-cybersecurity-threats/', 'source': 'AI News', 'date': '23 hours ago', 'thumbnail': 'https://encrypted-tbn0.gstatic.com/images?q=tbn:ANd9GcQoyoLDtYmTqh-MV0d2yqDix6pn16OODkg_82r1aBDzsRkiWw29MrIg6ik&usqp=CAI&s'}, {'title': '35 AI News You Should Not Miss', 'link': 'https://www.insidermonkey.com/blog/35-ai-news-you-should-not-miss-1370245/', 'source': 'Insider Monkey', 'date': '17 hours ago', 'thumbnail': 'https://encrypted-tbn0.gstatic.com/images?q=tbn:ANd9GcRNxImHl1gTIH4otr3RKtKX3E3yx8GIj4UamjiqBi2p0lvMe28mjGUChzQ&usqp=CAI&s'}, {'title': '7 pieces of AI news we announced in September', 'link': 'https://blog.google/technology/ai/google-ai-updates-september/', 'source': 'Google Blog', 'date': '2 days ago', 'thumbnail': 'https://encrypted-tbn0.gstatic.com/images?q=tbn:ANd9GcT7s3omvP6tjQ97KYof4PdhYxGf_i7LckaEGuBptmX16KpPqPxX-dlq8FU&usqp=CAI&s'}]\u001b[0m\n",
            "\u001b[32;1m\u001b[1;3m\n",
            "\n",
            "\"AI advancements\" OR \"artificial intelligence\" OR \"machine learning\" OR \"neural networks\" OR \"deep learning\" OR \"latest news\" OR \"recent developments\" OR \"cutting-edge\" OR \"innovations\" OR \"breakthroughs\"\u001b[0m\n",
            "\n",
            "Observation:\u001b[36;1m\u001b[1;3m[{'title': 'Nobel Prize in Physics Awarded for Breakthroughs in Machine Learning', 'link': 'https://www.scientificamerican.com/article/nobel-prize-in-physics-awarded-for-breakthroughs-in-machine-learning/', 'source': 'Scientific American', 'date': '2 days ago', 'thumbnail': 'https://encrypted-tbn0.gstatic.com/images?q=tbn:ANd9GcRluZSLv3ck4msTO9SCPWOJpdlWwlS1xpGXIDHPc7xQK-zD8043MEMDhsg&usqp=CAI&s'}, {'title': 'Transition Tracking Action Group Uses Artificial Intelligence, Analytics to Speed DOD Innovation', 'link': 'https://www.defense.gov/News/News-Stories/Article/Article/3931149/transition-tracking-action-group-uses-artificial-intelligence-analytics-to-spee/', 'source': 'U.S. Department of Defense (.gov)', 'date': '1 day ago', 'thumbnail': 'https://encrypted-tbn0.gstatic.com/images?q=tbn:ANd9GcSPgxMxWBqAXcHMd_K6C_Xf95wkinq11_Drm5czCa5JqbufNEY-8Uw8rLk&usqp=CAI&s'}, {'title': '1 Stock-Split Artificial Intelligence (AI) Stock Up 2,890% in 5 Years to Buy Now, According to Wall Street', 'link': 'https://www.fool.com/investing/2024/10/11/1-stock-split-ai-stock-up-2890-to-buy-now-wall-st/', 'source': 'The Motley Fool', 'date': '60 minutes ago', 'thumbnail': 'https://encrypted-tbn0.gstatic.com/images?q=tbn:ANd9GcSu7RCMnNF3sG0Out_r-GXBLLbv8fQCckMXVhToqSMDQNsPPHn3hQgQmV4&usqp=CAI&s'}, {'title': 'Employing machine learning for advanced gap imputation in solar power generation databases', 'link': 'https://www.nature.com/articles/s41598-024-74342-3', 'source': 'Nature', 'date': '1 hour ago', 'thumbnail': 'https://encrypted-tbn0.gstatic.com/images?q=tbn:ANd9GcREcvF-FzJvsXZRbOZYfKkqRHCi1f9F53XfFA1BUnzqohAICeJWw8jdtsQ&usqp=CAI&s'}]\u001b[0m\n",
            "\u001b[32;1m\u001b[1;3m\n",
            "\n",
            "\"AI advancements news\" \u001b[0m\n",
            "\n",
            "Observation:\u001b[36;1m\u001b[1;3m[\"Am I the only one who has become addicted to AI advancements news? Discussion. All the AI news has managed to get me very excited but now I'm ...\", 'With the rapid pace of AI advancements, news can be difficult to keep up with. Check out the Weekly Rewind every Monday to stay current ...', \"This is the biggest collection of AI advancements, news and research on the internet. You will get your money's worth. Subscribe to keep ...\", 'The Obvious Challenge of #GenerativeAI - How #energy #Investments are as crucial as #AI advancements. News is @AnthropicAI , seeking a ...', 'With the rapid pace of AI advancements, news can be difficult to keep up with. Check out the Weekly Rewind every Monday to stay current ...', 'Send AI Advancements News Updates to Slack Channel. Keep your team informed about the latest breakthroughs in AI by automatically sending search results to ...', 'Save AI Advancements News to Notion. Stay updated with the latest advancements in AI by collecting news articles directly in your Notion page.', 'The billionaire says he would prefer to build artificial-intelligence products outside of the car company unless he gets greater control.', 'Content Aggregation: Compile lists and aggregate links related to AI advancements, news, and research. You will be responsible for adding these to our research ...', 'Oct 3. The Obvious Challenge of #GenerativeAI - How #energy #Investments are as crucial as #AI advancements. News is. @AnthropicAI. , seeking a valuation as ...']\u001b[0m\n",
            "\u001b[32;1m\u001b[1;3m\n",
            "\n",
            "\"AI advancements\" OR \"artificial intelligence\" OR \"latest developments\" OR \"latest news\" OR \"recent updates\" OR \"cutting-edge\" OR \"innovations\" OR \"breakthroughs\" OR \"progress\" OR \"advances\" OR \"emerging technologies\" OR \"machine learning\" OR \"deep learning\" OR \"neural networks\" OR \"cognitive computing\" OR \"natural language processing\" OR \"robotics\" site:news.google.com\u001b[0m\n",
            "\n",
            "Observation:\u001b[36;1m\u001b[1;3m['... deep learning, as well as various forms of natural language processing (NLP) that often build on ML approaches. ... machine learning ...', 'Artificial intelligence (AI) is already proving a ... Here, we describe the work of researchers pursuing cutting-edge AI and robotics ...', 'The field of learning is the best known and can take many forms, from Genetic Algorithms that emulate evolution to Deep Learning neural networks that mimic the ...', 'Artificial Intelligence. Northwestern researchers seek new ways to leverage the power of intelligence, computation and machine learning. skin tones. Racial ...', 'This The Futurum Group and Signal65 insight looks to demystify AI basics including machine learning (ML) and deep learning.', 'Artificial intelligence is helping doctors diagnose and manage ... Machine learning (ML) allows healthcare professionals to structure and index ...', '... machine learning, with a focus on quantum neural networks and quantum deep learning. ... advances in the theory of classical deep learning.', 'Comparing neural networks gives a peek into the black box. November 16, 2022. By Haydn Jones. Artificial intelligence is ...', \"There's little question artificial intelligence and machine learning are playing an increased role in making business decisions. A 2022 survey ...\", \"With advances in artificial intelligence coming on in leaps and bounds every year, it's certainly possible that the line between robotics ...\"]\u001b[0m\n",
            "\u001b[32;1m\u001b[1;3m\n",
            "\n",
            "\"AI advancements news\"\u001b[0m\n",
            "\n",
            "Observation:\u001b[36;1m\u001b[1;3m['ai advancements news search results. Developer news items we found relating to ai advancements. 2 results. GPU-market-value-to-surpass-274-billion. GPU market ...', \"Am I the only one who has become addicted to AI advancements news? Discussion. All the AI news has managed to get me very excited but now I'm ...\", 'With the rapid pace of AI advancements, news can be difficult to keep up with. Check out the Weekly Rewind every Monday to stay current ...', \"This is the biggest collection of AI advancements, news and research on the internet. You will get your money's worth. Subscribe to keep ...\", 'The Obvious Challenge of #GenerativeAI - How #energy #Investments are as crucial as #AI advancements. News is @AnthropicAI , seeking a ...', 'Send AI Advancements News Updates to Slack Channel. Keep your team informed about the latest breakthroughs in AI by automatically sending search results to ...', 'With the rapid pace of AI advancements, news can be difficult to keep up with. Check out the Weekly Rewind every Monday to stay current ...', 'Save AI Advancements News to Notion. Stay updated with the latest advancements in AI by collecting news articles directly in your Notion page.', 'The billionaire says he would prefer to build artificial-intelligence products outside of the car company unless he gets greater control.', 'Close this search box. china ai advancements News & Updates in 2024. Latest News and Stories About china ai advancements in 2024.']\u001b[0m\n",
            "\u001b[32;1m\u001b[1;3m\n",
            "\n",
            "\"Latest developments in AI\" OR \"AI advancements news\" OR \"Recent news on AI technology\"\u001b[0m\n",
            "\n",
            "Observation:\u001b[36;1m\u001b[1;3m['Latest Developments in AI Technology · Explore the latest in AI technology with breakthroughs in machine learning, natural language processing, ...', 'Latest Developments in AI – September 2024 · 1. AI-Driven Code Generation with Enhanced Accuracy · 2. LLMs and Knowledge Integration · 3. AI- ...', 'Latest Developments in AI News: What You Need to Know ; Stop Using Only ChatGPT — Check Out These AI Tools!. AI is reshaping the way we work ...', 'Artificial Intelligence Innovations: Top 10 Latest Developments in AI · 1. The Fusion of AI And Quantum Computing · 2. Reinforcement Learning · 3. Explainable ...', 'Latest Developments in AI Artificial intelligence (AI) is rapidly advancing and making a significant impact in various fields, particularly in education.', 'Dive into the latest developments in AI, API, and automation and discover how to leverage them for your business.', \"Latest Developments In AI · OpenAI's GPT-4: Launched in mid-March, GPT-4 is the latest iteration of the large language model that powers ChatGPT.\", 'Latest Developments in AI ... Artificial intelligence (AI) is rapidly advancing and making a significant impact in various fields, particularly in education.', 'Here are some of the latest developments in AI as of June 2024: 1. Generative AI in Google Search Google has unveiled new generative AI features in its search ...', 'Sesotec white paper explains latest developments in AI plastics sorting · By · Recycling Product News Staff · July 30, 2024.']\u001b[0m\n",
            "\u001b[32;1m\u001b[1;3m\n",
            "\n",
            "\"AI advancements latest news\"\u001b[0m\n",
            "\n",
            "Observation:\u001b[36;1m\u001b[1;3m['Accel has launched the fourth edition of its pre-seed scaling programme, Accel Atoms 4.0, offering up to USD 1 million in funding and perks ... 12 Sep, 2024, ...', 'Stay informed with the latest news, updates, and in-depth insights on AI advancements. Discover industry trends, innovations, and more on TechCircle.', 'AI Advancements: Latest News and Updates. 3 days ago; 2 min. AI Advancements: Latest News and Updates. In the rapidly evolving landscape of ...']\u001b[0m\n",
            "\u001b[32;1m\u001b[1;3m\n",
            "\n",
            "\"Latest AI advancements news\" OR \"AI advancements news update\"\u001b[0m\n",
            "\n",
            "Observation:\u001b[36;1m\u001b[1;3m['Let us know your go-to sources for the latest AI advancements news!', '... latest AI advancements, news, and trends. Join our rapidly growing community of AI aficionados and enthusiasts, who are passionate about ...', \"Let us know your go-to sources for the latest AI advancements news! This content isn't available here. Access this content and more in the ...\", 'Channel Idea: Stay updated with the latest AI advancements, news, and trends. Provide in-depth analysis of significant breakthroughs and ...']\u001b[0m\n",
            "\u001b[32;1m\u001b[1;3m\u001b[0m\n",
            "\n",
            "\u001b[1m> Finished chain.\u001b[0m\n",
            "Agent stopped due to iteration limit or time limit.\n"
          ]
        }
      ]
    },
    {
      "cell_type": "markdown",
      "source": [
        "### **Explanation:**\n",
        "1. **Custom Tools**: We define a custom `SerpAPIWrapper` to handle search functionality for current events.\n",
        "2. **Prompt Template**: The `CustomPromptTemplate` formats the input for the agent to decide the next action.\n",
        "3. **Custom Agent**: The `CustomAgent` analyzes the input and plans the next action by choosing the appropriate tool.\n",
        "4. **AgentExecutor**: The `AgentExecutor` orchestrates the entire decision-making and action-execution process.\n",
        "\n",
        "### **Expected Output:**\n",
        "The agent will search for the latest AI advancements and return the results.\n",
        "\n",
        "## **Conclusion**\n",
        "\n",
        "In this tutorial, we covered the key components of agent decision-making in LangChain:\n",
        "1. **The Decision-Making Process**: Agents interpret user input and respond using language models.\n",
        "2. **Tools Integration**: Agents can extend their functionality using external tools like search engines and Python REPLs.\n",
        "3. **AgentExecutor**: This component manages the execution of actions, ensuring tools are used effectively to complete tasks.\n",
        "\n",
        "By understanding these components, you can build powerful agents capable of complex tasks, enhancing the capabilities of your applications."
      ],
      "metadata": {
        "id": "QLT46blFqyMG"
      }
    }
  ]
}