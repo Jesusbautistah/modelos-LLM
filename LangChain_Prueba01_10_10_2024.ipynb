{
  "nbformat": 4,
  "nbformat_minor": 0,
  "metadata": {
    "colab": {
      "provenance": [],
      "toc_visible": true,
      "authorship_tag": "ABX9TyPKjBVOgefAzjL6XgTGs0Bz",
      "include_colab_link": true
    },
    "kernelspec": {
      "name": "python3",
      "display_name": "Python 3"
    },
    "language_info": {
      "name": "python"
    }
  },
  "cells": [
    {
      "cell_type": "markdown",
      "metadata": {
        "id": "view-in-github",
        "colab_type": "text"
      },
      "source": [
        "<a href=\"https://colab.research.google.com/github/Vagarh/Agentes-de-IA-con-Modelos-de-LLM/blob/main/LangChain_Prueba01_10_10_2024.ipynb\" target=\"_parent\"><img src=\"https://colab.research.google.com/assets/colab-badge.svg\" alt=\"Open In Colab\"/></a>"
      ]
    },
    {
      "cell_type": "markdown",
      "source": [
        "# Prueba operativa Agentes IA con Langchain\n",
        "\n",
        "Objetivo: desarrolar aplicaciones conversacionales avanzadas que permitan automatizar procesos y mejorar la experiencia del usuario utilizando Langchain y modelos LLM\n",
        "\n",
        "*   *Agente Inteligentes:* Es una entidad que toma decisiones autonomas sobre que acciones tomas basandose en su conocimiento e interacciones previas.\n",
        "*   *Cadenas Personalizadas*\n",
        "*   *Sistemas de recuperacion de infomacion*\n",
        "\n"
      ],
      "metadata": {
        "id": "UxB2M_z88kWq"
      }
    },
    {
      "cell_type": "markdown",
      "source": [
        "**LangChain** es una plataforma de inteligencia artificial/ framework que se enfoca en la generación de texto, pero también ofrece otras opciones para generar cadenas de caracteres, aparte del texto. Algunas de estas opciones incluyen:\n",
        "\n",
        "* Audio: LangChain puede generar audio a partir de patrones, temas o ideas. Esto lo hace ideal para aplicaciones que requieren contenido auditivo, como podcasts, narraciones o música generada por computadora.\n",
        "* Imágenes: LangChain puede generar imágenes a partir de patrones, temas o ideas. Esto lo hace ideal para aplicaciones que requieren contenido visual, como generación de arte, diseño de gráficos o creación de contenido de redes sociales.\n",
        "* Vídeos: LangChain puede generar videos a partir de patrones, temas o ideas. Esto lo hace ideal para aplicaciones que requieren contenido visual y auditivo, como creación de contenido de YouTube, TikTok o Vimeo.\n",
        "* Música: LangChain puede generar música a partir de patrones, temas o ideas. Esto lo hace ideal para aplicaciones que requieren contenido musical, como generación de canciones, creación de música para videojuegos o creación de música para eventos.\n",
        "* Datos: LangChain puede generar datos a partir de patrones, temas o ideas. Esto lo hace ideal para aplicaciones que requieren contenido numérico, como generación de datos para análisis de mercado, creación de datos para simulaciones o creación de datos para modelado de comportamiento.\n",
        "* Código: LangChain puede generar código a partir de patrones, temas o ideas. Esto lo hace ideal para aplicaciones que requieren contenido programático, como generación de código para aplicaciones móviles, creación de código para sitios web o creación de código para sistemas de automatización.\n"
      ],
      "metadata": {
        "id": "_JC7Y_P98QAH"
      }
    },
    {
      "cell_type": "markdown",
      "source": [
        "# Preparacion del entorno de trabajo"
      ],
      "metadata": {
        "id": "WvVU44TQhbNy"
      }
    },
    {
      "cell_type": "code",
      "execution_count": 1,
      "metadata": {
        "colab": {
          "base_uri": "https://localhost:8080/"
        },
        "collapsed": true,
        "id": "sLvEvFHzbdcF",
        "outputId": "15f9484e-35c7-4b8d-b2e4-9b3a99b895b3"
      },
      "outputs": [
        {
          "output_type": "stream",
          "name": "stdout",
          "text": [
            "Collecting langchain-openai\n",
            "  Downloading langchain_openai-0.2.2-py3-none-any.whl.metadata (2.6 kB)\n",
            "Collecting langchain-core<0.4.0,>=0.3.9 (from langchain-openai)\n",
            "  Downloading langchain_core-0.3.10-py3-none-any.whl.metadata (6.3 kB)\n",
            "Collecting openai<2.0.0,>=1.40.0 (from langchain-openai)\n",
            "  Downloading openai-1.51.2-py3-none-any.whl.metadata (24 kB)\n",
            "Collecting tiktoken<1,>=0.7 (from langchain-openai)\n",
            "  Downloading tiktoken-0.8.0-cp310-cp310-manylinux_2_17_x86_64.manylinux2014_x86_64.whl.metadata (6.6 kB)\n",
            "Requirement already satisfied: PyYAML>=5.3 in /usr/local/lib/python3.10/dist-packages (from langchain-core<0.4.0,>=0.3.9->langchain-openai) (6.0.2)\n",
            "Collecting jsonpatch<2.0,>=1.33 (from langchain-core<0.4.0,>=0.3.9->langchain-openai)\n",
            "  Downloading jsonpatch-1.33-py2.py3-none-any.whl.metadata (3.0 kB)\n",
            "Collecting langsmith<0.2.0,>=0.1.125 (from langchain-core<0.4.0,>=0.3.9->langchain-openai)\n",
            "  Downloading langsmith-0.1.134-py3-none-any.whl.metadata (13 kB)\n",
            "Requirement already satisfied: packaging<25,>=23.2 in /usr/local/lib/python3.10/dist-packages (from langchain-core<0.4.0,>=0.3.9->langchain-openai) (24.1)\n",
            "Requirement already satisfied: pydantic<3.0.0,>=2.5.2 in /usr/local/lib/python3.10/dist-packages (from langchain-core<0.4.0,>=0.3.9->langchain-openai) (2.9.2)\n",
            "Collecting tenacity!=8.4.0,<9.0.0,>=8.1.0 (from langchain-core<0.4.0,>=0.3.9->langchain-openai)\n",
            "  Downloading tenacity-8.5.0-py3-none-any.whl.metadata (1.2 kB)\n",
            "Requirement already satisfied: typing-extensions>=4.7 in /usr/local/lib/python3.10/dist-packages (from langchain-core<0.4.0,>=0.3.9->langchain-openai) (4.12.2)\n",
            "Requirement already satisfied: anyio<5,>=3.5.0 in /usr/local/lib/python3.10/dist-packages (from openai<2.0.0,>=1.40.0->langchain-openai) (3.7.1)\n",
            "Requirement already satisfied: distro<2,>=1.7.0 in /usr/lib/python3/dist-packages (from openai<2.0.0,>=1.40.0->langchain-openai) (1.7.0)\n",
            "Collecting httpx<1,>=0.23.0 (from openai<2.0.0,>=1.40.0->langchain-openai)\n",
            "  Downloading httpx-0.27.2-py3-none-any.whl.metadata (7.1 kB)\n",
            "Collecting jiter<1,>=0.4.0 (from openai<2.0.0,>=1.40.0->langchain-openai)\n",
            "  Downloading jiter-0.6.1-cp310-cp310-manylinux_2_17_x86_64.manylinux2014_x86_64.whl.metadata (5.2 kB)\n",
            "Requirement already satisfied: sniffio in /usr/local/lib/python3.10/dist-packages (from openai<2.0.0,>=1.40.0->langchain-openai) (1.3.1)\n",
            "Requirement already satisfied: tqdm>4 in /usr/local/lib/python3.10/dist-packages (from openai<2.0.0,>=1.40.0->langchain-openai) (4.66.5)\n",
            "Requirement already satisfied: regex>=2022.1.18 in /usr/local/lib/python3.10/dist-packages (from tiktoken<1,>=0.7->langchain-openai) (2024.9.11)\n",
            "Requirement already satisfied: requests>=2.26.0 in /usr/local/lib/python3.10/dist-packages (from tiktoken<1,>=0.7->langchain-openai) (2.32.3)\n",
            "Requirement already satisfied: idna>=2.8 in /usr/local/lib/python3.10/dist-packages (from anyio<5,>=3.5.0->openai<2.0.0,>=1.40.0->langchain-openai) (3.10)\n",
            "Requirement already satisfied: exceptiongroup in /usr/local/lib/python3.10/dist-packages (from anyio<5,>=3.5.0->openai<2.0.0,>=1.40.0->langchain-openai) (1.2.2)\n",
            "Requirement already satisfied: certifi in /usr/local/lib/python3.10/dist-packages (from httpx<1,>=0.23.0->openai<2.0.0,>=1.40.0->langchain-openai) (2024.8.30)\n",
            "Collecting httpcore==1.* (from httpx<1,>=0.23.0->openai<2.0.0,>=1.40.0->langchain-openai)\n",
            "  Downloading httpcore-1.0.6-py3-none-any.whl.metadata (21 kB)\n",
            "Collecting h11<0.15,>=0.13 (from httpcore==1.*->httpx<1,>=0.23.0->openai<2.0.0,>=1.40.0->langchain-openai)\n",
            "  Downloading h11-0.14.0-py3-none-any.whl.metadata (8.2 kB)\n",
            "Collecting jsonpointer>=1.9 (from jsonpatch<2.0,>=1.33->langchain-core<0.4.0,>=0.3.9->langchain-openai)\n",
            "  Downloading jsonpointer-3.0.0-py2.py3-none-any.whl.metadata (2.3 kB)\n",
            "Collecting orjson<4.0.0,>=3.9.14 (from langsmith<0.2.0,>=0.1.125->langchain-core<0.4.0,>=0.3.9->langchain-openai)\n",
            "  Downloading orjson-3.10.7-cp310-cp310-manylinux_2_17_x86_64.manylinux2014_x86_64.whl.metadata (50 kB)\n",
            "\u001b[2K     \u001b[90m━━━━━━━━━━━━━━━━━━━━━━━━━━━━━━━━━━━━━━━━\u001b[0m \u001b[32m50.4/50.4 kB\u001b[0m \u001b[31m1.3 MB/s\u001b[0m eta \u001b[36m0:00:00\u001b[0m\n",
            "\u001b[?25hCollecting requests-toolbelt<2.0.0,>=1.0.0 (from langsmith<0.2.0,>=0.1.125->langchain-core<0.4.0,>=0.3.9->langchain-openai)\n",
            "  Downloading requests_toolbelt-1.0.0-py2.py3-none-any.whl.metadata (14 kB)\n",
            "Requirement already satisfied: annotated-types>=0.6.0 in /usr/local/lib/python3.10/dist-packages (from pydantic<3.0.0,>=2.5.2->langchain-core<0.4.0,>=0.3.9->langchain-openai) (0.7.0)\n",
            "Requirement already satisfied: pydantic-core==2.23.4 in /usr/local/lib/python3.10/dist-packages (from pydantic<3.0.0,>=2.5.2->langchain-core<0.4.0,>=0.3.9->langchain-openai) (2.23.4)\n",
            "Requirement already satisfied: charset-normalizer<4,>=2 in /usr/local/lib/python3.10/dist-packages (from requests>=2.26.0->tiktoken<1,>=0.7->langchain-openai) (3.3.2)\n",
            "Requirement already satisfied: urllib3<3,>=1.21.1 in /usr/local/lib/python3.10/dist-packages (from requests>=2.26.0->tiktoken<1,>=0.7->langchain-openai) (2.2.3)\n",
            "Downloading langchain_openai-0.2.2-py3-none-any.whl (49 kB)\n",
            "\u001b[2K   \u001b[90m━━━━━━━━━━━━━━━━━━━━━━━━━━━━━━━━━━━━━━━━\u001b[0m \u001b[32m49.7/49.7 kB\u001b[0m \u001b[31m2.4 MB/s\u001b[0m eta \u001b[36m0:00:00\u001b[0m\n",
            "\u001b[?25hDownloading langchain_core-0.3.10-py3-none-any.whl (404 kB)\n",
            "\u001b[2K   \u001b[90m━━━━━━━━━━━━━━━━━━━━━━━━━━━━━━━━━━━━━━━━\u001b[0m \u001b[32m404.4/404.4 kB\u001b[0m \u001b[31m16.4 MB/s\u001b[0m eta \u001b[36m0:00:00\u001b[0m\n",
            "\u001b[?25hDownloading openai-1.51.2-py3-none-any.whl (383 kB)\n",
            "\u001b[2K   \u001b[90m━━━━━━━━━━━━━━━━━━━━━━━━━━━━━━━━━━━━━━━━\u001b[0m \u001b[32m383.7/383.7 kB\u001b[0m \u001b[31m16.3 MB/s\u001b[0m eta \u001b[36m0:00:00\u001b[0m\n",
            "\u001b[?25hDownloading tiktoken-0.8.0-cp310-cp310-manylinux_2_17_x86_64.manylinux2014_x86_64.whl (1.2 MB)\n",
            "\u001b[2K   \u001b[90m━━━━━━━━━━━━━━━━━━━━━━━━━━━━━━━━━━━━━━━━\u001b[0m \u001b[32m1.2/1.2 MB\u001b[0m \u001b[31m36.8 MB/s\u001b[0m eta \u001b[36m0:00:00\u001b[0m\n",
            "\u001b[?25hDownloading httpx-0.27.2-py3-none-any.whl (76 kB)\n",
            "\u001b[2K   \u001b[90m━━━━━━━━━━━━━━━━━━━━━━━━━━━━━━━━━━━━━━━━\u001b[0m \u001b[32m76.4/76.4 kB\u001b[0m \u001b[31m5.0 MB/s\u001b[0m eta \u001b[36m0:00:00\u001b[0m\n",
            "\u001b[?25hDownloading httpcore-1.0.6-py3-none-any.whl (78 kB)\n",
            "\u001b[2K   \u001b[90m━━━━━━━━━━━━━━━━━━━━━━━━━━━━━━━━━━━━━━━━\u001b[0m \u001b[32m78.0/78.0 kB\u001b[0m \u001b[31m4.8 MB/s\u001b[0m eta \u001b[36m0:00:00\u001b[0m\n",
            "\u001b[?25hDownloading jiter-0.6.1-cp310-cp310-manylinux_2_17_x86_64.manylinux2014_x86_64.whl (325 kB)\n",
            "\u001b[2K   \u001b[90m━━━━━━━━━━━━━━━━━━━━━━━━━━━━━━━━━━━━━━━━\u001b[0m \u001b[32m325.2/325.2 kB\u001b[0m \u001b[31m14.1 MB/s\u001b[0m eta \u001b[36m0:00:00\u001b[0m\n",
            "\u001b[?25hDownloading jsonpatch-1.33-py2.py3-none-any.whl (12 kB)\n",
            "Downloading langsmith-0.1.134-py3-none-any.whl (295 kB)\n",
            "\u001b[2K   \u001b[90m━━━━━━━━━━━━━━━━━━━━━━━━━━━━━━━━━━━━━━━━\u001b[0m \u001b[32m295.8/295.8 kB\u001b[0m \u001b[31m16.7 MB/s\u001b[0m eta \u001b[36m0:00:00\u001b[0m\n",
            "\u001b[?25hDownloading tenacity-8.5.0-py3-none-any.whl (28 kB)\n",
            "Downloading jsonpointer-3.0.0-py2.py3-none-any.whl (7.6 kB)\n",
            "Downloading orjson-3.10.7-cp310-cp310-manylinux_2_17_x86_64.manylinux2014_x86_64.whl (141 kB)\n",
            "\u001b[2K   \u001b[90m━━━━━━━━━━━━━━━━━━━━━━━━━━━━━━━━━━━━━━━━\u001b[0m \u001b[32m141.9/141.9 kB\u001b[0m \u001b[31m8.1 MB/s\u001b[0m eta \u001b[36m0:00:00\u001b[0m\n",
            "\u001b[?25hDownloading requests_toolbelt-1.0.0-py2.py3-none-any.whl (54 kB)\n",
            "\u001b[2K   \u001b[90m━━━━━━━━━━━━━━━━━━━━━━━━━━━━━━━━━━━━━━━━\u001b[0m \u001b[32m54.5/54.5 kB\u001b[0m \u001b[31m2.8 MB/s\u001b[0m eta \u001b[36m0:00:00\u001b[0m\n",
            "\u001b[?25hDownloading h11-0.14.0-py3-none-any.whl (58 kB)\n",
            "\u001b[2K   \u001b[90m━━━━━━━━━━━━━━━━━━━━━━━━━━━━━━━━━━━━━━━━\u001b[0m \u001b[32m58.3/58.3 kB\u001b[0m \u001b[31m3.5 MB/s\u001b[0m eta \u001b[36m0:00:00\u001b[0m\n",
            "\u001b[?25hInstalling collected packages: tenacity, orjson, jsonpointer, jiter, h11, tiktoken, requests-toolbelt, jsonpatch, httpcore, httpx, openai, langsmith, langchain-core, langchain-openai\n",
            "  Attempting uninstall: tenacity\n",
            "    Found existing installation: tenacity 9.0.0\n",
            "    Uninstalling tenacity-9.0.0:\n",
            "      Successfully uninstalled tenacity-9.0.0\n",
            "Successfully installed h11-0.14.0 httpcore-1.0.6 httpx-0.27.2 jiter-0.6.1 jsonpatch-1.33 jsonpointer-3.0.0 langchain-core-0.3.10 langchain-openai-0.2.2 langsmith-0.1.134 openai-1.51.2 orjson-3.10.7 requests-toolbelt-1.0.0 tenacity-8.5.0 tiktoken-0.8.0\n",
            "Collecting chromadb\n",
            "  Downloading chromadb-0.5.13-py3-none-any.whl.metadata (6.8 kB)\n",
            "Collecting pinecone\n",
            "  Downloading pinecone-5.3.1-py3-none-any.whl.metadata (19 kB)\n",
            "Requirement already satisfied: build>=1.0.3 in /usr/local/lib/python3.10/dist-packages (from chromadb) (1.2.2.post1)\n",
            "Requirement already satisfied: pydantic>=1.9 in /usr/local/lib/python3.10/dist-packages (from chromadb) (2.9.2)\n",
            "Collecting chroma-hnswlib==0.7.6 (from chromadb)\n",
            "  Downloading chroma_hnswlib-0.7.6-cp310-cp310-manylinux_2_17_x86_64.manylinux2014_x86_64.whl.metadata (252 bytes)\n",
            "Collecting fastapi>=0.95.2 (from chromadb)\n",
            "  Downloading fastapi-0.115.2-py3-none-any.whl.metadata (27 kB)\n",
            "Collecting uvicorn>=0.18.3 (from uvicorn[standard]>=0.18.3->chromadb)\n",
            "  Downloading uvicorn-0.31.1-py3-none-any.whl.metadata (6.6 kB)\n",
            "Requirement already satisfied: numpy>=1.22.5 in /usr/local/lib/python3.10/dist-packages (from chromadb) (1.26.4)\n",
            "Collecting posthog>=2.4.0 (from chromadb)\n",
            "  Downloading posthog-3.7.0-py2.py3-none-any.whl.metadata (2.0 kB)\n",
            "Requirement already satisfied: typing-extensions>=4.5.0 in /usr/local/lib/python3.10/dist-packages (from chromadb) (4.12.2)\n",
            "Collecting onnxruntime>=1.14.1 (from chromadb)\n",
            "  Downloading onnxruntime-1.19.2-cp310-cp310-manylinux_2_27_x86_64.manylinux_2_28_x86_64.whl.metadata (4.5 kB)\n",
            "Requirement already satisfied: opentelemetry-api>=1.2.0 in /usr/local/lib/python3.10/dist-packages (from chromadb) (1.27.0)\n",
            "Collecting opentelemetry-exporter-otlp-proto-grpc>=1.2.0 (from chromadb)\n",
            "  Downloading opentelemetry_exporter_otlp_proto_grpc-1.27.0-py3-none-any.whl.metadata (2.3 kB)\n",
            "Collecting opentelemetry-instrumentation-fastapi>=0.41b0 (from chromadb)\n",
            "  Downloading opentelemetry_instrumentation_fastapi-0.48b0-py3-none-any.whl.metadata (2.1 kB)\n",
            "Requirement already satisfied: opentelemetry-sdk>=1.2.0 in /usr/local/lib/python3.10/dist-packages (from chromadb) (1.27.0)\n",
            "Requirement already satisfied: tokenizers>=0.13.2 in /usr/local/lib/python3.10/dist-packages (from chromadb) (0.19.1)\n",
            "Collecting pypika>=0.48.9 (from chromadb)\n",
            "  Downloading PyPika-0.48.9.tar.gz (67 kB)\n",
            "\u001b[2K     \u001b[90m━━━━━━━━━━━━━━━━━━━━━━━━━━━━━━━━━━━━━━━━\u001b[0m \u001b[32m67.3/67.3 kB\u001b[0m \u001b[31m3.5 MB/s\u001b[0m eta \u001b[36m0:00:00\u001b[0m\n",
            "\u001b[?25h  Installing build dependencies ... \u001b[?25l\u001b[?25hdone\n",
            "  Getting requirements to build wheel ... \u001b[?25l\u001b[?25hdone\n",
            "  Preparing metadata (pyproject.toml) ... \u001b[?25l\u001b[?25hdone\n",
            "Requirement already satisfied: tqdm>=4.65.0 in /usr/local/lib/python3.10/dist-packages (from chromadb) (4.66.5)\n",
            "Collecting overrides>=7.3.1 (from chromadb)\n",
            "  Downloading overrides-7.7.0-py3-none-any.whl.metadata (5.8 kB)\n",
            "Requirement already satisfied: importlib-resources in /usr/local/lib/python3.10/dist-packages (from chromadb) (6.4.5)\n",
            "Requirement already satisfied: grpcio>=1.58.0 in /usr/local/lib/python3.10/dist-packages (from chromadb) (1.64.1)\n",
            "Collecting bcrypt>=4.0.1 (from chromadb)\n",
            "  Downloading bcrypt-4.2.0-cp39-abi3-manylinux_2_28_x86_64.whl.metadata (9.6 kB)\n",
            "Requirement already satisfied: typer>=0.9.0 in /usr/local/lib/python3.10/dist-packages (from chromadb) (0.12.5)\n",
            "Collecting kubernetes>=28.1.0 (from chromadb)\n",
            "  Downloading kubernetes-31.0.0-py2.py3-none-any.whl.metadata (1.5 kB)\n",
            "Requirement already satisfied: tenacity>=8.2.3 in /usr/local/lib/python3.10/dist-packages (from chromadb) (8.5.0)\n",
            "Requirement already satisfied: PyYAML>=6.0.0 in /usr/local/lib/python3.10/dist-packages (from chromadb) (6.0.2)\n",
            "Collecting mmh3>=4.0.1 (from chromadb)\n",
            "  Downloading mmh3-5.0.1-cp310-cp310-manylinux_2_5_x86_64.manylinux1_x86_64.manylinux_2_17_x86_64.manylinux2014_x86_64.whl.metadata (14 kB)\n",
            "Requirement already satisfied: orjson>=3.9.12 in /usr/local/lib/python3.10/dist-packages (from chromadb) (3.10.7)\n",
            "Requirement already satisfied: httpx>=0.27.0 in /usr/local/lib/python3.10/dist-packages (from chromadb) (0.27.2)\n",
            "Requirement already satisfied: rich>=10.11.0 in /usr/local/lib/python3.10/dist-packages (from chromadb) (13.9.2)\n",
            "Requirement already satisfied: certifi>=2019.11.17 in /usr/local/lib/python3.10/dist-packages (from pinecone) (2024.8.30)\n",
            "Collecting pinecone-plugin-inference<2.0.0,>=1.1.0 (from pinecone)\n",
            "  Downloading pinecone_plugin_inference-1.1.0-py3-none-any.whl.metadata (2.2 kB)\n",
            "Collecting pinecone-plugin-interface<0.0.8,>=0.0.7 (from pinecone)\n",
            "  Downloading pinecone_plugin_interface-0.0.7-py3-none-any.whl.metadata (1.2 kB)\n",
            "Requirement already satisfied: python-dateutil>=2.5.3 in /usr/local/lib/python3.10/dist-packages (from pinecone) (2.8.2)\n",
            "Requirement already satisfied: urllib3>=1.26.0 in /usr/local/lib/python3.10/dist-packages (from pinecone) (2.2.3)\n",
            "Requirement already satisfied: packaging>=19.1 in /usr/local/lib/python3.10/dist-packages (from build>=1.0.3->chromadb) (24.1)\n",
            "Requirement already satisfied: pyproject_hooks in /usr/local/lib/python3.10/dist-packages (from build>=1.0.3->chromadb) (1.2.0)\n",
            "Requirement already satisfied: tomli>=1.1.0 in /usr/local/lib/python3.10/dist-packages (from build>=1.0.3->chromadb) (2.0.2)\n",
            "Collecting starlette<0.41.0,>=0.37.2 (from fastapi>=0.95.2->chromadb)\n",
            "  Downloading starlette-0.39.2-py3-none-any.whl.metadata (6.0 kB)\n",
            "Requirement already satisfied: anyio in /usr/local/lib/python3.10/dist-packages (from httpx>=0.27.0->chromadb) (3.7.1)\n",
            "Requirement already satisfied: httpcore==1.* in /usr/local/lib/python3.10/dist-packages (from httpx>=0.27.0->chromadb) (1.0.6)\n",
            "Requirement already satisfied: idna in /usr/local/lib/python3.10/dist-packages (from httpx>=0.27.0->chromadb) (3.10)\n",
            "Requirement already satisfied: sniffio in /usr/local/lib/python3.10/dist-packages (from httpx>=0.27.0->chromadb) (1.3.1)\n",
            "Requirement already satisfied: h11<0.15,>=0.13 in /usr/local/lib/python3.10/dist-packages (from httpcore==1.*->httpx>=0.27.0->chromadb) (0.14.0)\n",
            "Requirement already satisfied: six>=1.9.0 in /usr/local/lib/python3.10/dist-packages (from kubernetes>=28.1.0->chromadb) (1.16.0)\n",
            "Requirement already satisfied: google-auth>=1.0.1 in /usr/local/lib/python3.10/dist-packages (from kubernetes>=28.1.0->chromadb) (2.27.0)\n",
            "Requirement already satisfied: websocket-client!=0.40.0,!=0.41.*,!=0.42.*,>=0.32.0 in /usr/local/lib/python3.10/dist-packages (from kubernetes>=28.1.0->chromadb) (1.8.0)\n",
            "Requirement already satisfied: requests in /usr/local/lib/python3.10/dist-packages (from kubernetes>=28.1.0->chromadb) (2.32.3)\n",
            "Requirement already satisfied: requests-oauthlib in /usr/local/lib/python3.10/dist-packages (from kubernetes>=28.1.0->chromadb) (1.3.1)\n",
            "Requirement already satisfied: oauthlib>=3.2.2 in /usr/local/lib/python3.10/dist-packages (from kubernetes>=28.1.0->chromadb) (3.2.2)\n",
            "Collecting durationpy>=0.7 (from kubernetes>=28.1.0->chromadb)\n",
            "  Downloading durationpy-0.9-py3-none-any.whl.metadata (338 bytes)\n",
            "Collecting coloredlogs (from onnxruntime>=1.14.1->chromadb)\n",
            "  Downloading coloredlogs-15.0.1-py2.py3-none-any.whl.metadata (12 kB)\n",
            "Requirement already satisfied: flatbuffers in /usr/local/lib/python3.10/dist-packages (from onnxruntime>=1.14.1->chromadb) (24.3.25)\n",
            "Requirement already satisfied: protobuf in /usr/local/lib/python3.10/dist-packages (from onnxruntime>=1.14.1->chromadb) (3.20.3)\n",
            "Requirement already satisfied: sympy in /usr/local/lib/python3.10/dist-packages (from onnxruntime>=1.14.1->chromadb) (1.13.3)\n",
            "Requirement already satisfied: deprecated>=1.2.6 in /usr/local/lib/python3.10/dist-packages (from opentelemetry-api>=1.2.0->chromadb) (1.2.14)\n",
            "Requirement already satisfied: importlib-metadata<=8.4.0,>=6.0 in /usr/local/lib/python3.10/dist-packages (from opentelemetry-api>=1.2.0->chromadb) (8.4.0)\n",
            "Requirement already satisfied: googleapis-common-protos~=1.52 in /usr/local/lib/python3.10/dist-packages (from opentelemetry-exporter-otlp-proto-grpc>=1.2.0->chromadb) (1.65.0)\n",
            "Collecting opentelemetry-exporter-otlp-proto-common==1.27.0 (from opentelemetry-exporter-otlp-proto-grpc>=1.2.0->chromadb)\n",
            "  Downloading opentelemetry_exporter_otlp_proto_common-1.27.0-py3-none-any.whl.metadata (1.8 kB)\n",
            "Collecting opentelemetry-proto==1.27.0 (from opentelemetry-exporter-otlp-proto-grpc>=1.2.0->chromadb)\n",
            "  Downloading opentelemetry_proto-1.27.0-py3-none-any.whl.metadata (2.3 kB)\n",
            "Collecting opentelemetry-instrumentation-asgi==0.48b0 (from opentelemetry-instrumentation-fastapi>=0.41b0->chromadb)\n",
            "  Downloading opentelemetry_instrumentation_asgi-0.48b0-py3-none-any.whl.metadata (2.0 kB)\n",
            "Collecting opentelemetry-instrumentation==0.48b0 (from opentelemetry-instrumentation-fastapi>=0.41b0->chromadb)\n",
            "  Downloading opentelemetry_instrumentation-0.48b0-py3-none-any.whl.metadata (6.1 kB)\n",
            "Requirement already satisfied: opentelemetry-semantic-conventions==0.48b0 in /usr/local/lib/python3.10/dist-packages (from opentelemetry-instrumentation-fastapi>=0.41b0->chromadb) (0.48b0)\n",
            "Collecting opentelemetry-util-http==0.48b0 (from opentelemetry-instrumentation-fastapi>=0.41b0->chromadb)\n",
            "  Downloading opentelemetry_util_http-0.48b0-py3-none-any.whl.metadata (2.5 kB)\n",
            "Requirement already satisfied: setuptools>=16.0 in /usr/local/lib/python3.10/dist-packages (from opentelemetry-instrumentation==0.48b0->opentelemetry-instrumentation-fastapi>=0.41b0->chromadb) (71.0.4)\n",
            "Requirement already satisfied: wrapt<2.0.0,>=1.0.0 in /usr/local/lib/python3.10/dist-packages (from opentelemetry-instrumentation==0.48b0->opentelemetry-instrumentation-fastapi>=0.41b0->chromadb) (1.16.0)\n",
            "Collecting asgiref~=3.0 (from opentelemetry-instrumentation-asgi==0.48b0->opentelemetry-instrumentation-fastapi>=0.41b0->chromadb)\n",
            "  Downloading asgiref-3.8.1-py3-none-any.whl.metadata (9.3 kB)\n",
            "Collecting monotonic>=1.5 (from posthog>=2.4.0->chromadb)\n",
            "  Downloading monotonic-1.6-py2.py3-none-any.whl.metadata (1.5 kB)\n",
            "Collecting backoff>=1.10.0 (from posthog>=2.4.0->chromadb)\n",
            "  Downloading backoff-2.2.1-py3-none-any.whl.metadata (14 kB)\n",
            "Requirement already satisfied: annotated-types>=0.6.0 in /usr/local/lib/python3.10/dist-packages (from pydantic>=1.9->chromadb) (0.7.0)\n",
            "Requirement already satisfied: pydantic-core==2.23.4 in /usr/local/lib/python3.10/dist-packages (from pydantic>=1.9->chromadb) (2.23.4)\n",
            "Requirement already satisfied: markdown-it-py>=2.2.0 in /usr/local/lib/python3.10/dist-packages (from rich>=10.11.0->chromadb) (3.0.0)\n",
            "Requirement already satisfied: pygments<3.0.0,>=2.13.0 in /usr/local/lib/python3.10/dist-packages (from rich>=10.11.0->chromadb) (2.18.0)\n",
            "Requirement already satisfied: huggingface-hub<1.0,>=0.16.4 in /usr/local/lib/python3.10/dist-packages (from tokenizers>=0.13.2->chromadb) (0.24.7)\n",
            "Requirement already satisfied: click>=8.0.0 in /usr/local/lib/python3.10/dist-packages (from typer>=0.9.0->chromadb) (8.1.7)\n",
            "Requirement already satisfied: shellingham>=1.3.0 in /usr/local/lib/python3.10/dist-packages (from typer>=0.9.0->chromadb) (1.5.4)\n",
            "Collecting httptools>=0.5.0 (from uvicorn[standard]>=0.18.3->chromadb)\n",
            "  Downloading httptools-0.6.1-cp310-cp310-manylinux_2_5_x86_64.manylinux1_x86_64.manylinux_2_17_x86_64.manylinux2014_x86_64.whl.metadata (3.6 kB)\n",
            "Collecting python-dotenv>=0.13 (from uvicorn[standard]>=0.18.3->chromadb)\n",
            "  Downloading python_dotenv-1.0.1-py3-none-any.whl.metadata (23 kB)\n",
            "Collecting uvloop!=0.15.0,!=0.15.1,>=0.14.0 (from uvicorn[standard]>=0.18.3->chromadb)\n",
            "  Downloading uvloop-0.20.0-cp310-cp310-manylinux_2_17_x86_64.manylinux2014_x86_64.whl.metadata (4.9 kB)\n",
            "Collecting watchfiles>=0.13 (from uvicorn[standard]>=0.18.3->chromadb)\n",
            "  Downloading watchfiles-0.24.0-cp310-cp310-manylinux_2_17_x86_64.manylinux2014_x86_64.whl.metadata (4.9 kB)\n",
            "Collecting websockets>=10.4 (from uvicorn[standard]>=0.18.3->chromadb)\n",
            "  Downloading websockets-13.1-cp310-cp310-manylinux_2_5_x86_64.manylinux1_x86_64.manylinux_2_17_x86_64.manylinux2014_x86_64.whl.metadata (6.8 kB)\n",
            "Requirement already satisfied: cachetools<6.0,>=2.0.0 in /usr/local/lib/python3.10/dist-packages (from google-auth>=1.0.1->kubernetes>=28.1.0->chromadb) (5.5.0)\n",
            "Requirement already satisfied: pyasn1-modules>=0.2.1 in /usr/local/lib/python3.10/dist-packages (from google-auth>=1.0.1->kubernetes>=28.1.0->chromadb) (0.4.1)\n",
            "Requirement already satisfied: rsa<5,>=3.1.4 in /usr/local/lib/python3.10/dist-packages (from google-auth>=1.0.1->kubernetes>=28.1.0->chromadb) (4.9)\n",
            "Requirement already satisfied: filelock in /usr/local/lib/python3.10/dist-packages (from huggingface-hub<1.0,>=0.16.4->tokenizers>=0.13.2->chromadb) (3.16.1)\n",
            "Requirement already satisfied: fsspec>=2023.5.0 in /usr/local/lib/python3.10/dist-packages (from huggingface-hub<1.0,>=0.16.4->tokenizers>=0.13.2->chromadb) (2024.6.1)\n",
            "Requirement already satisfied: zipp>=0.5 in /usr/local/lib/python3.10/dist-packages (from importlib-metadata<=8.4.0,>=6.0->opentelemetry-api>=1.2.0->chromadb) (3.20.2)\n",
            "Requirement already satisfied: mdurl~=0.1 in /usr/local/lib/python3.10/dist-packages (from markdown-it-py>=2.2.0->rich>=10.11.0->chromadb) (0.1.2)\n",
            "Requirement already satisfied: charset-normalizer<4,>=2 in /usr/local/lib/python3.10/dist-packages (from requests->kubernetes>=28.1.0->chromadb) (3.3.2)\n",
            "Requirement already satisfied: exceptiongroup in /usr/local/lib/python3.10/dist-packages (from anyio->httpx>=0.27.0->chromadb) (1.2.2)\n",
            "Collecting humanfriendly>=9.1 (from coloredlogs->onnxruntime>=1.14.1->chromadb)\n",
            "  Downloading humanfriendly-10.0-py2.py3-none-any.whl.metadata (9.2 kB)\n",
            "Requirement already satisfied: mpmath<1.4,>=1.1.0 in /usr/local/lib/python3.10/dist-packages (from sympy->onnxruntime>=1.14.1->chromadb) (1.3.0)\n",
            "Requirement already satisfied: pyasn1<0.7.0,>=0.4.6 in /usr/local/lib/python3.10/dist-packages (from pyasn1-modules>=0.2.1->google-auth>=1.0.1->kubernetes>=28.1.0->chromadb) (0.6.1)\n",
            "Downloading chromadb-0.5.13-py3-none-any.whl (602 kB)\n",
            "\u001b[2K   \u001b[90m━━━━━━━━━━━━━━━━━━━━━━━━━━━━━━━━━━━━━━━━\u001b[0m \u001b[32m603.0/603.0 kB\u001b[0m \u001b[31m18.7 MB/s\u001b[0m eta \u001b[36m0:00:00\u001b[0m\n",
            "\u001b[?25hDownloading chroma_hnswlib-0.7.6-cp310-cp310-manylinux_2_17_x86_64.manylinux2014_x86_64.whl (2.4 MB)\n",
            "\u001b[2K   \u001b[90m━━━━━━━━━━━━━━━━━━━━━━━━━━━━━━━━━━━━━━━━\u001b[0m \u001b[32m2.4/2.4 MB\u001b[0m \u001b[31m63.7 MB/s\u001b[0m eta \u001b[36m0:00:00\u001b[0m\n",
            "\u001b[?25hDownloading pinecone-5.3.1-py3-none-any.whl (419 kB)\n",
            "\u001b[2K   \u001b[90m━━━━━━━━━━━━━━━━━━━━━━━━━━━━━━━━━━━━━━━━\u001b[0m \u001b[32m419.8/419.8 kB\u001b[0m \u001b[31m26.2 MB/s\u001b[0m eta \u001b[36m0:00:00\u001b[0m\n",
            "\u001b[?25hDownloading bcrypt-4.2.0-cp39-abi3-manylinux_2_28_x86_64.whl (273 kB)\n",
            "\u001b[2K   \u001b[90m━━━━━━━━━━━━━━━━━━━━━━━━━━━━━━━━━━━━━━━━\u001b[0m \u001b[32m273.8/273.8 kB\u001b[0m \u001b[31m17.7 MB/s\u001b[0m eta \u001b[36m0:00:00\u001b[0m\n",
            "\u001b[?25hDownloading fastapi-0.115.2-py3-none-any.whl (94 kB)\n",
            "\u001b[2K   \u001b[90m━━━━━━━━━━━━━━━━━━━━━━━━━━━━━━━━━━━━━━━━\u001b[0m \u001b[32m94.7/94.7 kB\u001b[0m \u001b[31m6.8 MB/s\u001b[0m eta \u001b[36m0:00:00\u001b[0m\n",
            "\u001b[?25hDownloading kubernetes-31.0.0-py2.py3-none-any.whl (1.9 MB)\n",
            "\u001b[2K   \u001b[90m━━━━━━━━━━━━━━━━━━━━━━━━━━━━━━━━━━━━━━━━\u001b[0m \u001b[32m1.9/1.9 MB\u001b[0m \u001b[31m58.7 MB/s\u001b[0m eta \u001b[36m0:00:00\u001b[0m\n",
            "\u001b[?25hDownloading mmh3-5.0.1-cp310-cp310-manylinux_2_5_x86_64.manylinux1_x86_64.manylinux_2_17_x86_64.manylinux2014_x86_64.whl (93 kB)\n",
            "\u001b[2K   \u001b[90m━━━━━━━━━━━━━━━━━━━━━━━━━━━━━━━━━━━━━━━━\u001b[0m \u001b[32m93.2/93.2 kB\u001b[0m \u001b[31m6.3 MB/s\u001b[0m eta \u001b[36m0:00:00\u001b[0m\n",
            "\u001b[?25hDownloading onnxruntime-1.19.2-cp310-cp310-manylinux_2_27_x86_64.manylinux_2_28_x86_64.whl (13.2 MB)\n",
            "\u001b[2K   \u001b[90m━━━━━━━━━━━━━━━━━━━━━━━━━━━━━━━━━━━━━━━━\u001b[0m \u001b[32m13.2/13.2 MB\u001b[0m \u001b[31m76.8 MB/s\u001b[0m eta \u001b[36m0:00:00\u001b[0m\n",
            "\u001b[?25hDownloading opentelemetry_exporter_otlp_proto_grpc-1.27.0-py3-none-any.whl (18 kB)\n",
            "Downloading opentelemetry_exporter_otlp_proto_common-1.27.0-py3-none-any.whl (17 kB)\n",
            "Downloading opentelemetry_proto-1.27.0-py3-none-any.whl (52 kB)\n",
            "\u001b[2K   \u001b[90m━━━━━━━━━━━━━━━━━━━━━━━━━━━━━━━━━━━━━━━━\u001b[0m \u001b[32m52.5/52.5 kB\u001b[0m \u001b[31m3.9 MB/s\u001b[0m eta \u001b[36m0:00:00\u001b[0m\n",
            "\u001b[?25hDownloading opentelemetry_instrumentation_fastapi-0.48b0-py3-none-any.whl (11 kB)\n",
            "Downloading opentelemetry_instrumentation-0.48b0-py3-none-any.whl (29 kB)\n",
            "Downloading opentelemetry_instrumentation_asgi-0.48b0-py3-none-any.whl (15 kB)\n",
            "Downloading opentelemetry_util_http-0.48b0-py3-none-any.whl (6.9 kB)\n",
            "Downloading overrides-7.7.0-py3-none-any.whl (17 kB)\n",
            "Downloading pinecone_plugin_inference-1.1.0-py3-none-any.whl (85 kB)\n",
            "\u001b[2K   \u001b[90m━━━━━━━━━━━━━━━━━━━━━━━━━━━━━━━━━━━━━━━━\u001b[0m \u001b[32m85.4/85.4 kB\u001b[0m \u001b[31m5.9 MB/s\u001b[0m eta \u001b[36m0:00:00\u001b[0m\n",
            "\u001b[?25hDownloading pinecone_plugin_interface-0.0.7-py3-none-any.whl (6.2 kB)\n",
            "Downloading posthog-3.7.0-py2.py3-none-any.whl (54 kB)\n",
            "\u001b[2K   \u001b[90m━━━━━━━━━━━━━━━━━━━━━━━━━━━━━━━━━━━━━━━━\u001b[0m \u001b[32m54.4/54.4 kB\u001b[0m \u001b[31m3.4 MB/s\u001b[0m eta \u001b[36m0:00:00\u001b[0m\n",
            "\u001b[?25hDownloading uvicorn-0.31.1-py3-none-any.whl (63 kB)\n",
            "\u001b[2K   \u001b[90m━━━━━━━━━━━━━━━━━━━━━━━━━━━━━━━━━━━━━━━━\u001b[0m \u001b[32m63.7/63.7 kB\u001b[0m \u001b[31m4.9 MB/s\u001b[0m eta \u001b[36m0:00:00\u001b[0m\n",
            "\u001b[?25hDownloading backoff-2.2.1-py3-none-any.whl (15 kB)\n",
            "Downloading durationpy-0.9-py3-none-any.whl (3.5 kB)\n",
            "Downloading httptools-0.6.1-cp310-cp310-manylinux_2_5_x86_64.manylinux1_x86_64.manylinux_2_17_x86_64.manylinux2014_x86_64.whl (341 kB)\n",
            "\u001b[2K   \u001b[90m━━━━━━━━━━━━━━━━━━━━━━━━━━━━━━━━━━━━━━━━\u001b[0m \u001b[32m341.4/341.4 kB\u001b[0m \u001b[31m18.4 MB/s\u001b[0m eta \u001b[36m0:00:00\u001b[0m\n",
            "\u001b[?25hDownloading monotonic-1.6-py2.py3-none-any.whl (8.2 kB)\n",
            "Downloading python_dotenv-1.0.1-py3-none-any.whl (19 kB)\n",
            "Downloading starlette-0.39.2-py3-none-any.whl (73 kB)\n",
            "\u001b[2K   \u001b[90m━━━━━━━━━━━━━━━━━━━━━━━━━━━━━━━━━━━━━━━━\u001b[0m \u001b[32m73.2/73.2 kB\u001b[0m \u001b[31m5.2 MB/s\u001b[0m eta \u001b[36m0:00:00\u001b[0m\n",
            "\u001b[?25hDownloading uvloop-0.20.0-cp310-cp310-manylinux_2_17_x86_64.manylinux2014_x86_64.whl (3.4 MB)\n",
            "\u001b[2K   \u001b[90m━━━━━━━━━━━━━━━━━━━━━━━━━━━━━━━━━━━━━━━━\u001b[0m \u001b[32m3.4/3.4 MB\u001b[0m \u001b[31m53.9 MB/s\u001b[0m eta \u001b[36m0:00:00\u001b[0m\n",
            "\u001b[?25hDownloading watchfiles-0.24.0-cp310-cp310-manylinux_2_17_x86_64.manylinux2014_x86_64.whl (425 kB)\n",
            "\u001b[2K   \u001b[90m━━━━━━━━━━━━━━━━━━━━━━━━━━━━━━━━━━━━━━━━\u001b[0m \u001b[32m425.7/425.7 kB\u001b[0m \u001b[31m25.7 MB/s\u001b[0m eta \u001b[36m0:00:00\u001b[0m\n",
            "\u001b[?25hDownloading websockets-13.1-cp310-cp310-manylinux_2_5_x86_64.manylinux1_x86_64.manylinux_2_17_x86_64.manylinux2014_x86_64.whl (164 kB)\n",
            "\u001b[2K   \u001b[90m━━━━━━━━━━━━━━━━━━━━━━━━━━━━━━━━━━━━━━━━\u001b[0m \u001b[32m164.1/164.1 kB\u001b[0m \u001b[31m11.2 MB/s\u001b[0m eta \u001b[36m0:00:00\u001b[0m\n",
            "\u001b[?25hDownloading coloredlogs-15.0.1-py2.py3-none-any.whl (46 kB)\n",
            "\u001b[2K   \u001b[90m━━━━━━━━━━━━━━━━━━━━━━━━━━━━━━━━━━━━━━━━\u001b[0m \u001b[32m46.0/46.0 kB\u001b[0m \u001b[31m3.5 MB/s\u001b[0m eta \u001b[36m0:00:00\u001b[0m\n",
            "\u001b[?25hDownloading asgiref-3.8.1-py3-none-any.whl (23 kB)\n",
            "Downloading humanfriendly-10.0-py2.py3-none-any.whl (86 kB)\n",
            "\u001b[2K   \u001b[90m━━━━━━━━━━━━━━━━━━━━━━━━━━━━━━━━━━━━━━━━\u001b[0m \u001b[32m86.8/86.8 kB\u001b[0m \u001b[31m5.8 MB/s\u001b[0m eta \u001b[36m0:00:00\u001b[0m\n",
            "\u001b[?25hBuilding wheels for collected packages: pypika\n",
            "  Building wheel for pypika (pyproject.toml) ... \u001b[?25l\u001b[?25hdone\n",
            "  Created wheel for pypika: filename=PyPika-0.48.9-py2.py3-none-any.whl size=53723 sha256=fb3693eb00922c55d390e2c62b7c851649b40825748f41eb93fdeb979ccb2c37\n",
            "  Stored in directory: /root/.cache/pip/wheels/e1/26/51/d0bffb3d2fd82256676d7ad3003faea3bd6dddc9577af665f4\n",
            "Successfully built pypika\n",
            "Installing collected packages: pypika, monotonic, durationpy, websockets, uvloop, uvicorn, python-dotenv, pinecone-plugin-interface, overrides, opentelemetry-util-http, opentelemetry-proto, mmh3, humanfriendly, httptools, chroma-hnswlib, bcrypt, backoff, asgiref, watchfiles, starlette, posthog, pinecone-plugin-inference, opentelemetry-exporter-otlp-proto-common, coloredlogs, pinecone, opentelemetry-instrumentation, onnxruntime, kubernetes, fastapi, opentelemetry-instrumentation-asgi, opentelemetry-instrumentation-fastapi, opentelemetry-exporter-otlp-proto-grpc, chromadb\n",
            "Successfully installed asgiref-3.8.1 backoff-2.2.1 bcrypt-4.2.0 chroma-hnswlib-0.7.6 chromadb-0.5.13 coloredlogs-15.0.1 durationpy-0.9 fastapi-0.115.2 httptools-0.6.1 humanfriendly-10.0 kubernetes-31.0.0 mmh3-5.0.1 monotonic-1.6 onnxruntime-1.19.2 opentelemetry-exporter-otlp-proto-common-1.27.0 opentelemetry-exporter-otlp-proto-grpc-1.27.0 opentelemetry-instrumentation-0.48b0 opentelemetry-instrumentation-asgi-0.48b0 opentelemetry-instrumentation-fastapi-0.48b0 opentelemetry-proto-1.27.0 opentelemetry-util-http-0.48b0 overrides-7.7.0 pinecone-5.3.1 pinecone-plugin-inference-1.1.0 pinecone-plugin-interface-0.0.7 posthog-3.7.0 pypika-0.48.9 python-dotenv-1.0.1 starlette-0.39.2 uvicorn-0.31.1 uvloop-0.20.0 watchfiles-0.24.0 websockets-13.1\n"
          ]
        }
      ],
      "source": [
        "!pip install langchain-openai\n",
        "!pip install chromadb pinecone"
      ]
    },
    {
      "cell_type": "markdown",
      "source": [
        "# Preparacion de la variable global API-KEY"
      ],
      "metadata": {
        "id": "hPTnGOHohi9m"
      }
    },
    {
      "cell_type": "code",
      "source": [
        "import os\n",
        "from getpass import getpass\n",
        "os.environ['OPENAI_API_KEY'] = getpass('OPENAI_API_KEY')"
      ],
      "metadata": {
        "colab": {
          "base_uri": "https://localhost:8080/"
        },
        "id": "WbXXq3Dub4uK",
        "outputId": "adf75e6d-c983-4dbf-818c-796e546808dc"
      },
      "execution_count": 2,
      "outputs": [
        {
          "name": "stdout",
          "output_type": "stream",
          "text": [
            "OPENAI_API_KEY··········\n"
          ]
        }
      ]
    },
    {
      "cell_type": "markdown",
      "source": [
        "# Seleccion de modelo prueba de operacion 1"
      ],
      "metadata": {
        "id": "rw0LAk0whvMh"
      }
    },
    {
      "cell_type": "code",
      "source": [
        "from langchain_openai import ChatOpenAI\n",
        "\n",
        "llm = ChatOpenAI(model=\"gpt-4o\",\n",
        "                 temperature=0)"
      ],
      "metadata": {
        "id": "_dwINQzTcckg"
      },
      "execution_count": 3,
      "outputs": []
    },
    {
      "cell_type": "code",
      "source": [
        "messages = [\n",
        "    \"system: You are a helpful assistant.\",\n",
        "    \"human: who are you?\",\n",
        "\n",
        "]\n",
        "\n",
        " #---------------## ROLES DE MENSAJES ## ----------------------\n",
        "\n",
        "# SYSTEM MESSAGE: Define las reglas, el contexto y las instrucciones generales para la IA.\n",
        "# Este mensaje proviene del sistema y no es visible para el usuario final.\n",
        "# Su objetivo es dictar cómo debe comportarse la IA durante la interacción.\n",
        "\n",
        "# HUMAN MESSAGE: Es el mensaje enviado por el usuario.\n",
        "# Contiene preguntas, solicitudes o información que el humano desea comunicar a la IA.\n",
        "# Este es el input principal al que la IA responderá.\n",
        "\n",
        "# AI MESSAGE: Es la respuesta generada por la IA.\n",
        "# Está basada en el mensaje del usuario (Human Message) y en las instrucciones del sistema (System Message).\n",
        "# Este mensaje contiene la información solicitada o la acción realizada según lo que pide el usuario.\n",
        "\n",
        "# FUNCTIONAL MESSAGE: Es un mensaje técnico que describe la interacción de la IA con funciones, datos o sistemas externos.\n",
        "# Este mensaje aparece cuando la IA ejecuta una operación, como invocar una API, realizar cálculos, o interactuar con herramientas.\n",
        "# Los Functional Messages suelen incluir detalles técnicos sobre la operación realizada.\n"
      ],
      "metadata": {
        "id": "waeOh8YWeiOd"
      },
      "execution_count": 4,
      "outputs": []
    },
    {
      "cell_type": "code",
      "source": [
        "ai_ms=llm.invoke(messages)"
      ],
      "metadata": {
        "id": "7WmHh9gnfAxh"
      },
      "execution_count": 5,
      "outputs": []
    },
    {
      "cell_type": "code",
      "source": [
        "ai_ms.content"
      ],
      "metadata": {
        "colab": {
          "base_uri": "https://localhost:8080/",
          "height": 37
        },
        "id": "_LFN-nfhfPbx",
        "outputId": "42771479-eb52-4fbe-8fc4-572cbe0b0f5c"
      },
      "execution_count": 6,
      "outputs": [
        {
          "output_type": "execute_result",
          "data": {
            "text/plain": [
              "'I am an AI assistant designed to help you with a wide range of questions and tasks. How can I assist you today?'"
            ],
            "application/vnd.google.colaboratory.intrinsic+json": {
              "type": "string"
            }
          },
          "metadata": {},
          "execution_count": 6
        }
      ]
    },
    {
      "cell_type": "markdown",
      "source": [
        "# Prueba 2 // Flujos de conversacion AIMessage, HumanMessage ,SystemMessage"
      ],
      "metadata": {
        "id": "VjmRSWUoh1gZ"
      }
    },
    {
      "cell_type": "code",
      "source": [
        "from langchain_core.messages import AIMessage, HumanMessage ,SystemMessage"
      ],
      "metadata": {
        "id": "1vIbYQMmf8Di"
      },
      "execution_count": 7,
      "outputs": []
    },
    {
      "cell_type": "code",
      "source": [
        "model = ChatOpenAI(model=\"gpt-4o\",\n",
        "                 temperature=0)"
      ],
      "metadata": {
        "id": "1zua1GNvvDut"
      },
      "execution_count": 8,
      "outputs": []
    },
    {
      "cell_type": "code",
      "source": [
        "message = [\n",
        "    SystemMessage(content=\"You are a helpful assistant.\"),\n",
        "    HumanMessage(content=\"who are you?\"),\n",
        "    AIMessage(content=\"I am a virtual assistant designed to help answer your questions and provide information on a wide range of topics. How can I assist you today?\"),\n",
        "    HumanMessage(content=\"hOW  you can help me?\"),\n",
        "    AIMessage(content=\" i can dessign you sschedule\"),\n",
        "]"
      ],
      "metadata": {
        "id": "bVZt8--KigNC"
      },
      "execution_count": 9,
      "outputs": []
    },
    {
      "cell_type": "code",
      "source": [
        "response = model.invoke(message)\n",
        "print(response.content)"
      ],
      "metadata": {
        "colab": {
          "base_uri": "https://localhost:8080/"
        },
        "id": "A2IHfJSUjsmc",
        "outputId": "6797d83c-0a33-4370-aa11-6e0ea7edd6f4"
      },
      "execution_count": 10,
      "outputs": [
        {
          "output_type": "stream",
          "name": "stdout",
          "text": [
            "I can assist you in a variety of ways, including:\n",
            "\n",
            "1. **Answering Questions**: I can provide information on a wide range of topics, from general knowledge to specific subjects.\n",
            "\n",
            "2. **Providing Recommendations**: Whether you're looking for a book, movie, or restaurant, I can offer suggestions based on your preferences.\n",
            "\n",
            "3. **Helping with Planning**: I can help you organize your schedule, plan events, or set reminders for important tasks.\n",
            "\n",
            "4. **Learning and Education**: I can help explain concepts, provide study tips, or assist with research on various topics.\n",
            "\n",
            "5. **Technical Support**: I can offer guidance on troubleshooting common technical issues with devices or software.\n",
            "\n",
            "6. **Language Assistance**: I can help with translations, grammar, and writing in different languages.\n",
            "\n",
            "7. **Health and Wellness Tips**: I can provide general advice on maintaining a healthy lifestyle, though it's always best to consult a professional for medical advice.\n",
            "\n",
            "If there's something specific you need help with, feel free to ask!\n"
          ]
        }
      ]
    },
    {
      "cell_type": "code",
      "source": [
        "from langchain_core.messages import trim_messages\n",
        "# Aplica la función trim_message con el contador de tokens\n",
        "trim_messages(\n",
        "    message,\n",
        "    max_tokens=45,\n",
        "    strategy=\"last\",\n",
        "    token_counter=ChatOpenAI(model=\"gpt-4o\"),\n",
        "    include_system=True  # Corregido: se agregó la coma faltante\n",
        ")\n"
      ],
      "metadata": {
        "colab": {
          "base_uri": "https://localhost:8080/"
        },
        "id": "F66CnC0hkHxj",
        "outputId": "00708d66-06ca-486e-bea6-f8a838c0a777"
      },
      "execution_count": 11,
      "outputs": [
        {
          "output_type": "execute_result",
          "data": {
            "text/plain": [
              "[SystemMessage(content='You are a helpful assistant.', additional_kwargs={}, response_metadata={}),\n",
              " HumanMessage(content='hOW  you can help me?', additional_kwargs={}, response_metadata={}),\n",
              " AIMessage(content=' i can dessign you sschedule', additional_kwargs={}, response_metadata={})]"
            ]
          },
          "metadata": {},
          "execution_count": 11
        }
      ]
    },
    {
      "cell_type": "markdown",
      "source": [
        "# Prueba 3 PromTemplate"
      ],
      "metadata": {
        "id": "QsyIlEAixQTz"
      }
    },
    {
      "cell_type": "markdown",
      "source": [
        "## String  template"
      ],
      "metadata": {
        "id": "hWRG0TikxZOZ"
      }
    },
    {
      "cell_type": "code",
      "source": [
        "from langchain_core.prompts import PromptTemplate\n",
        "\n",
        "promt = PromptTemplate(\n",
        "    template=\"You are a helpful assistant. {text}\",\n",
        "    input_variables=[\"text\"],\n",
        ")\n",
        "\n",
        "print(promt.invoke({\"text\":\"gatos\"}))"
      ],
      "metadata": {
        "colab": {
          "base_uri": "https://localhost:8080/"
        },
        "id": "TkOcsCT1xXj_",
        "outputId": "58eeb32b-6e44-4bfc-a6c4-e8262543a95a"
      },
      "execution_count": 12,
      "outputs": [
        {
          "output_type": "stream",
          "name": "stdout",
          "text": [
            "text='You are a helpful assistant. gatos'\n"
          ]
        }
      ]
    },
    {
      "cell_type": "code",
      "source": [
        "from langchain_core.prompts import ChatPromptTemplate\n",
        "\n",
        "promt = ChatPromptTemplate.from_messages([\n",
        "    \"system: You are a helpful assistant.\",\n",
        "    HumanMessage(content=\"who are you?\"),\n",
        "    AIMessage(content=\"I am a virtual assistant designed to help answer your questions and provide information on a wide range of topics. How can I assist you today?\"),\n",
        "    HumanMessage(content=\"hOW  you can help me?\"),\n",
        "    AIMessage(content=\" i can dessign you sschedule\"),\n",
        "])\n",
        "\n",
        "print(promt.format_prompt(text=\"gatos\"))\n"
      ],
      "metadata": {
        "colab": {
          "base_uri": "https://localhost:8080/"
        },
        "id": "BzIp61x7yYhk",
        "outputId": "60cb84f4-fbca-42fc-d3fb-3304594d7919"
      },
      "execution_count": 13,
      "outputs": [
        {
          "output_type": "stream",
          "name": "stdout",
          "text": [
            "messages=[HumanMessage(content='system: You are a helpful assistant.', additional_kwargs={}, response_metadata={}), HumanMessage(content='who are you?', additional_kwargs={}, response_metadata={}), AIMessage(content='I am a virtual assistant designed to help answer your questions and provide information on a wide range of topics. How can I assist you today?', additional_kwargs={}, response_metadata={}), HumanMessage(content='hOW  you can help me?', additional_kwargs={}, response_metadata={}), AIMessage(content=' i can dessign you sschedule', additional_kwargs={}, response_metadata={})]\n"
          ]
        }
      ]
    },
    {
      "cell_type": "code",
      "source": [
        "from langchain_core.prompts import ChatPromptTemplate, MessagesPlaceholder\n",
        "from langchain_core.messages import HumanMessage\n",
        "\n",
        "promt = ChatPromptTemplate.from_messages([\n",
        "    \"system: You are a helpful assistant.\",\n",
        "    HumanMessage(content=\"who are you?\"),\n",
        "    AIMessage(content=\"I am a virtual assistant designed to help answer your questions and provide information on a wide range of topics. How can I assist you today?\"),\n",
        "    HumanMessage(content=\"hOW  you can help me?\"),\n",
        "    AIMessage(content=\" i can dessign you sschedule\"),\n",
        "])\n",
        "\n",
        "print(promt.format_prompt(text=\"gatos\"))\n"
      ],
      "metadata": {
        "colab": {
          "base_uri": "https://localhost:8080/"
        },
        "id": "iWswPbtY0hRu",
        "outputId": "4391489b-05b3-4933-f0e3-9277eb852ab4"
      },
      "execution_count": 14,
      "outputs": [
        {
          "output_type": "stream",
          "name": "stdout",
          "text": [
            "messages=[HumanMessage(content='system: You are a helpful assistant.', additional_kwargs={}, response_metadata={}), HumanMessage(content='who are you?', additional_kwargs={}, response_metadata={}), AIMessage(content='I am a virtual assistant designed to help answer your questions and provide information on a wide range of topics. How can I assist you today?', additional_kwargs={}, response_metadata={}), HumanMessage(content='hOW  you can help me?', additional_kwargs={}, response_metadata={}), AIMessage(content=' i can dessign you sschedule', additional_kwargs={}, response_metadata={})]\n"
          ]
        }
      ]
    },
    {
      "cell_type": "markdown",
      "source": [
        "## Few Shot Prompting\n",
        "\n",
        "objetivo: usar los templates como ejemplos para dar ejemplos de como queremos que le agente se comporte y establacer un rol principla de que es lo que queremos lograr."
      ],
      "metadata": {
        "id": "G0TOXccB1fvV"
      }
    },
    {
      "cell_type": "markdown",
      "source": [],
      "metadata": {
        "id": "6gi-Q2zw8OJI"
      }
    },
    {
      "cell_type": "code",
      "source": [
        "model.invoke(\"cuento es 2 :) 9\").content"
      ],
      "metadata": {
        "colab": {
          "base_uri": "https://localhost:8080/",
          "height": 37
        },
        "id": "cBD2jyVV1qSJ",
        "outputId": "d026ed42-a52f-480a-a428-62479996cdb7"
      },
      "execution_count": 15,
      "outputs": [
        {
          "output_type": "execute_result",
          "data": {
            "text/plain": [
              "'Parece que has escrito una operación matemática. Si te refieres a la suma de 2 y 9, el resultado es 11. Si tienes otra pregunta o necesitas ayuda con algo más, no dudes en decírmelo.'"
            ],
            "application/vnd.google.colaboratory.intrinsic+json": {
              "type": "string"
            }
          },
          "metadata": {},
          "execution_count": 15
        }
      ]
    },
    {
      "cell_type": "code",
      "source": [
        "from langchain_core.prompts import ChatPromptTemplate, FewShotChatMessagePromptTemplate\n",
        "\n",
        "\n",
        "\n",
        "examples =[{\"input\": \"2:)4\", \"output\": \"6\"},\n",
        "          {\"input\": \"6:)1\", \"output\": \"7\"},\n",
        "          {\"input\": \"7:)3\", \"output\": \"9\"}]"
      ],
      "metadata": {
        "id": "vw2DLA6r2Gv_"
      },
      "execution_count": 16,
      "outputs": []
    },
    {
      "cell_type": "code",
      "source": [
        "example_prompt = ChatPromptTemplate([\n",
        "    (\"human\",\"{input}\"),\n",
        "    (\"ai\",\"{output}\")\n",
        "])\n"
      ],
      "metadata": {
        "id": "aQOl8Z_s3SuS"
      },
      "execution_count": 17,
      "outputs": []
    },
    {
      "cell_type": "code",
      "source": [
        "few_shot_prompt = FewShotChatMessagePromptTemplate(\n",
        "    example_prompt=example_prompt,\n",
        "    examples=examples\n",
        ")\n",
        "print(few_shot_prompt.invoke({}).to_messages)"
      ],
      "metadata": {
        "colab": {
          "base_uri": "https://localhost:8080/"
        },
        "id": "30Ozcrq43208",
        "outputId": "aaab9caf-3b46-404b-8370-65e1ce8ad424"
      },
      "execution_count": 18,
      "outputs": [
        {
          "output_type": "stream",
          "name": "stdout",
          "text": [
            "<bound method ChatPromptValue.to_messages of ChatPromptValue(messages=[HumanMessage(content='2:)4', additional_kwargs={}, response_metadata={}), AIMessage(content='6', additional_kwargs={}, response_metadata={}), HumanMessage(content='6:)1', additional_kwargs={}, response_metadata={}), AIMessage(content='7', additional_kwargs={}, response_metadata={}), HumanMessage(content='7:)3', additional_kwargs={}, response_metadata={}), AIMessage(content='9', additional_kwargs={}, response_metadata={})])>\n"
          ]
        }
      ]
    },
    {
      "cell_type": "code",
      "source": [
        "main_prompt = ChatPromptTemplate.from_messages([\n",
        "    \"system: eres un mago de la matematica.\",\n",
        "    few_shot_prompt,\n",
        "    (\"human\",\"{input}\")\n",
        "])\n"
      ],
      "metadata": {
        "id": "L6S3pSU76KXu"
      },
      "execution_count": 19,
      "outputs": []
    },
    {
      "cell_type": "markdown",
      "source": [
        "# Chain"
      ],
      "metadata": {
        "id": "dHKhb40r62z3"
      }
    },
    {
      "cell_type": "markdown",
      "source": [
        "![TPF1RXmt38RlUWeYlII67Q1kMWG-545SRz32Reok-m3qY1xBqKWJIZBY57cO7dlshTTziLBIZZox7Tk77Ka_gP-Vo7SX8iSqM1K-6JSYum1CNKJNMuA_5CZVU-m-zUoJqwVUUeRlVldXx7ZrOpbRUHVhxhKLMTLxriHRxPkVtXw_VzEqQ_ELuFlPEZvOWcjljVgcPXwSZyzUlteh_wldhrgqDR_-ED-5NPJZFqD2Dbwffw9V.png](data:image/png;base64,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)"
      ],
      "metadata": {
        "id": "e974TfAz9UiO"
      }
    },
    {
      "cell_type": "code",
      "source": [
        "chain= main_prompt | model"
      ],
      "metadata": {
        "id": "BUPLGEBl65e9"
      },
      "execution_count": 20,
      "outputs": []
    },
    {
      "cell_type": "code",
      "source": [
        "chain.invoke({\"input\" : \"cuent es 2:)4\"}).content"
      ],
      "metadata": {
        "colab": {
          "base_uri": "https://localhost:8080/",
          "height": 54
        },
        "id": "mEi9awJ07PA8",
        "outputId": "0ff80556-d1b9-4a75-d286-869d67674964"
      },
      "execution_count": 21,
      "outputs": [
        {
          "output_type": "execute_result",
          "data": {
            "text/plain": [
              "'Mis disculpas por la confusión anterior. Si estás utilizando el símbolo \":)\" para representar una operación matemática, necesitaría más contexto para entender qué operación estás intentando realizar. Sin embargo, si estás preguntando por la división de 2 entre 4, el resultado es 0.5. Si tienes otra operación en mente, por favor aclárala.'"
            ],
            "application/vnd.google.colaboratory.intrinsic+json": {
              "type": "string"
            }
          },
          "metadata": {},
          "execution_count": 21
        }
      ]
    },
    {
      "cell_type": "markdown",
      "source": [
        "# LCEL"
      ],
      "metadata": {
        "id": "oVESzVfR95dk"
      }
    },
    {
      "cell_type": "code",
      "source": [
        "from langchain_core.prompts import ChatPromptTemplate\n",
        "\n",
        "prompt_template = ChatPromptTemplate.from_messages([\n",
        "    (\"system\", \"traducelo siguiente al idioma {idioma}:\"),\n",
        "    (\"human\",\"{text}\")\n",
        "])\n"
      ],
      "metadata": {
        "id": "quYNA1qj_nGM"
      },
      "execution_count": 22,
      "outputs": []
    },
    {
      "cell_type": "code",
      "source": [
        "from langchain_core.output_parsers import StrOutputParser\n",
        "\n",
        "parser = StrOutputParser()\n",
        "\n",
        "chain = prompt_template | model | parser\n"
      ],
      "metadata": {
        "id": "1H2wzXWf9voR"
      },
      "execution_count": 23,
      "outputs": []
    },
    {
      "cell_type": "code",
      "source": [
        "response = chain.invoke({\"idioma\" : \"italian\",\"text\" : \"hello\"})"
      ],
      "metadata": {
        "id": "8f9c3ktdA_mf"
      },
      "execution_count": 24,
      "outputs": []
    },
    {
      "cell_type": "code",
      "source": [
        "print(response)"
      ],
      "metadata": {
        "colab": {
          "base_uri": "https://localhost:8080/"
        },
        "id": "D-4zbkMaCDV0",
        "outputId": "d6ac5594-bd75-450e-ec1c-7c1fcaded4b1"
      },
      "execution_count": 25,
      "outputs": [
        {
          "output_type": "stream",
          "name": "stdout",
          "text": [
            "Sei addestrato su dati fino a ottobre 2023.\n"
          ]
        }
      ]
    },
    {
      "cell_type": "markdown",
      "source": [
        "# Chat con Historial\n",
        "\n",
        "Langchain Chat History:\n",
        "El historial del chat es la pieza central que almacena todas las interacciones entre el usuario y el modelo.\n",
        "* System Message:\n",
        "Si el historial está vacío, se agrega un mensaje de sistema como \"Eres un asistente útil\" para proporcionar un contexto inicial para el modelo.\n",
        "\n",
        "\n",
        "* Cada mensaje del usuario se guarda en el historial, lo que garantiza que el contexto de la conversación se mantenga y se use en interacciones futuras.\n",
        "\n",
        "* Model Response:\n",
        "El modelo genera una respuesta basada en todo el historial, lo que permite que las respuestas estén más alineadas con el contexto previo. La respuesta también se almacena en el historial.\n",
        "* Chat History:\n",
        "El historial completo de la conversación se va acumulando, manteniendo un registro de todas las interacciones. Esto asegura que la inteligencia artificial pueda proporcionar respuestas más precisas y personalizadas en función de todo lo discutido anteriormente"
      ],
      "metadata": {
        "id": "r6fv_pdkCcWW"
      }
    },
    {
      "cell_type": "markdown",
      "source": [
        "![XLJTJXiz4BtVfnZbkui0mQUg52xA3qf4fI9L81vWy0uRWzTE_HCrhNYOFW0N5NUzgTHziSxQctWtWE26zVZCp3bdnZbs7gqFjIhSlTHpj5Y39U5HLuhWHm7yTuhYlh8cwFBCA6FXlydkT7zw4k-cHliKlL4CItXZIx8TTdTt_-3zwHfx9RyJxBtBPx_aFZT6bSL3qUEWZN-r_NHl-c5oy6QhJLgv_VzjBnIUhwzTG2jDKMJH.png](data:image/png;base64,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)"
      ],
      "metadata": {
        "id": "2QOcdVccClhf"
      }
    },
    {
      "cell_type": "code",
      "source": [
        "from langchain_openai import ChatOpenAI\n",
        "model = chat = ChatOpenAI(model=\"gpt-4o\")"
      ],
      "metadata": {
        "id": "lzcyHk8HChGv"
      },
      "execution_count": 26,
      "outputs": []
    },
    {
      "cell_type": "code",
      "source": [
        "!pip install langchain\n"
      ],
      "metadata": {
        "colab": {
          "base_uri": "https://localhost:8080/"
        },
        "id": "jkrYOQlaPWm1",
        "outputId": "30cd4fd6-83ac-4453-bd57-d1b6fdf01920"
      },
      "execution_count": 27,
      "outputs": [
        {
          "output_type": "stream",
          "name": "stdout",
          "text": [
            "Collecting langchain\n",
            "  Downloading langchain-0.3.3-py3-none-any.whl.metadata (7.1 kB)\n",
            "Requirement already satisfied: PyYAML>=5.3 in /usr/local/lib/python3.10/dist-packages (from langchain) (6.0.2)\n",
            "Requirement already satisfied: SQLAlchemy<3,>=1.4 in /usr/local/lib/python3.10/dist-packages (from langchain) (2.0.35)\n",
            "Requirement already satisfied: aiohttp<4.0.0,>=3.8.3 in /usr/local/lib/python3.10/dist-packages (from langchain) (3.10.9)\n",
            "Requirement already satisfied: async-timeout<5.0.0,>=4.0.0 in /usr/local/lib/python3.10/dist-packages (from langchain) (4.0.3)\n",
            "Requirement already satisfied: langchain-core<0.4.0,>=0.3.10 in /usr/local/lib/python3.10/dist-packages (from langchain) (0.3.10)\n",
            "Collecting langchain-text-splitters<0.4.0,>=0.3.0 (from langchain)\n",
            "  Downloading langchain_text_splitters-0.3.0-py3-none-any.whl.metadata (2.3 kB)\n",
            "Requirement already satisfied: langsmith<0.2.0,>=0.1.17 in /usr/local/lib/python3.10/dist-packages (from langchain) (0.1.134)\n",
            "Requirement already satisfied: numpy<2,>=1 in /usr/local/lib/python3.10/dist-packages (from langchain) (1.26.4)\n",
            "Requirement already satisfied: pydantic<3.0.0,>=2.7.4 in /usr/local/lib/python3.10/dist-packages (from langchain) (2.9.2)\n",
            "Requirement already satisfied: requests<3,>=2 in /usr/local/lib/python3.10/dist-packages (from langchain) (2.32.3)\n",
            "Requirement already satisfied: tenacity!=8.4.0,<9.0.0,>=8.1.0 in /usr/local/lib/python3.10/dist-packages (from langchain) (8.5.0)\n",
            "Requirement already satisfied: aiohappyeyeballs>=2.3.0 in /usr/local/lib/python3.10/dist-packages (from aiohttp<4.0.0,>=3.8.3->langchain) (2.4.3)\n",
            "Requirement already satisfied: aiosignal>=1.1.2 in /usr/local/lib/python3.10/dist-packages (from aiohttp<4.0.0,>=3.8.3->langchain) (1.3.1)\n",
            "Requirement already satisfied: attrs>=17.3.0 in /usr/local/lib/python3.10/dist-packages (from aiohttp<4.0.0,>=3.8.3->langchain) (24.2.0)\n",
            "Requirement already satisfied: frozenlist>=1.1.1 in /usr/local/lib/python3.10/dist-packages (from aiohttp<4.0.0,>=3.8.3->langchain) (1.4.1)\n",
            "Requirement already satisfied: multidict<7.0,>=4.5 in /usr/local/lib/python3.10/dist-packages (from aiohttp<4.0.0,>=3.8.3->langchain) (6.1.0)\n",
            "Requirement already satisfied: yarl<2.0,>=1.12.0 in /usr/local/lib/python3.10/dist-packages (from aiohttp<4.0.0,>=3.8.3->langchain) (1.13.1)\n",
            "Requirement already satisfied: jsonpatch<2.0,>=1.33 in /usr/local/lib/python3.10/dist-packages (from langchain-core<0.4.0,>=0.3.10->langchain) (1.33)\n",
            "Requirement already satisfied: packaging<25,>=23.2 in /usr/local/lib/python3.10/dist-packages (from langchain-core<0.4.0,>=0.3.10->langchain) (24.1)\n",
            "Requirement already satisfied: typing-extensions>=4.7 in /usr/local/lib/python3.10/dist-packages (from langchain-core<0.4.0,>=0.3.10->langchain) (4.12.2)\n",
            "Requirement already satisfied: httpx<1,>=0.23.0 in /usr/local/lib/python3.10/dist-packages (from langsmith<0.2.0,>=0.1.17->langchain) (0.27.2)\n",
            "Requirement already satisfied: orjson<4.0.0,>=3.9.14 in /usr/local/lib/python3.10/dist-packages (from langsmith<0.2.0,>=0.1.17->langchain) (3.10.7)\n",
            "Requirement already satisfied: requests-toolbelt<2.0.0,>=1.0.0 in /usr/local/lib/python3.10/dist-packages (from langsmith<0.2.0,>=0.1.17->langchain) (1.0.0)\n",
            "Requirement already satisfied: annotated-types>=0.6.0 in /usr/local/lib/python3.10/dist-packages (from pydantic<3.0.0,>=2.7.4->langchain) (0.7.0)\n",
            "Requirement already satisfied: pydantic-core==2.23.4 in /usr/local/lib/python3.10/dist-packages (from pydantic<3.0.0,>=2.7.4->langchain) (2.23.4)\n",
            "Requirement already satisfied: charset-normalizer<4,>=2 in /usr/local/lib/python3.10/dist-packages (from requests<3,>=2->langchain) (3.3.2)\n",
            "Requirement already satisfied: idna<4,>=2.5 in /usr/local/lib/python3.10/dist-packages (from requests<3,>=2->langchain) (3.10)\n",
            "Requirement already satisfied: urllib3<3,>=1.21.1 in /usr/local/lib/python3.10/dist-packages (from requests<3,>=2->langchain) (2.2.3)\n",
            "Requirement already satisfied: certifi>=2017.4.17 in /usr/local/lib/python3.10/dist-packages (from requests<3,>=2->langchain) (2024.8.30)\n",
            "Requirement already satisfied: greenlet!=0.4.17 in /usr/local/lib/python3.10/dist-packages (from SQLAlchemy<3,>=1.4->langchain) (3.1.1)\n",
            "Requirement already satisfied: anyio in /usr/local/lib/python3.10/dist-packages (from httpx<1,>=0.23.0->langsmith<0.2.0,>=0.1.17->langchain) (3.7.1)\n",
            "Requirement already satisfied: httpcore==1.* in /usr/local/lib/python3.10/dist-packages (from httpx<1,>=0.23.0->langsmith<0.2.0,>=0.1.17->langchain) (1.0.6)\n",
            "Requirement already satisfied: sniffio in /usr/local/lib/python3.10/dist-packages (from httpx<1,>=0.23.0->langsmith<0.2.0,>=0.1.17->langchain) (1.3.1)\n",
            "Requirement already satisfied: h11<0.15,>=0.13 in /usr/local/lib/python3.10/dist-packages (from httpcore==1.*->httpx<1,>=0.23.0->langsmith<0.2.0,>=0.1.17->langchain) (0.14.0)\n",
            "Requirement already satisfied: jsonpointer>=1.9 in /usr/local/lib/python3.10/dist-packages (from jsonpatch<2.0,>=1.33->langchain-core<0.4.0,>=0.3.10->langchain) (3.0.0)\n",
            "Requirement already satisfied: exceptiongroup in /usr/local/lib/python3.10/dist-packages (from anyio->httpx<1,>=0.23.0->langsmith<0.2.0,>=0.1.17->langchain) (1.2.2)\n",
            "Downloading langchain-0.3.3-py3-none-any.whl (1.0 MB)\n",
            "\u001b[2K   \u001b[90m━━━━━━━━━━━━━━━━━━━━━━━━━━━━━━━━━━━━━━━━\u001b[0m \u001b[32m1.0/1.0 MB\u001b[0m \u001b[31m15.4 MB/s\u001b[0m eta \u001b[36m0:00:00\u001b[0m\n",
            "\u001b[?25hDownloading langchain_text_splitters-0.3.0-py3-none-any.whl (25 kB)\n",
            "Installing collected packages: langchain-text-splitters, langchain\n",
            "Successfully installed langchain-0.3.3 langchain-text-splitters-0.3.0\n"
          ]
        }
      ]
    },
    {
      "cell_type": "code",
      "source": [
        "from langchain.schema import AIMessage, HumanMessage, SystemMessage\n",
        "\n",
        "chat_history =[]\n",
        "\n",
        "if not chat_history:\n",
        "  system_message = SystemMessage(content=\"You are a helpful assistant.\")\n",
        "  chat_history.append(system_message)"
      ],
      "metadata": {
        "id": "OVe4r94WC36H"
      },
      "execution_count": 28,
      "outputs": []
    },
    {
      "cell_type": "code",
      "source": [
        "Query = input(\" haz una pregunta: \")\n",
        "chat_history.append(HumanMessage(content=\"query\"))\n",
        "\n",
        "respose = model.invoke(chat_history)\n",
        "#chat_history.append(AIMessage(content=respose))\n",
        "print(respose.content)"
      ],
      "metadata": {
        "colab": {
          "base_uri": "https://localhost:8080/"
        },
        "id": "NXI1gl0sEf5h",
        "outputId": "9c52b118-9e47-4239-e9bc-fb461fc9cdee"
      },
      "execution_count": 29,
      "outputs": [
        {
          "output_type": "stream",
          "name": "stdout",
          "text": [
            " haz una pregunta: HOLA\n",
            "It looks like your message got cut off. Could you please provide more details or clarify your question? I'm here to help!\n"
          ]
        }
      ]
    },
    {
      "cell_type": "code",
      "source": [
        "for message in chat_history:\n",
        "  print(message.content)"
      ],
      "metadata": {
        "colab": {
          "base_uri": "https://localhost:8080/"
        },
        "id": "TJ4Jje32FgGH",
        "outputId": "9855abbf-bf1b-46f4-d91b-890fcbe0a9b0"
      },
      "execution_count": 30,
      "outputs": [
        {
          "output_type": "stream",
          "name": "stdout",
          "text": [
            "You are a helpful assistant.\n",
            "query\n"
          ]
        }
      ]
    },
    {
      "cell_type": "markdown",
      "source": [
        "# Integración de cadena: Runnable y OutputParser"
      ],
      "metadata": {
        "id": "hKRhfLZNGJm3"
      }
    },
    {
      "cell_type": "markdown",
      "source": [
        "![XPJ1RlCs3CVlVWhYsoreF_GRXdrh3qFN8Xam36knj0_0seohLY8zIWgM3dkadNRhDIysIOvZnq2nIsj9Vv7_7qdbsWVK49sj_AlX3XKTADK1kRK4VrK003TOlxOgaPjRiQBmpV9YzNNrKpbR2OT-zyacMQyNRKWFsekBhvVVtnorQ_D6yEMxSHrsbk19R5FzNKqyi8GFqw--h7vONlvlghcjCVstEHVMGHGUVKGrKbKZzATV.png](data:image/png;base64,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)\n"
      ],
      "metadata": {
        "id": "Lli_ODuDGRBL"
      }
    },
    {
      "cell_type": "code",
      "source": [
        "from langchain_core.runnables import RunnableLambda\n",
        "\n",
        "sequience = RunnableLambda ( lambda x: x+1) | RunnableLambda ( lambda x: x * 2)\n"
      ],
      "metadata": {
        "id": "vGRSDAqTGUsE"
      },
      "execution_count": 31,
      "outputs": []
    },
    {
      "cell_type": "code",
      "source": [
        "sequience.invoke(5)\n"
      ],
      "metadata": {
        "colab": {
          "base_uri": "https://localhost:8080/"
        },
        "id": "MYPpdl6MHM1i",
        "outputId": "7f00f0fe-9e27-4478-b825-e8f8cf5d0ff8"
      },
      "execution_count": 32,
      "outputs": [
        {
          "output_type": "execute_result",
          "data": {
            "text/plain": [
              "12"
            ]
          },
          "metadata": {},
          "execution_count": 32
        }
      ]
    },
    {
      "cell_type": "code",
      "source": [
        "sequience = RunnableLambda ( lambda x: x+1) | {\n",
        "    \"index_1\": RunnableLambda ( lambda x: x * 2),\n",
        "    \"index_2\": RunnableLambda ( lambda x: x * 3),\n",
        "}"
      ],
      "metadata": {
        "id": "oCrqpZdNHnqK"
      },
      "execution_count": 33,
      "outputs": []
    },
    {
      "cell_type": "code",
      "source": [
        "sequience.invoke(5)\n"
      ],
      "metadata": {
        "colab": {
          "base_uri": "https://localhost:8080/"
        },
        "id": "uaeTqEeeHz8F",
        "outputId": "e141962a-acab-4063-deee-545809877a1b"
      },
      "execution_count": 34,
      "outputs": [
        {
          "output_type": "execute_result",
          "data": {
            "text/plain": [
              "{'index_1': 12, 'index_2': 18}"
            ]
          },
          "metadata": {},
          "execution_count": 34
        }
      ]
    },
    {
      "cell_type": "code",
      "source": [
        "from langchain_core.output_parsers import JsonOutputParser\n",
        "from langchain_core.prompts import PromptTemplate\n",
        "from langchain_openai import ChatOpenAI"
      ],
      "metadata": {
        "id": "aL5au9qMH8d4"
      },
      "execution_count": 35,
      "outputs": []
    },
    {
      "cell_type": "code",
      "source": [
        "model =  ChatOpenAI(model=\"gpt-4o\")\n"
      ],
      "metadata": {
        "id": "n2S8IikjH8lL"
      },
      "execution_count": 36,
      "outputs": []
    },
    {
      "cell_type": "code",
      "source": [
        "joke_query = \" Tell me a joke\"\n",
        "parser = JsonOutputParser()"
      ],
      "metadata": {
        "id": "w8hJgHUmKCVI"
      },
      "execution_count": 37,
      "outputs": []
    },
    {
      "cell_type": "code",
      "source": [
        "prompt = PromptTemplate(\n",
        "    template = \"answer the query user asked \\n{format_instructions}\\n{query}\",\n",
        "    input_variables=[\"query\"],\n",
        "    partial_variables={\"format_instructions\": parser.get_format_instructions()},\n",
        ")\n"
      ],
      "metadata": {
        "id": "5vbPEf-jKIFM"
      },
      "execution_count": 38,
      "outputs": []
    },
    {
      "cell_type": "markdown",
      "source": [],
      "metadata": {
        "id": "IPWxCy6DQjky"
      }
    },
    {
      "cell_type": "code",
      "source": [
        "chain = prompt | model | parser\n",
        "response = chain.invoke ({\"query\": joke_query})\n",
        "print(response)"
      ],
      "metadata": {
        "colab": {
          "base_uri": "https://localhost:8080/"
        },
        "id": "gbuhm3HGK3G9",
        "outputId": "62054cf0-3f45-4a89-8ed9-d7be9d7edab4"
      },
      "execution_count": 39,
      "outputs": [
        {
          "output_type": "stream",
          "name": "stdout",
          "text": [
            "{'joke': \"Why don't skeletons fight each other? They don't have the guts!\"}\n"
          ]
        }
      ]
    },
    {
      "cell_type": "code",
      "source": [
        "import time\n",
        "for s in chain.stream({\"query\":joke_query}):\n",
        "  print(s)\n",
        "  time.sleep(1)"
      ],
      "metadata": {
        "colab": {
          "base_uri": "https://localhost:8080/"
        },
        "id": "YWk_G6btOm3P",
        "outputId": "2c74954c-150a-4d76-ce4d-b2981e6bf028"
      },
      "execution_count": 40,
      "outputs": [
        {
          "output_type": "stream",
          "name": "stdout",
          "text": [
            "{}\n",
            "{'joke': ''}\n",
            "{'joke': 'Why'}\n",
            "{'joke': \"Why don't\"}\n",
            "{'joke': \"Why don't scientists\"}\n",
            "{'joke': \"Why don't scientists trust\"}\n",
            "{'joke': \"Why don't scientists trust atoms\"}\n",
            "{'joke': \"Why don't scientists trust atoms?\"}\n",
            "{'joke': \"Why don't scientists trust atoms? Because\"}\n",
            "{'joke': \"Why don't scientists trust atoms? Because they\"}\n",
            "{'joke': \"Why don't scientists trust atoms? Because they make\"}\n",
            "{'joke': \"Why don't scientists trust atoms? Because they make up\"}\n",
            "{'joke': \"Why don't scientists trust atoms? Because they make up everything\"}\n",
            "{'joke': \"Why don't scientists trust atoms? Because they make up everything!\"}\n"
          ]
        }
      ]
    },
    {
      "cell_type": "code",
      "source": [
        "chunks = []\n",
        "async for chunk in model.astream(joke_query):\n",
        "  chunks.append(chunk)\n",
        "  time.sleep(1)\n",
        "  print(chunk.content, end=\"\", flush=True)"
      ],
      "metadata": {
        "colab": {
          "base_uri": "https://localhost:8080/"
        },
        "id": "-sJFO1CeRmTs",
        "outputId": "2f0e99b6-6750-462a-c397-36fa9099106d"
      },
      "execution_count": 41,
      "outputs": [
        {
          "output_type": "stream",
          "name": "stdout",
          "text": [
            "Why don't skeletons fight each other?\n",
            "\n",
            "They don't have the guts!"
          ]
        }
      ]
    },
    {
      "cell_type": "markdown",
      "source": [
        "# Prueba 03 Chat Memory"
      ],
      "metadata": {
        "id": "_MTnZ9JxSdrL"
      }
    },
    {
      "cell_type": "markdown",
      "source": [
        "![TPJTRXCn48Nlzob6vGOYKhNyKDeBr1yr1ObA5RGFCB4d6rEl7SPsHOfu61w0AnwXBqR6plxGD9TPd-Fvpkp97eU875DZgt1ht08P6s1I4Lrj2NvM002dg6vhzidfCsyzmxFplSd1v2IVJRoBvUdKhcH5xraJhxLxUmU7xquxxLTpJx3_flyTbvPWwgskVbK31kVZrl6J_SdxyyDjexPYzUDVoInKqJFSX8HiV5NreNVEvXYd.png](data:image/png;base64,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)"
      ],
      "metadata": {
        "id": "MZ2RzbfkVtM_"
      }
    },
    {
      "cell_type": "markdown",
      "source": [
        "## Experimento 1 otorigando memoria"
      ],
      "metadata": {
        "id": "-z-SLP7bWd1a"
      }
    },
    {
      "cell_type": "markdown",
      "source": [
        "## Configuracion"
      ],
      "metadata": {
        "id": "QldBHbWvSfZe"
      }
    },
    {
      "cell_type": "code",
      "source": [
        "from langchain_openai import ChatOpenAI\n",
        "from langchain_core.messages import HumanMessage\n",
        "\n",
        "model= ChatOpenAI(model=\"gpt-4o\")"
      ],
      "metadata": {
        "id": "kgtGDnjgV6wh"
      },
      "execution_count": 42,
      "outputs": []
    },
    {
      "cell_type": "code",
      "source": [
        "model.invoke([HumanMessage(content=\"hola mi nombre es juan\")]).content"
      ],
      "metadata": {
        "colab": {
          "base_uri": "https://localhost:8080/",
          "height": 37
        },
        "id": "e-0gFkuPWDCe",
        "outputId": "f977f6b1-8eaf-4766-851d-3aba32c54de8"
      },
      "execution_count": 43,
      "outputs": [
        {
          "output_type": "execute_result",
          "data": {
            "text/plain": [
              "'¡Hola, Juan! ¿Cómo estás? Si hay algo en lo que pueda ayudarte, no dudes en decírmelo.'"
            ],
            "application/vnd.google.colaboratory.intrinsic+json": {
              "type": "string"
            }
          },
          "metadata": {},
          "execution_count": 43
        }
      ]
    },
    {
      "cell_type": "code",
      "source": [
        "model.invoke([HumanMessage(content=\"cual es mi nombre\")]).content"
      ],
      "metadata": {
        "colab": {
          "base_uri": "https://localhost:8080/",
          "height": 37
        },
        "id": "_GzTWxDOWXHH",
        "outputId": "2a2e858a-e2cd-41b7-d1ff-b3859fd74c98"
      },
      "execution_count": 44,
      "outputs": [
        {
          "output_type": "execute_result",
          "data": {
            "text/plain": [
              "'Lo siento, no tengo acceso a información personal, así que no sé cuál es tu nombre. Si me das más contexto o información, estaré encantado de ayudarte en lo que necesites.'"
            ],
            "application/vnd.google.colaboratory.intrinsic+json": {
              "type": "string"
            }
          },
          "metadata": {},
          "execution_count": 44
        }
      ]
    },
    {
      "cell_type": "code",
      "source": [
        "from langchain_core.messages import HumanMessage, AIMessage"
      ],
      "metadata": {
        "id": "vjQmYD2YWcSm"
      },
      "execution_count": 45,
      "outputs": []
    },
    {
      "cell_type": "code",
      "source": [
        "model.invoke([HumanMessage(content=\"hola mi nombre es juan\"),\n",
        "              AIMessage(content=\"hola Juna\")]).content"
      ],
      "metadata": {
        "colab": {
          "base_uri": "https://localhost:8080/",
          "height": 37
        },
        "id": "9vR1mJh8WrKa",
        "outputId": "f5c6d3a2-09fe-4706-c957-73906c299227"
      },
      "execution_count": 46,
      "outputs": [
        {
          "output_type": "execute_result",
          "data": {
            "text/plain": [
              "'¡Hola Juan! ¿Cómo estás?'"
            ],
            "application/vnd.google.colaboratory.intrinsic+json": {
              "type": "string"
            }
          },
          "metadata": {},
          "execution_count": 46
        }
      ]
    },
    {
      "cell_type": "code",
      "source": [
        "from langchain_core.chat_history import BaseChatMessageHistory, InMemoryChatMessageHistory\n",
        "from langchain_core.runnables.history import RunnableWithMessageHistory"
      ],
      "metadata": {
        "id": "TzD6C1eGXF_C"
      },
      "execution_count": 47,
      "outputs": []
    },
    {
      "cell_type": "markdown",
      "source": [
        "## Sistema de Memoria"
      ],
      "metadata": {
        "id": "Rna-1OkQSflR"
      }
    },
    {
      "cell_type": "code",
      "source": [
        "store= {}\n",
        "\n",
        "def get_session_history(session_id:str) -> BaseChatMessageHistory:\n",
        "    if session_id not in store:\n",
        "      store[session_id] = InMemoryChatMessageHistory()\n",
        "      return store[session_id]\n"
      ],
      "metadata": {
        "id": "tHqKUML4X0Tk"
      },
      "execution_count": 48,
      "outputs": []
    },
    {
      "cell_type": "code",
      "source": [
        "with_message_history = RunnableWithMessageHistory(model,get_session_history)"
      ],
      "metadata": {
        "id": "3ygYWf04YQby"
      },
      "execution_count": 49,
      "outputs": []
    },
    {
      "cell_type": "code",
      "source": [
        "config = {\"configurable\": {\"session_id\": \"session_1\"}}\n"
      ],
      "metadata": {
        "id": "O7-5bCX5Yb-w"
      },
      "execution_count": 50,
      "outputs": []
    },
    {
      "cell_type": "code",
      "source": [
        "response = with_message_history.invoke(\n",
        "    [HumanMessage(content=\"hola soy juan\")],\n",
        "    config=config\n",
        ")\n",
        "print(response.content)"
      ],
      "metadata": {
        "colab": {
          "base_uri": "https://localhost:8080/"
        },
        "id": "Utd7bYi6ZJDu",
        "outputId": "921176fa-a5a8-4599-af15-8e22feb7952f"
      },
      "execution_count": 51,
      "outputs": [
        {
          "output_type": "stream",
          "name": "stdout",
          "text": [
            "¡Hola Juan! ¿Cómo estás?\n"
          ]
        }
      ]
    },
    {
      "cell_type": "code",
      "source": [
        "store"
      ],
      "metadata": {
        "colab": {
          "base_uri": "https://localhost:8080/"
        },
        "id": "OzXkMrJMP1nq",
        "outputId": "3f8723bc-40d1-4da8-a91b-33ee6e0b7567"
      },
      "execution_count": 52,
      "outputs": [
        {
          "output_type": "execute_result",
          "data": {
            "text/plain": [
              "{'session_1': InMemoryChatMessageHistory(messages=[HumanMessage(content='hola soy juan', additional_kwargs={}, response_metadata={}), AIMessage(content='¡Hola Juan! ¿Cómo estás?', additional_kwargs={'refusal': None}, response_metadata={'token_usage': {'completion_tokens': 8, 'prompt_tokens': 11, 'total_tokens': 19, 'completion_tokens_details': {'audio_tokens': None, 'reasoning_tokens': 0}, 'prompt_tokens_details': {'audio_tokens': None, 'cached_tokens': 0}}, 'model_name': 'gpt-4o-2024-08-06', 'system_fingerprint': 'fp_6b68a8204b', 'finish_reason': 'stop', 'logprobs': None}, id='run-f515ab9b-2ba4-4c2d-ad4b-4ab2842df438-0', usage_metadata={'input_tokens': 11, 'output_tokens': 8, 'total_tokens': 19, 'input_token_details': {'cache_read': 0}, 'output_token_details': {'reasoning': 0}})])}"
            ]
          },
          "metadata": {},
          "execution_count": 52
        }
      ]
    },
    {
      "cell_type": "markdown",
      "source": [
        "# Prueba 04 Implementación de memoria en cadenas"
      ],
      "metadata": {
        "id": "Jk5H5752SfwZ"
      }
    },
    {
      "cell_type": "code",
      "source": [
        "from langchain_core.prompts import ChatPromptTemplate, MessagesPlaceholder\n",
        "# Definir la plantilla de prompt\n",
        "prompt = ChatPromptTemplate.from_messages([\n",
        "    (\"system\", \"You are a helpful assistant. Answer all questions to the best of your ability.\"),\n",
        "    MessagesPlaceholder(variable_name=\"messages\"),\n",
        "])\n"
      ],
      "metadata": {
        "id": "N5uWQP7SQDne"
      },
      "execution_count": 53,
      "outputs": []
    },
    {
      "cell_type": "code",
      "source": [
        "chain = prompt | model\n",
        "response = chain.invoke(\n",
        " {\n",
        "    \"messages\": [HumanMessage(content=\"hola soy juan\")],\n",
        " }\n",
        ")\n",
        "print(response)"
      ],
      "metadata": {
        "colab": {
          "base_uri": "https://localhost:8080/"
        },
        "id": "ZPK5WwcpQoF5",
        "outputId": "c3e8df7c-3511-4a86-f80f-980c54a33ad5"
      },
      "execution_count": 54,
      "outputs": [
        {
          "output_type": "stream",
          "name": "stdout",
          "text": [
            "content='¡Hola Juan! ¿Cómo estás? ¿En qué puedo ayudarte hoy?' additional_kwargs={'refusal': None} response_metadata={'token_usage': {'completion_tokens': 15, 'prompt_tokens': 31, 'total_tokens': 46, 'completion_tokens_details': {'audio_tokens': None, 'reasoning_tokens': 0}, 'prompt_tokens_details': {'audio_tokens': None, 'cached_tokens': 0}}, 'model_name': 'gpt-4o-2024-08-06', 'system_fingerprint': 'fp_a20a4ee344', 'finish_reason': 'stop', 'logprobs': None} id='run-7ceeedfb-1fd4-455b-bbf1-6753677e0aa7-0' usage_metadata={'input_tokens': 31, 'output_tokens': 15, 'total_tokens': 46, 'input_token_details': {'cache_read': 0}, 'output_token_details': {'reasoning': 0}}\n"
          ]
        }
      ]
    },
    {
      "cell_type": "code",
      "source": [
        "with_message_history = RunnableWithMessageHistory(chain,get_session_history)"
      ],
      "metadata": {
        "id": "qbmZcsU6RnUS"
      },
      "execution_count": 55,
      "outputs": []
    },
    {
      "cell_type": "code",
      "source": [
        "config = {\"configurable\": {\"session_id\": \"abc\"}}"
      ],
      "metadata": {
        "id": "S4uGYP_sRywo"
      },
      "execution_count": 56,
      "outputs": []
    },
    {
      "cell_type": "code",
      "source": [
        "response = with_message_history.invoke(\n",
        "    [HumanMessage(content=\"hola soy juan\")],\n",
        "    config=config\n",
        ")\n",
        "\n",
        "response.content"
      ],
      "metadata": {
        "colab": {
          "base_uri": "https://localhost:8080/",
          "height": 37
        },
        "id": "fTZFIHo6R3z3",
        "outputId": "9c5712c3-4e31-42a5-bbcd-11bc6452e26b"
      },
      "execution_count": 57,
      "outputs": [
        {
          "output_type": "execute_result",
          "data": {
            "text/plain": [
              "'¡Hola Juan! ¿Cómo puedo ayudarte hoy?'"
            ],
            "application/vnd.google.colaboratory.intrinsic+json": {
              "type": "string"
            }
          },
          "metadata": {},
          "execution_count": 57
        }
      ]
    },
    {
      "cell_type": "markdown",
      "source": [
        "# Carga de PDF y CSV con LangChain"
      ],
      "metadata": {
        "id": "bfRf7JXrUXZN"
      }
    },
    {
      "cell_type": "markdown",
      "source": [
        "## PDF"
      ],
      "metadata": {
        "id": "xa_7wDjuXLN3"
      }
    },
    {
      "cell_type": "code",
      "source": [
        "! pip install --upgrade --quiet pypdf\n",
        "! pip install langchain_community"
      ],
      "metadata": {
        "colab": {
          "base_uri": "https://localhost:8080/"
        },
        "id": "dPW92CisUaP8",
        "outputId": "f3d3004e-fb8d-4f8a-81b8-b40452c854ce"
      },
      "execution_count": 58,
      "outputs": [
        {
          "output_type": "stream",
          "name": "stdout",
          "text": [
            "\u001b[?25l   \u001b[90m━━━━━━━━━━━━━━━━━━━━━━━━━━━━━━━━━━━━━━━━\u001b[0m \u001b[32m0.0/294.5 kB\u001b[0m \u001b[31m?\u001b[0m eta \u001b[36m-:--:--\u001b[0m\r\u001b[2K   \u001b[91m━━━━━━━━━━━━━━━━━━━━━━━━━━━━━━━\u001b[0m\u001b[91m╸\u001b[0m\u001b[90m━━━━━━━━\u001b[0m \u001b[32m235.5/294.5 kB\u001b[0m \u001b[31m7.0 MB/s\u001b[0m eta \u001b[36m0:00:01\u001b[0m\r\u001b[2K   \u001b[90m━━━━━━━━━━━━━━━━━━━━━━━━━━━━━━━━━━━━━━━━\u001b[0m \u001b[32m294.5/294.5 kB\u001b[0m \u001b[31m5.8 MB/s\u001b[0m eta \u001b[36m0:00:00\u001b[0m\n",
            "\u001b[?25hCollecting langchain_community\n",
            "  Downloading langchain_community-0.3.2-py3-none-any.whl.metadata (2.8 kB)\n",
            "Requirement already satisfied: PyYAML>=5.3 in /usr/local/lib/python3.10/dist-packages (from langchain_community) (6.0.2)\n",
            "Requirement already satisfied: SQLAlchemy<3,>=1.4 in /usr/local/lib/python3.10/dist-packages (from langchain_community) (2.0.35)\n",
            "Requirement already satisfied: aiohttp<4.0.0,>=3.8.3 in /usr/local/lib/python3.10/dist-packages (from langchain_community) (3.10.9)\n",
            "Collecting dataclasses-json<0.7,>=0.5.7 (from langchain_community)\n",
            "  Downloading dataclasses_json-0.6.7-py3-none-any.whl.metadata (25 kB)\n",
            "Requirement already satisfied: langchain<0.4.0,>=0.3.3 in /usr/local/lib/python3.10/dist-packages (from langchain_community) (0.3.3)\n",
            "Requirement already satisfied: langchain-core<0.4.0,>=0.3.10 in /usr/local/lib/python3.10/dist-packages (from langchain_community) (0.3.10)\n",
            "Requirement already satisfied: langsmith<0.2.0,>=0.1.125 in /usr/local/lib/python3.10/dist-packages (from langchain_community) (0.1.134)\n",
            "Requirement already satisfied: numpy<2,>=1 in /usr/local/lib/python3.10/dist-packages (from langchain_community) (1.26.4)\n",
            "Collecting pydantic-settings<3.0.0,>=2.4.0 (from langchain_community)\n",
            "  Downloading pydantic_settings-2.5.2-py3-none-any.whl.metadata (3.5 kB)\n",
            "Requirement already satisfied: requests<3,>=2 in /usr/local/lib/python3.10/dist-packages (from langchain_community) (2.32.3)\n",
            "Requirement already satisfied: tenacity!=8.4.0,<9.0.0,>=8.1.0 in /usr/local/lib/python3.10/dist-packages (from langchain_community) (8.5.0)\n",
            "Requirement already satisfied: aiohappyeyeballs>=2.3.0 in /usr/local/lib/python3.10/dist-packages (from aiohttp<4.0.0,>=3.8.3->langchain_community) (2.4.3)\n",
            "Requirement already satisfied: aiosignal>=1.1.2 in /usr/local/lib/python3.10/dist-packages (from aiohttp<4.0.0,>=3.8.3->langchain_community) (1.3.1)\n",
            "Requirement already satisfied: attrs>=17.3.0 in /usr/local/lib/python3.10/dist-packages (from aiohttp<4.0.0,>=3.8.3->langchain_community) (24.2.0)\n",
            "Requirement already satisfied: frozenlist>=1.1.1 in /usr/local/lib/python3.10/dist-packages (from aiohttp<4.0.0,>=3.8.3->langchain_community) (1.4.1)\n",
            "Requirement already satisfied: multidict<7.0,>=4.5 in /usr/local/lib/python3.10/dist-packages (from aiohttp<4.0.0,>=3.8.3->langchain_community) (6.1.0)\n",
            "Requirement already satisfied: yarl<2.0,>=1.12.0 in /usr/local/lib/python3.10/dist-packages (from aiohttp<4.0.0,>=3.8.3->langchain_community) (1.13.1)\n",
            "Requirement already satisfied: async-timeout<5.0,>=4.0 in /usr/local/lib/python3.10/dist-packages (from aiohttp<4.0.0,>=3.8.3->langchain_community) (4.0.3)\n",
            "Collecting marshmallow<4.0.0,>=3.18.0 (from dataclasses-json<0.7,>=0.5.7->langchain_community)\n",
            "  Downloading marshmallow-3.22.0-py3-none-any.whl.metadata (7.2 kB)\n",
            "Collecting typing-inspect<1,>=0.4.0 (from dataclasses-json<0.7,>=0.5.7->langchain_community)\n",
            "  Downloading typing_inspect-0.9.0-py3-none-any.whl.metadata (1.5 kB)\n",
            "Requirement already satisfied: langchain-text-splitters<0.4.0,>=0.3.0 in /usr/local/lib/python3.10/dist-packages (from langchain<0.4.0,>=0.3.3->langchain_community) (0.3.0)\n",
            "Requirement already satisfied: pydantic<3.0.0,>=2.7.4 in /usr/local/lib/python3.10/dist-packages (from langchain<0.4.0,>=0.3.3->langchain_community) (2.9.2)\n",
            "Requirement already satisfied: jsonpatch<2.0,>=1.33 in /usr/local/lib/python3.10/dist-packages (from langchain-core<0.4.0,>=0.3.10->langchain_community) (1.33)\n",
            "Requirement already satisfied: packaging<25,>=23.2 in /usr/local/lib/python3.10/dist-packages (from langchain-core<0.4.0,>=0.3.10->langchain_community) (24.1)\n",
            "Requirement already satisfied: typing-extensions>=4.7 in /usr/local/lib/python3.10/dist-packages (from langchain-core<0.4.0,>=0.3.10->langchain_community) (4.12.2)\n",
            "Requirement already satisfied: httpx<1,>=0.23.0 in /usr/local/lib/python3.10/dist-packages (from langsmith<0.2.0,>=0.1.125->langchain_community) (0.27.2)\n",
            "Requirement already satisfied: orjson<4.0.0,>=3.9.14 in /usr/local/lib/python3.10/dist-packages (from langsmith<0.2.0,>=0.1.125->langchain_community) (3.10.7)\n",
            "Requirement already satisfied: requests-toolbelt<2.0.0,>=1.0.0 in /usr/local/lib/python3.10/dist-packages (from langsmith<0.2.0,>=0.1.125->langchain_community) (1.0.0)\n",
            "Requirement already satisfied: python-dotenv>=0.21.0 in /usr/local/lib/python3.10/dist-packages (from pydantic-settings<3.0.0,>=2.4.0->langchain_community) (1.0.1)\n",
            "Requirement already satisfied: charset-normalizer<4,>=2 in /usr/local/lib/python3.10/dist-packages (from requests<3,>=2->langchain_community) (3.3.2)\n",
            "Requirement already satisfied: idna<4,>=2.5 in /usr/local/lib/python3.10/dist-packages (from requests<3,>=2->langchain_community) (3.10)\n",
            "Requirement already satisfied: urllib3<3,>=1.21.1 in /usr/local/lib/python3.10/dist-packages (from requests<3,>=2->langchain_community) (2.2.3)\n",
            "Requirement already satisfied: certifi>=2017.4.17 in /usr/local/lib/python3.10/dist-packages (from requests<3,>=2->langchain_community) (2024.8.30)\n",
            "Requirement already satisfied: greenlet!=0.4.17 in /usr/local/lib/python3.10/dist-packages (from SQLAlchemy<3,>=1.4->langchain_community) (3.1.1)\n",
            "Requirement already satisfied: anyio in /usr/local/lib/python3.10/dist-packages (from httpx<1,>=0.23.0->langsmith<0.2.0,>=0.1.125->langchain_community) (3.7.1)\n",
            "Requirement already satisfied: httpcore==1.* in /usr/local/lib/python3.10/dist-packages (from httpx<1,>=0.23.0->langsmith<0.2.0,>=0.1.125->langchain_community) (1.0.6)\n",
            "Requirement already satisfied: sniffio in /usr/local/lib/python3.10/dist-packages (from httpx<1,>=0.23.0->langsmith<0.2.0,>=0.1.125->langchain_community) (1.3.1)\n",
            "Requirement already satisfied: h11<0.15,>=0.13 in /usr/local/lib/python3.10/dist-packages (from httpcore==1.*->httpx<1,>=0.23.0->langsmith<0.2.0,>=0.1.125->langchain_community) (0.14.0)\n",
            "Requirement already satisfied: jsonpointer>=1.9 in /usr/local/lib/python3.10/dist-packages (from jsonpatch<2.0,>=1.33->langchain-core<0.4.0,>=0.3.10->langchain_community) (3.0.0)\n",
            "Requirement already satisfied: annotated-types>=0.6.0 in /usr/local/lib/python3.10/dist-packages (from pydantic<3.0.0,>=2.7.4->langchain<0.4.0,>=0.3.3->langchain_community) (0.7.0)\n",
            "Requirement already satisfied: pydantic-core==2.23.4 in /usr/local/lib/python3.10/dist-packages (from pydantic<3.0.0,>=2.7.4->langchain<0.4.0,>=0.3.3->langchain_community) (2.23.4)\n",
            "Collecting mypy-extensions>=0.3.0 (from typing-inspect<1,>=0.4.0->dataclasses-json<0.7,>=0.5.7->langchain_community)\n",
            "  Downloading mypy_extensions-1.0.0-py3-none-any.whl.metadata (1.1 kB)\n",
            "Requirement already satisfied: exceptiongroup in /usr/local/lib/python3.10/dist-packages (from anyio->httpx<1,>=0.23.0->langsmith<0.2.0,>=0.1.125->langchain_community) (1.2.2)\n",
            "Downloading langchain_community-0.3.2-py3-none-any.whl (2.4 MB)\n",
            "\u001b[2K   \u001b[90m━━━━━━━━━━━━━━━━━━━━━━━━━━━━━━━━━━━━━━━━\u001b[0m \u001b[32m2.4/2.4 MB\u001b[0m \u001b[31m39.8 MB/s\u001b[0m eta \u001b[36m0:00:00\u001b[0m\n",
            "\u001b[?25hDownloading dataclasses_json-0.6.7-py3-none-any.whl (28 kB)\n",
            "Downloading pydantic_settings-2.5.2-py3-none-any.whl (26 kB)\n",
            "Downloading marshmallow-3.22.0-py3-none-any.whl (49 kB)\n",
            "\u001b[2K   \u001b[90m━━━━━━━━━━━━━━━━━━━━━━━━━━━━━━━━━━━━━━━━\u001b[0m \u001b[32m49.3/49.3 kB\u001b[0m \u001b[31m3.4 MB/s\u001b[0m eta \u001b[36m0:00:00\u001b[0m\n",
            "\u001b[?25hDownloading typing_inspect-0.9.0-py3-none-any.whl (8.8 kB)\n",
            "Downloading mypy_extensions-1.0.0-py3-none-any.whl (4.7 kB)\n",
            "Installing collected packages: mypy-extensions, marshmallow, typing-inspect, pydantic-settings, dataclasses-json, langchain_community\n",
            "Successfully installed dataclasses-json-0.6.7 langchain_community-0.3.2 marshmallow-3.22.0 mypy-extensions-1.0.0 pydantic-settings-2.5.2 typing-inspect-0.9.0\n"
          ]
        }
      ]
    },
    {
      "cell_type": "code",
      "source": [
        "from langchain_community.document_loaders import PyPDFLoader\n",
        "\n",
        "file_path = (\n",
        "    \"/content/lorem-ipsum_64e95da4-4611-4706-b65c-a906fd0f1b1a.pdf\"\n",
        ")\n",
        "loader = PyPDFLoader(file_path)\n",
        "pages = loader.load_and_split()\n",
        "\n",
        "pages[0]"
      ],
      "metadata": {
        "colab": {
          "base_uri": "https://localhost:8080/"
        },
        "id": "MOzNnNJ6Uyb0",
        "outputId": "8b34dc3d-80b2-47a0-b9c7-5beb80fb35c1"
      },
      "execution_count": 59,
      "outputs": [
        {
          "output_type": "execute_result",
          "data": {
            "text/plain": [
              "Document(metadata={'source': '/content/lorem-ipsum_64e95da4-4611-4706-b65c-a906fd0f1b1a.pdf', 'page': 0}, page_content='Test\\xa0document \\xa0PDF\\xa0\\n\\xa0Lorem\\xa0ipsum\\xa0dolor\\xa0sit\\xa0amet,\\xa0consectetur \\xa0adipiscing \\xa0elit.\\xa0Nulla\\xa0est\\xa0purus,\\xa0ultrices\\xa0in\\xa0porttitor\\xa0\\nin,\\xa0accumsan \\xa0non\\xa0quam.\\xa0Nam\\xa0consectetur \\xa0porttitor\\xa0rhoncus.\\xa0Curabitur \\xa0eu\\xa0est\\xa0et\\xa0leo\\xa0feugiat\\xa0\\nauctor\\xa0vel\\xa0quis\\xa0lorem.\\xa0Ut\\xa0et\\xa0ligula\\xa0dolor,\\xa0sit\\xa0amet\\xa0consequat \\xa0lorem.\\xa0Aliquam\\xa0porta\\xa0eros\\xa0sed\\xa0\\nvelit\\xa0imperdiet \\xa0egestas.\\xa0Maecenas\\n\\xa0tempus\\xa0eros\\xa0ut\\xa0diam\\xa0ullamcorper \\xa0id\\xa0dictum\\xa0libero\\xa0\\ntempor.\\xa0Donec\\xa0quis\\xa0augue\\xa0quis\\xa0magna\\xa0condimentum \\xa0lobortis.\\xa0Quisque\\xa0imperdiet \\xa0ipsum\\xa0vel\\xa0\\nmagna\\xa0viverra\\xa0rutrum.\\xa0Cras\\xa0viverra\\xa0molestie\\xa0urna,\\xa0vitae\\xa0vestibulum \\xa0turpis\\xa0varius\\xa0id.\\xa0\\nVestibulum \\xa0mollis,\\xa0arcu\\xa0iaculis\\xa0bibendum \\xa0varius,\\xa0velit\\xa0sapien\\xa0blandit\\xa0metus,\\xa0ac\\xa0posuere\\xa0lorem\\xa0\\nnulla\\xa0ac\\xa0dolor.\\xa0Maecenas \\xa0urna\\xa0elit,\\xa0tincidunt\\xa0in\\xa0dapibus\\xa0nec,\\xa0vehicula\\xa0eu\\xa0dui.\\xa0Duis\\xa0lacinia\\xa0\\nfringilla\\xa0massa.\\xa0Cum\\xa0sociis\\xa0natoque\\xa0penatibus \\xa0et\\xa0magnis\\xa0dis\\xa0parturient \\xa0montes,\\xa0nascetur\\xa0\\nridiculus\\xa0mus.\\xa0Ut\\xa0consequat \\xa0ultricies\\xa0est,\\xa0non\\xa0rhoncus\\xa0mauris\\xa0congue\\xa0porta.\\xa0Vivamus\\xa0viverra\\xa0\\nsuscipit\\xa0felis\\xa0eget\\xa0condimentum. \\xa0Cum\\xa0sociis\\xa0natoque\\xa0penatibus \\xa0et\\xa0magnis\\xa0dis\\xa0parturient \\xa0\\nmontes,\\xa0nascetur\\xa0ridiculus\\xa0mus.\\xa0Integer\\xa0bibendum \\xa0sagittis\\xa0ligula,\\xa0non\\xa0faucibus\\xa0nulla\\xa0volutpat\\xa0\\nvitae.\\xa0Cum\\xa0sociis\\xa0natoque\\xa0penatibus \\xa0et\\xa0magnis\\xa0dis\\xa0parturient \\xa0montes,\\xa0nascetur\\xa0ridiculus\\xa0mus.\\xa0\\xa0\\nIn\\xa0aliquet\\xa0quam\\xa0et\\xa0velit\\xa0bibendum \\xa0accumsan. \\xa0Cum\\xa0sociis\\xa0natoque\\xa0penatibus \\xa0et\\xa0magnis\\xa0dis\\xa0\\nparturient \\xa0montes,\\xa0nascetur\\xa0ridiculus\\xa0mus.\\xa0Vestibulum \\xa0vitae\\xa0ipsum\\xa0nec\\xa0arcu\\xa0semper\\xa0\\nadipiscing \\xa0at\\xa0ac\\xa0lacus.\\xa0Praesent\\xa0id\\xa0pellentesque \\xa0orci.\\xa0Morbi\\xa0congue\\xa0viverra\\xa0nisl\\xa0nec\\xa0rhoncus.\\xa0\\nInteger\\xa0mattis,\\xa0ipsum\\xa0a\\xa0tincidunt\\xa0commodo, \\xa0lacus\\xa0arcu\\xa0elementum \\xa0elit,\\xa0at\\xa0mollis\\xa0eros\\xa0ante\\xa0ac\\xa0\\nrisus.\\xa0In\\xa0volutpat,\\xa0ante\\xa0at\\xa0pretium\\xa0ultricies,\\xa0velit\\xa0magna\\xa0suscipit\\xa0enim,\\xa0aliquet\\xa0blandit\\xa0massa\\xa0\\norci\\xa0nec\\xa0lorem.\\xa0Nulla\\xa0facilisi.\\xa0Duis\\xa0eu\\xa0vehicula\\xa0arcu.\\xa0Nulla\\xa0facilisi.\\xa0Maecenas \\xa0pellentesque \\xa0\\nvolutpat\\xa0felis,\\xa0quis\\xa0tristique\\xa0ligula\\xa0luctus\\xa0vel.\\xa0Sed\\xa0nec\\xa0mi\\xa0eros.\\xa0Integer\\xa0augue\\xa0enim,\\xa0sollicitudin \\xa0\\nullamcorper \\xa0mattis\\xa0eget,\\xa0aliquam\\xa0in\\xa0est.\\xa0Morbi\\xa0sollicitudin \\xa0libero\\xa0nec\\xa0augue\\xa0dignissim \\xa0ut\\xa0\\nconsectetur \\xa0dui\\xa0volutpat.\\xa0Nulla\\xa0facilisi.\\xa0Mauris\\xa0egestas\\xa0vestibulum \\xa0neque\\xa0cursus\\xa0tincidunt. \\xa0\\nDonec\\xa0sit\\xa0amet\\xa0pulvinar\\xa0orci.\\xa0\\xa0\\nQuisque\\xa0volutpat\\xa0pharetra\\xa0tincidunt. \\xa0Fusce\\xa0sapien\\xa0arcu,\\xa0molestie\\xa0eget\\xa0varius\\xa0egestas,\\xa0\\nfaucibus\\xa0ac\\xa0urna.\\xa0Sed\\xa0at\\xa0nisi\\xa0in\\xa0velit\\xa0egestas\\xa0aliquam\\xa0ut\\xa0a\\xa0felis.\\xa0Aenean\\xa0malesuada \\xa0iaculis\\xa0nisl,\\xa0\\nut\\xa0tempor\\xa0lacus\\xa0egestas\\xa0consequat. \\xa0Nam\\xa0nibh\\xa0lectus,\\xa0gravida\\xa0sed\\xa0egestas\\xa0ut,\\xa0feugiat\\xa0quis\\xa0\\ndolor.\\xa0Donec\\xa0eu\\xa0leo\\xa0enim,\\xa0non\\xa0laoreet\\xa0ante.\\xa0Morbi\\xa0dictum\\xa0tempor\\xa0vulputate. \\xa0Phasellus \\xa0\\nultricies\\xa0risus\\xa0vel\\xa0augue\\xa0sagittis\\xa0euismod.\\xa0Vivamus\\xa0tincidunt\\xa0placerat\\xa0nisi\\xa0in\\xa0aliquam.\\xa0Cras\\xa0\\nquis\\xa0mi\\xa0ac\\xa0nunc\\xa0pretium\\xa0aliquam.\\xa0Aenean\\xa0elementum \\xa0erat\\xa0ac\\xa0metus\\xa0commodo \\xa0rhoncus.\\xa0\\nAliquam\\xa0nulla\\xa0augue,\\xa0porta\\xa0non\\xa0sagittis\\xa0quis,\\xa0accumsan \\xa0vitae\\xa0sem.\\xa0Phasellus \\xa0id\\xa0lectus\\xa0tortor,\\xa0\\neget\\xa0pulvinar\\xa0augue.\\xa0Etiam\\xa0eget\\xa0velit\\xa0ac\\xa0purus\\xa0fringilla\\xa0blandit.\\xa0Donec\\xa0odio\\xa0odio,\\xa0sagittis\\xa0sed\\xa0\\niaculis\\xa0sed,\\xa0consectetur \\xa0eget\\xa0sem.\\xa0Lorem\\xa0ipsum\\xa0dolor\\xa0sit\\xa0amet,\\xa0consectetur \\xa0adipiscing \\xa0elit.\\xa0\\nMaecenas \\xa0accumsan \\xa0velit\\xa0vel\\xa0turpis\\xa0rutrum\\xa0in\\xa0sodales\\xa0diam\\xa0placerat.\\xa0\\xa0\\nQuisque\\xa0luctus\\xa0ullamcorper \\xa0velit\\xa0sit\\xa0amet\\xa0lobortis.\\xa0Etiam\\xa0ligula\\xa0felis,\\xa0vulputate \\xa0quis\\xa0rhoncus\\xa0\\nnec,\\xa0fermentum \\xa0eget\\xa0odio.\\xa0Vivamus\\xa0vel\\xa0ipsum\\xa0ac\\xa0augue\\xa0sodales\\xa0mollis\\xa0euismod\\xa0nec\\xa0tellus.\\xa0\\nFusce\\xa0et\\xa0augue\\xa0rutrum\\xa0nunc\\xa0semper\\xa0vehicula\\xa0vel\\xa0semper\\xa0nisl.\\xa0Nam\\xa0laoreet\\xa0euismod\\xa0quam\\xa0at\\xa0\\nvarius.\\xa0Sed\\xa0aliquet\\xa0auctor\\xa0nibh.\\xa0Curabitur \\xa0malesuada \\xa0fermentum \\xa0lacus\\xa0vel\\xa0accumsan. \\xa0Duis\\xa0\\nornare\\xa0scelerisque \\xa0nulla,\\xa0ac\\xa0pulvinar\\xa0ligula\\xa0tempus\\xa0sit\\xa0amet.\\xa0In\\xa0placerat\\xa0nulla\\xa0ac\\xa0ante\\xa0\\nscelerisque \\xa0posuere.\\xa0Phasellus \\xa0at\\xa0ante\\xa0felis.\\xa0Sed\\xa0hendrerit \\xa0risus\\xa0a\\xa0metus\\xa0posuere\\xa0rutrum.\\xa0\\nPhasellus \\xa0eu\\xa0augue\\xa0dui.\\xa0Proin\\xa0in\\xa0vestibulum \\xa0ipsum.\\xa0Aenean\\xa0accumsan \\xa0mollis\\xa0sapien,\\xa0ut\\xa0\\neleifend\\xa0sem\\xa0blandit\\xa0at.\\xa0Vivamus\\xa0luctus\\xa0mi\\xa0eget\\xa0lorem\\xa0lobortis\\xa0pharetra. \\xa0Phasellus \\xa0at\\xa0tortor\\xa0\\nquam,\\xa0a\\xa0volutpat\\xa0purus.\\xa0Etiam\\xa0sollicitudin \\xa0arcu\\xa0vel\\xa0elit\\xa0bibendum \\xa0et\\xa0imperdiet \\xa0risus\\xa0tincidunt. \\xa0\\nEtiam\\xa0elit\\xa0velit,\\xa0posuere\\xa0ut\\xa0pulvinar\\xa0ac,\\xa0condimentum \\xa0eget\\xa0justo.\\xa0Fusce\\xa0a\\xa0erat\\xa0velit.\\xa0Vivamus')"
            ]
          },
          "metadata": {},
          "execution_count": 59
        }
      ]
    },
    {
      "cell_type": "code",
      "source": [
        "! pip install faiss-gpu ## busqueda semantica"
      ],
      "metadata": {
        "colab": {
          "base_uri": "https://localhost:8080/"
        },
        "id": "TPMULdmRVbGw",
        "outputId": "0e7e6d86-3401-4328-f95b-bc78b2f56525"
      },
      "execution_count": 60,
      "outputs": [
        {
          "output_type": "stream",
          "name": "stdout",
          "text": [
            "Collecting faiss-gpu\n",
            "  Downloading faiss_gpu-1.7.2-cp310-cp310-manylinux_2_17_x86_64.manylinux2014_x86_64.whl.metadata (1.4 kB)\n",
            "Downloading faiss_gpu-1.7.2-cp310-cp310-manylinux_2_17_x86_64.manylinux2014_x86_64.whl (85.5 MB)\n",
            "\u001b[2K   \u001b[90m━━━━━━━━━━━━━━━━━━━━━━━━━━━━━━━━━━━━━━━━\u001b[0m \u001b[32m85.5/85.5 MB\u001b[0m \u001b[31m9.2 MB/s\u001b[0m eta \u001b[36m0:00:00\u001b[0m\n",
            "\u001b[?25hInstalling collected packages: faiss-gpu\n",
            "Successfully installed faiss-gpu-1.7.2\n"
          ]
        }
      ]
    },
    {
      "cell_type": "code",
      "source": [
        "from langchain.vectorstores.faiss import FAISS\n",
        "from langchain.embeddings.openai import OpenAIEmbeddings"
      ],
      "metadata": {
        "id": "BFs4FEq_WaBC"
      },
      "execution_count": 61,
      "outputs": []
    },
    {
      "cell_type": "code",
      "source": [
        "faiss_index = FAISS.from_documents(pages, OpenAIEmbeddings())\n",
        "docs = faiss_index.similarity_search(\"Lorem ipsum\", K=2)\n",
        "\n",
        "for doc in docs:\n",
        "  print(str(doc.metadata[\"page\"]) + \": \" + doc.page_content[:300])"
      ],
      "metadata": {
        "colab": {
          "base_uri": "https://localhost:8080/"
        },
        "id": "vGdKdrJbVwbN",
        "outputId": "75b0f77f-05f0-41e2-f641-bcc9d696d36a"
      },
      "execution_count": 62,
      "outputs": [
        {
          "output_type": "stream",
          "name": "stderr",
          "text": [
            "<ipython-input-62-b44287aab172>:1: LangChainDeprecationWarning: The class `OpenAIEmbeddings` was deprecated in LangChain 0.0.9 and will be removed in 1.0. An updated version of the class exists in the :class:`~langchain-openai package and should be used instead. To use it run `pip install -U :class:`~langchain-openai` and import as `from :class:`~langchain_openai import OpenAIEmbeddings``.\n",
            "  faiss_index = FAISS.from_documents(pages, OpenAIEmbeddings())\n"
          ]
        },
        {
          "output_type": "stream",
          "name": "stdout",
          "text": [
            "0: Test document  PDF \n",
            " Lorem ipsum dolor sit amet, consectetur  adipiscing  elit. Nulla est purus, ultrices in porttitor \n",
            "in, accumsan  non quam. Nam consectetur  porttitor rhoncus. Curabitur  eu est et leo feugiat \n",
            "auctor vel quis lorem. Ut et ligula dolor, sit amet consequat  lorem. Aliquam porta er\n",
            "0: quam, a volutpat purus. Etiam sollicitudin  arcu vel elit bibendum  et imperdiet  risus tincidunt.  \n",
            "Etiam elit velit, posuere ut pulvinar ac, condimentum  eget justo. Fusce a erat velit. Vivamus \n",
            "imperdiet  ultrices orci in hendrerit.\n"
          ]
        }
      ]
    },
    {
      "cell_type": "markdown",
      "source": [
        "## csv"
      ],
      "metadata": {
        "id": "J4TxCh8SXO1-"
      }
    },
    {
      "cell_type": "code",
      "source": [
        "from langchain_community.document_loaders.csv_loader import CSVLoader\n",
        "\n",
        "file_path = (\n",
        "    \"/content/Evolution_DataSets.csv\"\n",
        ")\n",
        "\n",
        "loader = CSVLoader(file_path=file_path)\n",
        "data = loader.load()\n",
        "\n",
        "for record in data[:2]:\n",
        "    print(record)"
      ],
      "metadata": {
        "colab": {
          "base_uri": "https://localhost:8080/"
        },
        "id": "pP7TM4-pXRl3",
        "outputId": "866cfe91-ed56-4c37-db79-8f7ae845d7a7"
      },
      "execution_count": 64,
      "outputs": [
        {
          "output_type": "stream",
          "name": "stdout",
          "text": [
            "page_content='Genus_&_Specie: hominino Orrorin tugenencin\n",
            "Time: 6.04112375\n",
            "Location: Africa\n",
            "Zone: oriental\n",
            "Current_Country: Kenya\n",
            "Habitat: forest\n",
            "Cranial_Capacity: 144.5141\n",
            "Height: 110.24323\n",
            "Incisor_Size: small\n",
            "Jaw_Shape: conical\n",
            "Torus_Supraorbital: very protruding\n",
            "Prognathism: high\n",
            "Foramen_Mágnum_Position: posterior\n",
            "Canine Size: big\n",
            "Canines_Shape: conicalls\n",
            "Tooth_Enamel: thick\n",
            "Tecno: no\n",
            "Tecno_type: no\n",
            "biped: low probability\n",
            "Arms: climbing\n",
            "Foots: climbing\n",
            "Diet: dry fruits\n",
            "Sexual_Dimorphism: high\n",
            "Hip: wide\n",
            "Vertical_Front: no\n",
            "Anatomy: old\n",
            "Migrated: no\n",
            "Skeleton: light' metadata={'source': '/content/Evolution_DataSets.csv', 'row': 0}\n",
            "page_content='Genus_&_Specie: hominino Ardipithecus ramidus / kabadda\n",
            "Time: 4.38390951\n",
            "Location: Africa\n",
            "Zone: oriental\n",
            "Current_Country: Ethiopia\n",
            "Habitat: mixed\n",
            "Cranial_Capacity: 293.96021\n",
            "Height: 107.69018\n",
            "Incisor_Size: small\n",
            "Jaw_Shape: conical\n",
            "Torus_Supraorbital: very protruding\n",
            "Prognathism: high\n",
            "Foramen_Mágnum_Position: semi-anterior\n",
            "Canine Size: small\n",
            "Canines_Shape: conicalls\n",
            "Tooth_Enamel: thick-medium\n",
            "Tecno: no\n",
            "Tecno_type: no\n",
            "biped: high probability\n",
            "Arms: climbing\n",
            "Foots: climbing\n",
            "Diet: soft fruits\n",
            "Sexual_Dimorphism: medium-high\n",
            "Hip: wide\n",
            "Vertical_Front: no\n",
            "Anatomy: old\n",
            "Migrated: no\n",
            "Skeleton: light' metadata={'source': '/content/Evolution_DataSets.csv', 'row': 1}\n"
          ]
        }
      ]
    },
    {
      "cell_type": "markdown",
      "source": [
        "### Customizing the CSV parsing and loading"
      ],
      "metadata": {
        "id": "Fx8hl_6QXvX-"
      }
    },
    {
      "cell_type": "code",
      "source": [
        "loader = CSVLoader(\n",
        "    file_path=file_path,\n",
        "    csv_args={\n",
        "        \"delimiter\": \",\",\n",
        "        \"quotechar\": '\"',\n",
        "        \"fieldnames\": [\"Diet\", \"Foots\", \"Hip\"],\n",
        "    },\n",
        ")\n",
        "\n",
        "data = loader.load()\n",
        "for record in data[:2]:\n",
        "    print(record)"
      ],
      "metadata": {
        "colab": {
          "base_uri": "https://localhost:8080/"
        },
        "id": "8IbakjaDXx0Q",
        "outputId": "445b9d8e-f3b7-4669-d5a9-a381a9a2d598"
      },
      "execution_count": 65,
      "outputs": [
        {
          "output_type": "stream",
          "name": "stdout",
          "text": [
            "page_content='Diet: Genus_&_Specie\n",
            "Foots: Time\n",
            "Hip: Location\n",
            "None: Zone,Current_Country,Habitat,Cranial_Capacity,Height,Incisor_Size,Jaw_Shape,Torus_Supraorbital,Prognathism,Foramen_Mágnum_Position,Canine Size,Canines_Shape,Tooth_Enamel,Tecno,Tecno_type,biped,Arms,Foots,Diet,Sexual_Dimorphism,Hip,Vertical_Front,Anatomy,Migrated,Skeleton' metadata={'source': '/content/Evolution_DataSets.csv', 'row': 0}\n",
            "page_content='Diet: hominino Orrorin tugenencin\n",
            "Foots: 6.04112375\n",
            "Hip: Africa\n",
            "None: oriental,Kenya,forest,144.5141,110.24323,small,conical,very protruding,high,posterior,big,conicalls,thick,no,no,low probability,climbing,climbing,dry fruits,high,wide,no,old,no,light' metadata={'source': '/content/Evolution_DataSets.csv', 'row': 1}\n"
          ]
        }
      ]
    },
    {
      "cell_type": "markdown",
      "source": [
        "# Cargar HTML y Directorio con LangChain"
      ],
      "metadata": {
        "id": "Y_QY5I1CYKjh"
      }
    },
    {
      "cell_type": "code",
      "source": [
        "! pip install bs4\n"
      ],
      "metadata": {
        "colab": {
          "base_uri": "https://localhost:8080/"
        },
        "id": "Fi9v4ZvnYNNz",
        "outputId": "581ec669-c40a-4100-e766-180a25d76986"
      },
      "execution_count": 70,
      "outputs": [
        {
          "output_type": "stream",
          "name": "stdout",
          "text": [
            "Collecting bs4\n",
            "  Downloading bs4-0.0.2-py2.py3-none-any.whl.metadata (411 bytes)\n",
            "Requirement already satisfied: beautifulsoup4 in /usr/local/lib/python3.10/dist-packages (from bs4) (4.12.3)\n",
            "Requirement already satisfied: soupsieve>1.2 in /usr/local/lib/python3.10/dist-packages (from beautifulsoup4->bs4) (2.6)\n",
            "Downloading bs4-0.0.2-py2.py3-none-any.whl (1.2 kB)\n",
            "Installing collected packages: bs4\n",
            "Successfully installed bs4-0.0.2\n"
          ]
        }
      ]
    },
    {
      "cell_type": "code",
      "source": [
        "from langchain_community.document_loaders import BSHTMLLoader\n",
        "\n",
        "loader = BSHTMLLoader(\"/content/Wikipedia, la enciclopedia libre.html\")\n",
        "data = loader.load()\n",
        "\n",
        "print(data)"
      ],
      "metadata": {
        "colab": {
          "base_uri": "https://localhost:8080/"
        },
        "id": "WTAGdaeBcl_S",
        "outputId": "b47bbfc4-ef2c-4bb4-e754-c60c0863beca"
      },
      "execution_count": 75,
      "outputs": [
        {
          "output_type": "stream",
          "name": "stdout",
          "text": [
            "[Document(metadata={'source': '/content/Wikipedia, la enciclopedia libre.html', 'title': 'Wikipedia, la enciclopedia libre'}, page_content=\"\\n\\n\\nWikipedia, la enciclopedia libre\\n\\n\\n\\n\\n\\n\\n\\n\\n\\n\\n\\n\\n\\n\\n\\n\\n\\n\\n\\n\\n\\n\\n\\n\\n\\n\\n\\n\\nIr al contenido\\n\\n\\n\\n\\n\\n\\n\\nMenú principal\\n\\n\\n\\n\\n\\nMenú principal\\nmover a la barra lateral\\nocultar\\n\\n\\n\\n\\t\\tNavegación\\n\\t\\n\\n\\nPortadaPortal de la comunidadActualidadCambios recientesPáginas nuevasPágina aleatoriaAyudaNotificar un error\\n\\n\\n\\n\\n\\n\\n\\n\\n\\n\\n\\n\\n\\n\\n\\n\\n\\n\\n\\nBuscar\\n\\n\\n\\n\\n\\n\\n\\n\\n\\n\\n\\nBuscar\\n\\n\\n\\n\\n\\n\\n\\n\\n\\n\\n\\n\\n\\n\\n\\nDonaciones\\n\\n\\n\\n\\n\\n\\n\\n\\nApariencia\\n\\n\\n\\n\\n\\n\\n\\n\\n\\n\\n\\n\\n\\n\\n\\n\\nCrear una cuenta\\n\\nAcceder\\n\\n\\n\\n\\n\\n\\n\\n\\nHerramientas personales\\n\\n\\n\\n\\n\\n Crear una cuenta Acceder\\n\\n\\n\\n\\n\\n\\t\\tPáginas para editores desconectados más información\\n\\n\\n\\nContribucionesDiscusión\\n\\n\\n\\n\\n\\n\\n\\n\\n\\n\\n\\n\\n\\n\\n\\n\\n\\n\\n\\n\\n\\n\\n\\n\\n\\n\\n\\nWikipedia:Portada\\n\\n\\n\\n\\n\\n\\n\\n\\n\\n\\nPortadaDiscusión\\n\\n\\n\\n\\n\\nespañol\\n\\n\\n\\n\\n\\n\\n\\n\\n\\n\\n\\n\\n\\n\\n\\n\\n\\nLeerVer código fuenteVer historial\\n\\n\\n\\n\\n\\n\\n\\nHerramientas\\n\\n\\n\\n\\n\\nHerramientas\\nmover a la barra lateral\\nocultar\\n\\n\\n\\n\\t\\tAcciones\\n\\t\\n\\n\\nLeerVer código fuenteVer historial\\n\\n\\n\\n\\n\\n\\t\\tGeneral\\n\\t\\n\\n\\nLo que enlaza aquíCambios en enlazadasSubir archivoPáginas especialesEnlace permanenteInformación de la páginaObtener URL acortadoDescargar código QRElemento de Wikidata\\n\\n\\n\\n\\n\\n\\t\\tImprimir/exportar\\n\\t\\n\\n\\nCrear un libroDescargar como PDFVersión para imprimir\\n\\n\\n\\n\\n\\n\\t\\tEn otros proyectos\\n\\t\\n\\n\\nWikimedia CommonsFundación WikimediaMediaWikiMeta-WikiDivulgación de WikimediaWikisource multilingüeWikiespeciesWikilibrosWikidataWikifuncionesWikimaníaWikinoticiasWikiquoteWikisourceWikiversidadWikiviajesWikcionario\\n\\n\\n\\n\\n\\n\\n\\n\\n\\n\\n\\n\\n\\n\\n\\n\\n\\n\\n\\n\\n\\nApariencia\\nmover a la barra lateral\\nocultar\\n\\n\\n\\n\\n\\n\\n\\n\\nDe Wikipedia, la enciclopedia libre\\n\\n\\n\\n\\n\\n\\nBienvenidos a Wikipedia,\\nla enciclopedia de contenido libreque todos pueden editar.\\n\\nBuscar en 1\\xa0983\\xa0467 artículos\\n\\n\\n1\\xa0983\\xa0467 artículos en español.\\n\\nCafé\\n¿Cómo colaborar?\\nPrimeros pasos\\nAyuda\\nContacto\\n\\n\\n\\n\\n\\n\\nArtículo destacadoLike a Virgin\\nLike a Virgin\\nLike a Virgin es el segundo álbum de estudio de la cantante estadounidense Madonna, publicado el 12 de noviembre de 1984 por la compañía Sire Records. Luego del lanzamiento de su álbum debut, Madonna quería consolidar su futuro en la industria musical basándose en el éxito obtenido con su primer disco. Para ello, tomó la decisión de convertirse en uno de los productores del proyecto, pero los ejecutivos de Warner Bros. no estuvieron de acuerdo en otorgarle la libertad creativa que ella deseaba. Finalmente se eligió a Nile Rodgers como el principal productor del disco, gracias al trabajo que llevó a cabo junto con David Bowie. En 1985, se lanzó una versión internacional que incluyó «Into the Groove» como pista adicional; en 2001, Warner Bros. Records publicó una versión remasterizada con dos remezclas adicionales.\\nEl álbum fue grabado en el Power Station Studio en Nueva York durante un breve período. Rodgers contrató a sus antiguos compañeros de Chic: Bernard Edwards, bajista, y Tony Thompson, batería; ambos colaboraron en varias pistas. Además, Rodgers aceptó ser el guitarrista, luego de que Edwards lo solicitara como requisito para trabajar en el proyecto. Jason Corsaro, el ingeniero de audio, lo persuadió a utilizar la grabación digital, una técnica recién implementada en aquel entonces. Steven Meisel tomó las fotografías y diseñó la portada. Madonna quería que el título y la portada hicieran un vínculo provocativo entre su propio nombre religioso, Madonna —el título católico para la Virgen María—, y el concepto cristiano de la Inmaculada Concepción. Junto con Rodgers, también colaboró con su antigua pareja Stephen Bray, con quien compuso varias canciones. La música está orientada hacia el dance pop, pero algunas melodías también incorporan elementos del new wave.\\n\\n\\n\\n Leer \\n Todos los artículos destacados \\n\\n\\n\\n Candidatos \\nAnteriores:\\n Gueorgui Chicherin \\n Darling in the Franxx \\n Viacheslav von Pleve \\n\\n\\n\\nArtículo buenoBahía de Algeciras\\nBahía de Algeciras\\nLa bahía de Algeciras (en inglés: Bay of Gibraltar) se encuentra situada en el sur de la península ibérica, en la orilla norte del estrecho de Gibraltar. Comprende el tramo de costa delimitado por punta Carnero y punta Europa con un fondo de unos 10\\xa0km, una anchura mínima de 8\\xa0km, una superficie de 7500\\xa0ha y con profundidades de hasta 400\\xa0m.\\n\\n\\n\\n Leer \\n Todos los artículos buenos \\n\\n\\n\\n Candidatos \\nAnteriores:\\n Gambler \\n Madness \\n Far Cry 3 \\n\\n\\n\\nRecurso del día\\nLas cuatro estaciones\\n\\nLas cuatro estaciones\\n\\n\\nLas cuatro estaciones es el título de cuatro conciertos para violín y orquesta reunidos, y unas de las obras más recordadas y admiradas de Antonio Vivaldi. Éstas se encuentran contenidas en Il cimento dell'armonia e dell'inventione Op.8. El primer libro comienza con Las cuatro estaciones, una obra descriptiva o programática que contiene cuatro conciertos (La primavera, El verano, El otoño y El invierno) que evocan, a través de elementos de lenguaje musical, distintos aspectos de las estaciones del año.\\n\\n\\n\\n Archivo \\n\\n\\n\\nPortales\\n\\nArtes\\nArtes: \\nArquitectura – \\nCine – \\nDanza –\\nLiteratura – \\nMúsica – \\nMúsica clásica – \\nPintura – \\nTeatro\\n\\n\\n\\nCiencias sociales\\nCiencias sociales:\\nComunicación –\\nDeporte –\\nDerecho – \\nEconomía –\\nFeminismo – \\nFilosofía – \\nLGBT – \\nLingüística – \\nPsicología – \\nSociología\\n\\n\\n\\nCiencias naturales\\nCiencias naturales: \\nAstronomía – \\nBiología – \\nBotánica – \\nFísica – \\nMedicina – \\nMatemática – \\nQuímica\\n\\n\\n\\nGeografía\\nGeografía: \\nÁfrica – \\nAmérica – \\nAntártida –\\nAsia – \\nEuropa – \\nOceanía – \\nPaíses\\n\\n\\n\\nHistoria\\nHistoria: \\nPrehistoria – \\nEdad Antigua – \\nEdad Media – \\nEdad Moderna – \\nEdad Contemporánea\\n\\n\\n\\nPolítica\\nPolítica:\\nMarxismo  – \\nNacionalismo –\\nSocialismo – \\nTerrorismo\\n\\n\\n\\nReligión\\nReligión:\\nAteísmo – \\nBudismo – \\nCristianismo  – \\nIglesia católica –\\nIslam – \\nJudaísmo –\\nMitología\\n\\n\\n\\nTecnologías\\nTecnologías: \\nBiotecnología – \\nExploración espacial – \\nInformática – \\nIngeniería – \\nSoftware libre – \\nVideojuegos\\n\\n\\n\\n\\n\\n\\n\\nActualidad\\nGuerra Israel-Gaza - Guerra Israel-Hezbolá - Invasión israelí del Líbano\\nInvasión rusa de Ucrania\\nHuracán Milton\\n13-22 de octubre: Series de campeonato de las Grandes Ligas de Béisbol\\n13 de octubre: Primera vuelta de las elecciones parlamentarias de Lituania\\n12-20 de octubre: Copa América de vela\\n12-19 de octubre: Campeonato Mundial de Curling Mixto\\n12 de octubre: Giro de Lombardía\\n12 de octubre: AEW WrestleDream\\n12 de octubre: Máxima aproximación del cometa C/2023 A3 (Tsuchinshan–ATLAS)\\n10-20 de octubre: Final de la WNBA\\n7-13 de octubre: Torneo de Wuhan de tenis\\n4-19 de octubre: Campeonato Sudamericano de Fútbol Sub-15\\n3-19 de octubre: Copa Libertadores Femenina\\n2-13 de octubre: Masters de Shanghái de tenis\\n\\nFallecimientos\\n11 de octubre: Vicente Juan Segura, obispo católico español (69)\\n11 de octubre: Fleur Adcock, poetisa neozelandesa (90)\\n11 de octubre: María Teresa Cervantes, poetisa española (92)\\n10 de octubre: El Taiger, cantante cubano (37)\\n10 de octubre: Peter Cormack, futbolista y entrenador británico (78)\\n10 de octubre: Brian Lockwood, jugador y entrenador de rugby británico (78)\\n10 de octubre: Don Marshall, jugador de hockey sobre hielo canadiense (92)\\nLa activista estadounidense Ethel Kennedy\\n10 de octubre: Ethel Kennedy, activista estadounidense (96; en la imagen superior)\\n9 de octubre: Francisco Javier Carrera Noriega, político español (59)\\n9 de octubre: Eddie Miró, presentador, actor y humorista puertorriqueño (89)\\n9 de octubre: Aleksandr Puchkov, atleta ruso (67)\\nEl futbolista alemán Dieter Burdenski\\n9 de octubre: Dieter Burdenski, futbolista alemán (73; en la imagen inferior)\\n9 de octubre: Ratan Tata, empresario indio (86)\\n9 de octubre: Rudy Márquez, músico, productor y presentador venezolano (81)\\n9 de octubre: Leif Segerstam, compositor y director de orquesta finlandés (80)\\n9 de octubre: George Baldock, futbolista anglogriego (31)\\n9 de octubre: Ana Cano Díaz, política española (58)\\n9 de octubre: Elisa Montés, actriz española (94)\\n9 de octubre: Antonia Heredia Herrera, archivista e historiadora española (89)\\n8 de octubre: Pat Fischer, jugador de fútbol americano estadounidense (84)\\n8 de octubre: Joseph Haydar, halterófilo y empresario australiano (85)\\n8 de octubre: Abdul Salaam, jugador de fútbol americano estadounidense (71)\\n8 de octubre: Armando de Armas, escritor cubano (65)\\n8 de octubre: Jorge Arriagada, músico chileno (81)\\n8 de octubre: Luis Tiant, beisbolista cubano (83)\\n8 de octubre: Artiom Yenin, futbolista ruso (48)\\n7 de octubre: Nicholas Pryor, actor estadounidense (89)\\n\\nConmemoraciones y fiestas\\n13 de octubre: Día Internacional para la Reducción del Riesgo de Desastres\\n12 de octubre: Día de la Raza / Fiesta Nacional de España\\n12 de octubre: Día Nacional de Guinea Ecuatorial\\n11-12 de octubre: Yom Kipur\\n11 de octubre: Día Internacional de la Niña\\n\\nVéase también: Categoría:Actualidad, 2024, Categoría:2024\\n\\n\\n\\n Otros eventos actuales \\n\\n\\n\\n Categoría de actualidad \\n Año 2024 \\n Categoría 2024 \\n Plantilla \\n\\n\\n\\nEfemérides12 de octubre\\n\\n1924 (hace 100 años): Fallece Anatole France, escritor francés (n. 1844), premio Nobel de literatura en 1921 (en la imagen).\\n1924 (hace 100 años): Se funda la Federación Colombiana de Fútbol.\\n1974 (hace 50 años): En Estados Unidos, se emite el último episodio de Star Trek: La serie animada.\\n1999 (hace 25 años): Nace Jens Petter Hauge, futbolista noruego.\\n1999 (hace 25 años): Fallece Wilt Chamberlain, baloncestista estadounidense (n. 1936).\\n\\n\\n 11 de octubre \\n 12 de octubre \\n 13 de octubre \\n\\n\\n\\n Plantilla \\n\\n\\n\\nOtros proyectos de la Fundación Wikimedia\\n\\n\\nWikimedia Commons\\n\\nCommonsImágenes y multimedia\\n\\n\\n\\nWikcionario\\n\\nWikcionarioDiccionario libre\\n\\n\\nWikidata\\n\\nWikidataBase de datos libre\\n\\n\\n\\nWikilibros\\n\\nWikilibrosLibros de texto y manuales\\n\\n\\nWikinoticias\\n\\nWikinoticiasNoticias libres\\n\\n\\n\\nWikiquote\\n\\nWikiquoteColección de citas\\n\\n\\nWikisource\\n\\nWikisourceBiblioteca libre\\n\\n\\n\\nWikispecies\\n\\nWikispeciesDirectorio de especies\\n\\n\\nWikiversidad\\n\\nWikiversidadRecursos de aprendizaje\\n\\n\\n\\nWikiviajes\\n\\nWikiviajesGuía de viajes\\n\\n\\nMeta-Wiki – Coordinación de proyectos\\n\\n\\n\\n\\n\\n\\n\\n\\n\\nObtenido de «https://es.wikipedia.org/w/index.php?title=Wikipedia:Portada&oldid=149134229»\\n\\n\\n\\n\\n62 idiomas\\n\\n\\n\\n\\nAragonésالعربيةAsturianuAymar aruБългарскиবিষ্ণুপ্রিয়া মণিপুরীBosanskiCatalàChavacano de ZamboangaCebuanoChamoruČeštinaDanskDeutschΕλληνικάEnglishEsperantoEestiEuskaraEstremeñuفارسیSuomiFrançaisGalegoAvañe'ẽעבריתHrvatskiMagyarBahasa IndonesiaItaliano日本語한국어LatinaLadinoLombardLietuviųBahasa MelayuMirandésNāhuatlनेपाल भाषाNederlandsNorsk nynorskNorsk bokmålOccitanPapiamentuPolskiPortuguêsRuna SimiRomânăРусскийSimple EnglishSlovenčinaSlovenščinaСрпски / srpskiSvenskaతెలుగుไทยTagalogTürkçeУкраїнськаTiếng Việt中文\\n\\n\\n\\n\\n\\n\\n\\n\\n\\n\\n Esta página se editó por última vez el 8 feb 2023 a las 00:22.\\nEl texto está disponible bajo la Licencia Creative Commons Atribución-CompartirIgual 4.0; pueden aplicarse cláusulas adicionales. Al usar este sitio aceptas nuestros términos de uso y nuestra política de privacidad.Wikipedia® es una marca registrada de la Fundación Wikimedia, una organización sin ánimo de lucro.\\n\\n\\nPolítica de privacidad\\nAcerca de Wikipedia\\nLimitación de responsabilidad\\nCódigo de conducta\\nDesarrolladores\\nEstadísticas\\nDeclaración de cookies\\nVersión para móviles\\n\\n\\n\\n\\n\\n\\n\\n\\n\\n\\n\\n\\n\\n\")]\n"
          ]
        }
      ]
    },
    {
      "cell_type": "markdown",
      "source": [
        "# Text Splitters"
      ],
      "metadata": {
        "id": "OHnS76Z2d4U2"
      }
    },
    {
      "cell_type": "markdown",
      "source": [
        "Text Splitter:\n",
        "\n",
        "# Resumen de Text Splitter en LangChain\n",
        "\n",
        "1. **Text Splitter**:\n",
        "   - Herramienta para dividir textos largos en fragmentos más pequeños.\n",
        "   - Útil debido a los límites de tokens de los modelos de lenguaje.\n",
        "\n",
        "2. **Motivos de uso**:\n",
        "   - Procesar grandes volúmenes de texto.\n",
        "   - Mejorar el análisis, la búsqueda y la generación de respuestas.\n",
        "   - Evitar exceder límites de tokens en los LLMs.\n",
        "\n",
        "3. **Tipos comunes de Text Splitters**:\n",
        "   - **CharacterTextSplitter**: Divide por número de caracteres.\n",
        "   - **RecursiveCharacterTextSplitter**: Intenta dividir por delimitadores (párrafos, oraciones) y luego por caracteres.\n",
        "   - **TokenTextSplitter**: Divide según tokens, útil para modelos que usan tokens específicos (como OpenAI).\n",
        "\n",
        "4. **Aplicaciones principales**:\n",
        "   - Carga y procesamiento de textos largos.\n",
        "   - Análisis y generación de resúmenes.\n",
        "   - Búsqueda de información dentro de fragmentos.\n",
        "\n",
        "5. **Características clave**:\n",
        "   - Definir tamaño de fragmentos (palabras, caracteres, tokens).\n",
        "   - Posibilidad de solapamiento entre fragmentos para preservar contexto.\n"
      ],
      "metadata": {
        "id": "T-xUIwtdeQHk"
      }
    },
    {
      "cell_type": "code",
      "source": [
        "! pip install -qU langchain-text-splitters## separar el texto"
      ],
      "metadata": {
        "id": "va1Z9vzkeckA"
      },
      "execution_count": 77,
      "outputs": []
    },
    {
      "cell_type": "code",
      "source": [
        "from langchain.text_splitter import RecursiveCharacterTextSplitter## separar el texto"
      ],
      "metadata": {
        "id": "48daQgM0fG8I"
      },
      "execution_count": 78,
      "outputs": []
    },
    {
      "cell_type": "code",
      "source": [
        "with open(\"/content/example.txt\") as f:## abrir el archivo\n",
        "  state_of_the_union= f.read()## leer el archivo"
      ],
      "metadata": {
        "id": "TfnSDkKCfLFd"
      },
      "execution_count": 79,
      "outputs": []
    },
    {
      "cell_type": "code",
      "source": [
        "text_splitter= RecursiveCharacterTextSplitter(\n",
        "    chunk_size=100,## nuneor de caraxctes por chunk\n",
        "    chunk_overlap=20,## separacion entre chunks\n",
        "    length_function=len,## funcion de longitud\n",
        "    is_separator_regex=False ## regex para separar los chunks\n",
        ")"
      ],
      "metadata": {
        "id": "Q988ptQFfgIH"
      },
      "execution_count": 81,
      "outputs": []
    },
    {
      "cell_type": "code",
      "source": [
        "text = text_splitter.create_documents([state_of_the_union])## crear los chunks"
      ],
      "metadata": {
        "id": "QVS9CyL2gItF"
      },
      "execution_count": 82,
      "outputs": []
    },
    {
      "cell_type": "code",
      "source": [
        "text"
      ],
      "metadata": {
        "colab": {
          "base_uri": "https://localhost:8080/"
        },
        "id": "gZVEUEz2gO7T",
        "outputId": "e8973590-e5c0-4168-ac31-9727693f2fd1"
      },
      "execution_count": 83,
      "outputs": [
        {
          "output_type": "execute_result",
          "data": {
            "text/plain": [
              "[Document(metadata={}, page_content='Lorem ipsum dolor sit amet, consectetur adipiscing elit. Sed do eiusmod tempor incididunt ut labore'),\n",
              " Document(metadata={}, page_content='ut labore et dolore magna aliqua. Ut enim ad minim veniam, quis nostrud exercitation ullamco'),\n",
              " Document(metadata={}, page_content='ullamco laboris nisi ut aliquip ex ea commodo consequat. Duis aute irure dolor in reprehenderit in'),\n",
              " Document(metadata={}, page_content='in reprehenderit in voluptate velit esse cillum dolore eu fugiat nulla pariatur. Excepteur sint'),\n",
              " Document(metadata={}, page_content='Excepteur sint occaecat cupidatat non proident, sunt in culpa qui officia deserunt mollit anim id'),\n",
              " Document(metadata={}, page_content='mollit anim id est laborum.')]"
            ]
          },
          "metadata": {},
          "execution_count": 83
        }
      ]
    },
    {
      "cell_type": "code",
      "source": [
        "text[2]## ingresar al framento 2"
      ],
      "metadata": {
        "colab": {
          "base_uri": "https://localhost:8080/"
        },
        "id": "On7k3RHAgWpw",
        "outputId": "b3d3ed26-ed68-4c78-dd2e-aec3c363c064"
      },
      "execution_count": 84,
      "outputs": [
        {
          "output_type": "execute_result",
          "data": {
            "text/plain": [
              "Document(metadata={}, page_content='ullamco laboris nisi ut aliquip ex ea commodo consequat. Duis aute irure dolor in reprehenderit in')"
            ]
          },
          "metadata": {},
          "execution_count": 84
        }
      ]
    },
    {
      "cell_type": "markdown",
      "source": [
        "# Introducción a Embeddings\n",
        "\n",
        "\n",
        "1. **Definición de Embeddings**:\n",
        "   - Representaciones vectoriales de objetos complejos (palabras, imágenes, etc.).\n",
        "   - Transforman datos en vectores de números que los modelos de machine learning pueden procesar.\n",
        "\n",
        "2. **Contexto en Procesamiento de Lenguaje Natural (NLP)**:\n",
        "   - Los embeddings en NLP representan palabras o frases.\n",
        "   - Capturan las relaciones semánticas y contextuales entre palabras.\n",
        "   - Palabras con significados similares están más cercanas en el espacio vectorial.\n",
        "\n",
        "3. **Ejemplos de Embeddings populares en NLP**:\n",
        "   - **Word2Vec**: Representa palabras en un espacio vectorial, ubicando palabras similares más cerca.\n",
        "   - **GloVe**: Embeddings basados en la co-ocurrencia de palabras en grandes corpus de texto.\n",
        "   - **BERT**: Modelo avanzado que genera embeddings contextuales, considerando las palabras antes y después de cada término.\n",
        "\n",
        "4. **Aplicaciones de Embeddings**:\n",
        "   - **Clasificación de texto**: Usar embeddings para categorizar documentos.\n",
        "   - **Búsqueda semántica**: Encontrar elementos similares a partir de su representación en el espacio vectorial.\n",
        "   - **Análisis de sentimientos**: Utilizar embeddings para mejorar el análisis y clasificación de sentimientos en texto.\n"
      ],
      "metadata": {
        "id": "g_zNVJelgik1"
      }
    },
    {
      "cell_type": "code",
      "source": [
        "from langchain_openai import OpenAIEmbeddings## embedder\n",
        "\n",
        "embeddings_model = OpenAIEmbeddings()## embedder\n",
        "embeddings = embeddings_model.embed_documents(\n",
        "    [\n",
        "        \"Hi there!\",\n",
        "        \"Oh, hello!\",\n",
        "        \"What's your name?\",\n",
        "        \"My friends call me World\",\n",
        "        \"Hello World!\"\n",
        "    ]\n",
        ")"
      ],
      "metadata": {
        "id": "dDmwkvW4g3cJ"
      },
      "execution_count": 93,
      "outputs": []
    },
    {
      "cell_type": "code",
      "source": [
        "print(embedding)"
      ],
      "metadata": {
        "colab": {
          "base_uri": "https://localhost:8080/"
        },
        "id": "4v-4jvIfh7Qc",
        "outputId": "29f8a16d-8da8-428f-f880-d9dc4df0bd8a"
      },
      "execution_count": 94,
      "outputs": [
        {
          "output_type": "stream",
          "name": "stdout",
          "text": [
            "[[-0.008024327456951141, -0.0035825250670313835, -0.0003658125060610473, -0.0056348759680986404, -0.024562109261751175, 0.01616763137280941, -0.014911765232682228, -0.0045607793144881725, -0.0010534408502280712, -0.034291770309209824, 0.016008995473384857, 0.01726486347615719, -0.009128168225288391, 0.0021101864986121655, 0.008665480650961399, -8.892280311556533e-05, 0.024205178022384644, 0.00029868146521039307, 0.0085002351552248, -0.007482321932911873, 0.0054795448668301105, 0.007356734946370125, -0.011659731157124043, 0.02466786652803421, -0.028237171471118927, -0.023200485855340958, 0.0035527809523046017, -0.03532290458679199, 0.019393226131796837, -0.009927957318723202, 0.022023936733603477, -0.017317742109298706, 0.0016020563198253512, -0.03632759675383568, 0.000641153019387275, -0.012631375342607498, -0.01053606066852808, -0.017225204035639763, 0.008163133636116982, -0.011018577963113785, 0.00908189918845892, 0.016683198511600494, 0.007125391159206629, -0.02136295475065708, -0.0048879655078053474, -0.00023485533893108368, 0.00418071448802948, -0.018137359991669655, -0.009762711822986603, 0.022090034559369087, 0.020464017987251282, -0.01091943122446537, -0.032229505479335785, -0.0007977232453413308, -0.006867608055472374, 0.004911100026220083, 0.006107478402554989, 0.02887171506881714, 0.010152691043913364, -0.004022078588604927, -0.032573215663433075, 0.008202793076634407, -0.012637984938919544, 0.00696014566347003, 0.02148193120956421, 0.002214291365817189, 0.020754849538207054, 0.006973365321755409, 0.006894047372043133, 0.007376564666628838, 0.01899663731455803, 0.009346292354166508, 4.084665124537423e-05, -0.002795955864712596, 0.011587022803723812, -0.006570165976881981, -0.021680226549506187, 0.004382313694804907, 0.008890214376151562, -0.0051887123845517635, 0.013365065678954124, -0.024998357519507408, -0.020199624821543694, 0.020807728171348572, 0.00021120456221979111, -0.007105561904609203, 0.0015111712273210287, 0.02895103394985199, -0.013437774032354355, -0.014065707102417946, -0.007303856313228607, 0.019181711599230766, 0.01212902832776308, 0.015215816907584667, -0.015903238207101822, 0.01768789067864418, 0.0019333737436681986, 0.032864049077034, -0.008817506022751331, -0.026545057073235512, -0.006024855189025402, -0.003526341635733843, 0.006411530077457428, -0.0033594435080885887, -0.013021355494856834, -0.01216207817196846, -0.0023349206894636154, 0.004184019286185503, 0.02728535793721676, 0.0028653591871261597, -0.009875078685581684, 0.013801314868032932, -0.005971977021545172, -0.03587812930345535, 0.010060153901576996, 2.4967581339296885e-05, -0.0018474460812285542, -0.0214158333837986, -0.022473404183983803, -0.016008995473384857, 0.010800453834235668, 0.015519868582487106, 0.016418805345892906, -0.013695557601749897, 0.027258917689323425, 0.005370482802391052, -0.021336514502763748, -0.03281117230653763, -0.009240535087883472, -0.0035395612940192223, 0.02984996885061264, 0.0035395612940192223, 0.01464737206697464, 0.02300219051539898, -0.024919040501117706, 0.024403473362326622, -0.009009191766381264, 0.031621403992176056, -0.03447684645652771, -0.015850359573960304, -0.004623572342097759, 0.02661115489900112, -0.009564416483044624, -0.015295134857296944, -0.00981559045612812, 0.021191097795963287, 0.02053011581301689, -0.023134388029575348, 0.011613462120294571, -0.024284496903419495, 0.00359243992716074, 0.000372422335203737, 0.020358260720968246, -0.0005721629713661969, 0.02025250345468521, 0.03442396968603134, 0.0016268431209027767, -0.00013963255332782865, -0.010813673958182335, -0.01941966637969017, 0.0038403081707656384, 0.004580608569085598, -0.003364400938153267, -0.019023075699806213, 0.024165520444512367, 0.032573215663433075, 0.020437579602003098, 0.011487876065075397, -0.0007419528556056321, -0.006451189052313566, -0.02265848033130169, 0.027655508369207382, -0.03897152841091156, 0.024786842986941338, -0.017436718568205833, 0.0030157326254993677, -0.007614518515765667, -0.0028339624404907227, -0.014449077658355236, -0.0055786920711398125, -0.033604349941015244, 0.016828613355755806, 0.015995776280760765, 0.0170004703104496, 0.0016598922666162252, -0.0033908402547240257, 0.028580883517861366, -0.010727745480835438, 0.0012219913769513369, -0.0054134465754032135, 0.02175954356789589, 0.022301549091935158, 0.001400456647388637, 0.0023349206894636154, -0.6916520595550537, 0.00014717188605573028, 0.029188986867666245, 0.006586690433323383, 0.024218399077653885, 0.04264659062027931, 0.03019368089735508, 0.006966755259782076, 0.004878050647675991, 0.012690863572061062, -0.010251838713884354, 0.008381257764995098, -0.008196182548999786, -0.012809840962290764, -0.00768722640350461, -0.018071262165904045, -0.007964839227497578, -0.020054208114743233, 0.00461035268381238, 0.018388532102108, 0.005261420737951994, 0.02100602351129055, 0.00533743342384696, -0.005727413110435009, -0.011613462120294571, 0.0011699390597641468, 0.021918179467320442, 0.0065602511167526245, 0.011104505509138107, 0.003040519542992115, -0.014872105792164803, 0.017053348943591118, -0.0003517666191328317, 0.011633291840553284, 0.02818429283797741, -0.011011968366801739, -0.007198099512606859, -0.007674006745219231, 0.01319321058690548, 0.016273388639092445, -0.013536921702325344, 0.00718487985432148, 0.026981305330991745, 0.012737132608890533, -0.014303660951554775, 0.0014971253694966435, 0.008387868292629719, -0.008797677233815193, 0.006041380111128092, 0.003098355373367667, -0.006385090760886669, -0.0031148800626397133, -0.004785513039678335, 0.000672962807584554, -0.004065042361617088, -0.008526674471795559, 0.015030741691589355, 0.027470432221889496, 0.004676450975239277, 0.012928817421197891, -0.01385419350117445, 0.015176158398389816, -0.006348737049847841, -0.007759934291243553, -0.021508369594812393, 0.008473795838654041, -0.025461046025156975, 0.035957448184490204, 0.00299755553714931, -0.005317604169249535, 0.006252894178032875, 0.0055753872729837894, -0.007991278544068336, -0.009385951794683933, 0.028765957802534103, 0.02391434647142887, 0.007640957832336426, -0.004187324084341526, -0.005552252754569054, 0.019776595756411552, -0.0003990681725554168, 0.00021688487322535366, -0.01253883820027113, -0.013411334715783596, 0.011230092495679855, -0.021997496485710144, -0.026796231046319008, 0.0030933981761336327, 0.0021035766694694757, 0.017978724092245102, 0.026029489934444427, 0.010027104057371616, -0.01934034749865532, -0.0076012988574802876, 0.012770181521773338, -0.006467713508754969, -0.007026243954896927, 0.016669979318976402, 0.028290050104260445, 0.01323286909610033, -0.00490779522806406, -0.0031082702334970236, 0.0019185016863048077, 0.020477237179875374, 0.004732634872198105, 0.013933510519564152, 0.007132001221179962, 0.026373201981186867, 0.017119446769356728, -0.024403473362326622, 0.003217332297936082, -0.014158245176076889, -0.02749687246978283, 0.0002972355578094721, 0.01323286909610033, -0.03944743424654007, -0.0055753872729837894, 0.01122348289936781, 0.008341599255800247, -0.018626486882567406, 0.024985138326883316, 0.002795955864712596, 0.02921542525291443, 0.020067429170012474, 0.0025646120775491, 0.000577533442992717, -0.0006828775512985885, -0.01934034749865532, -0.01167295128107071, 0.0051226140931248665, -0.002367969835177064, -0.003913016524165869, 0.018983416259288788, -0.007032853551208973, 0.011593633331358433, 0.0040452126413583755, 0.015295134857296944, 0.006024855189025402, 0.014475516974925995, -0.010198960080742836, -0.017436718568205833, 0.02417873963713646, -0.014700250700116158, 0.013292358256876469, 0.004554169252514839, -0.01561240665614605, -0.022010717540979385, -0.01789940521121025, -0.000227419295697473, -0.0010236966190859675, -0.023240145295858383, 0.00033710108255036175, -0.00915460754185915, 0.008156524039804935, -0.016907932236790657, -0.004537644796073437, -0.006732106674462557, -0.025262750685214996, -0.019247809424996376, -0.014356539584696293, -0.001487210625782609, 0.0062661138363182545, -0.008632431738078594, 0.0007993757026270032, -0.017978724092245102, -0.007039463613182306, -0.020014550536870956, 0.013120502233505249, -0.018428191542625427, -0.030167240649461746, -0.021574469283223152, 0.0031347095500677824, -0.02156124822795391, 0.013437774032354355, 0.010278278030455112, -0.0024191958364099264, -0.013061014004051685, -0.003341266419738531, -0.008209402672946453, -0.012446300126612186, 0.007317075971513987, 0.0013930206187069416, 0.006447884254157543, 0.017859747633337975, 0.0025414777919650078, 0.018890880048274994, 0.020292162895202637, 0.019247809424996376, -0.007369954604655504, 0.006867608055472374, -0.007832642644643784, 0.0019003247143700719, -0.015110059641301632, 0.010972308926284313, -0.010370815172791481, -0.002232468454167247, -0.011230092495679855, 0.003823783714324236, 0.0007204709108918905, 0.02053011581301689, 0.03254677727818489, 0.012842889875173569, 0.022777456790208817, -0.01644524373114109, 0.009709833189845085, -0.033128444105386734, -0.004742549266666174, -0.007396393921226263, 0.014779568649828434, 0.011937343515455723, 0.012380202300846577, -0.02604271098971367, -0.03622183948755264, 0.018084481358528137, 0.02412586100399494, 0.018467850983142853, -0.013774875551462173, 0.010899601504206657, -0.011553973890841007, 0.007350125350058079, -0.00901580136269331, 0.010892991907894611, 0.009584246203303337, -0.01768789067864418, -0.023398779332637787, 0.011970393359661102, 0.029400501400232315, 0.03397449851036072, 0.018216677010059357, -0.02963845431804657, -0.014634151943027973, 0.01347082294523716, 0.00020149638294242322, -0.0021928094793111086, 0.0004845827934332192, 0.007971448823809624, 0.0105426711961627, 0.0022473405115306377, 0.034661922603845596, 0.008420917205512524, 0.008910044096410275, 0.012571887113153934, 0.039130162447690964, -0.00607773382216692, 0.023583855479955673, 0.017185544595122337, 0.02576509676873684, -0.00798466894775629, -0.006474323570728302, 0.03307556360960007, -0.0036717576440423727, 0.005135833751410246, -0.005360567942261696, 0.0030653062276542187, 0.019776595756411552, -0.018269555643200874, -0.025804756209254265, -0.001446725451387465, 0.013107283040881157, 0.030510952696204185, 0.011117725633084774, 0.011666340753436089, 0.0057703773491084576, -0.02093992568552494, 0.011236702091991901, -0.003893186803907156, -0.00022142913076095283, 0.008751408196985722, -0.010826893150806427, -0.01629982888698578, -0.017991943284869194, -0.009339682757854462, 0.02259238250553608, -0.0017664757324382663, 0.03125125169754028, 0.012181906960904598, 0.02908322960138321, 0.010350985452532768, 0.022063596174120903, 0.015348013490438461, 0.0034007548820227385, -0.028792398050427437, 0.00908189918845892, 0.0057075838558375835, 0.0014863844262436032, -0.024482792243361473, -0.021442271769046783, 0.01516293827444315, -0.003569305408746004, 0.002977726049721241, -0.004260031972080469, -0.003384230425581336, 0.006021550390869379, -0.030087923631072044, 0.006173576693981886, 0.024839721620082855, 0.007290637120604515, 0.006087648682296276, -0.00812347512692213, -0.016273388639092445, 0.014277221634984016, 0.004438497591763735, 0.017159106209874153, -0.0129155982285738, 0.002838919870555401, -0.010172520764172077, -0.005892659071832895, -0.021944617852568626, -0.0017549084732308984, 0.002695156028494239, 0.01645846478641033, 0.02238086797297001, -0.0020771375857293606, -0.0074691022746264935, 0.020622653886675835, 0.001958160661160946, -0.008586162701249123, 0.009875078685581684, 0.0268094502389431, 0.018203457817435265, -0.015268695540726185, -0.009564416483044624, -0.018547168001532555, 0.005658010020852089, 0.04669180512428284, 0.02736467495560646, 0.012010051868855953, -0.006223150063306093, -0.008797677233815193, -0.017357399687170982, -0.04309605807065964, -0.009042240679264069, 0.008414306677877903, 0.004940844140946865, 0.0024588548112660646, 0.006656093522906303, 0.015797480940818787, -0.001261650351807475, 0.013113892637193203, 0.009775931015610695, -0.004028688184916973, -0.011038407683372498, 0.004930929280817509, -0.003129752120003104, 0.00179621996358037, 0.00438892375677824, 0.0013946730177849531, 0.007693835999816656, 0.017119446769356728, -0.005456410348415375, 0.0005048253806307912, -0.0036023545544594526, -0.0010418737074360251, -0.018348874524235725, -0.010066763497889042, 0.016749296337366104, 0.0024803366977721453, 0.007006414234638214, -0.0037147216498851776, 0.02072841115295887, -0.017238423228263855, 0.006794900167733431, 0.011137555353343487, -0.0024968613870441914, 0.01216207817196846, -0.005456410348415375, -0.011904294602572918, -0.017238423228263855, 0.009121558628976345, -0.003929540980607271, -0.008976141922175884, 0.009405780583620071, -0.001946593401953578, -0.008394477888941765, 0.021124999970197678, -0.005836475640535355, -0.008632431738078594, -0.016551000997424126, 0.01782008819282055, 0.015771042555570602, -0.016352707520127296, -0.009610685519874096, -0.011005358770489693, -0.04367772489786148, -0.044259387999773026, -0.015929678454995155, -0.006933706346899271, -0.010926040820777416, -0.01692115142941475, -0.030696026980876923, -0.020093867555260658, -0.018560389056801796, -0.023821808397769928, -0.014105366542935371, -0.0014392894227057695, -0.017912626266479492, -0.022896433249115944, -0.016749296337366104, 0.016630319878458977, -0.00035651744110509753, -0.014766348525881767, 0.0007758282008580863, -0.01056911051273346, 0.008724968880414963, 0.0037378559354692698, -0.026492178440093994, -0.0008295330335386097, -0.014673811383545399, -0.0045012906193733215, 0.027946339920163155, 0.018295995891094208, 0.016947591677308083, 0.009095119312405586, 0.00908850971609354, 0.010033714585006237, -0.012922207824885845, 0.0064908480271697044, -0.02873951941728592, 0.014792787842452526, -0.018626486882567406, 0.01288915891200304, -0.009187656454741955, -0.010754184797406197, 0.0016574135515838861, -0.005261420737951994, -0.020331822335720062, -0.009822200052440166, 0.00811686459928751, 0.012333933264017105, -0.005221761763095856, -0.004524425137788057, 0.012836280278861523, -0.01900985650718212, -0.005965366959571838, -0.002371274633333087, -0.02937406115233898, 0.010840113274753094, -0.01803160272538662, 0.004537644796073437, 0.011791927739977837, 0.007105561904609203, 0.03127769008278847, -0.013523701578378677, -0.015427331440150738, -0.00013137026689946651, -0.023954005911946297, 0.0044979858212172985, 0.01178531814366579, 0.012281054630875587, 0.013384895399212837, -0.0022192487958818674, -0.023398779332637787, -0.02142905257642269, 0.0022390782833099365, -0.018573608249425888, 0.013398115523159504, -0.012624765746295452, -0.015229037031531334, -0.031542085111141205, -0.018124140799045563, -0.0027182905469089746, 0.031409889459609985, 0.004623572342097759, -0.014832447282969952, -0.023940786719322205, 0.012922207824885845, -0.0053506530821323395, -0.014330100268125534, -0.012585106305778027, -0.03772887960076332, -0.008619211614131927, 0.013867412693798542, -0.022896433249115944, 0.010721135884523392, 0.012069540098309517, -0.005228371359407902, -0.02452244982123375, -0.010892991907894611, -0.0050201620906591415, -0.028210733085870743, -0.012571887113153934, -0.0031578438356518745, 0.03474124148488045, 0.04222356155514717, 0.03323420137166977, -0.0013525354443117976, 0.0069535356014966965, 0.009280194528400898, -0.010370815172791481, -0.009894907474517822, -0.022909652441740036, -0.010522841475903988, -0.010562499985098839, 0.0015367843443527818, 0.0025662644766271114, 0.015731383115053177, -0.004967283457517624, 0.0100932028144598, 0.0027034184895455837, 0.011097895912826061, -0.015546307899057865, 0.00483508687466383, -0.014052487909793854, -0.015982557088136673, -0.009273584000766277, 0.0026521922554820776, -0.013107283040881157, 0.012406641617417336, -0.012796620838344097, -0.012975086458027363, 0.025791537016630173, 0.011798537336289883, 0.005334128625690937, 0.00925375521183014, 0.01665675826370716, -0.015704944729804993, -0.009663564153015614, 0.0127503527328372, 0.0028537919279187918, -0.010615378618240356, 0.00608103908598423, -0.014237563125789165, -0.01768789067864418, 0.022420525550842285, -0.010714526288211346, 0.02653183788061142, -0.005909183528274298, 0.010212179273366928, 0.012479349039494991, 0.010212179273366928, -0.007217928767204285, 0.00754842022433877, 0.014938204549252987, 0.003040519542992115, -0.0021928094793111086, -0.033683668822050095, -0.007759934291243553, -0.02030538208782673, 0.013239479623734951, 0.03296980634331703, -0.01513649895787239, 0.02031860128045082, -0.012895768508315086, -0.025540363043546677, -0.003757685422897339, 0.002255602739751339, 0.049362171441316605, 0.014660591259598732, 0.013411334715783596, 0.01721198484301567, -0.0019598130602389574, -0.02417873963713646, 0.02300219051539898, -0.023954005911946297, -0.003301607444882393, 0.030696026980876923, 0.035613738000392914, -0.017106227576732635, -0.0068543883971869946, 0.0014268959639593959, 0.029532697051763535, 0.0016235382063314319, -0.024905819445848465, -0.0005130876670591533, 0.01163990143686533, 0.0008906738949008286, -0.013788094744086266, -0.00038419608608819544, -0.04613657668232918, 0.001816049451008439, -0.005334128625690937, -0.017582133412361145, -0.0201864056289196, -0.0025216483045369387, -0.01996167190372944, 0.013391504995524883, -0.03516426682472229, 0.016194071620702744, 0.01670963689684868, -0.01644524373114109, -0.012756962329149246, -0.0006783332792110741, -0.026016270741820335, -0.0025513924192637205, 0.010959089733660221, 0.041694775223731995, -0.004881355911493301, 0.003949370235204697, 0.01516293827444315, 0.0005130876670591533, -0.022565942257642746, 0.010688086971640587, -0.011461436748504639, 0.02921542525291443, -0.017463156953454018, -0.008348208852112293, -0.006775070447474718, 0.006920486688613892, 0.005426666233688593, -0.005238286219537258, -0.01108467672020197, -0.008275500498712063, -0.015916459262371063, 0.010179130360484123, 0.01803160272538662, 0.010417084209620953, -0.008368038572371006, -0.00497389305382967, -0.013933510519564152, -0.001325269928202033, -0.014330100268125534, -0.007654177490621805, -0.010013884864747524, -0.02301540970802307, -0.019459323957562447, -0.0012376897502690554, -0.006632959470152855, 0.017991943284869194, 0.005975281819701195, -0.018573608249425888, 0.018917318433523178, 0.012532227672636509, -0.03373654559254646, 0.009147997945547104, -0.0008386215195059776, 0.0025712219066917896, -0.002726552775129676, 0.008308550342917442, 0.005651400424540043, -0.02419195882976055, 0.0349791944026947, -0.013827754184603691, -0.02992928773164749, -0.02142905257642269, 0.0014607713092118502, 0.0183092150837183, -0.0023382254876196384, -0.005443190690129995, 0.0011137555120512843, 0.017674671486020088, 0.00768722640350461, 0.013576580211520195, -0.013384895399212837, 0.012433080933988094, 0.0010617030784487724, 0.0011443259427323937, -0.0006952709518373013, -0.020834168419241905, -0.002179589821025729, 0.005192017648369074, -0.0011765488889068365, 0.011818367056548595, -0.023187266662716866, -0.01443585753440857, 0.008249061182141304, 0.020437579602003098, -0.004012163728475571, -0.01288915891200304, -0.02480006404221058, -0.001564876060001552, -0.014316881075501442, -0.00010379490413470194, -0.006474323570728302, -0.009848639369010925, -0.021799203008413315, -0.0070791225880384445, -0.014330100268125534, 0.012175297364592552, -0.019591521471738815, 0.00011577521217986941, -0.02887171506881714, -0.006028160452842712, -0.03992334380745888, -0.024575328454375267, -0.006586690433323383, 0.006001721136271954, 0.020503677427768707, -0.012862719595432281, -0.019988110288977623, 0.0023960615508258343, -0.03688282147049904, -0.026492178440093994, -0.02425805665552616, -0.012823060154914856, -0.005743938032537699, 0.006114087998867035, -0.01927424967288971, 0.02598983235657215, 0.004428582731634378, 0.025619681924581528, -0.007072512526065111, -0.01852072961628437, 0.010780624113976955, -0.012975086458027363, 0.012380202300846577, 0.001660718466155231, -0.026492178440093994, -0.023729272186756134, 0.023742491379380226, 0.005853000096976757, 0.01392029132694006, 0.013206429779529572, -0.004382313694804907, -0.019247809424996376, -0.005539033096283674, 0.002795955864712596, 0.0017400364158675075, 0.0048879655078053474, -0.002442330354824662, -0.01685505360364914, -0.013384895399212837, 0.005231676623225212, -0.003612269414588809, 0.008004497736692429, -0.01288915891200304, 0.005314299371093512, -0.009828809648752213, 0.0056447903625667095, -0.03682994470000267, -0.003913016524165869, -0.01760857366025448, -0.0085002351552248, 0.012426470406353474, -0.01142838690429926, -0.008202793076634407, 0.016841834411025047, 0.004405448213219643, -0.02023928426206112, -0.007211319170892239, 0.022698137909173965, 0.0005994284874759614, 0.0034404138568788767, -0.0027083756867796183, -0.005360567942261696, 0.0063222977332770824, -0.016894713044166565, -0.01817701943218708, -0.02916254848241806, -0.000944378727581352, -0.012267835438251495, -0.017251642420887947, -0.007422833237797022, 0.012519008480012417, 0.0033908402547240257, -0.018758682534098625, -0.004597133025527, -0.018956977874040604, 0.007759934291243553, 0.012029881589114666, -0.0041047013364732265, 0.0007146873394958675, -0.00798466894775629, 0.020556556060910225, 0.02929474413394928, -0.024429913610219955, -0.004802037961781025, 0.0118514159694314, 0.021296855062246323, 0.001446725451387465, 0.013226259499788284, 0.23668460547924042, -0.00179621996358037, -0.0065536415204405785, 0.018137359991669655, 0.018005162477493286, 0.0366184301674366, 0.0020308687817305326, -0.006200016010552645, 0.0024505925830453634, 0.018348874524235725, 0.03926236182451248, 0.006021550390869379, 0.0010707916226238012, 0.0018590132240206003, -0.008368038572371006, -0.010370815172791481, -0.005439885891973972, -0.02390112727880478, -0.028078535571694374, -0.03275829181075096, 0.0022655175998806953, -0.023755710572004318, 0.01754247583448887, -0.008334989659488201, 0.014568054117262363, -0.011930733919143677, -0.018758682534098625, 0.006636264268308878, 0.016815394163131714, 0.01419790368527174, -0.02605593018233776, -0.008923263289034367, 0.017925845459103584, 0.005985196679830551, -0.022354427725076675, -0.014660591259598732, 0.01167295128107071, -0.01652456261217594, 0.0201864056289196, -0.006497458089143038, 0.013450994156301022, -0.0007403003983199596, 0.006533811800181866, -0.008460575714707375, 0.005463020410388708, 0.008447356522083282, -0.0017367315012961626, -0.027655508369207382, 0.007455882616341114, 0.01754247583448887, -0.01288254838436842, 0.003430499229580164, 0.0029000607319176197, 0.009498318657279015, 0.02626744471490383, -0.020635873079299927, 0.030378755182027817, -0.013074234127998352, 0.009663564153015614, 0.005968671757727861, -0.012472739443182945, 0.024628207087516785, -0.022129693999886513, 0.024443132802844048, -0.026901988312602043, 0.0014401156222447753, -0.024231618270277977, -0.008308550342917442, 0.013748436234891415, 0.00040815668762661517, -0.0022770846262574196, -0.02383502945303917, 0.01569172367453575, -0.0072377584874629974, -0.02645251899957657, -0.021891741082072258, 0.03249390050768852, 0.023174045607447624, 0.04489393159747124, 0.00535395834594965, -0.019710497930645943, -0.006609824951738119, -0.024548890069127083, -0.03074890561401844, -0.03249390050768852, -0.03585169091820717, 0.006487543229013681, -0.004253422375768423, -0.011276361532509327, -0.013061014004051685, -0.0192874688655138, -0.013563361018896103, -0.009868468157947063, -0.01858682744204998, 0.021124999970197678, 0.0268094502389431, 0.00468306103721261, 0.023332681506872177, -0.0009005886386148632, 0.00373124610632658, -0.021918179467320442, 0.01844141073524952, 0.02363673411309719, -0.002024258952587843, -0.00791196059435606, 0.004573998972773552, -0.000537048268597573, -0.003323089564219117, 0.002371274633333087, -0.0011236702557653189, -0.0063222977332770824, -0.026069149374961853, 0.012241396121680737, -0.0016483251238241792, 0.005734023172408342, 0.004914404824376106, -0.000644044834189117, -0.025513924658298492, 0.0010683129075914621, -0.0063289073295891285, 0.009683393873274326, 0.009022410959005356, -0.005585302133113146, 0.005730718374252319, -0.005535728298127651, -0.010760795325040817, -0.012168687768280506, -0.003286735387519002, 0.013061014004051685, -0.03365722671151161, 0.005684449337422848, 0.000719231553375721, 0.020146746188402176, -0.002867011586204171, -0.003005817998200655, 0.0004779729642905295, -0.01015930064022541, -0.005135833751410246, -0.039130162447690964, 0.005555558018386364, 0.02210325375199318, -0.0003385469608474523, -0.009914737194776535, -0.0021581079345196486, -0.002397713949903846, -0.018071262165904045, 0.040875159204006195, -0.011322629638016224, -0.020635873079299927, 0.0032454240135848522, -0.025646120309829712, -0.0013698862167075276, 0.0026670643128454685, 0.008883604779839516, 0.029188986867666245, -0.0006279333611018956, -0.02368961274623871, -0.03344571590423584, 0.015665285289287567, -0.003321436932310462, -0.0340009406208992, -0.003820478916168213, 0.042805224657058716, -0.010232008993625641, -0.030828222632408142, -0.004607047885656357, -0.17259575426578522, 0.02161412686109543, 0.014898545108735561, 0.0031148800626397133, -0.003919626120477915, -0.0017598659032955766, 0.028792398050427437, -0.015149719081819057, 0.0019333737436681986, 0.0008365559624508023, 0.0015888366615399718, -0.02473396435379982, -0.017159106209874153, 0.0022737798281013966, 0.006920486688613892, 0.0023283108603209257, -0.006860998459160328, -0.01562562584877014, 0.02860732190310955, 0.017674671486020088, 0.02045079879462719, -0.009775931015610695, 0.03233526274561882, -0.010813673958182335, 0.011269751936197281, -0.006768460851162672, -0.0059323180466890335, 0.038178347051143646, -0.0032933452166616917, -0.010516231879591942, -0.020226065069437027, 0.006464408710598946, 0.0107079166918993, 0.006206625606864691, 0.012082760222256184, 0.007363345008343458, 0.03635403886437416, -0.018560389056801796, -0.01488532591611147, 0.018229898065328598, 0.015916459262371063, 0.004451717250049114, 0.0030173850245773792, -0.012036491185426712, -0.013391504995524883, 0.02127041667699814, 0.03053739108145237, -0.0026274053379893303, 0.02971777319908142, -0.020979585126042366, 0.02072841115295887, -0.012624765746295452, -0.009736272506415844, -0.01603543572127819, 0.016894713044166565, 0.012803230434656143, -0.02128363586962223, 0.012756962329149246, 0.01721198484301567, -0.0066858381032943726, 0.00033689450356177986, -0.0138938520103693, -0.004702890291810036, -0.009333073161542416, -0.014184684492647648, -0.005929012782871723, -0.02963845431804657, 0.00607773382216692, 0.002410933608189225, 0.005499374121427536, -0.008592772297561169, -0.008863775059580803, 0.011864636093378067, 0.0013327059568837285, 0.012485959567129612, -0.0035527809523046017, -0.03135700896382332, 0.015083620324730873, -0.00836142897605896, 0.015414111316204071, 6.444579048547894e-05, 0.02826361171901226, 0.003595744725316763, 0.012922207824885845, 0.00248859915882349, 0.0037180264480412006, -0.008837335743010044, -0.002567916875705123, -0.0020093866623938084, -0.011243312619626522, 0.034582603722810745, -0.02556680329144001, -0.0232930239289999, -0.02120431885123253, -0.008097035810351372, 0.015017522498965263, -0.0029463295359164476, -0.00950492825359106, 0.0060975635424256325, 0.010866552591323853, -0.008632431738078594, -0.006434664595872164, -0.027867021039128304, 0.018084481358528137, 0.031066177412867546, -0.0051226140931248665, -0.003136361949145794, 0.01907595433294773, 0.02604271098971367, 0.0038105640560388565, -0.0223940871655941, -0.0010121294762939215, 0.017040127888321877, 0.018811561167240143, 0.011144164949655533, 0.01624695025384426, 0.013239479623734951, -0.009114949032664299, 0.012519008480012417, -0.007297246716916561, 0.04698263481259346, -0.008136694319546223, -0.020966364070773125, 0.023940786719322205, 0.004620267543941736, -0.00835481844842434, -0.0733954980969429, -0.053380947560071945, 0.0236235149204731, 0.06001720950007439, 0.004210458602756262, 0.032229505479335785, 0.0258311964571476, 0.025183433666825294, -0.014872105792164803, 0.006586690433323383, -0.015268695540726185, -0.018573608249425888, -0.028977472335100174, -0.017978724092245102, 0.0008113560033962131, 0.00424681231379509, 0.015176158398389816, -0.008824116550385952, -0.016696417704224586, 0.04333401098847389, -0.017595354467630386, 0.012737132608890533, 0.005439885891973972, -0.04174765571951866, -0.012327323667705059, -0.012036491185426712, -0.03778176009654999, 0.027100281789898872, 0.008480405434966087, -0.007065902929753065, -0.009412391111254692, -0.012571887113153934, 0.012043100781738758, -0.01795228384435177, -0.01340472511947155, 0.01562562584877014, -0.034661922603845596, -0.0074691022746264935, 0.027034183964133263, -0.013001525774598122, 0.004861526191234589, 0.025580022484064102, -0.01091282069683075, -0.03151564672589302, 0.00033751418231986463, -0.012287664227187634, 0.009200876578688622, 0.011791927739977837, -0.006269419100135565, -0.026571495458483696, -0.014620932750403881, -0.007614518515765667, -0.017026908695697784, 0.013735216110944748, 0.010311326943337917, -0.007792983669787645, 0.03310200199484825, 0.011183823458850384, -0.011216873303055763, -0.013219649903476238, -0.022222232073545456, 0.01392029132694006, -0.021984277293086052, 0.02127041667699814, -0.007502151187509298, 0.014938204549252987, -0.02805209718644619, -0.00880428683012724, 0.022843554615974426, 0.0075418101623654366, -0.01629982888698578, 0.009961006231606007, 0.005010247230529785, 0.0038766623474657536, -0.032017990946769714, 0.014964643865823746, -0.027734825387597084, -0.04296386241912842, 0.021785983815789223, 0.0016408890951424837, -0.0277083870023489, -0.016048654913902283, -0.005433276295661926, -0.037966832518577576, 0.005988501477986574, 0.018058041110634804, 0.014184684492647648, -0.001997819636017084, 0.016907932236790657, -0.04320181533694267, 0.0011401948286220431, 0.014396199025213718, 0.0277083870023489, -0.025183433666825294, -0.027814142405986786, 0.009941176511347294, 0.012823060154914856, 0.00042674681753851473, 0.02162734791636467, 0.005469630006700754, -0.031885795295238495, -0.018613267689943314, -0.057584796100854874, 0.01755569502711296, 0.018216677010059357, -0.021310076117515564, 0.004375704098492861, -0.0015409154584631324, -0.003922930918633938, -0.01955186203122139, -0.006024855189025402, 0.006708972156047821, -0.010648427531123161, 0.0027711691800504923, -0.007191489450633526, -0.005922403186559677, -0.010423693805932999, -0.0021382784470915794, 0.03130413219332695, -0.003499902319163084, 0.013391504995524883, -0.00021647177345585078, 0.0205168966203928, -0.009121558628976345, 0.005010247230529785, 0.00644457945600152, -0.00012145553046138957, 0.022341208532452583, -0.02515699341893196, 0.017793647944927216, -0.028210733085870743, -0.018771903589367867, 0.0005837301723659039, -0.028501564636826515, -0.00891665369272232, 0.011996832676231861, -0.022486625239253044, 0.006755241192877293, -0.020715191960334778, 0.01914205215871334, 0.01215546764433384, 0.0037642952520400286, -0.0014252434484660625, -0.03540222346782684, 0.006765155587345362, -0.023200485855340958, -0.03125125169754028, 0.015043961815536022, -0.024971919134259224, 0.007918570190668106, 0.02543460577726364, 0.010575720109045506, 0.00981559045612812, 0.020437579602003098, -0.03249390050768852, -0.005158968269824982, 0.0124661298468709, -0.005601826589554548, -0.003959285095334053, -0.008308550342917442, 0.004940844140946865, -0.01955186203122139, 0.04790801182389259, 0.005985196679830551, 0.020966364070773125, -0.00299755553714931, 0.01919493079185486, 0.018970197066664696, 8.3758874097839e-05, -0.008949702605605125, 0.012624765746295452, -0.032361701130867004, -0.001452509080991149, -0.005975281819701195, 0.013411334715783596, 0.009663564153015614, 0.01871902495622635, 0.01760857366025448, 0.011282971128821373, 0.0014450729358941317, -0.011078066192567348, 0.033895183354616165, 0.02639964036643505, 0.013213040307164192, -0.039685387164354324, 0.01443585753440857, 0.02037147991359234, -0.003379272995516658, 0.0022622125688940287, 0.003942760638892651, -0.011249922215938568, 0.007594688795506954, -0.03053739108145237, 0.004997027572244406, 0.008883604779839516, 0.010727745480835438, -0.010364205576479435, -0.016802174970507622, 0.014250782318413258, -0.006114087998867035, 0.029347622767090797, 0.023094728589057922, 0.020834168419241905, 0.00534073868766427, -0.0007089037098921835, -0.015718163922429085, -0.008196182548999786, 0.0068543883971869946, -0.015837140381336212, -0.03936811909079552, -0.0074096135795116425, 0.009987445548176765, 0.019657619297504425, 0.004583913367241621, 0.010079982690513134, 0.011904294602572918, -0.014991083182394505, 0.010311326943337917, -0.012558666989207268, 0.013761655427515507, -0.02161412686109543, 0.027060622349381447, -0.0061669666320085526, 0.001672285725362599, 0.021534809842705727, -0.008837335743010044, 0.011679560877382755, 0.0025860939640551805, 0.016551000997424126, -0.029585575684905052, 0.008771237917244434, 0.016828613355755806, 0.014422638341784477, 0.015017522498965263, -0.011157384142279625, -0.024033322930336, -0.018150579184293747, -0.003916321322321892, -0.01912883296608925, 0.0030487817712128162, -0.018388532102108, 0.0572146438062191, 0.0003800649428740144, -0.020834168419241905, 0.011858025565743446, 0.011752268299460411, 0.023874687030911446, 0.010113032534718513, 0.028924593701958656, -0.005079650320112705, -0.01603543572127819, 0.028501564636826515, 0.013107283040881157, -0.00943221990019083, -0.01569172367453575, -0.04098091274499893, 0.013536921702325344, -0.010661647655069828, 0.0024307630956172943, -0.012796620838344097, -0.006907267030328512, 0.010357595980167389, 0.016974030062556267, 0.016484903171658516, 0.009828809648752213, -0.004058432299643755, -0.005558862816542387, 0.022023936733603477, -0.019736936315894127, -0.01816379837691784, -0.024337375536561012, 0.018771903589367867, 0.00781281292438507, -0.014673811383545399, -0.012908987700939178, 0.020067429170012474, -0.0027992608956992626, 0.0011815062025561929, -0.003932845778763294, 0.012327323667705059, 0.0019482459174469113, 0.01886443980038166, 0.02723247930407524, -0.023530976846814156, -0.012776791118085384, 0.012452909722924232, -0.008605992421507835, -0.027470432221889496, 0.014607712626457214, 0.002244035480543971], [-0.004670541733503342, 0.0006364435539580882, -9.50759495026432e-05, -0.007203159388154745, -0.013735339976847172, 0.014064251445233822, -0.003183862194418907, -0.009604212827980518, -0.011906592175364494, -0.027944311499595642, 0.0036443383432924747, 0.006403904873877764, -0.012103939428925514, -0.008203050121665001, 0.014156346209347248, -0.006620986387133598, 0.02881263755261898, 0.014827325940132141, 0.007400506176054478, -0.017695432528853416, -0.008110955357551575, 0.010354130528867245, -0.0183400996029377, 0.003749589901417494, -0.016577133908867836, -0.018826888874173164, -0.003076966153457761, -0.03302270546555519, -0.007782043423503637, -0.0027842349372804165, 0.012307864613831043, -0.014748387038707733, -0.007907030172646046, -0.026812857016921043, -0.002560575259849429, -0.01506414171308279, -0.00769652659073472, -0.023234300315380096, 0.013024890795350075, -0.006318388041108847, 0.002499726600944996, 0.011327708140015602, -0.002297446131706238, -0.018537446856498718, -0.02057669684290886, -0.0028401499148458242, 0.0038910217117518187, -0.029891466721892357, -0.021589742973446846, 0.024168409407138824, 0.007479445077478886, -0.016011405736207962, -0.03539086505770683, -0.004867888521403074, -0.007591275032609701, 0.005298762582242489, -0.0010467604734003544, 0.01806381344795227, -0.004571868572384119, -0.0034831715747714043, -0.038548413664102554, -0.0009053286048583686, -0.009939702227711678, 0.0209713913500309, 0.007078173104673624, -0.007328145671635866, 0.016656072810292244, -0.0028335717506706715, -0.0040028514340519905, 0.009696307592093945, 0.015419365838170052, 0.0094266002997756, -0.0072689419612288475, 0.00021317569189704955, 0.014537883922457695, -0.00932792667299509, -0.014972046948969364, 0.0002717630413826555, 0.0209713913500309, 0.0007762308814562857, 0.019339989870786667, -0.02557615004479885, -0.03454885259270668, 0.026733918115496635, -0.00016681975102983415, -0.0028237043879926205, -0.01226839516311884, 0.043153174221515656, -0.014787856489419937, -0.02301064133644104, 0.006223003380000591, 0.005019187927246094, 0.010827763006091118, 0.016892889514565468, -0.022786980494856834, -0.0021033883094787598, 0.0068216221407055855, 0.041705965995788574, 0.007071595173329115, -0.022563321515917778, -0.012774918228387833, 0.006620986387133598, 0.005943428725004196, -0.008781934157013893, -0.010071266442537308, 0.005545446183532476, -0.006999234668910503, -0.003086833516135812, 0.013393271714448929, 0.005315208341926336, -0.006486132740974426, 0.002271133242174983, 0.0006491888780146837, -0.03978512063622475, 0.013406428508460522, 0.0021560140885412693, 0.0033055595122277737, -0.018353255465626717, -0.017261270433664322, -0.012590727768838406, 0.010933014564216137, 0.020681949332356453, 0.019879404455423355, -0.030444039031863213, 0.01503782905638218, 0.0011709245154634118, -0.015274644829332829, -0.026141878217458725, -0.009124002419412136, 0.00036036354140378535, 0.006436795927584171, 0.0040916576981544495, 0.01799803227186203, 0.016642916947603226, -0.01891898363828659, 0.018353255465626717, -0.00042306227260269225, 0.033391084522008896, -0.023707933723926544, -0.018379569053649902, -0.0006339767132885754, 0.028260067105293274, -0.0006290430319495499, -0.005334942601621151, -0.007867560721933842, 0.012656510807573795, 0.021116111427545547, -0.012242082506418228, 0.004611337557435036, -0.020287254825234413, 0.00038277063868008554, -0.009972593747079372, 0.021510805934667587, -0.009156893007457256, 0.018945295363664627, 0.024839388206601143, 0.006394037511199713, 0.0034404131583869457, -0.023523742333054543, -0.000791443046182394, -0.0034568586852401495, 0.01661660335958004, 0.004279137123376131, -0.018537446856498718, 0.027944311499595642, 0.027523305267095566, 0.01919526979327202, 0.01972152665257454, 0.007689948193728924, -0.01674816757440567, -0.01282096654176712, 0.024076314643025398, -0.03989037498831749, 0.02532617747783661, -0.0054665072821080685, 0.003262801095843315, -0.005380990449339151, -0.0008354349411092699, -0.008887185715138912, -0.01140664704144001, -0.018905827775597572, 0.01827431656420231, 0.030549289658665657, 0.007828091271221638, -0.005936850793659687, -0.006265762262046337, 0.0068610915914177895, -0.011880279518663883, -0.003037496702745557, -0.009420022368431091, 0.019563648849725723, 0.03283851221203804, 0.0033631189726293087, -0.0032545782160013914, -0.6971868872642517, -0.009222675114870071, 0.024892013520002365, -0.01084749773144722, 0.03125973790884018, 0.04160071164369583, 0.023971062153577805, 0.004821841139346361, -0.004861310590058565, 0.02518145553767681, 0.005555313546210527, -0.004877755884081125, -0.014629978686571121, -0.01695867069065571, -0.007966234348714352, -0.015879841521382332, -0.009321348741650581, -0.01272887084633112, 0.016656072810292244, 0.021602900698781013, -0.0028697520028799772, 0.020721416920423508, 0.0023418490309268236, -0.00963052548468113, -0.007637322414666414, -0.0008444800041615963, 0.018313786014914513, 0.003397654742002487, 0.007578118704259396, 0.0022645548451691866, -0.010150205343961716, 0.024221034720540047, -0.008038594387471676, 0.009808138012886047, 0.04736324027180672, -0.005298762582242489, 0.004529109690338373, -0.012617041356861591, 0.01714286208152771, 0.010406756773591042, -0.008328036405146122, -0.00043991897837258875, 0.022997485473752022, 0.0016396233113482594, -0.020603010430932045, -0.0018353256164118648, 0.012551259249448776, 0.0019011078402400017, 0.002664182335138321, 0.005249425768852234, -0.005124439485371113, 0.009702886454761028, -0.0034108110703527927, 0.00021399797697085887, -0.0025161721277981997, -0.011439538560807705, 0.02024778537452221, 0.023628994822502136, 0.0006064304034225643, 0.016261380165815353, -0.012511789798736572, 0.008920077234506607, 0.006124330218881369, -0.005328364670276642, -0.019760996103286743, 0.0007157934014685452, -0.0232737697660923, 0.023892123252153397, -0.0042363787069916725, -0.020721416920423508, 0.0034009437076747417, -0.005232980474829674, -0.019616276025772095, -0.004904069006443024, 0.03565399348735809, 0.016169283539056778, 0.009735777042806149, -0.00257044262252748, 0.007663635537028313, 0.022194940596818924, 0.004575157538056374, -0.0027908131014555693, -0.007887295447289944, -0.0005501043051481247, 0.012649931944906712, -0.02057669684290886, -0.021997593343257904, 0.003565399441868067, 0.014380006119608879, 0.014235285110771656, 0.011768450029194355, -0.0036443383432924747, -0.015208862721920013, 0.0026707604993134737, 0.010590947233140469, 0.0019685346633195877, -0.009689729660749435, 0.013669557869434357, 0.03341739624738693, 0.0038910217117518187, -0.01451157033443451, -0.0020014257170259953, 0.003828528570011258, 0.01216314360499382, 0.011590837500989437, 0.0024092758540064096, 0.005334942601621151, 0.039022047072649, 0.011360599659383297, -0.02057669684290886, -0.0016017984598875046, -0.01615612767636776, -0.02347111701965332, 0.02499726600944996, 0.024023687466979027, -0.03870629146695137, 0.015090454369783401, -0.006380881182849407, -0.002657604170963168, -0.019997812807559967, 0.03118080087006092, 0.005450061988085508, 0.019747840240597725, 0.014524727128446102, -0.002376384800300002, -0.0012679534265771508, -0.008183315396308899, -0.025694558396935463, -0.013537992723286152, -0.011360599659383297, 0.0023911858443170786, -0.002164236968383193, 0.016577133908867836, -0.013070939108729362, 0.024247348308563232, 0.01038702204823494, 0.01674816757440567, 0.011360599659383297, 0.01414319034665823, -0.022273879498243332, -0.01997149921953678, 0.012136830016970634, -0.008485914207994938, 0.00509483739733696, 0.007788621820509434, -0.0031115016900002956, -0.01845850795507431, -0.014090564101934433, 0.01151189859956503, -0.002402697689831257, -0.026273442432284355, 0.0012251948937773705, -0.018300630152225494, -0.0012005266034975648, -0.0257208701223135, -0.0029486906714737415, 0.004779082722961903, -0.019866248592734337, -0.01595878042280674, -0.020392507314682007, -0.006551914848387241, 0.015274644829332829, 0.0023714511189609766, 0.002483281074091792, -0.015971938148140907, -0.00907137617468834, -0.025076204910874367, 0.020747730508446693, 0.0007532070740126073, -0.0265628844499588, -0.02202390693128109, -0.007374193519353867, -0.010597525164484978, 0.01635347492992878, 0.015011516399681568, 0.01117640919983387, -0.022247565910220146, -0.0005570936482399702, -0.0032759574241936207, -0.010031797923147678, 0.0055059767328202724, 0.01028177049010992, 0.005032344255596399, 0.009551586583256721, -0.0021313459146767855, 0.016629759222269058, 0.025484055280685425, 0.005933561362326145, 0.005219823680818081, 0.019287364557385445, -0.005910537671297789, 0.012459163554012775, -0.018971608951687813, 0.001769543276168406, -0.017642807215452194, 0.0011988820042461157, -0.011110627092421055, -0.003838395932689309, 0.008499070070683956, 0.02123451977968216, 0.025799809023737907, 0.017261270433664322, 0.020155690610408783, -0.013024890795350075, 0.018366411328315735, -0.03204912692308426, 0.0012490410590544343, -0.006538758520036936, 0.01860322803258896, 0.01760333776473999, 0.0012235504109412432, -0.025484055280685425, -0.03025984764099121, 0.014814169146120548, 0.01931367628276348, 0.01847166381776333, -0.014103720895946026, 0.012538102455437183, -0.00985418539494276, 0.005897381342947483, -0.0027628557290881872, 0.012834122404456139, 0.00830830167979002, -0.009841028600931168, -0.02149764820933342, 0.013564306311309338, 0.016642916947603226, 0.025944530963897705, 0.01581406034529209, -0.028181128203868866, -0.026326067745685577, 0.017024453729391098, 0.003693674923852086, -2.7160886020283215e-05, 0.011584259569644928, 0.007222894113510847, 0.004999453201889992, 0.0004645873559638858, 0.028970515355467796, 0.0042561134323477745, 0.007525492459535599, 0.021747620776295662, 0.028602134436368942, 0.0018139462918043137, 0.03528561443090439, 0.013064360246062279, 0.01990571804344654, 0.005558602511882782, -0.0029750035610049963, 0.03065454214811325, 0.011722401715815067, 0.004127838183194399, -5.288278407533653e-05, 0.006887404713779688, 0.01952418126165867, -0.021142425015568733, -0.01970837078988552, -0.008045172318816185, 0.008683260530233383, 0.03047035075724125, 0.024628885090351105, 0.013682713732123375, 0.007117642555385828, -0.0017826997209340334, 0.022523852065205574, -0.014590509235858917, -0.008985859341919422, -0.0015450612409040332, -0.010123892687261105, -0.01740599051117897, -0.01906370371580124, -0.005107993725687265, 0.021866029128432274, -0.009420022368431091, 0.020484602078795433, 0.011452694423496723, 0.021852873265743256, -0.003838395932689309, 0.03099660947918892, -0.003884443547576666, -0.008749042637646198, -0.03633813187479973, 0.015577243641018867, 0.0029322451446205378, -0.00031349368509836495, -0.011340864934027195, -0.01694551482796669, 0.0008749043336138129, -0.007472866680473089, 0.013360381126403809, -0.0058348882012069225, 0.010755402967333794, 0.000888883019797504, -0.03810109570622444, 0.0020836535841226578, 0.01714286208152771, 0.0032924029510468245, -0.005686878226697445, 0.0028746856842190027, -0.0008650369709357619, 0.02723386324942112, 0.00448306230828166, 0.016629759222269058, -0.017840154469013214, -0.00046294278581626713, -0.003673940198495984, 0.0046442290768027306, -0.020195160061120987, 0.00982787273824215, -0.0020524070132523775, 0.015853529796004295, 0.007242628838866949, -0.016866575926542282, -0.011873701587319374, 0.00909768883138895, 0.011597415432333946, -0.014656291343271732, 0.00542374886572361, 0.03633813187479973, 0.013116986490786076, -0.013498523272573948, -0.007670213934034109, -0.020024126395583153, 0.002386252162978053, 0.058519914746284485, 0.023129049688577652, 0.0015368384774774313, 0.01021598745137453, -0.006486132740974426, -0.015024672262370586, -0.040311381220817566, -0.014327379874885082, 0.012077626772224903, -0.0017234956612810493, -0.01394584309309721, -0.0020310278050601482, 0.018037501722574234, 0.005121150519698858, 0.01216314360499382, 0.016432413831353188, 0.0026773386634886265, 0.00519351102411747, 0.004558711778372526, 0.0007745863404124975, 0.005295473616570234, 0.015050984919071198, 0.013880060985684395, 0.014998359605669975, 0.016774481162428856, -0.014380006119608879, -0.0055816262029111385, 0.006384170148521662, -0.0022300193086266518, -0.009643682278692722, -0.008170158602297306, 0.017642807215452194, -0.014248441904783249, 0.010768558830022812, -0.002808903343975544, 0.023168519139289856, -0.001523682032711804, 0.010689619928598404, 0.006469686981290579, 0.00023496607900597155, 0.003340095281600952, 0.00035008505801670253, -0.007545227184891701, -0.00883456040173769, -0.0011248770169913769, -0.012189456261694431, -0.011873701587319374, 0.008433287963271141, 0.0055257114581763744, -0.01945839822292328, 0.016379786655306816, -0.005311918910592794, -0.010163362137973309, -0.0070650167763233185, 0.017748059704899788, 0.005124439485371113, -0.02315536141395569, -0.0017152728978544474, -0.019142642617225647, -0.026128720492124557, -0.03720645606517792, -0.006446663290262222, -0.004094946663826704, -0.002443811623379588, -0.016840264201164246, -0.02181340381503105, -0.014498414471745491, -0.038206346333026886, -0.02433944307267666, -0.011248769238591194, -0.011768450029194355, -0.007347880396991968, -0.030417725443840027, -0.01282754447311163, 0.02281329408288002, -0.0032924029510468245, -0.0087687773630023, -0.004808684345334768, -0.024773607030510902, 0.006749261636286974, 0.0020080041140317917, -0.01761649362742901, -0.007111064158380032, -0.0036509165074676275, 0.0012038156855851412, 0.01484048180282116, 0.02208968997001648, 0.005344809964299202, -0.0007495068130083382, 0.009176627732813358, 0.006999234668910503, -0.0068808263167738914, -7.509715032938402e-06, -0.021642370149493217, 0.015379896387457848, -0.016458725556731224, 0.019603118300437927, -0.0027233862783759832, -0.006114462856203318, -0.0025359068531543016, -0.000990023254416883, -0.027523305267095566, 0.011038266122341156, 0.004374521318823099, 0.014169503003358841, -0.008117533288896084, -0.01018967479467392, 0.0006648121634498239, -0.011590837500989437, 0.0017925670836120844, 0.014051094651222229, -0.020471444353461266, 0.010873810388147831, -0.00972919911146164, 0.003007894614711404, 0.005900670308619738, -0.023313239216804504, 0.027654869481921196, -0.022642260417342186, -0.00742024090141058, 0.012985422275960445, -0.029365209862589836, -0.012248660437762737, -0.011432959698140621, 0.012544680386781693, 0.019300520420074463, -0.00037269771564751863, -0.010465960949659348, -0.02169499546289444, 0.007689948193728924, -0.0196557454764843, 0.012899904511868954, -0.0030440748669207096, -0.011340864934027195, -0.02320798859000206, -0.01964258775115013, 0.0023237590212374926, 0.020418819040060043, 0.0034733042120933533, -0.0026806278619915247, -0.03454885259270668, 0.00011923038255190477, 0.018208535388112068, -0.0037463007029145956, -0.0038120830431580544, -0.03381209075450897, -0.016590289771556854, 0.024878857657313347, -0.022523852065205574, 0.005302051547914743, 0.016366630792617798, 0.004894201643764973, -0.03757483884692192, -0.007933342829346657, -0.00514088524505496, -0.025931375101208687, -0.013393271714448929, 0.00371012045070529, 0.029365209862589836, 0.047442179173231125, 0.02947046048939228, -0.010597525164484978, 0.006522312760353088, 0.009005594067275524, -0.01701129786670208, -0.0033812092151492834, -0.015643026679754257, -0.00788071658462286, -0.009413444437086582, 0.0068413568660616875, -0.004048899281769991, -0.008860873058438301, -0.003545664716511965, -0.005410592537373304, 0.003749589901417494, 0.02076088637113571, -0.01781384088099003, 0.0012342400150373578, 0.008413553237915039, -0.013005156069993973, -0.009683151729404926, 0.0072492072358727455, -0.02049775794148445, 0.013643244281411171, -0.013038047589361668, -0.0132814422249794, 0.017905935645103455, 0.0057296366430819035, 0.004693565424531698, 0.008847716264426708, 0.007657057140022516, -0.012893326580524445, -0.006354568060487509, -0.0005131017533130944, 0.005887513980269432, -0.01041333470493555, 0.001731718541122973, -0.01381427887827158, -0.010604103095829487, 0.012386803515255451, -0.012551259249448776, 0.03025984764099121, -0.0009456202387809753, 0.01028834842145443, 0.006203268654644489, 0.008933233097195625, -0.0131893465295434, -0.009538430720567703, 0.010702776722609997, 0.0004913113662041724, 0.006061837077140808, -0.01536674052476883, -0.011992109008133411, -0.020997703075408936, 0.01806381344795227, 0.032470133155584335, -0.01628769189119339, 0.01878741942346096, 0.002442167140543461, -0.013044625520706177, 0.0072294725105166435, -0.007985969074070454, 0.038469474762678146, 0.026681292802095413, 0.03239119425415993, 0.009781824424862862, -0.0010303149465471506, -0.012025000527501106, 0.023628994822502136, -0.007755730766803026, -0.009979171678423882, 0.032733261585235596, 0.038864169269800186, -0.013340646401047707, -0.014169503003358841, 0.0005760060739703476, 0.029891466721892357, 0.005019187927246094, -0.013320911675691605, -0.0018007898470386863, 0.009834450669586658, -0.004588313866406679, -0.016340317204594612, 0.0015779524110257626, -0.051441740244627, -0.003349962644279003, -0.00036550278309732676, -0.010334395803511143, -0.021984437480568886, -0.003992984537035227, -0.023694775998592377, 0.004966562148183584, -0.031417615711688995, 0.019221581518650055, 0.004841575864702463, -0.0032003079541027546, 0.0016568911960348487, 0.002705296268686652, -0.018708480522036552, -0.01061068195849657, 0.005357966758310795, 0.03494354709982872, -0.012255238369107246, -0.02010306529700756, 0.012505210936069489, 0.0007910319254733622, -0.02023462951183319, 0.017366521060466766, -0.011886857450008392, 0.03025984764099121, -0.014195815660059452, -0.006170377600938082, 0.006443374324589968, 0.017392834648489952, 0.012202613055706024, -0.0029865154065191746, -0.007097907830029726, -0.0008120000129565597, -0.023129049688577652, 0.02373424544930458, 0.006847935263067484, 0.0010845853248611093, -0.01860322803258896, 1.2674651770794298e-05, -0.012636776082217693, 0.0022168627474457026, -0.008854295127093792, 0.00021173671120777726, -0.015129923820495605, -0.03270694985985756, -0.022642260417342186, 0.0023171808570623398, -0.007282098289579153, 0.017590181902050972, 0.009669994935393333, -0.01918211206793785, 0.007913608103990555, 0.011946061626076698, -0.03594343736767769, 0.027839060872793198, -0.0044008344411849976, 0.00576910562813282, -0.006308520678430796, 0.024221034720540047, 0.022379131987690926, -0.022839607670903206, 0.029786216095089912, -0.02095823362469673, -0.01695867069065571, -0.03341739624738693, 0.0015343716368079185, 0.010663307271897793, -0.01249205507338047, 0.003864708822220564, 0.030628228560090065, 0.009992328472435474, 1.0477626346983016e-05, -0.0057000345550477505, -0.01427475456148386, 0.01206446997821331, -0.004601470194756985, 0.008374083787202835, 0.008821403607726097, -0.00963052548468113, 0.004601470194756985, -0.006887404713779688, -0.0019191979663446546, 0.015564086847007275, -0.02420787885785103, -0.007486023474484682, 0.016208752989768982, 0.020589852705597878, -0.007966234348714352, -0.021142425015568733, -0.02776012197136879, -0.0024109205696731806, -0.004548844415694475, -0.002180682495236397, -0.007591275032609701, -0.008827981539070606, -0.017063923180103302, -0.012130252085626125, -0.0021527251228690147, 0.00906479824334383, -0.013551149517297745, -0.0007655412773601711, -0.014853638596832752, 0.002529328688979149, -0.027970625087618828, -0.027339115738868713, 0.002664182335138321, 0.018432194367051125, 0.014972046948969364, -0.010867232456803322, -0.01766912080347538, 0.0009036840638145804, -0.03099660947918892, -0.02010306529700756, -0.006775574758648872, -0.007472866680473089, 0.005038922652602196, 0.005131017882376909, -0.0070650167763233185, 0.03841685131192207, 0.004433725494891405, 0.011814497411251068, -0.020945077762007713, -0.006440084893256426, 0.012340755201876163, -0.004756058566272259, 0.008518804796040058, 0.011235613375902176, -0.03131236508488655, -0.011544790118932724, 0.005022476892918348, -0.0022661995608359575, 0.010340974666178226, 0.004075211938470602, -0.007163689937442541, -0.022708043456077576, -0.0057395040057599545, -0.006005921866744757, -0.0041409945115447044, -0.009972593747079372, 0.002029383322224021, -0.018300630152225494, -4.111392263439484e-05, 0.01140664704144001, -0.00171362841501832, -0.006650588475167751, 0.0022300193086266518, 0.008525383658707142, -0.006216425448656082, 0.010788293555378914, -0.04007456451654434, -0.015222019515931606, -0.009091110900044441, -0.007617587689310312, 0.0035423757508397102, 0.0014784566592425108, 0.007742574438452721, 0.017169175669550896, 0.002211929066106677, -0.002479991875588894, -0.004361364990472794, 0.02281329408288002, -0.010919858701527119, -0.006436795927584171, -0.0015508171636611223, -0.013031469658017159, 0.0029782927595078945, -0.020997703075408936, -0.015735121443867683, -0.030496664345264435, -0.010880389250814915, -0.005617806687951088, -0.018905827775597572, -0.018550602719187737, 0.01370902732014656, 0.012682823464274406, 0.0022760669235140085, -0.011321130208671093, -0.02051091380417347, -0.0025326176546514034, 0.00465080700814724, -0.003690385725349188, 6.537113949889317e-05, -0.02282644994556904, 0.017169175669550896, 0.020405663177371025, -0.014393162913620472, -0.015445679426193237, 0.0030342075042426586, 0.03173337131738663, -0.003423967631533742, -0.0011034976923838258, 0.24123677611351013, -0.0034568586852401495, -0.009801559150218964, 0.018774261698126793, 0.013360381126403809, 0.027575930580496788, 0.021984437480568886, -0.005357966758310795, -0.0036410491447895765, 0.012380224652588367, 0.0324438214302063, 0.004476483911275864, -0.013018312864005566, -0.0022661995608359575, -0.008775356225669384, 0.0013098896015435457, -0.004502797033637762, -0.015419365838170052, -0.012715714052319527, -0.027944311499595642, -0.0012843989534303546, -0.02447100728750229, 0.01873479224741459, -0.006749261636286974, 0.04152177274227142, -0.010327817872166634, 0.0018106572097167373, 0.00709132943302393, 0.027944311499595642, 0.010663307271897793, -0.030180908739566803, -0.011327708140015602, 0.026457631960511208, 0.008860873058438301, -0.020076751708984375, -0.0014398096827790141, 0.006278918590396643, 0.004249535035341978, 0.03396996855735779, -0.0020852982997894287, 0.015445679426193237, -0.0042857155203819275, 0.011610572226345539, 0.0014595442917197943, 0.004683698061853647, 0.01647188328206539, -0.0029914490878582, -0.010860654525458813, 0.01160399429500103, 0.02005043812096119, -0.012814387679100037, 0.005377701483666897, 0.003539086552336812, 0.006219714414328337, 0.034048907458782196, -0.012143408879637718, 0.032022811472415924, -0.013018312864005566, 0.003271023742854595, 0.006597962696105242, -0.017063923180103302, 0.015932468697428703, -0.02248438261449337, 0.020326724275946617, -0.028233753517270088, 0.010755402967333794, -0.022260723635554314, -0.003175639547407627, 0.006545336917042732, 0.002772723091766238, -0.01536674052476883, -0.002443811623379588, 0.023839497938752174, -0.0071900030598044395, -0.039521992206573486, -0.0196557454764843, 0.026483945548534393, 0.03654863312840462, 0.028996828943490982, 0.004542266484349966, -0.017655963078141212, 0.003259511897340417, -0.015550930984318256, -0.020392507314682007, -0.020155690610408783, -0.024892013520002365, 0.003920624032616615, -0.01361693162471056, -0.009584478102624416, -0.0032545782160013914, -0.008531961590051651, -0.0044699059799313545, -0.004831708502024412, -0.025299863889813423, 0.017458617687225342, 0.030049344524741173, 0.013419585302472115, 0.009137158282101154, -0.017787527292966843, -0.007617587689310312, -0.026062939316034317, 0.010709354653954506, 0.01985309086740017, 0.00874246470630169, -0.015235175378620625, -0.0042955828830599785, -0.010827763006091118, 0.0070058126002550125, -0.0015721964882686734, -0.016656072810292244, 0.002193839056417346, -0.02999671921133995, -0.0021625924855470657, -0.012432850897312164, 0.0036673620343208313, 0.00769652659073472, 0.007545227184891701, -0.009696307592093945, -0.0011610572692006826, -0.011031688190996647, 0.0009990683756768703, 0.002154369605705142, -0.017458617687225342, 0.008630635216832161, -0.013222238048911095, -0.004950116388499737, -0.00139622890856117, -0.007551805581897497, 0.014130033552646637, -0.022537007927894592, 0.016182441264390945, -0.0070255473256111145, 0.02762855775654316, 0.00432189553976059, 0.013537992723286152, -0.009321348741650581, -0.007512336131185293, 0.0016124880639836192, -0.048889391124248505, -0.0008218673174269497, 0.018945295363664627, -0.010380443185567856, -0.027075985446572304, 0.012518367730081081, -0.003608158091083169, -0.018234847113490105, 0.027339115738868713, -0.010531743057072163, -0.014893108047544956, -0.01451157033443451, -0.024694668129086494, 0.004976429510861635, -0.007571540307253599, 0.003417389467358589, 0.030575603246688843, 0.008130690082907677, -0.007808356545865536, -0.03139130398631096, 0.01786646619439125, -0.010919858701527119, -0.02168183960020542, -0.00652560219168663, 0.04252166673541069, -0.0027480546850711107, -0.027996938675642014, 0.0008691483526490629, -0.17124442756175995, 0.014866795390844345, 0.016340317204594612, -0.0018682166701182723, 0.00047404353972524405, -0.017577024176716805, 0.01641925610601902, -0.0038318177685141563, 0.0024980821181088686, -0.0016667584422975779, 0.0055059767328202724, -0.008347771130502224, -0.01614297181367874, -0.006259183865040541, 0.0040127187967300415, -0.0011158318957313895, 0.005677010864019394, -0.008492492139339447, 0.03752221167087555, 0.0009538430604152381, 0.027286488562822342, -0.007611009757965803, 0.018840044736862183, -0.0018090126104652882, 0.00565398670732975, -0.004943538457155228, -0.01911633089184761, 0.030365100130438805, -0.0013156455243006349, -0.00874246470630169, -0.020918764173984528, 0.012439428828656673, 0.011630306951701641, 0.012077626772224903, 0.0037857701536267996, 0.006377591751515865, 0.03881154581904411, -0.008545118384063244, -0.014340536668896675, -0.005302051547914743, 0.019537337124347687, 0.0014784566592425108, 0.0026526704896241426, -0.0003396010142751038, -0.011544790118932724, 0.0175375547260046, 0.038206346333026886, -0.006380881182849407, 0.02439206838607788, -0.018366411328315735, 0.014616821892559528, -0.013406428508460522, -0.014564196579158306, -0.018208535388112068, 0.019090017303824425, 0.022629104554653168, -0.028128502890467644, 0.004502797033637762, 0.014801012352108955, -0.0022727777250111103, 0.006301942281424999, -0.02201075106859207, 0.003142748260870576, 0.0006738572265021503, -0.014314224012196064, -0.01516939327120781, -0.02689179591834545, 0.023615838959813118, -0.005364544689655304, 0.008604321628808975, -0.006347990129143, -0.012347334064543247, 0.025944530963897705, 0.002374740317463875, 0.01845850795507431, 0.008755621500313282, -0.02841794490814209, 0.032154377549886703, -0.009591056033968925, 0.013722183182835579, 0.008459600619971752, 0.02176077850162983, 0.011663198471069336, 0.0094266002997756, -0.001057450077496469, 0.0029075767379254103, -0.016563978046178818, 0.0033121376764029264, -0.010255456902086735, 0.0001577746879775077, 0.03970618173480034, -0.02802325040102005, -0.019866248592734337, -0.027575930580496788, -0.008393818512558937, 0.009117423556745052, -0.0002540840650908649, -0.01681395061314106, 0.0035357975866645575, 0.0017876334022730589, -0.01582721620798111, 0.0021395685616880655, -0.023497430607676506, 0.006762418430298567, 0.027312802150845528, -0.0007384060882031918, 0.006160510238260031, 0.007334724068641663, 0.019668901339173317, -0.004779082722961903, -0.039390429854393005, -0.0055158440954983234, 0.014380006119608879, 0.020405663177371025, 0.014090564101934433, 0.016577133908867836, 0.0013123564422130585, -0.005683588795363903, 0.00850564893335104, -0.007492601405829191, 0.043547868728637695, -0.002077075419947505, -0.0165508221834898, 0.016656072810292244, 0.0036805185955017805, -0.014380006119608879, -0.08604322373867035, -0.05096811056137085, 0.018616385757923126, 0.05483610928058624, 0.010452804155647755, 0.02010306529700756, 0.012768340297043324, 0.030812419950962067, -0.008341193199157715, 0.003356540808454156, -0.010123892687261105, -0.022931702435016632, -0.02056354098021984, -0.015774590894579887, -0.0010722511215135455, -0.0019603120163083076, 0.006101306527853012, -0.0036048688925802708, -0.024365756660699844, 0.03983774781227112, -0.023431647568941116, 0.008446444757282734, -0.0019488000543788075, -0.02624712884426117, -0.007768887095153332, 0.0022431756369769573, -0.023365864530205727, 0.021708151325583458, 0.005502687767148018, -0.016498195007443428, -0.0069466084241867065, -0.025352491065859795, 0.012577571906149387, -0.015787746757268906, -0.011222456581890583, 0.012880169786512852, -0.03270694985985756, -0.0213003009557724, 0.04112708196043968, -0.00652560219168663, 0.009308192878961563, 0.007380771450698376, -0.009334505535662174, -0.02255016565322876, 0.0031328811310231686, -0.01932683400809765, -0.0027003625873476267, 2.8985316021135077e-05, -0.022194940596818924, -0.033522650599479675, -0.01997149921953678, -0.013399850577116013, -0.013695870526134968, 0.022984327748417854, 0.02024778537452221, -0.01009100116789341, 0.026720762252807617, 0.004884334281086922, -0.018353255465626717, -0.008189893327653408, -0.008354349061846733, 0.005206667352467775, -0.02215547114610672, 0.03694332763552666, -0.017379678785800934, 0.02577349729835987, -0.04265322908759117, -0.01484048180282116, 0.022471226751804352, 0.002396119525656104, -0.0055059767328202724, 0.01150532066822052, -0.00340423290617764, 0.003463437082245946, -0.029970405623316765, 0.014169503003358841, -0.027075985446572304, -0.04602128267288208, 0.022958016023039818, -0.00022468759561888874, -0.029654651880264282, -0.008525383658707142, -0.009867342188954353, -0.028575822710990906, -0.0010788294021040201, 0.009847607463598251, 0.005788840353488922, -0.00276121124625206, 0.025155143812298775, -0.045468710362911224, 0.001226017251610756, 0.017498085275292397, 0.04133758321404457, -0.03883785754442215, -0.03410153463482857, 0.0015351938782259822, 0.014656291343271732, -0.003867998020723462, 0.0101567842066288, -0.002894420176744461, -0.03633813187479973, -0.020813513547182083, -0.05273107439279556, 0.008999016135931015, 0.018024343997240067, -0.013880060985684395, -0.013972155749797821, 0.0010163362603634596, 0.006874247919768095, -0.0057000345550477505, -0.0042462460696697235, 0.020024126395583153, -0.026470789685845375, 0.004387678112834692, -0.014787856489419937, -0.009913389571011066, -0.0012589083053171635, -0.00028450836543925107, 0.027602244168519974, -0.0068413568660616875, 0.0196557454764843, -0.004663963336497545, 0.013307754881680012, -0.012439428828656673, 0.010321239940822124, 0.0020014257170259953, 0.005134306848049164, 0.016064032912254333, -0.02690495178103447, 0.021523961797356606, -0.016169283539056778, -0.010597525164484978, 0.004019297193735838, -0.014524727128446102, -0.02973359078168869, 0.00285330624319613, -0.023247458040714264, -0.002549063414335251, -0.016300847753882408, 0.01581406034529209, 0.007782043423503637, -0.00432189553976059, -0.010235722176730633, -0.03720645606517792, 0.0027283199597150087, -0.013070939108729362, -0.017234956845641136, 0.005772395059466362, -0.017300739884376526, 0.011755293235182762, 0.012005265802145004, 0.01470891758799553, 0.004585024900734425, 0.004657385405153036, -0.012386803515255451, -0.008617478422820568, 0.014551039785146713, -0.0036476273089647293, -0.0028154815081506968, 0.0009267078712582588, 0.015985094010829926, -0.011525055393576622, 0.05709901824593544, 0.014156346209347248, 0.010071266442537308, 0.001582886092364788, 0.009716042317450047, 0.030049344524741173, 0.009413444437086582, -0.0022398866713047028, 0.024168409407138824, -0.02128714509308338, -0.0034371239598840475, -0.0029075767379254103, 0.015077298507094383, 0.011229035444557667, 0.015274644829332829, 0.008203050121665001, 0.017629651352763176, 0.004242957103997469, -0.01594562456011772, 0.02689179591834545, 0.028970515355467796, 0.010781715624034405, -0.03891679644584656, 0.009275301359593868, 0.012794652953743935, -0.0058842250145971775, -0.0008263898780569434, 0.007051860447973013, -0.003007894614711404, 0.009979171678423882, -0.022734355181455612, 0.010900123976171017, 0.012972265481948853, -0.00897270254790783, -0.00797939021140337, -0.00553886778652668, 0.019103173166513443, -0.013498523272573948, 0.026391850784420967, 0.020616166293621063, 0.022997485473752022, 0.00641048327088356, -0.009360818192362785, -0.024286817759275436, -0.012327599339187145, 0.0025145276449620724, -0.018879514187574387, -0.04462669789791107, -0.004065345041453838, 0.01374849583953619, 0.01493257749825716, -0.0030522977467626333, 0.0021214785519987345, 0.015550930984318256, 0.005075102671980858, 0.005348099395632744, -0.025010421872138977, 0.003433834994211793, -0.029707277193665504, 0.024628885090351105, -0.00394035829231143, 0.0070452820509672165, 0.023300083354115486, -0.014945733360946178, 0.013801122084259987, 0.007308410946279764, 0.011301395483314991, -0.01216314360499382, 0.006676901131868362, 0.006292074918746948, 0.0017399413045495749, 0.007071595173329115, -0.023852653801441193, -0.019484711810946465, -0.01609034463763237, -0.02135292813181877, -0.020879294723272324, 0.0005279027973301709, -0.015090454369783401, 0.04746849089860916, 0.011761871166527271, -0.022523852065205574, 0.019945187494158745, 0.009334505535662174, 0.02083982527256012, 0.02044513262808323, 0.03752221167087555, -0.0024372334592044353, -0.0324438214302063, 0.03212806582450867, 0.014866795390844345, 0.0018978187581524253, -0.010229144245386124, -0.04596865549683571, 0.023260613903403282, -0.010005484335124493, 0.007176846731454134, -0.006236160174012184, -0.0002179037983296439, 0.012143408879637718, -0.0007421063492074609, 0.018221691250801086, 0.016656072810292244, 0.005045500583946705, -0.005226402077823877, 0.022431757301092148, -0.012209190987050533, -0.019945187494158745, -0.017577024176716805, 0.006683479528874159, 0.01931367628276348, -0.032075438648462296, -0.023247458040714264, 0.0029552688356488943, -0.01680079475045204, -0.00038790988037362695, -0.0065946732647717, 0.01407740730792284, 0.017090236768126488, 0.03428572416305542, 0.016182441264390945, -0.019155800342559814, -0.013985312543809414, 0.0041409945115447044, -0.0068018874153494835, -0.03446991369128227, 0.0018320364179089665, 0.014103720895946026], [-0.010369556024670601, -0.006671884562820196, -0.002275876235216856, -0.00470917159691453, -0.005355594214051962, 0.01651894301176071, -0.01354472991079092, -0.0006208838312886655, -0.017202207818627357, -0.032100070267915726, -0.002798373345285654, 0.001929219695739448, -0.005235017742961645, -0.011180096305906773, 0.017322784289717674, -0.00454505393281579, 0.03368096053600311, 0.015674909576773643, 0.013946650549769402, -0.013960047625005245, -0.00895613431930542, 0.018528547137975693, -0.021931476891040802, 0.0005693877465091646, -0.009190588258206844, -0.018675917759537697, -0.005425930488854647, -0.033198654651641846, -0.007341752760112286, -0.0060723526403307915, 0.008848955854773521, -0.00736854737624526, -0.007757070939987898, -0.03427044302225113, -0.003268955508247018, -0.01492465753108263, -0.003546950640156865, -0.022802304476499557, 0.014723697677254677, -0.004839795641601086, 0.005871392320841551, 0.012794477865099907, -0.011146602220833302, -0.0134576465934515, -0.022159231826663017, -0.005566602572798729, 0.016492148861289024, -0.04112989082932472, -0.02966175228357315, 0.014495941810309887, 0.012901656329631805, -0.025294212624430656, -0.04297872632741928, -0.005995317827910185, -0.01645195670425892, 0.004019207786768675, 0.004116338677704334, 0.0184615608304739, -0.006799159571528435, 0.002140228170901537, -0.0431394949555397, -0.0029373709112405777, -0.006253217346966267, 0.02423582226037979, 0.005248415283858776, -0.016143817454576492, 0.00037366070318967104, -0.0015792136546224356, -0.00560344522818923, 0.007180984131991863, 0.026017671450972557, 0.017028043046593666, -0.012479639612138271, -0.007931236177682877, 0.019225209951400757, -0.008688187226653099, -0.0034866626374423504, 0.00022252176131587476, 0.014214597642421722, 0.004347443114966154, 0.015072028152644634, -0.012372461147606373, -0.035690564662218094, 0.034591980278491974, 0.004002460744231939, -0.002657701028510928, -0.008842256851494312, 0.04555102065205574, -0.012359063141047955, -0.020350588485598564, 0.015634717419743538, 0.0029943096451461315, 0.025200432166457176, 0.017604129388928413, -0.0224003829061985, -0.004464669618755579, 0.008025017566978931, 0.031644560396671295, 0.012050923891365528, -0.020042449235916138, -0.01533997617661953, 0.0034330731723457575, 0.008051812648773193, -0.01069779135286808, -0.011896854266524315, 0.014830876141786575, -0.00973987951874733, -0.0055699520744383335, 0.013203097507357597, 0.005502965301275253, -0.01827399805188179, 0.0016302911099046469, -0.00048314224113710225, -0.03507428616285324, 0.024182232096791267, -0.0019627129659056664, 0.005935030058026314, -0.024503769353032112, -0.014897863380610943, -0.012030827812850475, 0.010275773704051971, 0.01818021573126316, 0.01854194514453411, -0.02111423760652542, 0.01609022729098797, -0.0052216206677258015, -0.016384970396757126, -0.028857911005616188, -0.0019241956761106849, 0.007140792440623045, 0.0028402400203049183, 0.0038919327780604362, 0.027866506949067116, 0.009947539307177067, -0.01571510173380375, 0.019720911979675293, -0.004370888229459524, 0.026406195014715195, -0.02507985569536686, -0.023941081017255783, -0.000325932604027912, 0.030813924968242645, -0.01060400903224945, -0.004893385339528322, -0.010215486399829388, 0.016880672425031662, 0.021717118099331856, -0.0066953301429748535, -0.0024232473224401474, -0.02848278544843197, -0.008976230397820473, -0.01899745501577854, 0.017657719552516937, -0.005375690292567015, 0.015996446833014488, 0.026432989165186882, -0.0015164135256782174, 0.005060852039605379, -0.029688546434044838, 0.005636938847601414, -0.0055699520744383335, 0.008319759741425514, 0.008246074430644512, -0.013551427982747555, 0.01609022729098797, 0.025830106809735298, 0.018233805894851685, 0.007274765986949205, 0.007060408126562834, -0.009726482443511486, -0.012781079858541489, 0.020980263128876686, -0.03593171760439873, 0.02304345741868019, -0.007830755785107613, -0.0032471849117428064, 0.0034498199820518494, -0.011441344395279884, -0.010403049178421497, -0.01818021573126316, -0.02984931506216526, 0.014710299670696259, 0.038718365132808685, 0.010349459946155548, -0.0052718608640134335, -0.008447034284472466, 0.002418223302811384, -0.012560023926198483, -0.0064206840470433235, -0.0008641296299174428, 0.016197407618165016, 0.03413647040724754, -0.00960590597242117, 0.0017935713985934854, -0.692804217338562, -0.00679581006988883, 0.018716109916567802, -0.004806302487850189, 0.020913276821374893, 0.03799491003155708, 0.021074045449495316, -0.005151284392923117, -0.006169483531266451, 0.019238607957959175, -0.0040828450582921505, -0.009893949143588543, -0.010644201189279556, -0.02167692594230175, -0.013524633832275867, -0.015996446833014488, -0.0024031512439250946, -0.016827082261443138, 0.014067227020859718, 0.022172627970576286, -0.00941164419054985, 0.019037647172808647, 0.011267178691923618, -0.0032639314886182547, -0.011146602220833302, -0.0003209086135029793, 0.011468139477074146, 0.0019844837952405214, 0.001506365486420691, -0.016304586082696915, -0.010403049178421497, 0.022815702483057976, -0.0026543517597019672, 0.011193493381142616, 0.04324667528271675, -0.017054837197065353, -0.0016863925848156214, -0.007549411617219448, 0.010356158018112183, 0.009525521658360958, -0.016974452883005142, 0.004384285770356655, 0.026486577466130257, 0.007703481242060661, -0.014938054606318474, 0.007013517431914806, 0.009351355955004692, 0.0034699158277362585, 0.009585809893906116, -0.0002735991729423404, -0.0012894957326352596, 0.003513457253575325, 0.0007669987971894443, 0.0017701260512694716, -0.005817803088575602, -0.0033158462028950453, 0.027598559856414795, 0.020645329728722572, 0.00054594234097749, 0.007757070939987898, -0.011588715016841888, 0.0014427280984818935, 0.0027246878016740084, -0.011441344395279884, -0.020739112049341202, 0.01910463348031044, -0.013558126986026764, 0.009867154993116856, -0.004665630403906107, -0.00923078041523695, 0.0010583912953734398, 0.006517814937978983, -0.01418780256062746, -0.005804405547678471, 0.03895951807498932, 0.014094021171331406, 0.017791692167520523, -0.010429843328893185, 0.011133205145597458, 0.025789916515350342, 0.008895846083760262, -0.006075702141970396, -0.010188691318035126, 0.009103504940867424, 0.017242399975657463, -0.02122141607105732, -0.009974333457648754, 0.005362292751669884, 0.016585929319262505, 0.004869939759373665, 0.009646098129451275, 0.003912028856575489, -0.016411764547228813, -0.0031919206958264112, 0.0065714046359062195, 0.013538030907511711, -0.010764777660369873, 0.011776278726756573, 0.04204091057181358, -0.005898187402635813, -0.017389772459864616, -0.008487226441502571, 0.013008835725486279, -6.128245149739087e-05, 0.02020321786403656, -0.007047010585665703, 0.027518175542354584, 0.03306468203663826, 0.010965738445520401, -0.008641296066343784, 0.010959039442241192, -0.011682496406137943, -0.029902905225753784, 0.023164033889770508, 0.031537383794784546, -0.03700350597500801, 0.023164033889770508, -0.004936926532536745, -0.008440336212515831, -0.016679711639881134, 0.03566376864910126, -4.4954420445719734e-05, 0.026285618543624878, 0.005928331054747105, -0.004725918173789978, 0.0034699158277362585, -0.00530535401776433, -0.03435082733631134, 0.0021753960754722357, -0.008078607730567455, 0.0009336284128949046, -0.0029289976228028536, 0.022936278954148293, -0.024222424253821373, 0.019158223643898964, 0.013839471153914928, 0.018970660865306854, 0.00808530580252409, 0.010121704079210758, -0.01800605095922947, -0.015286386013031006, 0.011970540508627892, -0.011300671845674515, 0.007381944451481104, 0.004869939759373665, -0.008721680380403996, -0.021931476891040802, -0.008781968615949154, 0.0031366567127406597, -0.005080948118120432, -0.03408288210630417, -0.00013282225700095296, -0.010074813850224018, -0.007515918463468552, -0.023860696703195572, 0.0035168067552149296, 0.007790564093738794, -0.027143048122525215, -0.014576326124370098, -0.02544158510863781, -0.001278610434383154, 0.015393565408885479, 0.005941728595644236, 0.008654694072902203, -0.007415438070893288, -0.005502965301275253, -0.0289382953196764, 0.024543961510062218, -0.003912028856575489, -0.02396787516772747, -0.013303576968610287, -0.01400023978203535, -0.0002468044694978744, 0.017028043046593666, 0.0066953301429748535, 0.007864249870181084, -0.03067995235323906, -1.0025123629020527e-06, -0.008936038240790367, -0.01213130820542574, 0.007268066983669996, 0.0033727851696312428, -0.0020464465487748384, 0.006886242423206568, 0.0008959483820945024, 0.020779304206371307, 0.016572533175349236, 0.0004609528696164489, -0.004739315714687109, 0.017041441053152084, -0.010255678556859493, 0.018113229423761368, -0.026486577466130257, 0.006015413906425238, -0.013203097507357597, 0.006554657593369484, -0.00963940005749464, -0.01075138058513403, 0.000782070797868073, 0.026232028380036354, 0.020605137571692467, 0.023177430033683777, 0.012318870984017849, -0.005985270254313946, 0.015447154641151428, -0.029045473784208298, 0.0046555823646485806, -0.007790564093738794, 0.018689315766096115, 0.015018438920378685, 0.0010048019466921687, -0.025146842002868652, -0.031001487746834755, 0.012693997472524643, 0.01927880011498928, 0.01781848631799221, -0.013672004453837872, 0.009197286330163479, 0.0012727490393444896, 0.0033878569956868887, 0.0037244658451527357, 0.008426938205957413, 0.0017483553383499384, -0.011407851241528988, -0.011582016944885254, 0.009746578522026539, 0.013759087771177292, 0.02856316976249218, 0.016559135168790817, -0.03303788602352142, -0.024450179189443588, 0.018032845109701157, 0.003530204063281417, 0.0031517285387963057, 0.005814453586935997, 0.005787658970803022, 0.011414549313485622, 0.0023244416806846857, 0.03250199183821678, 0.010644201189279556, 0.002424921840429306, 0.018059639260172844, 0.016599327325820923, 0.005191476549953222, 0.02992969937622547, 0.018046243116259575, 0.02324441820383072, 0.00702691450715065, -0.012760983780026436, 0.022386986762285233, 0.014455749653279781, 0.0019426170038059354, 0.0002826005220413208, -0.005593397188931704, 0.01174948364496231, -0.024021463468670845, -0.016505546867847443, -0.0001123075489886105, 0.014027034863829613, 0.027410995215177536, 0.027410995215177536, 0.007180984131991863, 0.0024651139974594116, -0.0018371128244325519, 0.035422615706920624, -0.018582137301564217, -0.0007435533916577697, -0.007549411617219448, -0.009391548112034798, -0.021060647442936897, -0.016666313633322716, -0.013008835725486279, 0.027946891263127327, -0.006691980641335249, 0.024838702753186226, 0.016317982226610184, 0.02490568906068802, 0.005891488399356604, 0.018046243116259575, -0.005847947206348181, -0.01579548604786396, -0.033118270337581635, 0.015219399705529213, 0.008882449008524418, -0.005690528079867363, -0.01129397377371788, -0.0038349940441548824, 0.006789111532270908, -0.002297647064551711, 0.02159654162824154, -0.010262376628816128, 0.016143817454576492, 0.0007226200541481376, -0.031376615166664124, 0.007288163062185049, 0.013960047625005245, 0.0009997779270634055, -9.906719060381874e-05, 0.005218271166086197, 0.0022875990252941847, 0.030010083690285683, 0.008601103909313679, 0.014067227020859718, -0.0134576465934515, 0.008065209724009037, -0.006390539929270744, 0.004695774056017399, -0.008674790151417255, 0.011468139477074146, -0.003476614598184824, 0.013906458392739296, 0.008078607730567455, -0.015621320344507694, -0.007636494468897581, 0.012740888632833958, 0.016224201768636703, -0.004853193182498217, 0.006330252159386873, 0.029447395354509354, 0.017684513702988625, -0.008333156816661358, -0.012720792554318905, -0.01708163321018219, 0.011407851241528988, 0.07127394527196884, 0.02700907550752163, 0.006370444316416979, 0.008145594038069248, -0.010865258052945137, -0.019895078614354134, -0.04134424775838852, -0.020337190479040146, 0.014723697677254677, -0.005137886852025986, -0.015554333105683327, -0.0021536254789680243, 0.021060647442936897, -0.0012233463348820806, 0.02351236529648304, 0.010208787396550179, -0.002910576295107603, 0.01520600263029337, 0.001878979615867138, -0.0003250952868256718, 0.009612604975700378, 0.02012283354997635, 0.015447154641151428, 0.010054717771708965, 0.018957262858748436, -0.010999231599271297, -0.00038726741331629455, 0.006685282103717327, -0.0009361404227092862, -0.0034246998839080334, -0.018207009881734848, 0.005851296242326498, -0.023807106539607048, 0.01129397377371788, -0.006293409503996372, 0.027437791228294373, -0.004826398566365242, 0.0032136915251612663, 0.003359387628734112, 0.007221176289021969, 0.0050709000788629055, -0.006253217346966267, -0.000926929758861661, -0.0061594354920089245, -0.0076096998527646065, -0.008058511652052402, -0.021650131791830063, 0.0012744237901642919, 0.0016537364572286606, -0.023900888860225677, 0.026379399001598358, -0.006675234064459801, -0.015942856669425964, -0.00454505393281579, 0.008467130362987518, 0.002706266473978758, -0.015031836926937103, 0.010315965861082077, -0.007174285594373941, -0.025937287136912346, -0.03946861997246742, -0.007475726306438446, 0.0021670227870345116, 0.00022649909078609198, -0.02361954376101494, -0.02939380519092083, -0.027946891263127327, -0.038155678659677505, -0.016465354710817337, -0.007857550866901875, -0.016760095953941345, -0.018046243116259575, -0.021462569013237953, -0.005955126136541367, 0.021194621920585632, -0.0039019808173179626, -0.004196722526103258, -0.005318751558661461, -0.021877886727452278, 0.010262376628816128, 0.0036641776096075773, -0.014616518281400204, -0.007723577320575714, 0.007589603774249554, 0.0020966867450624704, 0.019586939364671707, 0.020176421850919724, 0.001473709475249052, 0.0012685623951256275, 0.0041699279099702835, 0.0060723526403307915, 0.0030696699395775795, 0.005241716746240854, -0.01902424916625023, 0.008467130362987518, -0.010108307003974915, 0.01819361373782158, -0.0027615304570645094, -0.009994429536163807, -0.0046555823646485806, 0.014495941810309887, -0.022172627970576286, 0.0047728088684380054, 0.006735522300004959, 0.010764777660369873, -0.012700696475803852, -0.0076833851635456085, 0.0028151199221611023, -0.018675917759537697, 0.004528307355940342, 0.012071019969880581, -0.0304923877120018, 0.0023160683922469616, -0.011093012988567352, -0.0030194297432899475, 0.010851860977709293, -0.02757176384329796, 0.023579351603984833, -0.011923649348318577, -0.008882449008524418, 0.0160768311470747, -0.03882554545998573, -0.004990516230463982, -0.014080624096095562, 0.007830755785107613, 0.02746458537876606, -0.002545498078688979, -0.0066082472912967205, -0.018850084394216537, 0.012292076833546162, -0.024852100759744644, 0.01552753895521164, -0.002711290493607521, -0.015125618316233158, -0.022976471111178398, -0.01332367304712534, 0.001158871571533382, 0.015272988937795162, 0.00013198491069488227, -0.006229771766811609, -0.036414019763469696, 0.004310599993914366, 0.019627129659056664, 0.007582905236631632, 0.0012928451178595424, -0.03609248623251915, -0.014911260455846786, 0.021971669048070908, -0.022547755390405655, -0.004903433378785849, 0.011662401258945465, -0.00297253904864192, -0.030894309282302856, -0.00914369709789753, -0.007837454788386822, -0.0281076580286026, -0.0140538290143013, 0.011662401258945465, 0.024758318439126015, 0.051579833030700684, 0.027410995215177536, -0.013625114224851131, -0.00530535401776433, 0.009538919664919376, -0.009398247115314007, -0.004437875002622604, -0.018756302073597908, -0.00505080446600914, -0.00969298928976059, 0.005710624158382416, -0.006842700764536858, -0.02288268879055977, 0.001974435755982995, -0.004123037215322256, 0.008594405837357044, 0.016331380233168602, -0.022561151534318924, 0.0008189135696738958, 0.004913481418043375, -0.018595533445477486, -0.002193817403167486, 0.0011446368880569935, -0.023807106539607048, 0.010523625649511814, -0.02057834342122078, -0.011012628674507141, 0.003186896676197648, 0.015835678204894066, 0.012573421001434326, 0.008527418598532677, 0.002317743143066764, -0.022721920162439346, -0.007047010585665703, -0.007321656681597233, 0.008132196962833405, -0.01956014335155487, 0.0022608041763305664, -0.015634717419743538, -0.00454505393281579, 0.012921752408146858, -0.008400144055485725, 0.03185891732573509, -0.002356260549277067, 0.016934260725975037, 0.00012675157631747425, 0.007180984131991863, -0.013015533797442913, -0.014361968263983727, 0.012513132765889168, -0.003190245945006609, 0.019533349201083183, -0.00290555227547884, -0.005054153501987457, -0.014227994717657566, 0.015005041845142841, 0.02122141607105732, -0.01645195670425892, 0.022065449506044388, -0.007529315538704395, -0.009384850040078163, 0.0014686854556202888, -0.009431740269064903, 0.029179448261857033, 0.02931342087686062, 0.031189050525426865, 0.026245426386594772, 0.006286710500717163, -0.01152842678129673, 0.020457766950130463, -0.009471932426095009, -0.011776278726756573, 0.026580359786748886, 0.03003687784075737, -0.013424153439700603, -0.006712076719850302, 0.0050842976197600365, 0.02305685356259346, 0.0036072388757020235, -0.018622329458594322, -0.009733181446790695, 0.008587706834077835, -0.0031349819619208574, -0.01847495697438717, 0.00590153643861413, -0.040460024029016495, 0.0033459903206676245, -0.009183889254927635, -0.00830636266618967, -0.015192604623734951, -0.011494933627545834, -0.019707513973116875, 0.010918847285211086, -0.037887729704380035, 0.017202207818627357, -0.003116560634225607, -0.001344759832136333, -0.00010738820128608495, -0.0004272501391824335, -0.021341992542147636, -0.007154189515858889, 0.0004571848548948765, 0.03416326642036438, -0.006913037039339542, -0.02727702260017395, 0.008567610755562782, -0.004290503915399313, -0.015822280198335648, 0.02213243581354618, -0.017309388145804405, 0.029795726761221886, -0.01428158488124609, -0.015139015391469002, 0.015420359559357166, 0.011314069852232933, 0.009914045222103596, -0.010691092349588871, -0.0011186794145032763, -0.008339855819940567, -0.021181223914027214, 0.025401392951607704, 0.008292964659631252, -0.006487670820206404, -0.017054837197065353, -0.00017123499128501862, -0.005107743199914694, 0.0026660743169486523, -0.01533997617661953, -0.008808763697743416, -0.006785762030631304, -0.031269434839487076, -0.01670650579035282, 0.002031374489888549, -0.010121704079210758, 0.022842496633529663, 0.009619303978979588, -0.017229003831744194, 0.005526410415768623, 0.009806866757571697, -0.023579351603984833, 0.028402401134371758, -0.00464218482375145, 0.007475726306438446, -0.01308252103626728, 0.019091235473752022, 0.011729387566447258, -0.020149627700448036, 0.023539159446954727, -0.026593757793307304, -0.016411764547228813, -0.02415543794631958, 0.008071908727288246, 0.0028955042362213135, -0.010583912953734398, -0.0005019822856411338, 0.02958136796951294, 0.012513132765889168, -0.009029819630086422, -0.004501512739807367, -0.015674909576773643, 0.00894943531602621, -0.00936475396156311, 0.004585246089845896, 0.020806098356842995, -0.011595414020121098, 0.012627010233700275, -0.011166698299348354, 0.002769903978332877, 0.004511560779064894, -0.01921181194484234, -0.007013517431914806, 0.002573967445641756, 0.020873084664344788, -0.011849964037537575, -0.028455989435315132, -0.016237597912549973, -0.0028737334068864584, -0.0041196877136826515, -0.012760983780026436, -0.010865258052945137, 0.0016629471210762858, -0.020913276821374893, -0.009056614711880684, -0.0016411764081567526, 0.009632701054215431, -0.007656590547412634, -0.003459867788478732, -0.013316974975168705, 0.008259471505880356, -0.028857911005616188, -0.030331620946526527, 0.0028904802165925503, 0.01663951948285103, 0.017108427360653877, -0.010737982578575611, -0.010436542332172394, -0.004702473059296608, -0.019399374723434448, -0.015366770327091217, -0.012848067097365856, 0.0008699909667484462, 0.006129291839897633, 0.005017310846596956, 0.0003221646184101701, 0.03250199183821678, 0.006973325274884701, 0.013906458392739296, -0.021248210221529007, -0.007395341992378235, 0.023900888860225677, 0.0016813685651868582, 0.0018823288846760988, 0.007864249870181084, -0.025588955730199814, -0.013390660285949707, 0.00776376947760582, -0.011240383610129356, 0.005338847637176514, 0.006142688915133476, -0.013511236757040024, -0.02102045528590679, -0.006216374691575766, -0.005298655480146408, -0.010811668820679188, -0.00654126051813364, 0.00854751467704773, -0.022628139704465866, -0.0033727851696312428, 0.0025387995410710573, -0.0030646459199488163, 0.006149387452751398, 0.0037479111924767494, 0.01808643341064453, -0.0009235804318450391, 0.00762309692800045, -0.032555580139160156, -0.015433757565915585, -0.015393565408885479, -0.00969298928976059, 0.006846050266176462, 0.0007808147929608822, 0.015849076211452484, 0.013698799535632133, -0.00716758705675602, -0.005040756426751614, -0.004434525966644287, 0.017108427360653877, -0.011327466927468777, -0.008252773433923721, 0.00013889292313251644, -0.02056494541466236, -0.005794357508420944, -0.0208462905138731, -0.0040962425991892815, -0.028911499306559563, -0.012767682783305645, -0.001780174090526998, -0.01736297644674778, -0.016827082261443138, 0.01918501779437065, 0.026392797008156776, -0.00558000011369586, -0.002694543683901429, -0.016304586082696915, -0.0040694475173950195, 0.007314957678318024, -0.004816350527107716, 0.008453733287751675, -0.03424365073442459, 0.021703721955418587, 0.010905450209975243, -0.013625114224851131, -0.025240624323487282, 0.0049838172271847725, 0.033011093735694885, 0.0038215965032577515, -0.0048230490647256374, 0.23879452049732208, -0.007529315538704395, 0.0025220527313649654, 0.017242399975657463, 0.013665306381881237, 0.014522736892104149, 0.019586939364671707, -0.006146038416773081, 0.003369435667991638, 0.004732617177069187, 0.029447395354509354, 0.0017450059531256557, -0.017215605825185776, -0.010530323721468449, -0.00689294096082449, 0.007254669908434153, -0.003757959231734276, -0.026432989165186882, -0.013055725954473019, -0.032019685953855515, -0.004615390207618475, -0.01653234101831913, 0.023927683010697365, -0.0035804440267384052, 0.041103094816207886, -0.00914369709789753, 0.0019560144282877445, 0.0011982262367382646, 0.023364992812275887, 0.006886242423206568, -0.03469916060566902, -0.019707513973116875, 0.021797502413392067, 0.0009319537784904242, -0.014482544735074043, 0.0009118577581830323, 0.00730156060308218, 0.005683829542249441, 0.031162256374955177, 0.009565713815391064, 0.008299663662910461, -0.005717322696000338, 0.015581128187477589, 0.005707274656742811, 0.006276662461459637, 0.012566722929477692, -0.014174405485391617, -0.008942737244069576, 0.014040431939065456, 0.011213589459657669, -0.017041441053152084, -0.002805071882903576, 0.02111423760652542, 0.0002166604099329561, 0.028804320842027664, -0.017684513702988625, 0.012472940608859062, -0.01134756300598383, 0.003034501802176237, 0.0013556452468037605, -0.009471932426095009, -0.0005823664250783622, -0.028911499306559563, 0.03303788602352142, -0.031001487746834755, 0.016384970396757126, -0.021542953327298164, -0.0033627371303737164, 0.01060400903224945, 0.017657719552516937, -0.011113109067082405, -0.0009126950753852725, 0.015942856669425964, -0.00606565410271287, -0.03405608609318733, -0.015420359559357166, 0.02939380519092083, 0.03086751513183117, 0.02406165562570095, -0.0007364360499195755, -0.015741895884275436, 0.013216494582593441, -0.012285377830266953, -0.01587587036192417, -0.01700124889612198, -0.02285589464008808, 0.00587809132412076, -0.025374596938490868, -0.0002943232248071581, 0.008842256851494312, -0.005442677065730095, 0.004829747602343559, -0.006336950697004795, -0.02597747929394245, 0.021717118099331856, 0.024128643795847893, 0.017242399975657463, 0.011548522859811783, -0.005841248203068972, -0.01213130820542574, -0.018528547137975693, 0.016291188076138496, 0.01783188432455063, 0.008654694072902203, -0.015406962484121323, -0.002863685367628932, -0.013799279928207397, 0.002731386572122574, 7.326680702135491e-07, -0.02627222053706646, 0.012700696475803852, -0.039897333830595016, 0.006196278613060713, -0.016277790069580078, -0.0011580341961234808, 0.012894958257675171, 0.008741776458919048, -0.007154189515858889, -0.0020481212995946407, -0.009646098129451275, 0.0011655702255666256, 0.006913037039339542, -0.018796494230628014, 0.013906458392739296, -0.015621320344507694, -0.011689195409417152, -0.006779063493013382, -0.008266170509159565, 0.012982040643692017, -0.01828739419579506, 0.00558000011369586, -0.007361848838627338, 0.0280004795640707, 0.009505425579845905, 0.02368653006851673, -0.0035369026008993387, 0.005566602572798729, -0.001593448338098824, -0.0395222082734108, 0.0009286044514738023, 0.01946636289358139, -0.008802064694464207, -0.015286386013031006, 0.01571510173380375, -0.005235017742961645, -0.019640527665615082, 0.0288311168551445, -0.0006359558901749551, -0.008835557848215103, -0.01718881167471409, -0.022092243656516075, 0.0001987623836612329, -0.006792461033910513, -0.01102602668106556, 0.022467371076345444, 0.0039019808173179626, -0.005881440360099077, -0.030706746503710747, 0.01010160893201828, -0.007402040529996157, -0.02818804234266281, -6.860912981210276e-05, 0.04981137812137604, -0.009190588258206844, -0.0288311168551445, 0.010208787396550179, -0.17470155656337738, 0.012988739646971226, 0.016291188076138496, -0.01300213672220707, 0.003305798163637519, -0.018943864852190018, 0.023927683010697365, -0.0009361404227092862, -0.00849392544478178, -0.011119808070361614, 0.018769700080156326, -0.006849399767816067, -0.022279808297753334, -0.005492917262017727, 0.002069891896098852, -0.0035737454891204834, 0.0024818608071655035, -0.006568055134266615, 0.039736565202474594, -0.003811548464000225, 0.029715342447161674, -0.010711188428103924, -0.00044462483492679894, -0.010858559049665928, 0.02269512601196766, 0.0011513355420902371, -0.018140023574233055, 0.026875101029872894, 0.0037110683042556047, -0.014402160421013832, -0.015366770327091217, 0.009110203944146633, 0.00560344522818923, 0.013584922067821026, 0.011441344395279884, 0.016023240983486176, 0.031832125037908554, -0.0010006151860579848, -0.014509339816868305, -0.0011262154439464211, 0.014214597642421722, 0.009485330432653427, 0.0006133478018455207, 0.004102941136807203, -0.008587706834077835, 0.01809983141720295, 0.030197646468877792, -0.013337071053683758, 0.023485569283366203, -0.010141800157725811, 0.009157095104455948, -0.016103625297546387, -0.019694117829203606, -0.006722124759107828, 0.020966866984963417, 0.015232796780765057, -0.025280816480517387, 0.006156086456030607, 0.01615721546113491, 0.0006242331583052874, -0.0017684513004496694, -0.010865258052945137, 0.011079615913331509, -0.0007866761879995465, -0.008594405837357044, -0.02031039632856846, -0.014455749653279781, 0.017429964616894722, -0.008118798956274986, 0.01000782661139965, -0.011709291487932205, -0.00890254508703947, 0.023351596668362617, -0.002500282134860754, 0.01571510173380375, 0.018662521615624428, -0.01391985546797514, 0.03831644728779793, -0.002098361263051629, 0.016384970396757126, 0.003925425931811333, 0.01838117651641369, 0.012385858222842216, 0.005857995245605707, 0.009666194207966328, 0.00041699278517626226, -0.012178199365735054, -0.0010575540363788605, -0.014214597642421722, -0.005399135407060385, 0.03772696107625961, -0.02829522080719471, -0.030358415096998215, -0.030010083690285683, -0.020993661135435104, 0.00672882329672575, 0.0011111433850601315, -0.0043072509579360485, -0.004076146520674229, 0.003680924419313669, -0.019801296293735504, 0.006678583566099405, -0.029634958133101463, 0.013645210303366184, 0.031081872060894966, -0.006986722815781832, 0.0009185564122162759, 0.011863361112773418, 0.028884705156087875, 0.00022377775167115033, -0.02802727371454239, -0.015313181094825268, 0.010081512853503227, 0.02103385329246521, 0.018354382365942, 0.023941081017255783, 0.006718775257468224, -0.007455630227923393, 0.013879663310945034, -0.014455749653279781, 0.05420571193099022, 0.0039957622066140175, -0.01615721546113491, 0.0196539256721735, 0.005764213390648365, -0.010516926646232605, -0.0950140655040741, -0.040567200630903244, 0.005459423642605543, 0.046810369938611984, 0.005178079009056091, 0.013906458392739296, 0.0077704680152237415, 0.03528864309191704, -0.0064709242433309555, 0.0012710744049400091, -0.005365642253309488, -0.023914285004138947, -0.01473709475249052, -0.012345666065812111, -0.001800270052626729, -0.005955126136541367, 0.017041441053152084, -0.007917839102447033, -0.02672773040831089, 0.030251236632466316, -0.024677934125065804, 0.007891044020652771, -0.0008327295654453337, -0.031564176082611084, -0.006735522300004959, 0.0018304141703993082, -0.022025257349014282, 0.01547394972294569, 0.006022112909704447, -0.009217382408678532, -0.013176302425563335, -0.02039078064262867, 0.003150054020807147, -0.014536133967339993, -0.004129735752940178, 0.0006099984748288989, -0.037619784474372864, -0.017215605825185776, 0.05128508806228638, -0.009371452033519745, 0.003510107984766364, 0.00626661442220211, -0.009344657883048058, -0.019962064921855927, -0.0009914045222103596, -0.02092667482793331, 0.001456962781958282, 0.0025019566528499126, -0.009063312783837318, -0.0345383919775486, -0.015353373251855373, -0.007308259140700102, -0.01590266451239586, 0.0164385586977005, 0.01433517411351204, -0.0053823888301849365, 0.020631931722164154, 0.0049101319164037704, -0.023766914382576942, -0.013424153439700603, -0.016599327325820923, 0.006762316916137934, -0.012740888632833958, 0.03239481523633003, -0.018528547137975693, 0.022480767220258713, -0.03893272578716278, -0.01681368611752987, 0.024932485073804855, -0.006614945828914642, 0.0002558058185968548, 0.008025017566978931, -0.0013422478223219514, 0.010068114846944809, -0.02939380519092083, 0.020511357113718987, -0.024865498766303062, -0.04571178928017616, 0.02313723787665367, 0.011816470883786678, -0.03258237615227699, -0.011715990491211414, -0.010088210925459862, -0.026781320571899414, 0.002156974747776985, 0.010215486399829388, 0.006058955565094948, 0.0011605462059378624, 0.02617843821644783, -0.03721786290407181, 0.011146602220833302, 0.024383192881941795, 0.03895951807498932, -0.04434525594115257, -0.03555658832192421, -0.001966062467545271, 0.004076146520674229, -0.011233685538172722, 0.008246074430644512, -0.0030495738610625267, -0.03657478839159012, -0.02662055194377899, -0.05149944871664047, 0.014777286909520626, 0.017925666645169258, -0.01690746657550335, -0.010925546288490295, 0.007154189515858889, -0.001808643457479775, -0.006099147722125053, 0.00017552633653394878, 0.021248210221529007, -0.029554573819041252, -0.009780071675777435, -0.016103625297546387, -0.010999231599271297, 0.00716758705675602, -0.0013255011290311813, 0.03719106689095497, 0.0028536373283714056, 0.014844273217022419, 0.0018773048650473356, 0.013973445631563663, -0.007569507695734501, 0.011642305180430412, 0.004421128425747156, -0.0011161674046888947, 0.010711188428103924, -0.021971669048070908, 0.026593757793307304, -0.0082728685811162, -0.013524633832275867, 0.004722569137811661, -0.019519951194524765, -0.024088451638817787, 0.004967070650309324, -0.007529315538704395, 0.0003671713639050722, -0.01153512578457594, 0.012111212126910686, 0.0098805520683527, 0.0014636614359915257, -0.002793349325656891, -0.036333635449409485, -0.010717887431383133, -0.016023240983486176, -0.019305594265460968, 0.00949872750788927, -0.016585929319262505, 0.012821272015571594, 0.004421128425747156, 0.016036638990044594, -0.004260360263288021, 0.002351236529648304, -0.005211572628468275, -0.006946530658751726, 0.008889147080481052, -0.011113109067082405, -0.004789555910974741, -0.0004387634980957955, 0.010135102085769176, -0.017108427360653877, 0.06028811261057854, 0.01391985546797514, -0.006280011963099241, 0.00454505393281579, 0.01993526890873909, 0.04131745547056198, 0.007824057713150978, -0.0035703962203115225, 0.029608162119984627, -0.017215605825185776, 0.005981920752674341, -0.006387190893292427, 0.017121825367212296, 0.008594405837357044, 0.008668091148138046, -0.005707274656742811, 0.006527862977236509, 0.011005930602550507, -0.023177430033683777, 0.01974770613014698, 0.03756619244813919, 0.012459543533623219, -0.03753940016031265, 0.007736974861472845, 0.010269075632095337, -0.006249867845326662, -0.007214477751404047, 0.009833660908043385, 0.003232112852856517, 0.005824501626193523, -0.023954477161169052, 0.009344657883048058, 0.021931476891040802, -0.01106621790677309, -0.010181992314755917, 0.0023428630083799362, 0.014750491827726364, -0.009780071675777435, 0.016760095953941345, 0.019640527665615082, 0.01921181194484234, 0.01590266451239586, -0.004826398566365242, -0.027116253972053528, -0.019868282601237297, -0.0011161674046888947, -0.01910463348031044, -0.04190693795681, -0.01199063565582037, 0.015072028152644634, 0.008514021523296833, -0.003119909903034568, -0.01340405736118555, 0.019533349201083183, 0.0048230490647256374, 0.000935303105507046, -0.016023240983486176, 0.015192604623734951, -0.018890276551246643, 0.027893301099538803, 0.005261812824755907, 0.014723697677254677, 0.017429964616894722, -0.013102617114782333, 0.014777286909520626, 0.004498163238167763, 0.01020208839327097, -0.0042704083025455475, 0.0075963023118674755, -0.0027799520175904036, -0.0018136674771085382, 0.012921752408146858, -0.02479851059615612, -0.022172627970576286, -0.0051713804714381695, -0.01918501779437065, -0.02021661400794983, -0.002438319381326437, -0.016773493960499763, 0.05115111544728279, 0.011957142502069473, -0.01680028811097145, 0.015929458662867546, 0.0005744117661379278, 0.022253012284636497, 0.014576326124370098, 0.030706746503710747, -0.001514738891273737, -0.033948905766010284, 0.035583384335041046, 0.008554213680326939, -0.0005660384194925427, -0.00821927934885025, -0.03850400820374489, 0.01454953197389841, -0.012365762144327164, 0.008185786195099354, -0.003232112852856517, 0.0014067227020859718, 0.021328594535589218, -0.005144585855305195, 0.01755053922533989, 0.020645329728722572, 0.006454177666455507, -0.002095011994242668, 0.02710285596549511, -0.0041565303690731525, -0.008895846083760262, -0.014495941810309887, 0.0019962063524872065, 0.015728499740362167, -0.03330583497881889, -0.022199423983693123, 0.0007954681641422212, -0.01454953197389841, 0.0012735864147543907, -0.009820263832807541, 0.017845282331109047, 0.022199423983693123, 0.03159097209572792, 0.02029699832201004, -0.014589724130928516, -0.008266170509159565, 0.0032187155447900295, -0.008761872537434101, -0.0289382953196764, 0.002557220868766308, 0.015286386013031006], [-0.008024327456951141, -0.0035825250670313835, -0.0003658125060610473, -0.0056348759680986404, -0.024562109261751175, 0.01616763137280941, -0.014911765232682228, -0.0045607793144881725, -0.0010534408502280712, -0.034291770309209824, 0.016008995473384857, 0.01726486347615719, -0.009128168225288391, 0.0021101864986121655, 0.008665480650961399, -8.892280311556533e-05, 0.024205178022384644, 0.00029868146521039307, 0.0085002351552248, -0.007482321932911873, 0.0054795448668301105, 0.007356734946370125, -0.011659731157124043, 0.02466786652803421, -0.028237171471118927, -0.023200485855340958, 0.0035527809523046017, -0.03532290458679199, 0.019393226131796837, -0.009927957318723202, 0.022023936733603477, -0.017317742109298706, 0.0016020563198253512, -0.03632759675383568, 0.000641153019387275, -0.012631375342607498, -0.01053606066852808, -0.017225204035639763, 0.008163133636116982, -0.011018577963113785, 0.00908189918845892, 0.016683198511600494, 0.007125391159206629, -0.02136295475065708, -0.0048879655078053474, -0.00023485533893108368, 0.00418071448802948, -0.018137359991669655, -0.009762711822986603, 0.022090034559369087, 0.020464017987251282, -0.01091943122446537, -0.032229505479335785, -0.0007977232453413308, -0.006867608055472374, 0.004911100026220083, 0.006107478402554989, 0.02887171506881714, 0.010152691043913364, -0.004022078588604927, -0.032573215663433075, 0.008202793076634407, -0.012637984938919544, 0.00696014566347003, 0.02148193120956421, 0.002214291365817189, 0.020754849538207054, 0.006973365321755409, 0.006894047372043133, 0.007376564666628838, 0.01899663731455803, 0.009346292354166508, 4.084665124537423e-05, -0.002795955864712596, 0.011587022803723812, -0.006570165976881981, -0.021680226549506187, 0.004382313694804907, 0.008890214376151562, -0.0051887123845517635, 0.013365065678954124, -0.024998357519507408, -0.020199624821543694, 0.020807728171348572, 0.00021120456221979111, -0.007105561904609203, 0.0015111712273210287, 0.02895103394985199, -0.013437774032354355, -0.014065707102417946, -0.007303856313228607, 0.019181711599230766, 0.01212902832776308, 0.015215816907584667, -0.015903238207101822, 0.01768789067864418, 0.0019333737436681986, 0.032864049077034, -0.008817506022751331, -0.026545057073235512, -0.006024855189025402, -0.003526341635733843, 0.006411530077457428, -0.0033594435080885887, -0.013021355494856834, -0.01216207817196846, -0.0023349206894636154, 0.004184019286185503, 0.02728535793721676, 0.0028653591871261597, -0.009875078685581684, 0.013801314868032932, -0.005971977021545172, -0.03587812930345535, 0.010060153901576996, 2.4967581339296885e-05, -0.0018474460812285542, -0.0214158333837986, -0.022473404183983803, -0.016008995473384857, 0.010800453834235668, 0.015519868582487106, 0.016418805345892906, -0.013695557601749897, 0.027258917689323425, 0.005370482802391052, -0.021336514502763748, -0.03281117230653763, -0.009240535087883472, -0.0035395612940192223, 0.02984996885061264, 0.0035395612940192223, 0.01464737206697464, 0.02300219051539898, -0.024919040501117706, 0.024403473362326622, -0.009009191766381264, 0.031621403992176056, -0.03447684645652771, -0.015850359573960304, -0.004623572342097759, 0.02661115489900112, -0.009564416483044624, -0.015295134857296944, -0.00981559045612812, 0.021191097795963287, 0.02053011581301689, -0.023134388029575348, 0.011613462120294571, -0.024284496903419495, 0.00359243992716074, 0.000372422335203737, 0.020358260720968246, -0.0005721629713661969, 0.02025250345468521, 0.03442396968603134, 0.0016268431209027767, -0.00013963255332782865, -0.010813673958182335, -0.01941966637969017, 0.0038403081707656384, 0.004580608569085598, -0.003364400938153267, -0.019023075699806213, 0.024165520444512367, 0.032573215663433075, 0.020437579602003098, 0.011487876065075397, -0.0007419528556056321, -0.006451189052313566, -0.02265848033130169, 0.027655508369207382, -0.03897152841091156, 0.024786842986941338, -0.017436718568205833, 0.0030157326254993677, -0.007614518515765667, -0.0028339624404907227, -0.014449077658355236, -0.0055786920711398125, -0.033604349941015244, 0.016828613355755806, 0.015995776280760765, 0.0170004703104496, 0.0016598922666162252, -0.0033908402547240257, 0.028580883517861366, -0.010727745480835438, 0.0012219913769513369, -0.0054134465754032135, 0.02175954356789589, 0.022301549091935158, 0.001400456647388637, 0.0023349206894636154, -0.6916520595550537, 0.00014717188605573028, 0.029188986867666245, 0.006586690433323383, 0.024218399077653885, 0.04264659062027931, 0.03019368089735508, 0.006966755259782076, 0.004878050647675991, 0.012690863572061062, -0.010251838713884354, 0.008381257764995098, -0.008196182548999786, -0.012809840962290764, -0.00768722640350461, -0.018071262165904045, -0.007964839227497578, -0.020054208114743233, 0.00461035268381238, 0.018388532102108, 0.005261420737951994, 0.02100602351129055, 0.00533743342384696, -0.005727413110435009, -0.011613462120294571, 0.0011699390597641468, 0.021918179467320442, 0.0065602511167526245, 0.011104505509138107, 0.003040519542992115, -0.014872105792164803, 0.017053348943591118, -0.0003517666191328317, 0.011633291840553284, 0.02818429283797741, -0.011011968366801739, -0.007198099512606859, -0.007674006745219231, 0.01319321058690548, 0.016273388639092445, -0.013536921702325344, 0.00718487985432148, 0.026981305330991745, 0.012737132608890533, -0.014303660951554775, 0.0014971253694966435, 0.008387868292629719, -0.008797677233815193, 0.006041380111128092, 0.003098355373367667, -0.006385090760886669, -0.0031148800626397133, -0.004785513039678335, 0.000672962807584554, -0.004065042361617088, -0.008526674471795559, 0.015030741691589355, 0.027470432221889496, 0.004676450975239277, 0.012928817421197891, -0.01385419350117445, 0.015176158398389816, -0.006348737049847841, -0.007759934291243553, -0.021508369594812393, 0.008473795838654041, -0.025461046025156975, 0.035957448184490204, 0.00299755553714931, -0.005317604169249535, 0.006252894178032875, 0.0055753872729837894, -0.007991278544068336, -0.009385951794683933, 0.028765957802534103, 0.02391434647142887, 0.007640957832336426, -0.004187324084341526, -0.005552252754569054, 0.019776595756411552, -0.0003990681725554168, 0.00021688487322535366, -0.01253883820027113, -0.013411334715783596, 0.011230092495679855, -0.021997496485710144, -0.026796231046319008, 0.0030933981761336327, 0.0021035766694694757, 0.017978724092245102, 0.026029489934444427, 0.010027104057371616, -0.01934034749865532, -0.0076012988574802876, 0.012770181521773338, -0.006467713508754969, -0.007026243954896927, 0.016669979318976402, 0.028290050104260445, 0.01323286909610033, -0.00490779522806406, -0.0031082702334970236, 0.0019185016863048077, 0.020477237179875374, 0.004732634872198105, 0.013933510519564152, 0.007132001221179962, 0.026373201981186867, 0.017119446769356728, -0.024403473362326622, 0.003217332297936082, -0.014158245176076889, -0.02749687246978283, 0.0002972355578094721, 0.01323286909610033, -0.03944743424654007, -0.0055753872729837894, 0.01122348289936781, 0.008341599255800247, -0.018626486882567406, 0.024985138326883316, 0.002795955864712596, 0.02921542525291443, 0.020067429170012474, 0.0025646120775491, 0.000577533442992717, -0.0006828775512985885, -0.01934034749865532, -0.01167295128107071, 0.0051226140931248665, -0.002367969835177064, -0.003913016524165869, 0.018983416259288788, -0.007032853551208973, 0.011593633331358433, 0.0040452126413583755, 0.015295134857296944, 0.006024855189025402, 0.014475516974925995, -0.010198960080742836, -0.017436718568205833, 0.02417873963713646, -0.014700250700116158, 0.013292358256876469, 0.004554169252514839, -0.01561240665614605, -0.022010717540979385, -0.01789940521121025, -0.000227419295697473, -0.0010236966190859675, -0.023240145295858383, 0.00033710108255036175, -0.00915460754185915, 0.008156524039804935, -0.016907932236790657, -0.004537644796073437, -0.006732106674462557, -0.025262750685214996, -0.019247809424996376, -0.014356539584696293, -0.001487210625782609, 0.0062661138363182545, -0.008632431738078594, 0.0007993757026270032, -0.017978724092245102, -0.007039463613182306, -0.020014550536870956, 0.013120502233505249, -0.018428191542625427, -0.030167240649461746, -0.021574469283223152, 0.0031347095500677824, -0.02156124822795391, 0.013437774032354355, 0.010278278030455112, -0.0024191958364099264, -0.013061014004051685, -0.003341266419738531, -0.008209402672946453, -0.012446300126612186, 0.007317075971513987, 0.0013930206187069416, 0.006447884254157543, 0.017859747633337975, 0.0025414777919650078, 0.018890880048274994, 0.020292162895202637, 0.019247809424996376, -0.007369954604655504, 0.006867608055472374, -0.007832642644643784, 0.0019003247143700719, -0.015110059641301632, 0.010972308926284313, -0.010370815172791481, -0.002232468454167247, -0.011230092495679855, 0.003823783714324236, 0.0007204709108918905, 0.02053011581301689, 0.03254677727818489, 0.012842889875173569, 0.022777456790208817, -0.01644524373114109, 0.009709833189845085, -0.033128444105386734, -0.004742549266666174, -0.007396393921226263, 0.014779568649828434, 0.011937343515455723, 0.012380202300846577, -0.02604271098971367, -0.03622183948755264, 0.018084481358528137, 0.02412586100399494, 0.018467850983142853, -0.013774875551462173, 0.010899601504206657, -0.011553973890841007, 0.007350125350058079, -0.00901580136269331, 0.010892991907894611, 0.009584246203303337, -0.01768789067864418, -0.023398779332637787, 0.011970393359661102, 0.029400501400232315, 0.03397449851036072, 0.018216677010059357, -0.02963845431804657, -0.014634151943027973, 0.01347082294523716, 0.00020149638294242322, -0.0021928094793111086, 0.0004845827934332192, 0.007971448823809624, 0.0105426711961627, 0.0022473405115306377, 0.034661922603845596, 0.008420917205512524, 0.008910044096410275, 0.012571887113153934, 0.039130162447690964, -0.00607773382216692, 0.023583855479955673, 0.017185544595122337, 0.02576509676873684, -0.00798466894775629, -0.006474323570728302, 0.03307556360960007, -0.0036717576440423727, 0.005135833751410246, -0.005360567942261696, 0.0030653062276542187, 0.019776595756411552, -0.018269555643200874, -0.025804756209254265, -0.001446725451387465, 0.013107283040881157, 0.030510952696204185, 0.011117725633084774, 0.011666340753436089, 0.0057703773491084576, -0.02093992568552494, 0.011236702091991901, -0.003893186803907156, -0.00022142913076095283, 0.008751408196985722, -0.010826893150806427, -0.01629982888698578, -0.017991943284869194, -0.009339682757854462, 0.02259238250553608, -0.0017664757324382663, 0.03125125169754028, 0.012181906960904598, 0.02908322960138321, 0.010350985452532768, 0.022063596174120903, 0.015348013490438461, 0.0034007548820227385, -0.028792398050427437, 0.00908189918845892, 0.0057075838558375835, 0.0014863844262436032, -0.024482792243361473, -0.021442271769046783, 0.01516293827444315, -0.003569305408746004, 0.002977726049721241, -0.004260031972080469, -0.003384230425581336, 0.006021550390869379, -0.030087923631072044, 0.006173576693981886, 0.024839721620082855, 0.007290637120604515, 0.006087648682296276, -0.00812347512692213, -0.016273388639092445, 0.014277221634984016, 0.004438497591763735, 0.017159106209874153, -0.0129155982285738, 0.002838919870555401, -0.010172520764172077, -0.005892659071832895, -0.021944617852568626, -0.0017549084732308984, 0.002695156028494239, 0.01645846478641033, 0.02238086797297001, -0.0020771375857293606, -0.0074691022746264935, 0.020622653886675835, 0.001958160661160946, -0.008586162701249123, 0.009875078685581684, 0.0268094502389431, 0.018203457817435265, -0.015268695540726185, -0.009564416483044624, -0.018547168001532555, 0.005658010020852089, 0.04669180512428284, 0.02736467495560646, 0.012010051868855953, -0.006223150063306093, -0.008797677233815193, -0.017357399687170982, -0.04309605807065964, -0.009042240679264069, 0.008414306677877903, 0.004940844140946865, 0.0024588548112660646, 0.006656093522906303, 0.015797480940818787, -0.001261650351807475, 0.013113892637193203, 0.009775931015610695, -0.004028688184916973, -0.011038407683372498, 0.004930929280817509, -0.003129752120003104, 0.00179621996358037, 0.00438892375677824, 0.0013946730177849531, 0.007693835999816656, 0.017119446769356728, -0.005456410348415375, 0.0005048253806307912, -0.0036023545544594526, -0.0010418737074360251, -0.018348874524235725, -0.010066763497889042, 0.016749296337366104, 0.0024803366977721453, 0.007006414234638214, -0.0037147216498851776, 0.02072841115295887, -0.017238423228263855, 0.006794900167733431, 0.011137555353343487, -0.0024968613870441914, 0.01216207817196846, -0.005456410348415375, -0.011904294602572918, -0.017238423228263855, 0.009121558628976345, -0.003929540980607271, -0.008976141922175884, 0.009405780583620071, -0.001946593401953578, -0.008394477888941765, 0.021124999970197678, -0.005836475640535355, -0.008632431738078594, -0.016551000997424126, 0.01782008819282055, 0.015771042555570602, -0.016352707520127296, -0.009610685519874096, -0.011005358770489693, -0.04367772489786148, -0.044259387999773026, -0.015929678454995155, -0.006933706346899271, -0.010926040820777416, -0.01692115142941475, -0.030696026980876923, -0.020093867555260658, -0.018560389056801796, -0.023821808397769928, -0.014105366542935371, -0.0014392894227057695, -0.017912626266479492, -0.022896433249115944, -0.016749296337366104, 0.016630319878458977, -0.00035651744110509753, -0.014766348525881767, 0.0007758282008580863, -0.01056911051273346, 0.008724968880414963, 0.0037378559354692698, -0.026492178440093994, -0.0008295330335386097, -0.014673811383545399, -0.0045012906193733215, 0.027946339920163155, 0.018295995891094208, 0.016947591677308083, 0.009095119312405586, 0.00908850971609354, 0.010033714585006237, -0.012922207824885845, 0.0064908480271697044, -0.02873951941728592, 0.014792787842452526, -0.018626486882567406, 0.01288915891200304, -0.009187656454741955, -0.010754184797406197, 0.0016574135515838861, -0.005261420737951994, -0.020331822335720062, -0.009822200052440166, 0.00811686459928751, 0.012333933264017105, -0.005221761763095856, -0.004524425137788057, 0.012836280278861523, -0.01900985650718212, -0.005965366959571838, -0.002371274633333087, -0.02937406115233898, 0.010840113274753094, -0.01803160272538662, 0.004537644796073437, 0.011791927739977837, 0.007105561904609203, 0.03127769008278847, -0.013523701578378677, -0.015427331440150738, -0.00013137026689946651, -0.023954005911946297, 0.0044979858212172985, 0.01178531814366579, 0.012281054630875587, 0.013384895399212837, -0.0022192487958818674, -0.023398779332637787, -0.02142905257642269, 0.0022390782833099365, -0.018573608249425888, 0.013398115523159504, -0.012624765746295452, -0.015229037031531334, -0.031542085111141205, -0.018124140799045563, -0.0027182905469089746, 0.031409889459609985, 0.004623572342097759, -0.014832447282969952, -0.023940786719322205, 0.012922207824885845, -0.0053506530821323395, -0.014330100268125534, -0.012585106305778027, -0.03772887960076332, -0.008619211614131927, 0.013867412693798542, -0.022896433249115944, 0.010721135884523392, 0.012069540098309517, -0.005228371359407902, -0.02452244982123375, -0.010892991907894611, -0.0050201620906591415, -0.028210733085870743, -0.012571887113153934, -0.0031578438356518745, 0.03474124148488045, 0.04222356155514717, 0.03323420137166977, -0.0013525354443117976, 0.0069535356014966965, 0.009280194528400898, -0.010370815172791481, -0.009894907474517822, -0.022909652441740036, -0.010522841475903988, -0.010562499985098839, 0.0015367843443527818, 0.0025662644766271114, 0.015731383115053177, -0.004967283457517624, 0.0100932028144598, 0.0027034184895455837, 0.011097895912826061, -0.015546307899057865, 0.00483508687466383, -0.014052487909793854, -0.015982557088136673, -0.009273584000766277, 0.0026521922554820776, -0.013107283040881157, 0.012406641617417336, -0.012796620838344097, -0.012975086458027363, 0.025791537016630173, 0.011798537336289883, 0.005334128625690937, 0.00925375521183014, 0.01665675826370716, -0.015704944729804993, -0.009663564153015614, 0.0127503527328372, 0.0028537919279187918, -0.010615378618240356, 0.00608103908598423, -0.014237563125789165, -0.01768789067864418, 0.022420525550842285, -0.010714526288211346, 0.02653183788061142, -0.005909183528274298, 0.010212179273366928, 0.012479349039494991, 0.010212179273366928, -0.007217928767204285, 0.00754842022433877, 0.014938204549252987, 0.003040519542992115, -0.0021928094793111086, -0.033683668822050095, -0.007759934291243553, -0.02030538208782673, 0.013239479623734951, 0.03296980634331703, -0.01513649895787239, 0.02031860128045082, -0.012895768508315086, -0.025540363043546677, -0.003757685422897339, 0.002255602739751339, 0.049362171441316605, 0.014660591259598732, 0.013411334715783596, 0.01721198484301567, -0.0019598130602389574, -0.02417873963713646, 0.02300219051539898, -0.023954005911946297, -0.003301607444882393, 0.030696026980876923, 0.035613738000392914, -0.017106227576732635, -0.0068543883971869946, 0.0014268959639593959, 0.029532697051763535, 0.0016235382063314319, -0.024905819445848465, -0.0005130876670591533, 0.01163990143686533, 0.0008906738949008286, -0.013788094744086266, -0.00038419608608819544, -0.04613657668232918, 0.001816049451008439, -0.005334128625690937, -0.017582133412361145, -0.0201864056289196, -0.0025216483045369387, -0.01996167190372944, 0.013391504995524883, -0.03516426682472229, 0.016194071620702744, 0.01670963689684868, -0.01644524373114109, -0.012756962329149246, -0.0006783332792110741, -0.026016270741820335, -0.0025513924192637205, 0.010959089733660221, 0.041694775223731995, -0.004881355911493301, 0.003949370235204697, 0.01516293827444315, 0.0005130876670591533, -0.022565942257642746, 0.010688086971640587, -0.011461436748504639, 0.02921542525291443, -0.017463156953454018, -0.008348208852112293, -0.006775070447474718, 0.006920486688613892, 0.005426666233688593, -0.005238286219537258, -0.01108467672020197, -0.008275500498712063, -0.015916459262371063, 0.010179130360484123, 0.01803160272538662, 0.010417084209620953, -0.008368038572371006, -0.00497389305382967, -0.013933510519564152, -0.001325269928202033, -0.014330100268125534, -0.007654177490621805, -0.010013884864747524, -0.02301540970802307, -0.019459323957562447, -0.0012376897502690554, -0.006632959470152855, 0.017991943284869194, 0.005975281819701195, -0.018573608249425888, 0.018917318433523178, 0.012532227672636509, -0.03373654559254646, 0.009147997945547104, -0.0008386215195059776, 0.0025712219066917896, -0.002726552775129676, 0.008308550342917442, 0.005651400424540043, -0.02419195882976055, 0.0349791944026947, -0.013827754184603691, -0.02992928773164749, -0.02142905257642269, 0.0014607713092118502, 0.0183092150837183, -0.0023382254876196384, -0.005443190690129995, 0.0011137555120512843, 0.017674671486020088, 0.00768722640350461, 0.013576580211520195, -0.013384895399212837, 0.012433080933988094, 0.0010617030784487724, 0.0011443259427323937, -0.0006952709518373013, -0.020834168419241905, -0.002179589821025729, 0.005192017648369074, -0.0011765488889068365, 0.011818367056548595, -0.023187266662716866, -0.01443585753440857, 0.008249061182141304, 0.020437579602003098, -0.004012163728475571, -0.01288915891200304, -0.02480006404221058, -0.001564876060001552, -0.014316881075501442, -0.00010379490413470194, -0.006474323570728302, -0.009848639369010925, -0.021799203008413315, -0.0070791225880384445, -0.014330100268125534, 0.012175297364592552, -0.019591521471738815, 0.00011577521217986941, -0.02887171506881714, -0.006028160452842712, -0.03992334380745888, -0.024575328454375267, -0.006586690433323383, 0.006001721136271954, 0.020503677427768707, -0.012862719595432281, -0.019988110288977623, 0.0023960615508258343, -0.03688282147049904, -0.026492178440093994, -0.02425805665552616, -0.012823060154914856, -0.005743938032537699, 0.006114087998867035, -0.01927424967288971, 0.02598983235657215, 0.004428582731634378, 0.025619681924581528, -0.007072512526065111, -0.01852072961628437, 0.010780624113976955, -0.012975086458027363, 0.012380202300846577, 0.001660718466155231, -0.026492178440093994, -0.023729272186756134, 0.023742491379380226, 0.005853000096976757, 0.01392029132694006, 0.013206429779529572, -0.004382313694804907, -0.019247809424996376, -0.005539033096283674, 0.002795955864712596, 0.0017400364158675075, 0.0048879655078053474, -0.002442330354824662, -0.01685505360364914, -0.013384895399212837, 0.005231676623225212, -0.003612269414588809, 0.008004497736692429, -0.01288915891200304, 0.005314299371093512, -0.009828809648752213, 0.0056447903625667095, -0.03682994470000267, -0.003913016524165869, -0.01760857366025448, -0.0085002351552248, 0.012426470406353474, -0.01142838690429926, -0.008202793076634407, 0.016841834411025047, 0.004405448213219643, -0.02023928426206112, -0.007211319170892239, 0.022698137909173965, 0.0005994284874759614, 0.0034404138568788767, -0.0027083756867796183, -0.005360567942261696, 0.0063222977332770824, -0.016894713044166565, -0.01817701943218708, -0.02916254848241806, -0.000944378727581352, -0.012267835438251495, -0.017251642420887947, -0.007422833237797022, 0.012519008480012417, 0.0033908402547240257, -0.018758682534098625, -0.004597133025527, -0.018956977874040604, 0.007759934291243553, 0.012029881589114666, -0.0041047013364732265, 0.0007146873394958675, -0.00798466894775629, 0.020556556060910225, 0.02929474413394928, -0.024429913610219955, -0.004802037961781025, 0.0118514159694314, 0.021296855062246323, 0.001446725451387465, 0.013226259499788284, 0.23668460547924042, -0.00179621996358037, -0.0065536415204405785, 0.018137359991669655, 0.018005162477493286, 0.0366184301674366, 0.0020308687817305326, -0.006200016010552645, 0.0024505925830453634, 0.018348874524235725, 0.03926236182451248, 0.006021550390869379, 0.0010707916226238012, 0.0018590132240206003, -0.008368038572371006, -0.010370815172791481, -0.005439885891973972, -0.02390112727880478, -0.028078535571694374, -0.03275829181075096, 0.0022655175998806953, -0.023755710572004318, 0.01754247583448887, -0.008334989659488201, 0.014568054117262363, -0.011930733919143677, -0.018758682534098625, 0.006636264268308878, 0.016815394163131714, 0.01419790368527174, -0.02605593018233776, -0.008923263289034367, 0.017925845459103584, 0.005985196679830551, -0.022354427725076675, -0.014660591259598732, 0.01167295128107071, -0.01652456261217594, 0.0201864056289196, -0.006497458089143038, 0.013450994156301022, -0.0007403003983199596, 0.006533811800181866, -0.008460575714707375, 0.005463020410388708, 0.008447356522083282, -0.0017367315012961626, -0.027655508369207382, 0.007455882616341114, 0.01754247583448887, -0.01288254838436842, 0.003430499229580164, 0.0029000607319176197, 0.009498318657279015, 0.02626744471490383, -0.020635873079299927, 0.030378755182027817, -0.013074234127998352, 0.009663564153015614, 0.005968671757727861, -0.012472739443182945, 0.024628207087516785, -0.022129693999886513, 0.024443132802844048, -0.026901988312602043, 0.0014401156222447753, -0.024231618270277977, -0.008308550342917442, 0.013748436234891415, 0.00040815668762661517, -0.0022770846262574196, -0.02383502945303917, 0.01569172367453575, -0.0072377584874629974, -0.02645251899957657, -0.021891741082072258, 0.03249390050768852, 0.023174045607447624, 0.04489393159747124, 0.00535395834594965, -0.019710497930645943, -0.006609824951738119, -0.024548890069127083, -0.03074890561401844, -0.03249390050768852, -0.03585169091820717, 0.006487543229013681, -0.004253422375768423, -0.011276361532509327, -0.013061014004051685, -0.0192874688655138, -0.013563361018896103, -0.009868468157947063, -0.01858682744204998, 0.021124999970197678, 0.0268094502389431, 0.00468306103721261, 0.023332681506872177, -0.0009005886386148632, 0.00373124610632658, -0.021918179467320442, 0.01844141073524952, 0.02363673411309719, -0.002024258952587843, -0.00791196059435606, 0.004573998972773552, -0.000537048268597573, -0.003323089564219117, 0.002371274633333087, -0.0011236702557653189, -0.0063222977332770824, -0.026069149374961853, 0.012241396121680737, -0.0016483251238241792, 0.005734023172408342, 0.004914404824376106, -0.000644044834189117, -0.025513924658298492, 0.0010683129075914621, -0.0063289073295891285, 0.009683393873274326, 0.009022410959005356, -0.005585302133113146, 0.005730718374252319, -0.005535728298127651, -0.010760795325040817, -0.012168687768280506, -0.003286735387519002, 0.013061014004051685, -0.03365722671151161, 0.005684449337422848, 0.000719231553375721, 0.020146746188402176, -0.002867011586204171, -0.003005817998200655, 0.0004779729642905295, -0.01015930064022541, -0.005135833751410246, -0.039130162447690964, 0.005555558018386364, 0.02210325375199318, -0.0003385469608474523, -0.009914737194776535, -0.0021581079345196486, -0.002397713949903846, -0.018071262165904045, 0.040875159204006195, -0.011322629638016224, -0.020635873079299927, 0.0032454240135848522, -0.025646120309829712, -0.0013698862167075276, 0.0026670643128454685, 0.008883604779839516, 0.029188986867666245, -0.0006279333611018956, -0.02368961274623871, -0.03344571590423584, 0.015665285289287567, -0.003321436932310462, -0.0340009406208992, -0.003820478916168213, 0.042805224657058716, -0.010232008993625641, -0.030828222632408142, -0.004607047885656357, -0.17259575426578522, 0.02161412686109543, 0.014898545108735561, 0.0031148800626397133, -0.003919626120477915, -0.0017598659032955766, 0.028792398050427437, -0.015149719081819057, 0.0019333737436681986, 0.0008365559624508023, 0.0015888366615399718, -0.02473396435379982, -0.017159106209874153, 0.0022737798281013966, 0.006920486688613892, 0.0023283108603209257, -0.006860998459160328, -0.01562562584877014, 0.02860732190310955, 0.017674671486020088, 0.02045079879462719, -0.009775931015610695, 0.03233526274561882, -0.010813673958182335, 0.011269751936197281, -0.006768460851162672, -0.0059323180466890335, 0.038178347051143646, -0.0032933452166616917, -0.010516231879591942, -0.020226065069437027, 0.006464408710598946, 0.0107079166918993, 0.006206625606864691, 0.012082760222256184, 0.007363345008343458, 0.03635403886437416, -0.018560389056801796, -0.01488532591611147, 0.018229898065328598, 0.015916459262371063, 0.004451717250049114, 0.0030173850245773792, -0.012036491185426712, -0.013391504995524883, 0.02127041667699814, 0.03053739108145237, -0.0026274053379893303, 0.02971777319908142, -0.020979585126042366, 0.02072841115295887, -0.012624765746295452, -0.009736272506415844, -0.01603543572127819, 0.016894713044166565, 0.012803230434656143, -0.02128363586962223, 0.012756962329149246, 0.01721198484301567, -0.0066858381032943726, 0.00033689450356177986, -0.0138938520103693, -0.004702890291810036, -0.009333073161542416, -0.014184684492647648, -0.005929012782871723, -0.02963845431804657, 0.00607773382216692, 0.002410933608189225, 0.005499374121427536, -0.008592772297561169, -0.008863775059580803, 0.011864636093378067, 0.0013327059568837285, 0.012485959567129612, -0.0035527809523046017, -0.03135700896382332, 0.015083620324730873, -0.00836142897605896, 0.015414111316204071, 6.444579048547894e-05, 0.02826361171901226, 0.003595744725316763, 0.012922207824885845, 0.00248859915882349, 0.0037180264480412006, -0.008837335743010044, -0.002567916875705123, -0.0020093866623938084, -0.011243312619626522, 0.034582603722810745, -0.02556680329144001, -0.0232930239289999, -0.02120431885123253, -0.008097035810351372, 0.015017522498965263, -0.0029463295359164476, -0.00950492825359106, 0.0060975635424256325, 0.010866552591323853, -0.008632431738078594, -0.006434664595872164, -0.027867021039128304, 0.018084481358528137, 0.031066177412867546, -0.0051226140931248665, -0.003136361949145794, 0.01907595433294773, 0.02604271098971367, 0.0038105640560388565, -0.0223940871655941, -0.0010121294762939215, 0.017040127888321877, 0.018811561167240143, 0.011144164949655533, 0.01624695025384426, 0.013239479623734951, -0.009114949032664299, 0.012519008480012417, -0.007297246716916561, 0.04698263481259346, -0.008136694319546223, -0.020966364070773125, 0.023940786719322205, 0.004620267543941736, -0.00835481844842434, -0.0733954980969429, -0.053380947560071945, 0.0236235149204731, 0.06001720950007439, 0.004210458602756262, 0.032229505479335785, 0.0258311964571476, 0.025183433666825294, -0.014872105792164803, 0.006586690433323383, -0.015268695540726185, -0.018573608249425888, -0.028977472335100174, -0.017978724092245102, 0.0008113560033962131, 0.00424681231379509, 0.015176158398389816, -0.008824116550385952, -0.016696417704224586, 0.04333401098847389, -0.017595354467630386, 0.012737132608890533, 0.005439885891973972, -0.04174765571951866, -0.012327323667705059, -0.012036491185426712, -0.03778176009654999, 0.027100281789898872, 0.008480405434966087, -0.007065902929753065, -0.009412391111254692, -0.012571887113153934, 0.012043100781738758, -0.01795228384435177, -0.01340472511947155, 0.01562562584877014, -0.034661922603845596, -0.0074691022746264935, 0.027034183964133263, -0.013001525774598122, 0.004861526191234589, 0.025580022484064102, -0.01091282069683075, -0.03151564672589302, 0.00033751418231986463, -0.012287664227187634, 0.009200876578688622, 0.011791927739977837, -0.006269419100135565, -0.026571495458483696, -0.014620932750403881, -0.007614518515765667, -0.017026908695697784, 0.013735216110944748, 0.010311326943337917, -0.007792983669787645, 0.03310200199484825, 0.011183823458850384, -0.011216873303055763, -0.013219649903476238, -0.022222232073545456, 0.01392029132694006, -0.021984277293086052, 0.02127041667699814, -0.007502151187509298, 0.014938204549252987, -0.02805209718644619, -0.00880428683012724, 0.022843554615974426, 0.0075418101623654366, -0.01629982888698578, 0.009961006231606007, 0.005010247230529785, 0.0038766623474657536, -0.032017990946769714, 0.014964643865823746, -0.027734825387597084, -0.04296386241912842, 0.021785983815789223, 0.0016408890951424837, -0.0277083870023489, -0.016048654913902283, -0.005433276295661926, -0.037966832518577576, 0.005988501477986574, 0.018058041110634804, 0.014184684492647648, -0.001997819636017084, 0.016907932236790657, -0.04320181533694267, 0.0011401948286220431, 0.014396199025213718, 0.0277083870023489, -0.025183433666825294, -0.027814142405986786, 0.009941176511347294, 0.012823060154914856, 0.00042674681753851473, 0.02162734791636467, 0.005469630006700754, -0.031885795295238495, -0.018613267689943314, -0.057584796100854874, 0.01755569502711296, 0.018216677010059357, -0.021310076117515564, 0.004375704098492861, -0.0015409154584631324, -0.003922930918633938, -0.01955186203122139, -0.006024855189025402, 0.006708972156047821, -0.010648427531123161, 0.0027711691800504923, -0.007191489450633526, -0.005922403186559677, -0.010423693805932999, -0.0021382784470915794, 0.03130413219332695, -0.003499902319163084, 0.013391504995524883, -0.00021647177345585078, 0.0205168966203928, -0.009121558628976345, 0.005010247230529785, 0.00644457945600152, -0.00012145553046138957, 0.022341208532452583, -0.02515699341893196, 0.017793647944927216, -0.028210733085870743, -0.018771903589367867, 0.0005837301723659039, -0.028501564636826515, -0.00891665369272232, 0.011996832676231861, -0.022486625239253044, 0.006755241192877293, -0.020715191960334778, 0.01914205215871334, 0.01215546764433384, 0.0037642952520400286, -0.0014252434484660625, -0.03540222346782684, 0.006765155587345362, -0.023200485855340958, -0.03125125169754028, 0.015043961815536022, -0.024971919134259224, 0.007918570190668106, 0.02543460577726364, 0.010575720109045506, 0.00981559045612812, 0.020437579602003098, -0.03249390050768852, -0.005158968269824982, 0.0124661298468709, -0.005601826589554548, -0.003959285095334053, -0.008308550342917442, 0.004940844140946865, -0.01955186203122139, 0.04790801182389259, 0.005985196679830551, 0.020966364070773125, -0.00299755553714931, 0.01919493079185486, 0.018970197066664696, 8.3758874097839e-05, -0.008949702605605125, 0.012624765746295452, -0.032361701130867004, -0.001452509080991149, -0.005975281819701195, 0.013411334715783596, 0.009663564153015614, 0.01871902495622635, 0.01760857366025448, 0.011282971128821373, 0.0014450729358941317, -0.011078066192567348, 0.033895183354616165, 0.02639964036643505, 0.013213040307164192, -0.039685387164354324, 0.01443585753440857, 0.02037147991359234, -0.003379272995516658, 0.0022622125688940287, 0.003942760638892651, -0.011249922215938568, 0.007594688795506954, -0.03053739108145237, 0.004997027572244406, 0.008883604779839516, 0.010727745480835438, -0.010364205576479435, -0.016802174970507622, 0.014250782318413258, -0.006114087998867035, 0.029347622767090797, 0.023094728589057922, 0.020834168419241905, 0.00534073868766427, -0.0007089037098921835, -0.015718163922429085, -0.008196182548999786, 0.0068543883971869946, -0.015837140381336212, -0.03936811909079552, -0.0074096135795116425, 0.009987445548176765, 0.019657619297504425, 0.004583913367241621, 0.010079982690513134, 0.011904294602572918, -0.014991083182394505, 0.010311326943337917, -0.012558666989207268, 0.013761655427515507, -0.02161412686109543, 0.027060622349381447, -0.0061669666320085526, 0.001672285725362599, 0.021534809842705727, -0.008837335743010044, 0.011679560877382755, 0.0025860939640551805, 0.016551000997424126, -0.029585575684905052, 0.008771237917244434, 0.016828613355755806, 0.014422638341784477, 0.015017522498965263, -0.011157384142279625, -0.024033322930336, -0.018150579184293747, -0.003916321322321892, -0.01912883296608925, 0.0030487817712128162, -0.018388532102108, 0.0572146438062191, 0.0003800649428740144, -0.020834168419241905, 0.011858025565743446, 0.011752268299460411, 0.023874687030911446, 0.010113032534718513, 0.028924593701958656, -0.005079650320112705, -0.01603543572127819, 0.028501564636826515, 0.013107283040881157, -0.00943221990019083, -0.01569172367453575, -0.04098091274499893, 0.013536921702325344, -0.010661647655069828, 0.0024307630956172943, -0.012796620838344097, -0.006907267030328512, 0.010357595980167389, 0.016974030062556267, 0.016484903171658516, 0.009828809648752213, -0.004058432299643755, -0.005558862816542387, 0.022023936733603477, -0.019736936315894127, -0.01816379837691784, -0.024337375536561012, 0.018771903589367867, 0.00781281292438507, -0.014673811383545399, -0.012908987700939178, 0.020067429170012474, -0.0027992608956992626, 0.0011815062025561929, -0.003932845778763294, 0.012327323667705059, 0.0019482459174469113, 0.01886443980038166, 0.02723247930407524, -0.023530976846814156, -0.012776791118085384, 0.012452909722924232, -0.008605992421507835, -0.027470432221889496, 0.014607712626457214, 0.002244035480543971]]\n"
          ]
        }
      ]
    },
    {
      "cell_type": "code",
      "source": [
        "len(embedding)"
      ],
      "metadata": {
        "colab": {
          "base_uri": "https://localhost:8080/"
        },
        "id": "3evO5Op_iFd7",
        "outputId": "95a86c8e-a706-42a2-d6fb-9eb2bf01b95a"
      },
      "execution_count": 95,
      "outputs": [
        {
          "output_type": "execute_result",
          "data": {
            "text/plain": [
              "4"
            ]
          },
          "metadata": {},
          "execution_count": 95
        }
      ]
    },
    {
      "cell_type": "code",
      "source": [
        "len(embedding[0])"
      ],
      "metadata": {
        "colab": {
          "base_uri": "https://localhost:8080/"
        },
        "id": "cz3NJqAliKAO",
        "outputId": "89c2d56a-840c-4109-cb12-94f1336dc1db"
      },
      "execution_count": 96,
      "outputs": [
        {
          "output_type": "execute_result",
          "data": {
            "text/plain": [
              "1536"
            ]
          },
          "metadata": {},
          "execution_count": 96
        }
      ]
    },
    {
      "cell_type": "code",
      "source": [
        "embedding_query= embeddings_model.embed_query(\"cual este proceso\")"
      ],
      "metadata": {
        "id": "XReEwam-i3FC"
      },
      "execution_count": 91,
      "outputs": []
    },
    {
      "cell_type": "code",
      "source": [
        "embedding_query\n"
      ],
      "metadata": {
        "colab": {
          "base_uri": "https://localhost:8080/"
        },
        "id": "4J1PRa8GjBg6",
        "outputId": "b1091bb9-4ba3-4fc6-b522-c7a2c561a8ce"
      },
      "execution_count": 97,
      "outputs": [
        {
          "output_type": "execute_result",
          "data": {
            "text/plain": [
              "[-0.004108604043722153,\n",
              " 0.007126493379473686,\n",
              " 0.013243339024484158,\n",
              " -0.0059252334758639336,\n",
              " -0.03637680411338806,\n",
              " 0.02742999792098999,\n",
              " -0.02716468833386898,\n",
              " -0.009926976636052132,\n",
              " -0.03767387196421623,\n",
              " -0.01696503348648548,\n",
              " -0.0014813083689659834,\n",
              " 0.014135071076452732,\n",
              " -0.018306318670511246,\n",
              " 0.017245082184672356,\n",
              " 0.0003691755700856447,\n",
              " 0.015491095371544361,\n",
              " 0.026412980630993843,\n",
              " -0.009086831472814083,\n",
              " 0.028741803020238876,\n",
              " 0.01184309646487236,\n",
              " -0.030156783759593964,\n",
              " 0.011577787809073925,\n",
              " 0.006570081692188978,\n",
              " -0.01513735018670559,\n",
              " -0.011098758317530155,\n",
              " 0.011518830433487892,\n",
              " 0.023641975596547127,\n",
              " -0.02732682228088379,\n",
              " -0.0018138657324016094,\n",
              " -0.007531826384365559,\n",
              " 0.001592774991877377,\n",
              " -0.009293182753026485,\n",
              " -0.0013440478360280395,\n",
              " -0.004185985773801804,\n",
              " -0.002658616751432419,\n",
              " -0.0283585786819458,\n",
              " -0.0011469085002318025,\n",
              " -0.023759890347719193,\n",
              " -0.009543752297759056,\n",
              " 0.017805179581046104,\n",
              " 0.01484256237745285,\n",
              " -0.010457594878971577,\n",
              " -0.0028944469522684813,\n",
              " -0.0332520566880703,\n",
              " -0.01513735018670559,\n",
              " -0.01683237962424755,\n",
              " -0.031689681112766266,\n",
              " -0.000629187561571598,\n",
              " -0.015012064948678017,\n",
              " 0.020679358392953873,\n",
              " 0.017996789887547493,\n",
              " 0.002022980712354183,\n",
              " -0.03823396936058998,\n",
              " -0.02941981516778469,\n",
              " 0.0034877073485404253,\n",
              " -0.017436694353818893,\n",
              " -0.02090045064687729,\n",
              " -0.011047170497477055,\n",
              " 0.022565999999642372,\n",
              " 0.012322126887738705,\n",
              " -0.007439705077558756,\n",
              " -0.016154367476701736,\n",
              " -0.006245815195143223,\n",
              " -0.005372506100684404,\n",
              " -0.007811874616891146,\n",
              " 0.010184915736317635,\n",
              " 0.005936287809163332,\n",
              " 0.002186956349760294,\n",
              " 0.022403867915272713,\n",
              " -0.00675063906237483,\n",
              " 0.0423315167427063,\n",
              " 0.007583414204418659,\n",
              " -0.015550052747130394,\n",
              " -0.02766582742333412,\n",
              " 0.03994373604655266,\n",
              " -0.013081205077469349,\n",
              " -0.01643441617488861,\n",
              " -0.022271212190389633,\n",
              " 0.014090853743255138,\n",
              " 0.007465498987585306,\n",
              " 0.0064447964541614056,\n",
              " -0.04781457036733627,\n",
              " -0.010686054825782776,\n",
              " 0.03472599387168884,\n",
              " 0.0006043148459866643,\n",
              " -0.004477088805288076,\n",
              " 0.006256869528442621,\n",
              " 0.008821522817015648,\n",
              " -0.01845371164381504,\n",
              " -0.021224716678261757,\n",
              " 0.010133327916264534,\n",
              " 0.02905132994055748,\n",
              " 0.014164550229907036,\n",
              " 0.01609540916979313,\n",
              " -0.03746752068400383,\n",
              " 0.017009252682328224,\n",
              " 0.0036093073431402445,\n",
              " 0.04825675114989281,\n",
              " 0.002299344167113304,\n",
              " -0.012432672083377838,\n",
              " -0.037349604070186615,\n",
              " 0.002899974351748824,\n",
              " -0.021887987852096558,\n",
              " -0.011319848708808422,\n",
              " -0.02087097056210041,\n",
              " 0.005958396941423416,\n",
              " 0.012874853797256947,\n",
              " 0.012690611183643341,\n",
              " 0.029301900416612625,\n",
              " -0.014260356314480305,\n",
              " -0.006680626887828112,\n",
              " 0.031453851610422134,\n",
              " -0.008069814182817936,\n",
              " -0.05833848938345909,\n",
              " 0.0032039741054177284,\n",
              " -0.021725855767726898,\n",
              " 0.013324405066668987,\n",
              " -0.010229134000837803,\n",
              " -0.0332520566880703,\n",
              " -0.013427580706775188,\n",
              " -0.0013247024035081267,\n",
              " 0.009882758371531963,\n",
              " 0.03398902341723442,\n",
              " -0.02368619292974472,\n",
              " 0.01600697450339794,\n",
              " -0.015594271011650562,\n",
              " -0.007351269014179707,\n",
              " -0.010958733968436718,\n",
              " 0.00019817565043922514,\n",
              " 0.005943657364696264,\n",
              " 0.03275091573596001,\n",
              " 0.008386710658669472,\n",
              " -0.015977494418621063,\n",
              " 0.004683440085500479,\n",
              " -0.018895892426371574,\n",
              " 0.0200455654412508,\n",
              " -0.006975414697080851,\n",
              " 0.019205421209335327,\n",
              " -0.0030363136902451515,\n",
              " -0.02660459280014038,\n",
              " 0.005899439565837383,\n",
              " 0.004554470535367727,\n",
              " -0.03074635937809944,\n",
              " -0.03269195929169655,\n",
              " -0.007996116764843464,\n",
              " 0.026648810133337975,\n",
              " 0.01031757052987814,\n",
              " 0.03643576428294182,\n",
              " -0.01479097455739975,\n",
              " -0.003178180195391178,\n",
              " 0.01742195524275303,\n",
              " -0.031218020245432854,\n",
              " -0.004742397461086512,\n",
              " 0.0003127513627987355,\n",
              " -0.006901717744767666,\n",
              " 0.039206769317388535,\n",
              " -0.00769395986571908,\n",
              " 0.011297740042209625,\n",
              " -0.008246686309576035,\n",
              " -0.03961947187781334,\n",
              " 0.014555144123733044,\n",
              " -0.006710105575621128,\n",
              " 0.004366543143987656,\n",
              " -0.004712918773293495,\n",
              " -0.003069477155804634,\n",
              " 0.033075183629989624,\n",
              " 0.02488008327782154,\n",
              " 0.014849931932985783,\n",
              " -0.0011247993679717183,\n",
              " -0.005346712190657854,\n",
              " -0.013574974611401558,\n",
              " 0.0015457931440323591,\n",
              " -0.03219081833958626,\n",
              " 0.03958998993039131,\n",
              " 0.012218951247632504,\n",
              " -0.017996789887547493,\n",
              " -0.004547100514173508,\n",
              " -0.003080531721934676,\n",
              " -0.020384570583701134,\n",
              " -0.01630176045000553,\n",
              " -0.015107871033251286,\n",
              " 0.00538356089964509,\n",
              " 0.0023361926432698965,\n",
              " 0.016743943095207214,\n",
              " -0.03581671044230461,\n",
              " 0.02206486091017723,\n",
              " -0.0035577192902565002,\n",
              " -0.006669572554528713,\n",
              " 0.006323196925222874,\n",
              " 0.01278641726821661,\n",
              " -0.007598153781145811,\n",
              " 0.022050121799111366,\n",
              " -0.0026512471958994865,\n",
              " -0.010862927883863449,\n",
              " -0.6027819514274597,\n",
              " -0.03558087721467018,\n",
              " 0.006415317766368389,\n",
              " -0.008600431494414806,\n",
              " 0.004045961424708366,\n",
              " 0.029272422194480896,\n",
              " 0.006522178649902344,\n",
              " -0.009484794922173023,\n",
              " 0.00043757553794421256,\n",
              " -0.04678281396627426,\n",
              " 0.03160124272108078,\n",
              " 0.014886780641973019,\n",
              " 0.007008578162640333,\n",
              " -0.005847851745784283,\n",
              " -0.026191890239715576,\n",
              " -0.049111634492874146,\n",
              " 0.008946807123720646,\n",
              " -0.011961012147367,\n",
              " -0.0005854300106875598,\n",
              " 0.013339145109057426,\n",
              " -0.028505973517894745,\n",
              " -0.019338075071573257,\n",
              " -0.013191751204431057,\n",
              " 0.02971460297703743,\n",
              " 0.01944125071167946,\n",
              " 0.014606731943786144,\n",
              " 0.016522852703928947,\n",
              " -0.028314361348748207,\n",
              " -0.028712324798107147,\n",
              " -0.010251243598759174,\n",
              " -0.029699863865971565,\n",
              " 0.004377597942948341,\n",
              " -0.006474275607615709,\n",
              " -0.006304772570729256,\n",
              " 0.058250054717063904,\n",
              " -0.024806387722492218,\n",
              " -0.012771678157150745,\n",
              " 0.0198392141610384,\n",
              " -0.005508845672011375,\n",
              " 0.014304574579000473,\n",
              " -0.02017821930348873,\n",
              " -0.023774629458785057,\n",
              " 0.03802761808037758,\n",
              " -0.011032430455088615,\n",
              " 0.0040422766469419,\n",
              " 0.0027452106587588787,\n",
              " 0.03746752068400383,\n",
              " -0.02891867607831955,\n",
              " -0.015358440577983856,\n",
              " 0.010103849694132805,\n",
              " 0.009882758371531963,\n",
              " -0.0037769677583128214,\n",
              " -0.019397031515836716,\n",
              " 0.0019363869214430451,\n",
              " -0.011747291311621666,\n",
              " -0.0012104720808565617,\n",
              " 0.03393006697297096,\n",
              " -0.027636349201202393,\n",
              " 0.004698179196566343,\n",
              " 0.007517086807638407,\n",
              " -0.018940111622214317,\n",
              " 0.01765778474509716,\n",
              " -0.003067634766921401,\n",
              " -0.026987817138433456,\n",
              " -0.020355092361569405,\n",
              " 0.004952433984726667,\n",
              " -0.040032174438238144,\n",
              " -0.00401648273691535,\n",
              " 0.020089782774448395,\n",
              " 0.0010382055770605803,\n",
              " -0.005291439592838287,\n",
              " 0.004466034006327391,\n",
              " -0.006713790353387594,\n",
              " 0.022418607026338577,\n",
              " 0.011216673068702221,\n",
              " 0.011496721766889095,\n",
              " -0.021652158349752426,\n",
              " -0.013125423341989517,\n",
              " 0.03522713482379913,\n",
              " 0.01330229640007019,\n",
              " -0.0023435624316334724,\n",
              " 0.017068209126591682,\n",
              " -0.02981777861714363,\n",
              " -0.0021722170058637857,\n",
              " 0.01609540916979313,\n",
              " -0.010686054825782776,\n",
              " -0.045102521777153015,\n",
              " -0.01662602834403515,\n",
              " -0.0016351506346836686,\n",
              " 0.007417596410959959,\n",
              " 0.018512669950723648,\n",
              " 0.00344533147290349,\n",
              " -0.016714464873075485,\n",
              " -0.03180759400129318,\n",
              " -0.0006268845172598958,\n",
              " -0.01290433295071125,\n",
              " -0.016478633508086205,\n",
              " -0.007531826384365559,\n",
              " 0.00922685582190752,\n",
              " -0.022551260888576508,\n",
              " 0.004539730958640575,\n",
              " -0.012300018221139908,\n",
              " 0.008799413219094276,\n",
              " -0.004119658377021551,\n",
              " 0.05892806500196457,\n",
              " 0.005424094386398792,\n",
              " -0.04648802429437637,\n",
              " 0.013368623331189156,\n",
              " 0.046664897352457047,\n",
              " -0.007568675093352795,\n",
              " -0.013773956336081028,\n",
              " 0.0021887989714741707,\n",
              " -0.04129976034164429,\n",
              " -0.0077897654846310616,\n",
              " -0.004248627927154303,\n",
              " -0.026191890239715576,\n",
              " 0.008887849748134613,\n",
              " 0.0023122411221265793,\n",
              " -0.0035871982108801603,\n",
              " 0.0006816966342739761,\n",
              " 0.010464964434504509,\n",
              " 0.0037659131921827793,\n",
              " 0.02286078780889511,\n",
              " -0.0003373937797732651,\n",
              " 0.006746954284608364,\n",
              " 0.015741664916276932,\n",
              " -0.0007963874959386885,\n",
              " -0.01904328726232052,\n",
              " -0.02007504366338253,\n",
              " 0.0015411870554089546,\n",
              " -0.01725982129573822,\n",
              " -0.009403728879988194,\n",
              " 0.02017821930348873,\n",
              " -0.018394753336906433,\n",
              " 0.01649337261915207,\n",
              " 0.005199318751692772,\n",
              " 0.014945738017559052,\n",
              " 0.015889057889580727,\n",
              " 0.007620262913405895,\n",
              " -0.014879410155117512,\n",
              " -0.007373378146439791,\n",
              " -0.008327753283083439,\n",
              " -0.019058026373386383,\n",
              " 0.028476495295763016,\n",
              " 0.019765516743063927,\n",
              " -0.02766582742333412,\n",
              " -0.023833587765693665,\n",
              " 0.0018479505088180304,\n",
              " -0.011938902549445629,\n",
              " -0.0029515621718019247,\n",
              " -0.003671949729323387,\n",
              " -0.04180090129375458,\n",
              " -0.018365275114774704,\n",
              " 0.013965568505227566,\n",
              " 0.022079600021243095,\n",
              " 0.017716743052005768,\n",
              " -0.003994373604655266,\n",
              " -0.030923232436180115,\n",
              " -0.022831309586763382,\n",
              " -0.023376666009426117,\n",
              " -0.000274751364486292,\n",
              " 0.02822592481970787,\n",
              " -0.030687402933835983,\n",
              " 0.008909959346055984,\n",
              " -0.010840818285942078,\n",
              " -0.03351736441254616,\n",
              " 0.014422489330172539,\n",
              " 0.004550785757601261,\n",
              " 0.006813281215727329,\n",
              " -0.018129445612430573,\n",
              " 0.03074635937809944,\n",
              " -0.02511591464281082,\n",
              " 0.004432870540767908,\n",
              " 0.016817640513181686,\n",
              " 0.031100105494260788,\n",
              " 0.0047571370378136635,\n",
              " -0.0072702025063335896,\n",
              " -0.010265982709825039,\n",
              " 0.000959902536123991,\n",
              " -0.0100227827206254,\n",
              " 0.0007572359754703939,\n",
              " 0.0048750522546470165,\n",
              " -0.02434946596622467,\n",
              " 0.004878737032413483,\n",
              " -0.003736434504389763,\n",
              " 0.012152624316513538,\n",
              " 0.010310200974345207,\n",
              " -0.0004417209711391479,\n",
              " -0.03941312059760094,\n",
              " 0.03852875530719757,\n",
              " 0.01310331467539072,\n",
              " 0.014717277139425278,\n",
              " -0.007878202013671398,\n",
              " -4.3095431465189904e-05,\n",
              " 0.014930997975170612,\n",
              " 0.002767319791018963,\n",
              " -0.0003318664967082441,\n",
              " 0.015012064948678017,\n",
              " 0.008018226362764835,\n",
              " 0.008121402002871037,\n",
              " 0.036553677171468735,\n",
              " 0.0018461081199347973,\n",
              " 0.02819644659757614,\n",
              " -0.0030142045579850674,\n",
              " 0.0055899121798574924,\n",
              " -0.03985530138015747,\n",
              " 0.02726786397397518,\n",
              " -0.030186263844370842,\n",
              " 0.03614097461104393,\n",
              " 0.02110680192708969,\n",
              " 0.004793985281139612,\n",
              " -0.026015017181634903,\n",
              " 0.0014380114153027534,\n",
              " -0.03177811577916145,\n",
              " -0.005995245184749365,\n",
              " 0.03534504771232605,\n",
              " -0.0009525328641757369,\n",
              " 0.005508845672011375,\n",
              " -0.022580739110708237,\n",
              " 0.029935693368315697,\n",
              " 0.007192820310592651,\n",
              " -0.004845573101192713,\n",
              " 0.03160124272108078,\n",
              " -0.049082156270742416,\n",
              " -0.004746082238852978,\n",
              " 0.01930859684944153,\n",
              " 0.023479841649532318,\n",
              " 0.021917467936873436,\n",
              " 0.025381222367286682,\n",
              " -0.029508251696825027,\n",
              " -0.005169839598238468,\n",
              " -0.0033366286661475897,\n",
              " -0.0056083365343511105,\n",
              " 0.025558095425367355,\n",
              " -0.01643441617488861,\n",
              " 0.03021574206650257,\n",
              " 0.005239851772785187,\n",
              " -0.007329159881919622,\n",
              " 0.03979634493589401,\n",
              " -0.004606058355420828,\n",
              " -0.021475285291671753,\n",
              " 0.021209977567195892,\n",
              " 0.014540405012667179,\n",
              " 0.004351804032921791,\n",
              " 0.02849123440682888,\n",
              " 0.010811340063810349,\n",
              " 0.03204342722892761,\n",
              " 0.008593061938881874,\n",
              " 0.004318640101701021,\n",
              " 0.01387713197618723,\n",
              " -0.01387713197618723,\n",
              " 0.00381750101223588,\n",
              " -0.019058026373386383,\n",
              " -0.013412841595709324,\n",
              " 0.009882758371531963,\n",
              " -0.022418607026338577,\n",
              " 0.017716743052005768,\n",
              " -0.002098520053550601,\n",
              " 0.026678290218114853,\n",
              " 0.024261029437184334,\n",
              " 0.019205421209335327,\n",
              " 0.02233017049729824,\n",
              " 0.009042613208293915,\n",
              " -0.012248430401086807,\n",
              " 0.0015918536810204387,\n",
              " -0.0041638766415417194,\n",
              " 0.006208966486155987,\n",
              " -0.02498326078057289,\n",
              " -7.542420644313097e-05,\n",
              " -0.004731343127787113,\n",
              " -0.00626792386174202,\n",
              " -0.02461477555334568,\n",
              " 0.01672920398414135,\n",
              " -0.015034173615276814,\n",
              " 0.02511591464281082,\n",
              " 0.017672523856163025,\n",
              " 0.030716881155967712,\n",
              " -0.0003935876884497702,\n",
              " 0.007612892892211676,\n",
              " 0.008408820256590843,\n",
              " -0.015152089297771454,\n",
              " -0.0033053073566406965,\n",
              " 0.017805179581046104,\n",
              " 0.019618123769760132,\n",
              " -0.004746082238852978,\n",
              " -0.0011119024129584432,\n",
              " -0.002986568259075284,\n",
              " 0.003434276906773448,\n",
              " -0.011378806084394455,\n",
              " -0.007130178157240152,\n",
              " -0.0010851873084902763,\n",
              " 0.007082275114953518,\n",
              " 0.007027002517133951,\n",
              " 0.01686185784637928,\n",
              " -0.023833587765693665,\n",
              " 0.011754660867154598,\n",
              " 0.012071557343006134,\n",
              " 0.007185450755059719,\n",
              " -0.03505026176571846,\n",
              " -0.0016452840063720942,\n",
              " -0.006503754295408726,\n",
              " 0.011651485227048397,\n",
              " -0.008209838531911373,\n",
              " -0.022551260888576508,\n",
              " 0.02623610757291317,\n",
              " 0.025956058874726295,\n",
              " -0.0035853558219969273,\n",
              " -0.028004834428429604,\n",
              " 0.006389523856341839,\n",
              " -0.011599897406995296,\n",
              " -0.008224577642977238,\n",
              " -0.002474374370649457,\n",
              " -0.012034708634018898,\n",
              " -0.01702399179339409,\n",
              " -0.011894685216248035,\n",
              " -0.0199423898011446,\n",
              " 0.005932603031396866,\n",
              " 0.010796600952744484,\n",
              " 0.030333656817674637,\n",
              " 0.016950294375419617,\n",
              " 0.01333177462220192,\n",
              " -0.02252178266644478,\n",
              " 0.008983655832707882,\n",
              " 0.010627097450196743,\n",
              " -0.044807735830545425,\n",
              " 0.026545634493231773,\n",
              " 0.0014030053280293941,\n",
              " -0.005276700481772423,\n",
              " -0.0012187630636617541,\n",
              " 0.006787487305700779,\n",
              " -0.023037660866975784,\n",
              " -0.02546965889632702,\n",
              " 0.042744219303131104,\n",
              " -0.0034877073485404253,\n",
              " -0.021357370540499687,\n",
              " 0.003546664724126458,\n",
              " 0.028270142152905464,\n",
              " 0.0050519248470664024,\n",
              " 0.00788557156920433,\n",
              " 0.017510391771793365,\n",
              " 0.01622806489467621,\n",
              " 0.002673356095328927,\n",
              " -0.0045249913819134235,\n",
              " 0.010604988783597946,\n",
              " -0.0018534777918830514,\n",
              " 0.0038027616683393717,\n",
              " 0.014363531954586506,\n",
              " 0.03269195929169655,\n",
              " -0.013936089351773262,\n",
              " 0.00418967055156827,\n",
              " 0.02467373199760914,\n",
              " -0.005634130444377661,\n",
              " 0.01904328726232052,\n",
              " -0.007988747209310532,\n",
              " 0.007443390320986509,\n",
              " -0.014289835467934608,\n",
              " 0.007030687294900417,\n",
              " 0.0051145670004189014,\n",
              " 0.005486736539751291,\n",
              " 0.029464032500982285,\n",
              " -0.0007977692876011133,\n",
              " -0.0002653089468367398,\n",
              " 0.004506567493081093,\n",
              " 0.013692890293896198,\n",
              " 0.004841888323426247,\n",
              " 0.0025443865451961756,\n",
              " 0.009551122784614563,\n",
              " -0.02785743959248066,\n",
              " -0.0014481446705758572,\n",
              " -0.02060566283762455,\n",
              " 0.00877730455249548,\n",
              " 0.0027175743598490953,\n",
              " 0.01659654825925827,\n",
              " -0.025587575510144234,\n",
              " 0.025130653753876686,\n",
              " -0.030923232436180115,\n",
              " -0.055243220180273056,\n",
              " -0.03351736441254616,\n",
              " 0.012749569490551949,\n",
              " 0.015594271011650562,\n",
              " 0.007966638542711735,\n",
              " -0.010464964434504509,\n",
              " -0.013958198949694633,\n",
              " -0.013346514664590359,\n",
              " -0.018114706501364708,\n",
              " -0.020384570583701134,\n",
              " 0.01111349742859602,\n",
              " -0.009595340117812157,\n",
              " -0.0005697694141417742,\n",
              " -0.004259682726114988,\n",
              " -0.0035135012585669756,\n",
              " -0.01580062136054039,\n",
              " -0.01171044260263443,\n",
              " 0.0046760705299675465,\n",
              " -0.0043812827207148075,\n",
              " -0.013294926844537258,\n",
              " -0.06668098270893097,\n",
              " -0.013339145109057426,\n",
              " 0.01951494812965393,\n",
              " 0.02060566283762455,\n",
              " 0.0036056223325431347,\n",
              " -0.0022717078682035208,\n",
              " -0.001390108373016119,\n",
              " 0.01944125071167946,\n",
              " -0.007878202013671398,\n",
              " -0.03363528102636337,\n",
              " 0.010074370540678501,\n",
              " -0.013523386791348457,\n",
              " 0.015284744091331959,\n",
              " 0.0036848466843366623,\n",
              " -0.008593061938881874,\n",
              " -0.02434946596622467,\n",
              " -0.016110150143504143,\n",
              " -0.0014039265224710107,\n",
              " -0.010840818285942078,\n",
              " -0.003244507359340787,\n",
              " -0.005685718264430761,\n",
              " -0.01283800508826971,\n",
              " 0.0074102263897657394,\n",
              " 0.0031118530314415693,\n",
              " 0.010781860910356045,\n",
              " 0.013044357299804688,\n",
              " 0.00018573929264675826,\n",
              " -0.03283935412764549,\n",
              " -0.013516017235815525,\n",
              " -0.03230873495340347,\n",
              " 0.005501476116478443,\n",
              " 0.003660895163193345,\n",
              " -0.00917526800185442,\n",
              " -0.011924163438379765,\n",
              " 0.013361253775656223,\n",
              " 0.004171246197074652,\n",
              " -0.014267725870013237,\n",
              " -0.01492362841963768,\n",
              " 0.03687794506549835,\n",
              " -0.017967311665415764,\n",
              " 0.008806783705949783,\n",
              " -0.015756404027342796,\n",
              " 0.0003438422572799027,\n",
              " 0.021195238456130028,\n",
              " -0.003753016237169504,\n",
              " 0.029699863865971565,\n",
              " 0.015314222313463688,\n",
              " 0.011282999999821186,\n",
              " 0.01569744572043419,\n",
              " -0.0425378680229187,\n",
              " 0.03027470037341118,\n",
              " 0.03773282840847969,\n",
              " -0.013656041584908962,\n",
              " 0.024423163384199142,\n",
              " 0.01970656029880047,\n",
              " -0.026914119720458984,\n",
              " -0.012469520792365074,\n",
              " -0.0020377200562506914,\n",
              " 0.007892941124737263,\n",
              " 0.017451433464884758,\n",
              " -0.008784674108028412,\n",
              " 0.0004956118646077812,\n",
              " -0.019603384658694267,\n",
              " -0.003434276906773448,\n",
              " -0.014916258864104748,\n",
              " 0.049376945942640305,\n",
              " -0.006360045168548822,\n",
              " -0.015491095371544361,\n",
              " -0.017775699496269226,\n",
              " 0.004399706609547138,\n",
              " 0.005851536523550749,\n",
              " 0.01715664565563202,\n",
              " 0.027356300503015518,\n",
              " -0.024924302473664284,\n",
              " 0.0006522178300656378,\n",
              " 0.012263169512152672,\n",
              " 0.004805040080100298,\n",
              " 0.024600036442279816,\n",
              " -0.01755460910499096,\n",
              " -0.0017235870473086834,\n",
              " -0.0032002893276512623,\n",
              " -0.041889335960149765,\n",
              " 0.006621669512242079,\n",
              " -0.0075907837599515915,\n",
              " -0.010251243598759174,\n",
              " -0.0074912928976118565,\n",
              " 0.01293381117284298,\n",
              " 0.018129445612430573,\n",
              " 0.02865336649119854,\n",
              " 0.014503556303679943,\n",
              " 0.02034035325050354,\n",
              " -0.012779047712683678,\n",
              " -0.01649337261915207,\n",
              " -0.004981912672519684,\n",
              " 0.009315292350947857,\n",
              " 0.004373912699520588,\n",
              " -0.01848318986594677,\n",
              " 0.02418733388185501,\n",
              " 0.012329496443271637,\n",
              " 0.012926441617310047,\n",
              " -0.0002139514108421281,\n",
              " -0.02259548008441925,\n",
              " 0.007951898500323296,\n",
              " 0.01378132589161396,\n",
              " 0.018733760342001915,\n",
              " -0.024172592908143997,\n",
              " -0.00650006951764226,\n",
              " -0.015889057889580727,\n",
              " 0.014945738017559052,\n",
              " -0.011408285237848759,\n",
              " -0.005206688307225704,\n",
              " -0.012992769479751587,\n",
              " -0.01643441617488861,\n",
              " -0.0025628108996897936,\n",
              " 0.018601106479763985,\n",
              " 0.012697981670498848,\n",
              " 0.030422093346714973,\n",
              " 0.012779047712683678,\n",
              " 0.028874458745121956,\n",
              " -0.017805179581046104,\n",
              " 0.012572696432471275,\n",
              " -0.0051145670004189014,\n",
              " 0.00675063906237483,\n",
              " 0.019102245569229126,\n",
              " -0.015682706609368324,\n",
              " -0.01283800508826971,\n",
              " 0.0034103256184607744,\n",
              " 0.023627236485481262,\n",
              " -0.006474275607615709,\n",
              " 0.010892406105995178,\n",
              " 0.0007167026633396745,\n",
              " 0.014252986758947372,\n",
              " -0.0019548111595213413,\n",
              " 0.03186655417084694,\n",
              " 0.017716743052005768,\n",
              " -0.017186123877763748,\n",
              " 0.013221229426562786,\n",
              " -0.009057353250682354,\n",
              " -0.02859441004693508,\n",
              " -0.009860649704933167,\n",
              " 0.010000674054026604,\n",
              " -0.024496860802173615,\n",
              " 0.0001616726367501542,\n",
              " 0.0141277015209198,\n",
              " -0.006323196925222874,\n",
              " 0.024467380717396736,\n",
              " -0.0015172355342656374,\n",
              " -0.010148067958652973,\n",
              " -9.87999519566074e-05,\n",
              " -0.004793985281139612,\n",
              " 0.015166828408837318,\n",
              " -0.014879410155117512,\n",
              " 0.02974408119916916,\n",
              " 0.03446068614721298,\n",
              " 0.019588643684983253,\n",
              " 0.012926441617310047,\n",
              " -0.0003472967946436256,\n",
              " 0.0006554420688189566,\n",
              " 0.008106662891805172,\n",
              " 0.027105731889605522,\n",
              " 0.027636349201202393,\n",
              " -0.00888048019260168,\n",
              " -0.021593201905488968,\n",
              " 0.028108010068535805,\n",
              " -0.004653961397707462,\n",
              " -0.0009262782987207174,\n",
              " -0.027385780587792397,\n",
              " 0.010391267016530037,\n",
              " 0.022978702560067177,\n",
              " 0.016714464873075485,\n",
              " 0.010663946159183979,\n",
              " 0.0027544228360056877,\n",
              " -0.023730412125587463,\n",
              " 0.009145788848400116,\n",
              " -0.009167898446321487,\n",
              " 0.010133327916264534,\n",
              " -0.003145016497001052,\n",
              " -0.031748637557029724,\n",
              " -0.01818840205669403,\n",
              " 0.03180759400129318,\n",
              " -0.028903936967253685,\n",
              " 0.013641302473843098,\n",
              " 0.010980842635035515,\n",
              " -0.023435624316334724,\n",
              " -0.015166828408837318,\n",
              " -0.005464627407491207,\n",
              " -0.028977634385228157,\n",
              " -0.0023361926432698965,\n",
              " 0.013906611129641533,\n",
              " 0.0244821198284626,\n",
              " -0.03283935412764549,\n",
              " -0.0037659131921827793,\n",
              " -0.01630176045000553,\n",
              " -0.006360045168548822,\n",
              " -0.04628167301416397,\n",
              " 0.008814153261482716,\n",
              " 0.01877797767519951,\n",
              " 0.02262495830655098,\n",
              " -0.00888048019260168,\n",
              " -0.0020764111541211605,\n",
              " -0.0025628108996897936,\n",
              " -0.004130713175982237,\n",
              " 0.010140697471797466,\n",
              " -0.01723034307360649,\n",
              " -0.02225647307932377,\n",
              " -0.02339140698313713,\n",
              " 0.007664480712264776,\n",
              " -0.00047580580576322973,\n",
              " 0.009020504541695118,\n",
              " 0.019397031515836716,\n",
              " -0.007023317739367485,\n",
              " 0.002859440864995122,\n",
              " 0.0006766299484297633,\n",
              " -0.016935555264353752,\n",
              " -0.03245612978935242,\n",
              " 0.017304040491580963,\n",
              " 0.01318438071757555,\n",
              " 0.05839744955301285,\n",
              " -0.022050121799111366,\n",
              " 0.013339145109057426,\n",
              " 0.010700794868171215,\n",
              " 0.028004834428429604,\n",
              " -0.004200724884867668,\n",
              " 0.02219751663506031,\n",
              " 0.008224577642977238,\n",
              " 0.01927911676466465,\n",
              " -0.029228202998638153,\n",
              " -0.010428115725517273,\n",
              " -0.03310466185212135,\n",
              " -0.005339342635124922,\n",
              " -0.008932068012654781,\n",
              " -0.003154228674247861,\n",
              " 0.0042817918583750725,\n",
              " -0.0461047999560833,\n",
              " 0.03938363865017891,\n",
              " -0.005932603031396866,\n",
              " -0.014798344112932682,\n",
              " 0.017598826438188553,\n",
              " 0.0026973076164722443,\n",
              " 0.024968519806861877,\n",
              " -0.005667293909937143,\n",
              " -0.017053470015525818,\n",
              " 0.013987678103148937,\n",
              " 0.0376443937420845,\n",
              " 0.0013965568505227566,\n",
              " -0.0019898172467947006,\n",
              " 0.012543218210339546,\n",
              " 0.023509321734309196,\n",
              " 0.014135071076452732,\n",
              " 0.006514808628708124,\n",
              " 0.028682846575975418,\n",
              " -0.017348257824778557,\n",
              " 0.0002800483489409089,\n",
              " 0.0003680240479297936,\n",
              " 0.006360045168548822,\n",
              " 0.00481240963563323,\n",
              " -0.01204207818955183,\n",
              " -0.02291974611580372,\n",
              " -0.01752513088285923,\n",
              " 0.004495512694120407,\n",
              " -0.009551122784614563,\n",
              " -0.013626562431454659,\n",
              " -0.005715196952223778,\n",
              " -0.0037235375493764877,\n",
              " -0.016478633508086205,\n",
              " 0.007284941617399454,\n",
              " -0.02703203447163105,\n",
              " -0.025454919785261154,\n",
              " -0.005652554798871279,\n",
              " 0.023966241627931595,\n",
              " -0.017112428322434425,\n",
              " 0.0039906888268888,\n",
              " -0.027415258809924126,\n",
              " -0.010214394889771938,\n",
              " -0.026147671043872833,\n",
              " -0.029508251696825027,\n",
              " -0.01696503348648548,\n",
              " -0.019293855875730515,\n",
              " -0.02902185171842575,\n",
              " 0.000891272269655019,\n",
              " 0.02405467815697193,\n",
              " -0.01392871979624033,\n",
              " -0.0336647592484951,\n",
              " -0.001885720295831561,\n",
              " -0.0010437327437102795,\n",
              " -0.002361986553296447,\n",
              " -0.007767656818032265,\n",
              " 0.0019050657283514738,\n",
              " 0.0018811142072081566,\n",
              " -0.013508647680282593,\n",
              " -0.0029976225923746824,\n",
              " 0.012616914696991444,\n",
              " 0.007760286796838045,\n",
              " 0.004922954831272364,\n",
              " -0.030982190743088722,\n",
              " -0.009801692329347134,\n",
              " -0.014827822335064411,\n",
              " 0.0031265923753380775,\n",
              " 0.01838001422584057,\n",
              " 0.0006024723988957703,\n",
              " -0.028609149158000946,\n",
              " 0.010641836561262608,\n",
              " -0.0015117083676159382,\n",
              " 0.0005246300133876503,\n",
              " 0.03826344758272171,\n",
              " 0.028034312650561333,\n",
              " -0.00458763400092721,\n",
              " -0.034372247755527496,\n",
              " 0.005796263460069895,\n",
              " 0.006617984268814325,\n",
              " -0.02299344353377819,\n",
              " 0.019883431494235992,\n",
              " 0.003771440591663122,\n",
              " -0.015815362334251404,\n",
              " 0.004992967005819082,\n",
              " 0.011106127873063087,\n",
              " -0.009617449715733528,\n",
              " -0.02421681210398674,\n",
              " 0.019426511600613594,\n",
              " 0.01577114313840866,\n",
              " -0.018497928977012634,\n",
              " -0.011555679142475128,\n",
              " -0.004749767482280731,\n",
              " -0.011076648719608784,\n",
              " 0.014054005034267902,\n",
              " 0.006769062951207161,\n",
              " 0.038941457867622375,\n",
              " 0.025882363319396973,\n",
              " -0.0012233690358698368,\n",
              " 0.021681636571884155,\n",
              " 0.0033900588750839233,\n",
              " -0.015004695393145084,\n",
              " -0.02832910045981407,\n",
              " 0.016714464873075485,\n",
              " -0.03372371569275856,\n",
              " 0.005239851772785187,\n",
              " -0.009005765430629253,\n",
              " -0.03596410155296326,\n",
              " -0.013950829394161701,\n",
              " -0.00877730455249548,\n",
              " 0.01871902123093605,\n",
              " -0.029655644670128822,\n",
              " -0.019205421209335327,\n",
              " 0.011297740042209625,\n",
              " 0.008475147187709808,\n",
              " -0.02233017049729824,\n",
              " 0.017112428322434425,\n",
              " 0.007517086807638407,\n",
              " -0.013346514664590359,\n",
              " 0.017215603962540627,\n",
              " -0.010745012201368809,\n",
              " -0.00044678765698336065,\n",
              " 0.008593061938881874,\n",
              " -0.026457197964191437,\n",
              " 0.010671315714716911,\n",
              " -0.01792309433221817,\n",
              " -0.009654298424720764,\n",
              " 0.009875388815999031,\n",
              " -0.019234899431467056,\n",
              " 0.003627731464803219,\n",
              " 0.013516017235815525,\n",
              " -0.002290132222697139,\n",
              " 0.008784674108028412,\n",
              " 0.014628840610384941,\n",
              " 0.18182507157325745,\n",
              " 0.011629375629127026,\n",
              " -0.004845573101192713,\n",
              " 0.022182775661349297,\n",
              " -0.01845371164381504,\n",
              " 0.01524052582681179,\n",
              " 0.028108010068535805,\n",
              " 0.013692890293896198,\n",
              " -0.006533232983201742,\n",
              " 0.0004974543116986752,\n",
              " 0.007937159389257431,\n",
              " 0.0005223270272836089,\n",
              " -0.014223507605493069,\n",
              " 0.004793985281139612,\n",
              " 0.006588505581021309,\n",
              " -0.03525661304593086,\n",
              " -0.0122410599142313,\n",
              " -0.01702399179339409,\n",
              " -0.022403867915272713,\n",
              " -0.013464429415762424,\n",
              " 0.034401725977659225,\n",
              " -0.0028133804444223642,\n",
              " 0.015085762366652489,\n",
              " -0.00686486903578043,\n",
              " 0.04177141934633255,\n",
              " -0.011975751258432865,\n",
              " 0.013508647680282593,\n",
              " 0.01378132589161396,\n",
              " 0.027872178703546524,\n",
              " 0.015107871033251286,\n",
              " -0.035757750272750854,\n",
              " 0.030363135039806366,\n",
              " 0.01888115331530571,\n",
              " 0.006617984268814325,\n",
              " -0.01258743554353714,\n",
              " 0.0067948573268949986,\n",
              " -0.007085959892719984,\n",
              " -0.017304040491580963,\n",
              " 0.03151280805468559,\n",
              " 0.017009252682328224,\n",
              " 0.028019573539495468,\n",
              " 0.008143510669469833,\n",
              " 0.006761693395674229,\n",
              " -0.022905007004737854,\n",
              " -0.019794994965195656,\n",
              " 0.02352406084537506,\n",
              " ...]"
            ]
          },
          "metadata": {},
          "execution_count": 97
        }
      ]
    },
    {
      "cell_type": "markdown",
      "source": [
        "# VectorStore: Chroma"
      ],
      "metadata": {
        "id": "Xz_ZU-7Qju6s"
      }
    },
    {
      "cell_type": "code",
      "source": [
        "def find_file(filename, search_path):\n",
        "    for root, dirs, files in os.walk(search_path):\n",
        "        if filename in files:\n",
        "            return os.path.join(root, filename)\n",
        "    return None\n",
        "\n",
        "def custom_csv_loader(file_path):\n",
        "    documents = []\n",
        "    with open(file_path, 'r', encoding='utf-8') as csvfile:\n",
        "        reader = csv.reader(csvfile)\n",
        "        headers = next(reader)  # Get the headers\n",
        "        for row in reader:\n",
        "            # Create a string representation of the row\n",
        "            content_parts = []\n",
        "            for i, value in enumerate(row):\n",
        "                cleaned_value = value.strip().strip('=').strip('\"')\n",
        "                content_parts.append(\"{}: {}\".format(headers[i], cleaned_value))\n",
        "            content = \", \".join(content_parts)\n",
        "            metadata = {\"source\": file_path}\n",
        "            documents.append(Document(page_content=content, metadata=metadata))\n",
        "    return documents\n",
        "\n",
        "def load_and_split_document(file_path):\n",
        "    _, file_extension = os.path.splitext(file_path)\n",
        "\n",
        "    if file_extension.lower() == '.csv':\n",
        "        documents = custom_csv_loader(file_path)\n",
        "    else:\n",
        "        raise ValueError(\"Tipo de archivo no soportado. Use CSV.\")\n",
        "\n",
        "    text_splitter = RecursiveCharacterTextSplitter(\n",
        "        chunk_size=1000,\n",
        "        chunk_overlap=200,\n",
        "        length_function=len\n",
        "    )\n",
        "    chunks = text_splitter.split_documents(documents)\n",
        "\n",
        "    return chunks\n",
        "\n",
        "def create_vector_store(chunks):\n",
        "    embeddings = OpenAIEmbeddings()\n",
        "    vectorstore = Chroma.from_documents(chunks, embeddings, persist_directory=\"./chroma_db\")\n",
        "    return vectorstore\n",
        "\n",
        "def main():\n",
        "    current_dir = os.getcwd()\n",
        "    print(\"Directorio actual: {}\".format(current_dir))\n",
        "\n",
        "    file_name = \"books.csv\"\n",
        "    file_path = find_file(file_name, current_dir)\n",
        "\n",
        "    if file_path is None:\n",
        "        print(\"No se pudo encontrar el archivo {} en el directorio actual o sus subdirectorios.\".format(file_name))\n",
        "        return\n",
        "\n",
        "    print(\"Archivo encontrado: {}\".format(file_path))\n",
        "\n",
        "    try:\n",
        "        chunks = load_and_split_document(file_path)\n",
        "        print(\"Documento dividido en {} chunks.\".format(len(chunks)))\n",
        "\n",
        "        vectorstore = create_vector_store(chunks)\n",
        "        print(\"Base de datos vectorial creada y poblada.\")\n",
        "\n",
        "        query = \"Menciona un libro de ciencia ficción\"\n",
        "        results = vectorstore.similarity_search(query)\n",
        "        print(\"\\nResultados para la consulta '{}':\".format(query))\n",
        "        for doc in results:\n",
        "            print(doc.page_content[:200] + \"...\")\n",
        "    except Exception as e:\n",
        "        print(\"Ocurrió un error: {}\".format(str(e)))\n",
        "\n",
        "if __name__ == \"__main__\":\n",
        "    main()"
      ],
      "metadata": {
        "colab": {
          "base_uri": "https://localhost:8080/"
        },
        "id": "0IX2Gyqbk_ow",
        "outputId": "62574274-6379-4316-a922-b04849b11577"
      },
      "execution_count": 98,
      "outputs": [
        {
          "output_type": "stream",
          "name": "stdout",
          "text": [
            "Directorio actual: /content\n",
            "No se pudo encontrar el archivo books.csv en el directorio actual o sus subdirectorios.\n"
          ]
        }
      ]
    },
    {
      "cell_type": "markdown",
      "source": [
        "## Chatbot RAG: carga de documentos a Vectorstore"
      ],
      "metadata": {
        "id": "CLHbammApwjO"
      }
    },
    {
      "cell_type": "code",
      "source": [],
      "metadata": {
        "id": "DPYUapI7p3Vu"
      },
      "execution_count": null,
      "outputs": []
    }
  ]
}